{
 "cells": [
  {
   "cell_type": "markdown",
   "id": "06735f6e",
   "metadata": {},
   "source": [
    "## Imports "
   ]
  },
  {
   "cell_type": "code",
   "execution_count": 1,
   "id": "faf3211b",
   "metadata": {},
   "outputs": [],
   "source": [
    "import numpy as np\n",
    "import cvxpy as cp\n",
    "from scipy.optimize import minimize\n",
    "\n",
    "import random"
   ]
  },
  {
   "cell_type": "markdown",
   "id": "95bdab38",
   "metadata": {},
   "source": [
    "### Solar Value Generation"
   ]
  },
  {
   "cell_type": "code",
   "execution_count": 2,
   "id": "9b1ace28",
   "metadata": {},
   "outputs": [
    {
     "name": "stdout",
     "output_type": "stream",
     "text": [
      "irradiance_profile = 169\n"
     ]
    }
   ],
   "source": [
    "import numpy as np\n",
    "\n",
    "def generate_daily_solar_profile(sunrise=6, sunset=20, mean_pmax=15, std_pmax=1, seed=None):\n",
    "    \"\"\"\n",
    "    Generate a 24-hour solar irradiance profile using a cosine model for daylight hours.\n",
    "    \n",
    "    Parameters:\n",
    "    - sunrise: Hour of sunrise (e.g., 6)\n",
    "    - sunset: Hour of sunset (e.g., 18)\n",
    "    - mean_pmax: Mean of P_max (e.g., 1000 W/m²)\n",
    "    - std_pmax: Standard deviation of P_max (e.g., 100 W/m²)\n",
    "    - seed: Random seed for reproducibility\n",
    "    \n",
    "    Returns:\n",
    "    - irradiance: numpy array of length 24, representing hourly solar irradiance\n",
    "    - p_max: the actual peak irradiance drawn for the day\n",
    "    \"\"\"\n",
    "    if seed is not None:\n",
    "        np.random.seed(seed)\n",
    "    \n",
    "    hours = np.arange(24 + 1)  # 0 to 25 \n",
    "    irradiance = np.zeros_like(hours, dtype=float)\n",
    "    \n",
    "    t_mid = (sunrise + sunset) / 2\n",
    "    daylight_duration = sunset - sunrise\n",
    "\n",
    "    # Draw P_max from normal distribution\n",
    "    p_max = np.random.normal(loc=mean_pmax, scale=std_pmax)\n",
    "\n",
    "    # Apply cosine model during daylight hours\n",
    "    for h in range(24 + 1):\n",
    "        \n",
    "        if sunrise <= h <= sunset:\n",
    "            val = p_max * np.cos(np.pi * (h - t_mid) / daylight_duration)\n",
    "            irradiance[h] = max(0, val)  # clip negative values to zero\n",
    "\n",
    "        #ensuring that the 25th hour is the same as the 0th hour\n",
    "        if (h == 25): val[h] == val[0] \n",
    "\n",
    "    return irradiance, p_max\n",
    "\n",
    "# Example usage\n",
    "# irradiance_profile, p_max = generate_daily_solar_profile(seed=0)\n",
    "# print(f\"P_max for the day: {p_max:.2f}\")\n",
    "# print(\"Hourly irradiance values:\")\n",
    "# print(irradiance_profile)\n",
    "\n",
    "def generate_nday_solar(sunrise=6, sunset=20, mean_pmax=14, std_pmax=1, days= 1):\n",
    "    \"\"\"Generate nday solar production\"\"\"\n",
    "\n",
    "    irradiance_profile = []\n",
    "    p_max_list = []\n",
    "    for day in range(days): \n",
    "        #print(f\"Day = {day}\")\n",
    "        power_gen_day, p_max = generate_daily_solar_profile(sunrise, sunset, mean_pmax, std_pmax, day)\n",
    "        #print(f\"P_max for the day: {p_max:.2f}\")\n",
    "        #print(\"Hourly irradiance values:\")\n",
    "\n",
    "        if day == 0: #we want 25 values for day 1 \n",
    "            irradiance_profile.extend(power_gen_day)\n",
    "        else: #we want less than 25 values for day 2 \n",
    "            irradiance_profile.extend(power_gen_day[1:])\n",
    "\n",
    "        p_max_list.append(p_max)\n",
    "    \n",
    "    return irradiance_profile, p_max\n",
    "\n",
    "irradiance_profile, p_max = generate_nday_solar(sunrise=6, sunset=20, mean_pmax=14, std_pmax = 1, days= 7)\n",
    "\n",
    "print(f\"irradiance_profile = {len(irradiance_profile)}\")\n",
    "        "
   ]
  },
  {
   "cell_type": "markdown",
   "id": "111c9d27",
   "metadata": {},
   "source": [
    "### Perfectly Elastic Demand Model"
   ]
  },
  {
   "cell_type": "code",
   "execution_count": 37,
   "id": "015fd4dc",
   "metadata": {},
   "outputs": [
    {
     "name": "stdout",
     "output_type": "stream",
     "text": [
      "Positive directional derivative for linesearch    (Exit mode 8)\n",
      "            Current function value: -4900.0\n",
      "            Iterations: 5\n",
      "            Function evaluations: 247\n",
      "            Gradient evaluations: 1\n",
      "Optimization failed: Positive directional derivative for linesearch\n"
     ]
    }
   ],
   "source": [
    "T = 24*2 + 1\n",
    "v_d = 10\n",
    "c_u = 5\n",
    "q_d = np.ones(T)*10\n",
    "s_t = np.array(irradiance_profile)  \n",
    "C_init = 2\n",
    "C_final = 2\n",
    "C_max = 10\n",
    "\n",
    "#np.random.seed(0)\n",
    "# === Variable unpacking ===\n",
    "def unpack(x):\n",
    "    p = x[0:T]\n",
    "    q_s = x[T:2*T]\n",
    "    q_b = x[2*T:3*T]\n",
    "    q_u = x[3*T:4*T]\n",
    "    C = x[4*T:5*T+1]\n",
    "    return p, q_s, q_b, q_u, C\n",
    "\n",
    "# === Objective ===\n",
    "def objective(x):\n",
    "    p, q_s, q_b, q_u, _ = unpack(x)\n",
    "    term1 = (v_d - p) * q_d       # consumer surplus\n",
    "    term2 = p * (q_s + q_b)       # payments to solar and battery\n",
    "    term3 = (p - c_u) * q_u       # utility surplus\n",
    "    #return -np.sum(term1 + term2 + term3)\n",
    "    return -np.sum(term1 + term2 + term3)\n",
    "\n",
    "# === Constraints ===\n",
    "def constraint_eq(x):\n",
    "    p, q_s, q_b, q_u, C = unpack(x)\n",
    "    cons = []\n",
    "\n",
    "    # Initial battery\n",
    "    cons.append(C[0] - C_init)\n",
    "    cons.append(C[T] - C_final)        \n",
    "\n",
    "    # Final hour values match initial hour values (cyclic constraint)\n",
    "    cons.append(q_s[0] - q_s[-1])\n",
    "    cons.append(q_b[0] - q_b[-1])\n",
    "    cons.append(q_u[0] - q_u[-1])\n",
    "    cons.append(p[0] - p[-1])\n",
    "\n",
    "    for t in range(T):\n",
    "        # Market clearing\n",
    "        cons.append(q_s[t] + q_b[t] + q_u[t] - q_d[t])\n",
    "        \n",
    "        # Battery state update\n",
    "        cons.append(C[t+1] - (C[t] - q_b[t]))\n",
    "\n",
    "    return np.array(cons)\n",
    "\n",
    "\n",
    "def constraint_ineq(x):\n",
    "    p, q_s, q_b, q_u, _ = unpack(x)\n",
    "    ineqs = []\n",
    "\n",
    "    # Per-period IR constraints for consumer, utility, solar\n",
    "    for t in range(T):\n",
    "        ineqs.append(s_t[t] - q_s[t])        # solar capacity\n",
    "        ineqs.append((v_d - p[t]) * q_d[t])     # Consumer\n",
    "        ineqs.append((p[t] - c_u) * q_u[t])     # Utility\n",
    "        ineqs.append(p[t] * q_s[t])             # Solar\n",
    "\n",
    "    # Aggregate IR constraint for battery\n",
    "    IR_b = np.sum(p * q_b)\n",
    "    ineqs.append(IR_b)\n",
    "\n",
    "    return np.array(ineqs)\n",
    "\n",
    "\n",
    "# === Bounds ===\n",
    "bounds = (\n",
    "    [(0, None)] * T +       # Prices ≥ 0\n",
    "    [(0, None)] * T +       # Solar quantities ≥ 0\n",
    "    [(-C_max, C_max)] * T + # Battery can charge (-) or discharge (+)\n",
    "    [(0, None)] * T +       # Utility quantities ≥ 0\n",
    "    [(0, C_max)] * (T + 1)  # Battery state of charge\n",
    ")\n",
    "\n",
    "\n",
    "# === Initial Guess ===\n",
    "x0 = np.zeros(5*T + 1)*c_u\n",
    "x0[4*T] = C_init  # battery start\n",
    "x0[5*T] = C_final\n",
    "# === Solve ===\n",
    "res = minimize(\n",
    "    fun=objective,\n",
    "    x0=x0,\n",
    "    method='SLSQP',\n",
    "    bounds=bounds,\n",
    "    constraints=[\n",
    "        {'type': 'eq', 'fun': constraint_eq},\n",
    "        {'type': 'ineq', 'fun': constraint_ineq}\n",
    "    ],\n",
    "    options={'disp': True, 'maxiter': 1000}\n",
    ")\n",
    "\n",
    "if res.success:\n",
    "    p, q_s, q_b, q_u, C = unpack(res.x)\n",
    "    print(\"Optimal Welfare:\", -res.fun)\n",
    "else:\n",
    "    print(\"Optimization failed:\", res.message)\n"
   ]
  },
  {
   "cell_type": "code",
   "execution_count": 70,
   "id": "031f9cd5",
   "metadata": {},
   "outputs": [
    {
     "data": {
      "application/vnd.plotly.v1+json": {
       "config": {
        "plotlyServerURL": "https://plotly.com"
       },
       "data": [
        {
         "mode": "lines",
         "name": "Price p",
         "type": "scatter",
         "y": {
          "bdata": "AQAAAAAAFED///////8TQPD//////xNAEgAAAAAAFED4//////8TQP3//////xNA7v//////E0AhAAAAAAAUQBUAAAAAABRAPgAAAAAAFEAxAAAAAAAUQMW8AAAAABRAMwAAAAAAFEDsCl176EwUQNP//////xNATgAAAAAAFEBAAAAAAAAUQH8UAAAAABRAEwAAAAAAFEALAAAAAAAUQPL//////xNACAAAAAAAFED5//////8TQCgJAAAAABRAAQAAAAAAFEA=",
          "dtype": "f8"
         }
        }
       ],
       "layout": {
        "template": {
         "data": {
          "bar": [
           {
            "error_x": {
             "color": "#2a3f5f"
            },
            "error_y": {
             "color": "#2a3f5f"
            },
            "marker": {
             "line": {
              "color": "#E5ECF6",
              "width": 0.5
             },
             "pattern": {
              "fillmode": "overlay",
              "size": 10,
              "solidity": 0.2
             }
            },
            "type": "bar"
           }
          ],
          "barpolar": [
           {
            "marker": {
             "line": {
              "color": "#E5ECF6",
              "width": 0.5
             },
             "pattern": {
              "fillmode": "overlay",
              "size": 10,
              "solidity": 0.2
             }
            },
            "type": "barpolar"
           }
          ],
          "carpet": [
           {
            "aaxis": {
             "endlinecolor": "#2a3f5f",
             "gridcolor": "white",
             "linecolor": "white",
             "minorgridcolor": "white",
             "startlinecolor": "#2a3f5f"
            },
            "baxis": {
             "endlinecolor": "#2a3f5f",
             "gridcolor": "white",
             "linecolor": "white",
             "minorgridcolor": "white",
             "startlinecolor": "#2a3f5f"
            },
            "type": "carpet"
           }
          ],
          "choropleth": [
           {
            "colorbar": {
             "outlinewidth": 0,
             "ticks": ""
            },
            "type": "choropleth"
           }
          ],
          "contour": [
           {
            "colorbar": {
             "outlinewidth": 0,
             "ticks": ""
            },
            "colorscale": [
             [
              0,
              "#0d0887"
             ],
             [
              0.1111111111111111,
              "#46039f"
             ],
             [
              0.2222222222222222,
              "#7201a8"
             ],
             [
              0.3333333333333333,
              "#9c179e"
             ],
             [
              0.4444444444444444,
              "#bd3786"
             ],
             [
              0.5555555555555556,
              "#d8576b"
             ],
             [
              0.6666666666666666,
              "#ed7953"
             ],
             [
              0.7777777777777778,
              "#fb9f3a"
             ],
             [
              0.8888888888888888,
              "#fdca26"
             ],
             [
              1,
              "#f0f921"
             ]
            ],
            "type": "contour"
           }
          ],
          "contourcarpet": [
           {
            "colorbar": {
             "outlinewidth": 0,
             "ticks": ""
            },
            "type": "contourcarpet"
           }
          ],
          "heatmap": [
           {
            "colorbar": {
             "outlinewidth": 0,
             "ticks": ""
            },
            "colorscale": [
             [
              0,
              "#0d0887"
             ],
             [
              0.1111111111111111,
              "#46039f"
             ],
             [
              0.2222222222222222,
              "#7201a8"
             ],
             [
              0.3333333333333333,
              "#9c179e"
             ],
             [
              0.4444444444444444,
              "#bd3786"
             ],
             [
              0.5555555555555556,
              "#d8576b"
             ],
             [
              0.6666666666666666,
              "#ed7953"
             ],
             [
              0.7777777777777778,
              "#fb9f3a"
             ],
             [
              0.8888888888888888,
              "#fdca26"
             ],
             [
              1,
              "#f0f921"
             ]
            ],
            "type": "heatmap"
           }
          ],
          "histogram": [
           {
            "marker": {
             "pattern": {
              "fillmode": "overlay",
              "size": 10,
              "solidity": 0.2
             }
            },
            "type": "histogram"
           }
          ],
          "histogram2d": [
           {
            "colorbar": {
             "outlinewidth": 0,
             "ticks": ""
            },
            "colorscale": [
             [
              0,
              "#0d0887"
             ],
             [
              0.1111111111111111,
              "#46039f"
             ],
             [
              0.2222222222222222,
              "#7201a8"
             ],
             [
              0.3333333333333333,
              "#9c179e"
             ],
             [
              0.4444444444444444,
              "#bd3786"
             ],
             [
              0.5555555555555556,
              "#d8576b"
             ],
             [
              0.6666666666666666,
              "#ed7953"
             ],
             [
              0.7777777777777778,
              "#fb9f3a"
             ],
             [
              0.8888888888888888,
              "#fdca26"
             ],
             [
              1,
              "#f0f921"
             ]
            ],
            "type": "histogram2d"
           }
          ],
          "histogram2dcontour": [
           {
            "colorbar": {
             "outlinewidth": 0,
             "ticks": ""
            },
            "colorscale": [
             [
              0,
              "#0d0887"
             ],
             [
              0.1111111111111111,
              "#46039f"
             ],
             [
              0.2222222222222222,
              "#7201a8"
             ],
             [
              0.3333333333333333,
              "#9c179e"
             ],
             [
              0.4444444444444444,
              "#bd3786"
             ],
             [
              0.5555555555555556,
              "#d8576b"
             ],
             [
              0.6666666666666666,
              "#ed7953"
             ],
             [
              0.7777777777777778,
              "#fb9f3a"
             ],
             [
              0.8888888888888888,
              "#fdca26"
             ],
             [
              1,
              "#f0f921"
             ]
            ],
            "type": "histogram2dcontour"
           }
          ],
          "mesh3d": [
           {
            "colorbar": {
             "outlinewidth": 0,
             "ticks": ""
            },
            "type": "mesh3d"
           }
          ],
          "parcoords": [
           {
            "line": {
             "colorbar": {
              "outlinewidth": 0,
              "ticks": ""
             }
            },
            "type": "parcoords"
           }
          ],
          "pie": [
           {
            "automargin": true,
            "type": "pie"
           }
          ],
          "scatter": [
           {
            "fillpattern": {
             "fillmode": "overlay",
             "size": 10,
             "solidity": 0.2
            },
            "type": "scatter"
           }
          ],
          "scatter3d": [
           {
            "line": {
             "colorbar": {
              "outlinewidth": 0,
              "ticks": ""
             }
            },
            "marker": {
             "colorbar": {
              "outlinewidth": 0,
              "ticks": ""
             }
            },
            "type": "scatter3d"
           }
          ],
          "scattercarpet": [
           {
            "marker": {
             "colorbar": {
              "outlinewidth": 0,
              "ticks": ""
             }
            },
            "type": "scattercarpet"
           }
          ],
          "scattergeo": [
           {
            "marker": {
             "colorbar": {
              "outlinewidth": 0,
              "ticks": ""
             }
            },
            "type": "scattergeo"
           }
          ],
          "scattergl": [
           {
            "marker": {
             "colorbar": {
              "outlinewidth": 0,
              "ticks": ""
             }
            },
            "type": "scattergl"
           }
          ],
          "scattermap": [
           {
            "marker": {
             "colorbar": {
              "outlinewidth": 0,
              "ticks": ""
             }
            },
            "type": "scattermap"
           }
          ],
          "scattermapbox": [
           {
            "marker": {
             "colorbar": {
              "outlinewidth": 0,
              "ticks": ""
             }
            },
            "type": "scattermapbox"
           }
          ],
          "scatterpolar": [
           {
            "marker": {
             "colorbar": {
              "outlinewidth": 0,
              "ticks": ""
             }
            },
            "type": "scatterpolar"
           }
          ],
          "scatterpolargl": [
           {
            "marker": {
             "colorbar": {
              "outlinewidth": 0,
              "ticks": ""
             }
            },
            "type": "scatterpolargl"
           }
          ],
          "scatterternary": [
           {
            "marker": {
             "colorbar": {
              "outlinewidth": 0,
              "ticks": ""
             }
            },
            "type": "scatterternary"
           }
          ],
          "surface": [
           {
            "colorbar": {
             "outlinewidth": 0,
             "ticks": ""
            },
            "colorscale": [
             [
              0,
              "#0d0887"
             ],
             [
              0.1111111111111111,
              "#46039f"
             ],
             [
              0.2222222222222222,
              "#7201a8"
             ],
             [
              0.3333333333333333,
              "#9c179e"
             ],
             [
              0.4444444444444444,
              "#bd3786"
             ],
             [
              0.5555555555555556,
              "#d8576b"
             ],
             [
              0.6666666666666666,
              "#ed7953"
             ],
             [
              0.7777777777777778,
              "#fb9f3a"
             ],
             [
              0.8888888888888888,
              "#fdca26"
             ],
             [
              1,
              "#f0f921"
             ]
            ],
            "type": "surface"
           }
          ],
          "table": [
           {
            "cells": {
             "fill": {
              "color": "#EBF0F8"
             },
             "line": {
              "color": "white"
             }
            },
            "header": {
             "fill": {
              "color": "#C8D4E3"
             },
             "line": {
              "color": "white"
             }
            },
            "type": "table"
           }
          ]
         },
         "layout": {
          "annotationdefaults": {
           "arrowcolor": "#2a3f5f",
           "arrowhead": 0,
           "arrowwidth": 1
          },
          "autotypenumbers": "strict",
          "coloraxis": {
           "colorbar": {
            "outlinewidth": 0,
            "ticks": ""
           }
          },
          "colorscale": {
           "diverging": [
            [
             0,
             "#8e0152"
            ],
            [
             0.1,
             "#c51b7d"
            ],
            [
             0.2,
             "#de77ae"
            ],
            [
             0.3,
             "#f1b6da"
            ],
            [
             0.4,
             "#fde0ef"
            ],
            [
             0.5,
             "#f7f7f7"
            ],
            [
             0.6,
             "#e6f5d0"
            ],
            [
             0.7,
             "#b8e186"
            ],
            [
             0.8,
             "#7fbc41"
            ],
            [
             0.9,
             "#4d9221"
            ],
            [
             1,
             "#276419"
            ]
           ],
           "sequential": [
            [
             0,
             "#0d0887"
            ],
            [
             0.1111111111111111,
             "#46039f"
            ],
            [
             0.2222222222222222,
             "#7201a8"
            ],
            [
             0.3333333333333333,
             "#9c179e"
            ],
            [
             0.4444444444444444,
             "#bd3786"
            ],
            [
             0.5555555555555556,
             "#d8576b"
            ],
            [
             0.6666666666666666,
             "#ed7953"
            ],
            [
             0.7777777777777778,
             "#fb9f3a"
            ],
            [
             0.8888888888888888,
             "#fdca26"
            ],
            [
             1,
             "#f0f921"
            ]
           ],
           "sequentialminus": [
            [
             0,
             "#0d0887"
            ],
            [
             0.1111111111111111,
             "#46039f"
            ],
            [
             0.2222222222222222,
             "#7201a8"
            ],
            [
             0.3333333333333333,
             "#9c179e"
            ],
            [
             0.4444444444444444,
             "#bd3786"
            ],
            [
             0.5555555555555556,
             "#d8576b"
            ],
            [
             0.6666666666666666,
             "#ed7953"
            ],
            [
             0.7777777777777778,
             "#fb9f3a"
            ],
            [
             0.8888888888888888,
             "#fdca26"
            ],
            [
             1,
             "#f0f921"
            ]
           ]
          },
          "colorway": [
           "#636efa",
           "#EF553B",
           "#00cc96",
           "#ab63fa",
           "#FFA15A",
           "#19d3f3",
           "#FF6692",
           "#B6E880",
           "#FF97FF",
           "#FECB52"
          ],
          "font": {
           "color": "#2a3f5f"
          },
          "geo": {
           "bgcolor": "white",
           "lakecolor": "white",
           "landcolor": "#E5ECF6",
           "showlakes": true,
           "showland": true,
           "subunitcolor": "white"
          },
          "hoverlabel": {
           "align": "left"
          },
          "hovermode": "closest",
          "mapbox": {
           "style": "light"
          },
          "paper_bgcolor": "white",
          "plot_bgcolor": "#E5ECF6",
          "polar": {
           "angularaxis": {
            "gridcolor": "white",
            "linecolor": "white",
            "ticks": ""
           },
           "bgcolor": "#E5ECF6",
           "radialaxis": {
            "gridcolor": "white",
            "linecolor": "white",
            "ticks": ""
           }
          },
          "scene": {
           "xaxis": {
            "backgroundcolor": "#E5ECF6",
            "gridcolor": "white",
            "gridwidth": 2,
            "linecolor": "white",
            "showbackground": true,
            "ticks": "",
            "zerolinecolor": "white"
           },
           "yaxis": {
            "backgroundcolor": "#E5ECF6",
            "gridcolor": "white",
            "gridwidth": 2,
            "linecolor": "white",
            "showbackground": true,
            "ticks": "",
            "zerolinecolor": "white"
           },
           "zaxis": {
            "backgroundcolor": "#E5ECF6",
            "gridcolor": "white",
            "gridwidth": 2,
            "linecolor": "white",
            "showbackground": true,
            "ticks": "",
            "zerolinecolor": "white"
           }
          },
          "shapedefaults": {
           "line": {
            "color": "#2a3f5f"
           }
          },
          "ternary": {
           "aaxis": {
            "gridcolor": "white",
            "linecolor": "white",
            "ticks": ""
           },
           "baxis": {
            "gridcolor": "white",
            "linecolor": "white",
            "ticks": ""
           },
           "bgcolor": "#E5ECF6",
           "caxis": {
            "gridcolor": "white",
            "linecolor": "white",
            "ticks": ""
           }
          },
          "title": {
           "x": 0.05
          },
          "xaxis": {
           "automargin": true,
           "gridcolor": "white",
           "linecolor": "white",
           "ticks": "",
           "title": {
            "standoff": 15
           },
           "zerolinecolor": "white",
           "zerolinewidth": 2
          },
          "yaxis": {
           "automargin": true,
           "gridcolor": "white",
           "linecolor": "white",
           "ticks": "",
           "title": {
            "standoff": 15
           },
           "zerolinecolor": "white",
           "zerolinewidth": 2
          }
         }
        },
        "title": {
         "text": "Price (p) over Time Steps"
        },
        "xaxis": {
         "title": {
          "text": "Time Step"
         }
        },
        "yaxis": {
         "title": {
          "text": "Price (p)"
         }
        }
       }
      }
     },
     "metadata": {},
     "output_type": "display_data"
    }
   ],
   "source": [
    "import plotly.graph_objs as go\n",
    "import plotly.offline as pyo\n",
    "\n",
    "fig = go.Figure()\n",
    "fig.add_trace(go.Scatter(y=p, mode='lines', name='Price p'))\n",
    "fig.update_layout(\n",
    "    title='Price (p) over Time Steps',\n",
    "    xaxis_title='Time Step',\n",
    "    yaxis_title='Price (p)'\n",
    ")\n",
    "fig.show()\n"
   ]
  },
  {
   "cell_type": "code",
   "execution_count": 39,
   "id": "965fe0a9",
   "metadata": {},
   "outputs": [
    {
     "ename": "ValueError",
     "evalue": "\n    Invalid value of type 'numpy.float64' received for the 'y' property of scatter\n        Received value: 1.0\n\n    The 'y' property is an array that may be specified as a tuple,\n    list, numpy array, or pandas Series",
     "output_type": "error",
     "traceback": [
      "\u001b[0;31m---------------------------------------------------------------------------\u001b[0m",
      "\u001b[0;31mValueError\u001b[0m                                Traceback (most recent call last)",
      "Cell \u001b[0;32mIn[39], line 5\u001b[0m\n\u001b[1;32m      3\u001b[0m fig \u001b[38;5;241m=\u001b[39m go\u001b[38;5;241m.\u001b[39mFigure()\n\u001b[1;32m      4\u001b[0m fig\u001b[38;5;241m.\u001b[39madd_trace(go\u001b[38;5;241m.\u001b[39mScatter(y\u001b[38;5;241m=\u001b[39mq_d, mode\u001b[38;5;241m=\u001b[39m\u001b[38;5;124m'\u001b[39m\u001b[38;5;124mlines\u001b[39m\u001b[38;5;124m'\u001b[39m, name\u001b[38;5;241m=\u001b[39m\u001b[38;5;124m'\u001b[39m\u001b[38;5;124mq_d\u001b[39m\u001b[38;5;124m'\u001b[39m))\n\u001b[0;32m----> 5\u001b[0m fig\u001b[38;5;241m.\u001b[39madd_trace(go\u001b[38;5;241m.\u001b[39mScatter(y\u001b[38;5;241m=\u001b[39mq_b, mode\u001b[38;5;241m=\u001b[39m\u001b[38;5;124m'\u001b[39m\u001b[38;5;124mlines\u001b[39m\u001b[38;5;124m'\u001b[39m, name\u001b[38;5;241m=\u001b[39m\u001b[38;5;124m'\u001b[39m\u001b[38;5;124mq_b\u001b[39m\u001b[38;5;124m'\u001b[39m))\n\u001b[1;32m      6\u001b[0m fig\u001b[38;5;241m.\u001b[39madd_trace(go\u001b[38;5;241m.\u001b[39mScatter(y\u001b[38;5;241m=\u001b[39mq_s, mode\u001b[38;5;241m=\u001b[39m\u001b[38;5;124m'\u001b[39m\u001b[38;5;124mlines\u001b[39m\u001b[38;5;124m'\u001b[39m, name\u001b[38;5;241m=\u001b[39m\u001b[38;5;124m'\u001b[39m\u001b[38;5;124mq_s\u001b[39m\u001b[38;5;124m'\u001b[39m))\n\u001b[1;32m      7\u001b[0m fig\u001b[38;5;241m.\u001b[39madd_trace(go\u001b[38;5;241m.\u001b[39mScatter(y\u001b[38;5;241m=\u001b[39mq_u, mode\u001b[38;5;241m=\u001b[39m\u001b[38;5;124m'\u001b[39m\u001b[38;5;124mlines\u001b[39m\u001b[38;5;124m'\u001b[39m, name\u001b[38;5;241m=\u001b[39m\u001b[38;5;124m'\u001b[39m\u001b[38;5;124mq_u\u001b[39m\u001b[38;5;124m'\u001b[39m))\n",
      "File \u001b[0;32m~/anaconda3/lib/python3.11/site-packages/plotly/graph_objs/_scatter.py:3670\u001b[0m, in \u001b[0;36mScatter.__init__\u001b[0;34m(self, arg, alignmentgroup, cliponaxis, connectgaps, customdata, customdatasrc, dx, dy, error_x, error_y, fill, fillcolor, fillgradient, fillpattern, groupnorm, hoverinfo, hoverinfosrc, hoverlabel, hoveron, hovertemplate, hovertemplatesrc, hovertext, hovertextsrc, ids, idssrc, legend, legendgroup, legendgrouptitle, legendrank, legendwidth, line, marker, meta, metasrc, mode, name, offsetgroup, opacity, orientation, selected, selectedpoints, showlegend, stackgaps, stackgroup, stream, text, textfont, textposition, textpositionsrc, textsrc, texttemplate, texttemplatesrc, uid, uirevision, unselected, visible, x, x0, xaxis, xcalendar, xhoverformat, xperiod, xperiod0, xperiodalignment, xsrc, y, y0, yaxis, ycalendar, yhoverformat, yperiod, yperiod0, yperiodalignment, ysrc, zorder, **kwargs)\u001b[0m\n\u001b[1;32m   3668\u001b[0m _v \u001b[38;5;241m=\u001b[39m y \u001b[38;5;28;01mif\u001b[39;00m y \u001b[38;5;129;01mis\u001b[39;00m \u001b[38;5;129;01mnot\u001b[39;00m \u001b[38;5;28;01mNone\u001b[39;00m \u001b[38;5;28;01melse\u001b[39;00m _v\n\u001b[1;32m   3669\u001b[0m \u001b[38;5;28;01mif\u001b[39;00m _v \u001b[38;5;129;01mis\u001b[39;00m \u001b[38;5;129;01mnot\u001b[39;00m \u001b[38;5;28;01mNone\u001b[39;00m:\n\u001b[0;32m-> 3670\u001b[0m     \u001b[38;5;28mself\u001b[39m[\u001b[38;5;124m\"\u001b[39m\u001b[38;5;124my\u001b[39m\u001b[38;5;124m\"\u001b[39m] \u001b[38;5;241m=\u001b[39m _v\n\u001b[1;32m   3671\u001b[0m _v \u001b[38;5;241m=\u001b[39m arg\u001b[38;5;241m.\u001b[39mpop(\u001b[38;5;124m\"\u001b[39m\u001b[38;5;124my0\u001b[39m\u001b[38;5;124m\"\u001b[39m, \u001b[38;5;28;01mNone\u001b[39;00m)\n\u001b[1;32m   3672\u001b[0m _v \u001b[38;5;241m=\u001b[39m y0 \u001b[38;5;28;01mif\u001b[39;00m y0 \u001b[38;5;129;01mis\u001b[39;00m \u001b[38;5;129;01mnot\u001b[39;00m \u001b[38;5;28;01mNone\u001b[39;00m \u001b[38;5;28;01melse\u001b[39;00m _v\n",
      "File \u001b[0;32m~/anaconda3/lib/python3.11/site-packages/plotly/basedatatypes.py:4860\u001b[0m, in \u001b[0;36mBasePlotlyType.__setitem__\u001b[0;34m(self, prop, value)\u001b[0m\n\u001b[1;32m   4856\u001b[0m         \u001b[38;5;28mself\u001b[39m\u001b[38;5;241m.\u001b[39m_set_array_prop(prop, value)\n\u001b[1;32m   4858\u001b[0m     \u001b[38;5;66;03m# ### Handle simple property ###\u001b[39;00m\n\u001b[1;32m   4859\u001b[0m     \u001b[38;5;28;01melse\u001b[39;00m:\n\u001b[0;32m-> 4860\u001b[0m         \u001b[38;5;28mself\u001b[39m\u001b[38;5;241m.\u001b[39m_set_prop(prop, value)\n\u001b[1;32m   4861\u001b[0m \u001b[38;5;28;01melse\u001b[39;00m:\n\u001b[1;32m   4862\u001b[0m     \u001b[38;5;66;03m# Make sure properties dict is initialized\u001b[39;00m\n\u001b[1;32m   4863\u001b[0m     \u001b[38;5;28mself\u001b[39m\u001b[38;5;241m.\u001b[39m_init_props()\n",
      "File \u001b[0;32m~/anaconda3/lib/python3.11/site-packages/plotly/basedatatypes.py:5204\u001b[0m, in \u001b[0;36mBasePlotlyType._set_prop\u001b[0;34m(self, prop, val)\u001b[0m\n\u001b[1;32m   5202\u001b[0m         \u001b[38;5;28;01mreturn\u001b[39;00m\n\u001b[1;32m   5203\u001b[0m     \u001b[38;5;28;01melse\u001b[39;00m:\n\u001b[0;32m-> 5204\u001b[0m         \u001b[38;5;28;01mraise\u001b[39;00m err\n\u001b[1;32m   5206\u001b[0m \u001b[38;5;66;03m# val is None\u001b[39;00m\n\u001b[1;32m   5207\u001b[0m \u001b[38;5;66;03m# -----------\u001b[39;00m\n\u001b[1;32m   5208\u001b[0m \u001b[38;5;28;01mif\u001b[39;00m val \u001b[38;5;129;01mis\u001b[39;00m \u001b[38;5;28;01mNone\u001b[39;00m:\n\u001b[1;32m   5209\u001b[0m     \u001b[38;5;66;03m# Check if we should send null update\u001b[39;00m\n",
      "File \u001b[0;32m~/anaconda3/lib/python3.11/site-packages/plotly/basedatatypes.py:5199\u001b[0m, in \u001b[0;36mBasePlotlyType._set_prop\u001b[0;34m(self, prop, val)\u001b[0m\n\u001b[1;32m   5196\u001b[0m validator \u001b[38;5;241m=\u001b[39m \u001b[38;5;28mself\u001b[39m\u001b[38;5;241m.\u001b[39m_get_validator(prop)\n\u001b[1;32m   5198\u001b[0m \u001b[38;5;28;01mtry\u001b[39;00m:\n\u001b[0;32m-> 5199\u001b[0m     val \u001b[38;5;241m=\u001b[39m validator\u001b[38;5;241m.\u001b[39mvalidate_coerce(val)\n\u001b[1;32m   5200\u001b[0m \u001b[38;5;28;01mexcept\u001b[39;00m \u001b[38;5;167;01mValueError\u001b[39;00m \u001b[38;5;28;01mas\u001b[39;00m err:\n\u001b[1;32m   5201\u001b[0m     \u001b[38;5;28;01mif\u001b[39;00m \u001b[38;5;28mself\u001b[39m\u001b[38;5;241m.\u001b[39m_skip_invalid:\n",
      "File \u001b[0;32m~/anaconda3/lib/python3.11/site-packages/_plotly_utils/basevalidators.py:414\u001b[0m, in \u001b[0;36mDataArrayValidator.validate_coerce\u001b[0;34m(self, v)\u001b[0m\n\u001b[1;32m    412\u001b[0m     v \u001b[38;5;241m=\u001b[39m to_scalar_or_list(v)\n\u001b[1;32m    413\u001b[0m \u001b[38;5;28;01melse\u001b[39;00m:\n\u001b[0;32m--> 414\u001b[0m     \u001b[38;5;28mself\u001b[39m\u001b[38;5;241m.\u001b[39mraise_invalid_val(v)\n\u001b[1;32m    415\u001b[0m \u001b[38;5;28;01mreturn\u001b[39;00m v\n",
      "File \u001b[0;32m~/anaconda3/lib/python3.11/site-packages/_plotly_utils/basevalidators.py:299\u001b[0m, in \u001b[0;36mBaseValidator.raise_invalid_val\u001b[0;34m(self, v, inds)\u001b[0m\n\u001b[1;32m    296\u001b[0m             \u001b[38;5;28;01mfor\u001b[39;00m i \u001b[38;5;129;01min\u001b[39;00m inds:\n\u001b[1;32m    297\u001b[0m                 name \u001b[38;5;241m+\u001b[39m\u001b[38;5;241m=\u001b[39m \u001b[38;5;124m\"\u001b[39m\u001b[38;5;124m[\u001b[39m\u001b[38;5;124m\"\u001b[39m \u001b[38;5;241m+\u001b[39m \u001b[38;5;28mstr\u001b[39m(i) \u001b[38;5;241m+\u001b[39m \u001b[38;5;124m\"\u001b[39m\u001b[38;5;124m]\u001b[39m\u001b[38;5;124m\"\u001b[39m\n\u001b[0;32m--> 299\u001b[0m         \u001b[38;5;28;01mraise\u001b[39;00m \u001b[38;5;167;01mValueError\u001b[39;00m(\n\u001b[1;32m    300\u001b[0m \u001b[38;5;250m            \u001b[39m\u001b[38;5;124;03m\"\"\"\u001b[39;00m\n\u001b[1;32m    301\u001b[0m \u001b[38;5;124;03m    Invalid value of type {typ} received for the '{name}' property of {pname}\u001b[39;00m\n\u001b[1;32m    302\u001b[0m \u001b[38;5;124;03m        Received value: {v}\u001b[39;00m\n\u001b[1;32m    303\u001b[0m \n\u001b[1;32m    304\u001b[0m \u001b[38;5;124;03m{valid_clr_desc}\"\"\"\u001b[39;00m\u001b[38;5;241m.\u001b[39mformat(\n\u001b[1;32m    305\u001b[0m                 name\u001b[38;5;241m=\u001b[39mname,\n\u001b[1;32m    306\u001b[0m                 pname\u001b[38;5;241m=\u001b[39m\u001b[38;5;28mself\u001b[39m\u001b[38;5;241m.\u001b[39mparent_name,\n\u001b[1;32m    307\u001b[0m                 typ\u001b[38;5;241m=\u001b[39mtype_str(v),\n\u001b[1;32m    308\u001b[0m                 v\u001b[38;5;241m=\u001b[39m\u001b[38;5;28mrepr\u001b[39m(v),\n\u001b[1;32m    309\u001b[0m                 valid_clr_desc\u001b[38;5;241m=\u001b[39m\u001b[38;5;28mself\u001b[39m\u001b[38;5;241m.\u001b[39mdescription(),\n\u001b[1;32m    310\u001b[0m             )\n\u001b[1;32m    311\u001b[0m         )\n",
      "\u001b[0;31mValueError\u001b[0m: \n    Invalid value of type 'numpy.float64' received for the 'y' property of scatter\n        Received value: 1.0\n\n    The 'y' property is an array that may be specified as a tuple,\n    list, numpy array, or pandas Series"
     ]
    }
   ],
   "source": [
    "import plotly.graph_objs as go\n",
    "\n",
    "fig = go.Figure()\n",
    "fig.add_trace(go.Scatter(y=q_d, mode='lines', name='q_d'))\n",
    "fig.add_trace(go.Scatter(y=q_b, mode='lines', name='q_b'))\n",
    "fig.add_trace(go.Scatter(y=q_s, mode='lines', name='q_s'))\n",
    "fig.add_trace(go.Scatter(y=q_u, mode='lines', name='q_u'))\n",
    "fig.add_trace(go.Scatter(y=C, mode='lines', name='C'))\n",
    "fig.add_trace(go.Scatter(y=s_t, mode='lines', name='s_t'))\n",
    "fig.update_layout(\n",
    "    title='Quantity of Energy Dispatched over Time Steps',\n",
    "    xaxis_title='Time Step',\n",
    "    yaxis_title='Q (kwh)'\n",
    ")\n",
    "fig.show()\n"
   ]
  },
  {
   "cell_type": "markdown",
   "id": "349561fa",
   "metadata": {},
   "source": [
    "### Introducing Demand Elasticity "
   ]
  },
  {
   "cell_type": "markdown",
   "id": "7d190f32",
   "metadata": {},
   "source": [
    "We introduce the model some demand elasticity, the issue so far is that when there is the possibility of 0 prices \n",
    "there are no 0 prices because v_d > 0 for all quantities purchased, instead, we are going to treat it as \n",
    "aggregate demand so I we can get a downward slope. \n",
    "\n",
    "$v(q) = v_{max}*(1 - \\frac{q}{q_{max}})$\n",
    "\n",
    "and the total surplus given a price $p$ is equa"
   ]
  },
  {
   "cell_type": "markdown",
   "id": "7c169f30",
   "metadata": {},
   "source": [
    "### Plotting Consumer surplus under DA "
   ]
  },
  {
   "cell_type": "code",
   "execution_count": 1,
   "id": "28047e17",
   "metadata": {},
   "outputs": [
    {
     "data": {
      "application/vnd.jupyter.widget-view+json": {
       "model_id": "ddad18bb91f34f42a8db2498ea278c0a",
       "version_major": 2,
       "version_minor": 0
      },
      "text/plain": [
       "interactive(children=(FloatSlider(value=0.4, description='v_max', max=10.0, min=0.1, step=0.01), FloatSlider(v…"
      ]
     },
     "metadata": {},
     "output_type": "display_data"
    }
   ],
   "source": [
    "import numpy as np\n",
    "import plotly.graph_objects as go\n",
    "from ipywidgets import interact, FloatSlider\n",
    "\n",
    "def demand_curve(q, v_max, q_max):\n",
    "    return v_max * (1 - q / q_max)\n",
    "\n",
    "def consumer_surplus(p, v_max, q_max):\n",
    "    if p >= v_max:\n",
    "        return 0, 0\n",
    "    q_star = q_max * (1 - p / v_max)\n",
    "    area = v_max * q_star - (v_max / (2 * q_max)) * q_star**2 - p * q_star\n",
    "    return area, q_star\n",
    "\n",
    "def plot_demand_curve_plotly(v_max=0.4, q_max=10.0, price=0.2):\n",
    "    q_vals = np.linspace(0, q_max, 300)\n",
    "    v_vals = demand_curve(q_vals, v_max, q_max)\n",
    "    area, q_star = consumer_surplus(price, v_max, q_max)\n",
    "\n",
    "    fig = go.Figure()\n",
    "\n",
    "    fig.add_trace(go.Scatter(x=q_vals, y=v_vals, mode='lines', name='Inverse Demand Curve'))\n",
    "    fig.add_trace(go.Scatter(x=[0, q_max], y=[price, price], mode='lines',\n",
    "                             name='Market Price', line=dict(dash='dash', color='red')))\n",
    "\n",
    "    q_fill = q_vals[q_vals <= q_star]\n",
    "    v_fill = demand_curve(q_fill, v_max, q_max)\n",
    "    fig.add_trace(go.Scatter(\n",
    "        x=np.concatenate([q_fill, q_fill[::-1]]),\n",
    "        y=np.concatenate([v_fill, [price]*len(q_fill)]),\n",
    "        fill='toself',\n",
    "        fillcolor='rgba(255,165,0,0.5)',\n",
    "        line=dict(color='orange'),\n",
    "        name='Consumer Surplus'\n",
    "    ))\n",
    "\n",
    "    fig.update_layout(\n",
    "        title=f'Consumer Surplus = {area:.4f}, Equilibrium Quantity = {q_star:.2f}',\n",
    "        xaxis_title='Quantity (q)',\n",
    "        yaxis_title='Willingness to Pay (v(q))',\n",
    "        xaxis=dict(range=[0, q_max*2]),\n",
    "        yaxis=dict(range=[0, 15]),\n",
    "        legend=dict(x=0.01, y=0.99)\n",
    "    )\n",
    "\n",
    "    fig.show()\n",
    "\n",
    "interact(plot_demand_curve_plotly,\n",
    "         v_max=FloatSlider(value=0.4, min=0.1, max=10, step=0.01, description='v_max'),\n",
    "         q_max=FloatSlider(value=10, min=1, max=20, step=0.5, description='q_max'),\n",
    "         price=FloatSlider(value=0.2, min=0.0, max=10, step=0.01, description='Price'));\n"
   ]
  },
  {
   "cell_type": "markdown",
   "id": "161ecfa3",
   "metadata": {},
   "source": [
    "### Plotting Consumer Surplus under AMM Marginal Cost"
   ]
  },
  {
   "cell_type": "code",
   "execution_count": null,
   "id": "0bfae0ba",
   "metadata": {},
   "outputs": [
    {
     "data": {
      "application/vnd.jupyter.widget-view+json": {
       "model_id": "0991ddefb2814ea29eb442e44baec224",
       "version_major": 2,
       "version_minor": 0
      },
      "text/plain": [
       "interactive(children=(FloatSlider(value=0.4, description='v_max', min=0.1, step=0.01), FloatSlider(value=10.0,…"
      ]
     },
     "metadata": {},
     "output_type": "display_data"
    },
    {
     "data": {
      "text/plain": [
       "<function __main__.plot_demand_and_amm_supply(v_max=0.4, q_max=10.0, price=0.2, E=10.0, M=10.0)>"
      ]
     },
     "execution_count": 77,
     "metadata": {},
     "output_type": "execute_result"
    }
   ],
   "source": [
    "import numpy as np\n",
    "import plotly.graph_objects as go\n",
    "from ipywidgets import interact, FloatSlider\n",
    "\n",
    "def demand_curve(q, v_max, q_max):\n",
    "    \"\"\"\n",
    "    Inverse demand (marginal value) function v(q).\n",
    "    \"\"\"\n",
    "    return v_max * (1 - q / q_max)\n",
    "\n",
    "\n",
    "def amm_supply_curve(q, E, M):\n",
    "    \"\"\"\n",
    "    AMM marginal cost supply curve: price to purchase an incremental unit of E.\n",
    "    Derived as dM/de = K/(E - e)^2, where K = E*M.\n",
    "    \"\"\"\n",
    "    K = E * M\n",
    "    return K / (E - q)**2\n",
    "\n",
    "\n",
    "def plot_demand_and_amm_supply(v_max=0.4, q_max=10.0, price=0.2, E=10.0, M=10.0):\n",
    "    # Quantity grid up to q_max\n",
    "    q_vals = np.linspace(0, q_max, 300)\n",
    "\n",
    "    # Demand curve (marginal value)\n",
    "    v_vals = demand_curve(q_vals, v_max, q_max)\n",
    "\n",
    "    # AMM supply (marginal cost)\n",
    "    supply_vals = amm_supply_curve(q_vals, E, M)\n",
    "\n",
    "    # Compute consumer surplus at given price\n",
    "    area, q_star = consumer_surplus(price, v_max, q_max)\n",
    "\n",
    "    fig = go.Figure()\n",
    "\n",
    "    # Plot demand curve\n",
    "    fig.add_trace(go.Scatter(\n",
    "        x=q_vals, y=v_vals,\n",
    "        mode='lines', name='Inverse Demand Curve'\n",
    "    ))\n",
    "\n",
    "    # Plot AMM supply curve\n",
    "    fig.add_trace(go.Scatter(\n",
    "        x=q_vals, y=supply_vals,\n",
    "        mode='lines', name='AMM Supply Curve',\n",
    "        line=dict(dash='dot', color='green')\n",
    "    ))\n",
    "\n",
    "    # Plot market price line\n",
    "    fig.add_trace(go.Scatter(\n",
    "        x=[0, q_max], y=[price, price],\n",
    "        mode='lines', name='Market Price',\n",
    "        line=dict(dash='dash', color='red')\n",
    "    ))\n",
    "\n",
    "    # Shade consumer surplus\n",
    "    q_fill = q_vals[q_vals <= q_star]\n",
    "    v_fill = demand_curve(q_fill, v_max, q_max)\n",
    "    fig.add_trace(go.Scatter(\n",
    "        x=np.concatenate([q_fill, q_fill[::-1]]),\n",
    "        y=np.concatenate([v_fill, [price]*len(q_fill)]),\n",
    "        fill='toself', fillcolor='rgba(255,165,0,0.5)',\n",
    "        line=dict(color='orange'), name='Consumer Surplus'\n",
    "    ))\n",
    "\n",
    "    fig.update_layout(\n",
    "        title=f'Consumer Surplus = {area:.4f}, Equilibrium Quantity = {q_star:.2f}',\n",
    "        xaxis_title='Quantity (q)',\n",
    "        yaxis_title='Price / Marginal Value',\n",
    "        xaxis=dict(range=[0, q_max*1.1]),\n",
    "        yaxis=dict(range=[0, max(v_max, max(supply_vals))*1.1]),\n",
    "        legend=dict(x=0.01, y=0.99)\n",
    "    )\n",
    "\n",
    "    fig.show()\n",
    "\n",
    "# Interactive sliders to adjust parameters\n",
    "interact(\n",
    "    plot_demand_and_amm_supply,\n",
    "    v_max=FloatSlider(value=0.4, min=0.1, max=100, step=0.01, description='v_max'),\n",
    "    q_max=FloatSlider(value=10, min=1, max=20, step=0.5, description='q_max'),\n",
    "    price=FloatSlider(value=0.2, min=0.0, max=10, step=0.01, description='Price'),\n",
    "    E=FloatSlider(value=10, min=1, max=100, step=1, description='E reserve'),\n",
    "    M=FloatSlider(value=10, min=1, max=100, step=1, description='M reserve')\n",
    ")\n"
   ]
  },
  {
   "cell_type": "code",
   "execution_count": null,
   "id": "d0bcdb99",
   "metadata": {},
   "outputs": [],
   "source": [
    "T = 48\n",
    "v_d = 0.2\n",
    "c_u = 0.1\n",
    "q_d = np.ones(T)*5 \n",
    "s_t = np.array(irradiance_profile)  \n",
    "C_init = 2\n",
    "C_final = 2\n",
    "C_max = 10\n",
    "v_max = 0.4\n",
    "q_max = 10\n",
    "\n",
    "\n",
    "\n",
    "# === Variable unpacking ===\n",
    "def unpack(x):\n",
    "    p = x[0:T]\n",
    "    q_s = x[T:2*T]\n",
    "    q_b = x[2*T:3*T]\n",
    "    q_u = x[3*T:4*T]\n",
    "    C = x[4*T:5*T+1]\n",
    "    return p, q_s, q_b, q_u, C\n",
    "\n",
    "\n",
    "# === Objective ===\n",
    "def objective(x, v_max=0.4, q_max=10.0, c_u=0.1):\n",
    "    p, q_s, q_b, q_u, q_d, _ = unpack(x)\n",
    "    \n",
    "    # Consumer total utility (area under demand curve)\n",
    "    consumer_utility = v_max * q_d - (v_max / (2 * q_max)) * q_d**2 - p*q_d\n",
    "\n",
    "    # Payments to solar and battery\n",
    "    producer_revenue = p * (q_s + q_b)\n",
    "\n",
    "    # Utility surplus\n",
    "    utility_profit = (p - c_u) * q_u\n",
    "\n",
    "    return -np.sum(consumer_utility + producer_revenue + utility_profit)\n",
    "\n",
    "\n",
    "# === Constraints ===\n",
    "def constraint_eq(x):\n",
    "    p, q_s, q_b, q_u, C = unpack(x)\n",
    "    cons = []\n",
    "\n",
    "    # Initial battery\n",
    "    cons.append(C[0] - C_init)\n",
    "    cons.append(C[T] - C_final)        # Ending charge\n",
    "    for t in range(T):\n",
    "        # Market clearing\n",
    "        q_d_t = q_max * (1 - p[t] / v_max)\n",
    "        cons.append(q_s[t] + q_b[t] + q_u[t] - q_d_t)\n",
    "\n",
    "        #cons.append(q_s[t] + q_b[t] + q_u[t] - q_d[t])\n",
    "        \n",
    "        # Battery state update\n",
    "        cons.append(C[t+1] - (C[t] - q_b[t]))\n",
    "\n",
    "\n",
    "    return np.array(cons)\n",
    "\n",
    "# def constraint_ineq(x):\n",
    "#     p, q_s, q_b, q_u, _ = unpack(x)\n",
    "#     ineqs = []\n",
    "\n",
    "#     # Solar + battery limits\n",
    "#     ineqs += list(s_t - q_s)      # q_s <= s_t\n",
    "#     # ineqs += list(q_s)            # q_s >= 0\n",
    "#     # ineqs += list(q_u)            # q_u >= 0\n",
    "#     # ineqs += list(p)              # p >= 0\n",
    "\n",
    "#     # IR constraints:\n",
    "#     IR_d = np.sum((v_d - p) * q_d)\n",
    "#     IR_u = np.sum((p - c_u) * q_u)\n",
    "#     IR_s = np.sum(p * q_s)\n",
    "#     IR_b = np.sum(p * q_b)\n",
    "\n",
    "#     ineqs += [IR_d, IR_u, IR_s, IR_b]\n",
    "\n",
    "#     return np.array(ineqs)\n",
    "\n",
    "def constraint_ineq(x):\n",
    "    p, q_s, q_b, q_u, _ = unpack(x)\n",
    "    ineqs = []\n",
    "\n",
    "    # Physical feasibility\n",
    "    ineqs += list(s_t - q_s)  # solar limit: q_s ≤ s_t\n",
    "    # ineqs += list(q_s)        # q_s ≥ 0\n",
    "    # ineqs += list(q_u)        # q_u ≥ 0\n",
    "    # ineqs += list(p)          # p ≥ 0\n",
    "\n",
    "    # Per-period IR constraints for consumer, utility, solar\n",
    "    for t in range(T):\n",
    "\n",
    "        q_d_t = q_max * (1 - p[t] / v_max)\n",
    "        IR_d_t = v_max * q_d_t - (v_max / (2 * q_max)) * q_d_t**2 - p[t] * q_d_t\n",
    "        ineqs.append(IR_d_t)\n",
    "\n",
    "        ineqs.append((v_d - p[t]) * q_d[t])     # Consumer\n",
    "        ineqs.append((p[t] - c_u) * q_u[t])     # Utility\n",
    "        ineqs.append(p[t] * q_s[t])             # Solar\n",
    "\n",
    "    # Aggregate IR constraint for battery\n",
    "    IR_b = np.sum(p * q_b)\n",
    "    ineqs.append(IR_b)\n",
    "\n",
    "    return np.array(ineqs)\n",
    "\n",
    "\n",
    "# === Bounds ===\n",
    "bounds = [(0, None)] * (4*T) + [(0, C_max)] * (T+1)\n",
    "\n",
    "# === Initial Guess ===\n",
    "x0 = np.ones(5*T + 1)*c_u\n",
    "x0[4*T] = C_init  # battery start\n",
    "x0[5*T] = C_final\n",
    "# === Solve ===\n",
    "res = minimize(\n",
    "    fun=objective,\n",
    "    x0=x0,\n",
    "    method='SLSQP',\n",
    "    bounds=bounds,\n",
    "    constraints=[\n",
    "        {'type': 'eq', 'fun': constraint_eq},\n",
    "        {'type': 'ineq', 'fun': constraint_ineq}\n",
    "    ],\n",
    "    options={'disp': True, 'maxiter': 1000}\n",
    ")\n",
    "\n",
    "if res.success:\n",
    "    p, q_s, q_b, q_u, C = unpack(res.x)\n",
    "    print(\"Optimal Welfare:\", -res.fun)\n",
    "else:\n",
    "    print(\"Optimization failed:\", res.message)\n"
   ]
  },
  {
   "cell_type": "markdown",
   "id": "e0e5b558",
   "metadata": {},
   "source": [
    "## Elastic Demand Optimization"
   ]
  },
  {
   "cell_type": "code",
   "execution_count": 78,
   "id": "a93743e5",
   "metadata": {},
   "outputs": [
    {
     "name": "stdout",
     "output_type": "stream",
     "text": [
      "Optimization terminated successfully    (Exit mode 0)\n",
      "            Current function value: -4530.861453822827\n",
      "            Iterations: 3\n",
      "            Function evaluations: 2552\n",
      "            Gradient evaluations: 3\n",
      "   Hour  Price  q_d  q_s       q_b       q_u   Battery\n",
      "0     0    5.0  5.0  0.0  0.057015  4.942985  2.000000\n",
      "1     1    5.0  5.0  0.0  0.005764  4.994236  1.942985\n",
      "2     2    5.0  5.0  0.0  0.037153  4.962847  1.937221\n",
      "3     3    5.0  5.0  0.0  0.087119  4.912881  1.900068\n",
      "4     4    5.0  5.0  0.0  0.180645  4.819355  1.812949\n",
      "\n",
      "Optimal Welfare: 4530.861\n",
      "\n",
      "Binding equality constraints indices: []\n",
      "Binding inequality constraints indices: [  0   2   3   4   6   7   8  10  11  12  14  15  16  18  19  20  22  23\n",
      "  24  26  27  28  30  32  36  38  42  46  50  54  58  62  66  68  70  72\n",
      "  74  76  78  80  82  83  84  86  87  88  90  91  92  94  95  96  98  99\n",
      " 100 102 103 104 106 107 108 110 111 112 114 115 116 118 119 120 122 123\n",
      " 124 126 128 132 134 138 142 146 150 154 158 162 164 166 168 170 172 174\n",
      " 176 178 179 180 182 183 184 186 187 188 190 191 192 194 195 196 198 199\n",
      " 200 202 203 204 206 207 208 210 211 212 214 215 216 218 219 220 222 224\n",
      " 228 230 234 238 242 246 250 254 258 260 262 264 266 268 270 272 274 275\n",
      " 276 278 279 280 282 283 284 286 287 288 290 291 292 294 295 296 298 299\n",
      " 300 302 303 304 306 307 308 310 311 312 314 315 316 318 320 324 326 330\n",
      " 334 338 342 346 350 354 356 358 360 362 364 366 368 370 371 372 374 375\n",
      " 376 378 379 380 382 383 384 386 387 388 390 391 392 394 395 396 398 399\n",
      " 400 402 403 404 406 407 408 410 411 412 414 416 420 422 426 430 434 438\n",
      " 442 446 450 452 454 456 458 460 462 464 466 467 468 470 471 472 474 475\n",
      " 476 478 479 480 482 483 484 486 487 488 490 491 492 494 495 496 498 499\n",
      " 500 502 503 504 506 507 508 510 512 516 518 522 526 530 534 538 542 546\n",
      " 548 550 552 554 556 558 560 562 563 564 566 567 568 570 571 572 574 575\n",
      " 576 578 579 580 582 583 584 586 587 588 590 591 592 594 595 596 598 599\n",
      " 600 602 603 604 606 608 612 614 618 622 626 630 634 638 642 644 646 648\n",
      " 650 652 654 656 658 659 660 662 663 664 666 667 668 670 671 672 674 675]\n"
     ]
    }
   ],
   "source": [
    "import numpy as np\n",
    "from scipy.optimize import minimize\n",
    "import pandas as pd\n",
    "\n",
    "\n",
    "# === Parameters ===\n",
    "days = 7\n",
    "T = 24*days + 1\n",
    "v_max = 10\n",
    "q_max = 10\n",
    "c_u = 5\n",
    "C_init = 2\n",
    "C_final = 2\n",
    "C_max = 10\n",
    "\n",
    "# === Simulated solar irradiance ===\n",
    "sunrise = 6 \n",
    "sunset = 20\n",
    "mean_pmax = 10\n",
    "std_pmax = 0\n",
    "\n",
    "solar_gen_profile, p_max_list = generate_nday_solar(sunrise, sunset, mean_pmax, std_pmax, days)\n",
    "\n",
    "#np.random.seed(0)\n",
    "s_t = np.array(solar_gen_profile)  \n",
    "#s_t = np.zeros(T)\n",
    "\n",
    "# === Unpacking function ===\n",
    "def unpack(x):\n",
    "    p = x[0:T]\n",
    "    q_s = x[T:2*T]\n",
    "    q_b = x[2*T:3*T]\n",
    "    q_u = x[3*T:4*T]\n",
    "    C = x[4*T:5*T+1]\n",
    "    return p, q_s, q_b, q_u, C\n",
    "\n",
    "# === Objective function ===\n",
    "def objective(x):\n",
    "    p, q_s, q_b, q_u, _ = unpack(x)\n",
    "    q_d = q_max * (1 - p / v_max)\n",
    "\n",
    "    # Consumer surplus (area under demand curve minus expenditure)\n",
    "    cs = v_max * q_d - (v_max / (2 * q_max)) * q_d**2 - p * q_d\n",
    "\n",
    "    # Payments to solar + battery\n",
    "    producer_rev = p * q_s\n",
    "    battery_rev = p*q_b\n",
    "\n",
    "    # Utility company profit\n",
    "    utility_profit = (p - c_u) * q_u\n",
    "\n",
    "    return -np.sum(cs + producer_rev + utility_profit + battery_rev)\n",
    "    \n",
    "   \n",
    "\n",
    "# === Equality Constraints ===\n",
    "def constraint_eq(x):\n",
    "    p, q_s, q_b, q_u, C = unpack(x)\n",
    "    cons = []\n",
    "\n",
    "    cons.append(C[0] - C_init)\n",
    "    cons.append(C[T] - C_final) \n",
    "\n",
    "    # Final hour values match initial hour values (cyclic constraint)\n",
    "    cons.append(q_s[0] - q_s[-1])\n",
    "    cons.append(q_b[0] - q_b[-1])\n",
    "    cons.append(q_u[0] - q_u[-1])\n",
    "\n",
    "\n",
    "    for t in range(T):\n",
    "        q_d_t = q_max * (1 - p[t] / v_max)\n",
    "        cons.append(q_s[t] + q_b[t] + q_u[t] - q_d_t)\n",
    "        cons.append(C[t+1] - (C[t] - q_b[t]))\n",
    "    \n",
    "    return np.array(cons)\n",
    "\n",
    "# === Inequality Constraints ===\n",
    "def constraint_ineq(x):\n",
    "    p, q_s, q_b, q_u, _ = unpack(x)\n",
    "    ineqs = []\n",
    "\n",
    "    for t in range(T):\n",
    "        q_d_t = q_max * (1 - p[t] / v_max)\n",
    "\n",
    "        # Physical limits\n",
    "        ineqs.append(s_t[t] - q_s[t])        # solar capacity\n",
    "        # ineqs.append(q_s[t])                 # solar ≥ 0\n",
    "        # ineqs.append(q_u[t])                 # utility ≥ 0\n",
    "        # ineqs.append(p[t])                   # price ≥ 0\n",
    "\n",
    "        # IR constraints per period\n",
    "        IR_d_t = v_max * q_d_t - (v_max / (2 * q_max)) * q_d_t**2 - p[t] * q_d_t\n",
    "        ineqs.append(IR_d_t)\n",
    "        ineqs.append((p[t] - c_u) * q_u[t])  # utility IR\n",
    "        ineqs.append(p[t] * q_s[t])          # solar IR\n",
    "\n",
    "    # Battery IR across time\n",
    "    IR_b = np.sum(p * q_b)\n",
    "    ineqs.append(IR_b)\n",
    "\n",
    "    return np.array(ineqs)\n",
    "\n",
    "# === Bounds ===\n",
    "bounds = (\n",
    "    [(0, None)] * T +       # Prices ≥ 0\n",
    "    [(0, None)] * T +       # Solar quantities ≥ 0\n",
    "    [(-C_max, C_max)] * T + # Battery can charge (-) or discharge (+)\n",
    "    [(0, None)] * T +       # Utility quantities ≥ 0\n",
    "    [(0, C_max)] * (T + 1)  # Battery state of charge\n",
    ")\n",
    "\n",
    "\n",
    "# === Initial Guess ===\n",
    "x0 = np.ones(5*T + 1) * c_u\n",
    "# x0[:T] *= c_u  # prices initially set to marginal cost\n",
    "# x0[T:2*T] = s_t   # solar dispatch initially matches solar availability\n",
    "x0[4*T] = C_init  # Battery initial SoC\n",
    "x0[2*T:3*T] = 0   # Start neutral, let optimizer decide charge/discharge\n",
    "x0[5*T] = C_final\n",
    "\n",
    "#===Educated Guess====\n",
    "x0 = np.ones(5*T + 1)\n",
    "x0[:T] *= c_u # prices initially set to marginal cost\n",
    "x0[T:2*T] = s_t   # solar dispatch initially matches solar availability\n",
    "x0[2*T:3*T] = 0    # battery initially neutral (no dispatch)\n",
    "x0[3*T:4*T] = np.min(abs(5 - s_t), 0) # utility initially covers residual\n",
    "x0[4*T:5*T+1] = C_init  # Battery SOC initially constant\n",
    "\n",
    "\n",
    "# === Solve ===\n",
    "res = minimize(\n",
    "    fun=objective,\n",
    "    x0=x0,\n",
    "    method='SLSQP',\n",
    "    bounds=bounds,\n",
    "    constraints=[\n",
    "        {'type': 'eq', 'fun': constraint_eq},\n",
    "        {'type': 'ineq', 'fun': constraint_ineq}\n",
    "    ],\n",
    "    options={'disp': True, 'maxiter': 8000}\n",
    ")\n",
    "\n",
    "# === Output ===\n",
    "if res.success:\n",
    "    p, q_s, q_b, q_u, C = unpack(res.x)\n",
    "    q_d = q_max * (1 - p / v_max)\n",
    "    df_opt = pd.DataFrame({\n",
    "        'Hour': np.arange(T),\n",
    "        'Price': p,\n",
    "        'q_d': q_d,\n",
    "        'q_s': q_s,\n",
    "        'q_b': q_b,\n",
    "        'q_u': q_u,\n",
    "        'Battery': C[:-1]\n",
    "    })\n",
    "    print(df_opt.head())\n",
    "    print(f\"\\nOptimal Welfare: {-res.fun:.3f}\")\n",
    "\n",
    "    # Check which constraints are binding\n",
    "    eq_vals = constraint_eq(res.x)\n",
    "    ineq_vals = constraint_ineq(res.x)\n",
    "    tol = 1e-6  # tolerance for binding\n",
    "\n",
    "    binding_eq = np.where(np.abs(eq_vals) > tol)[0]\n",
    "    binding_ineq = np.where(np.abs(ineq_vals) < tol)[0]\n",
    "\n",
    "    print(f\"\\nBinding equality constraints indices: {binding_eq}\")\n",
    "    print(f\"Binding inequality constraints indices: {binding_ineq}\")\n",
    "else:\n",
    "    print(\"Optimization failed:\", res.message)\n"
   ]
  },
  {
   "cell_type": "code",
   "execution_count": 79,
   "id": "8a1911cb",
   "metadata": {},
   "outputs": [
    {
     "data": {
      "text/html": [
       "<div>\n",
       "<style scoped>\n",
       "    .dataframe tbody tr th:only-of-type {\n",
       "        vertical-align: middle;\n",
       "    }\n",
       "\n",
       "    .dataframe tbody tr th {\n",
       "        vertical-align: top;\n",
       "    }\n",
       "\n",
       "    .dataframe thead th {\n",
       "        text-align: right;\n",
       "    }\n",
       "</style>\n",
       "<table border=\"1\" class=\"dataframe\">\n",
       "  <thead>\n",
       "    <tr style=\"text-align: right;\">\n",
       "      <th></th>\n",
       "      <th>Hour</th>\n",
       "      <th>Price</th>\n",
       "      <th>q_d</th>\n",
       "      <th>q_s</th>\n",
       "      <th>q_b</th>\n",
       "      <th>q_u</th>\n",
       "      <th>Battery</th>\n",
       "    </tr>\n",
       "  </thead>\n",
       "  <tbody>\n",
       "    <tr>\n",
       "      <th>0</th>\n",
       "      <td>0</td>\n",
       "      <td>5.0</td>\n",
       "      <td>5.0</td>\n",
       "      <td>0.0</td>\n",
       "      <td>0.0570</td>\n",
       "      <td>4.9430</td>\n",
       "      <td>2.0000</td>\n",
       "    </tr>\n",
       "    <tr>\n",
       "      <th>1</th>\n",
       "      <td>1</td>\n",
       "      <td>5.0</td>\n",
       "      <td>5.0</td>\n",
       "      <td>0.0</td>\n",
       "      <td>0.0058</td>\n",
       "      <td>4.9942</td>\n",
       "      <td>1.9430</td>\n",
       "    </tr>\n",
       "    <tr>\n",
       "      <th>2</th>\n",
       "      <td>2</td>\n",
       "      <td>5.0</td>\n",
       "      <td>5.0</td>\n",
       "      <td>0.0</td>\n",
       "      <td>0.0372</td>\n",
       "      <td>4.9628</td>\n",
       "      <td>1.9372</td>\n",
       "    </tr>\n",
       "    <tr>\n",
       "      <th>3</th>\n",
       "      <td>3</td>\n",
       "      <td>5.0</td>\n",
       "      <td>5.0</td>\n",
       "      <td>0.0</td>\n",
       "      <td>0.0871</td>\n",
       "      <td>4.9129</td>\n",
       "      <td>1.9001</td>\n",
       "    </tr>\n",
       "    <tr>\n",
       "      <th>4</th>\n",
       "      <td>4</td>\n",
       "      <td>5.0</td>\n",
       "      <td>5.0</td>\n",
       "      <td>0.0</td>\n",
       "      <td>0.1806</td>\n",
       "      <td>4.8194</td>\n",
       "      <td>1.8129</td>\n",
       "    </tr>\n",
       "    <tr>\n",
       "      <th>...</th>\n",
       "      <td>...</td>\n",
       "      <td>...</td>\n",
       "      <td>...</td>\n",
       "      <td>...</td>\n",
       "      <td>...</td>\n",
       "      <td>...</td>\n",
       "      <td>...</td>\n",
       "    </tr>\n",
       "    <tr>\n",
       "      <th>164</th>\n",
       "      <td>164</td>\n",
       "      <td>5.0</td>\n",
       "      <td>5.0</td>\n",
       "      <td>0.0</td>\n",
       "      <td>1.0381</td>\n",
       "      <td>3.9619</td>\n",
       "      <td>4.0626</td>\n",
       "    </tr>\n",
       "    <tr>\n",
       "      <th>165</th>\n",
       "      <td>165</td>\n",
       "      <td>5.0</td>\n",
       "      <td>5.0</td>\n",
       "      <td>0.0</td>\n",
       "      <td>0.5258</td>\n",
       "      <td>4.4742</td>\n",
       "      <td>3.0245</td>\n",
       "    </tr>\n",
       "    <tr>\n",
       "      <th>166</th>\n",
       "      <td>166</td>\n",
       "      <td>5.0</td>\n",
       "      <td>5.0</td>\n",
       "      <td>0.0</td>\n",
       "      <td>0.2764</td>\n",
       "      <td>4.7236</td>\n",
       "      <td>2.4987</td>\n",
       "    </tr>\n",
       "    <tr>\n",
       "      <th>167</th>\n",
       "      <td>167</td>\n",
       "      <td>5.0</td>\n",
       "      <td>5.0</td>\n",
       "      <td>0.0</td>\n",
       "      <td>0.1653</td>\n",
       "      <td>4.8347</td>\n",
       "      <td>2.2223</td>\n",
       "    </tr>\n",
       "    <tr>\n",
       "      <th>168</th>\n",
       "      <td>168</td>\n",
       "      <td>5.0</td>\n",
       "      <td>5.0</td>\n",
       "      <td>0.0</td>\n",
       "      <td>0.0570</td>\n",
       "      <td>4.9430</td>\n",
       "      <td>2.0570</td>\n",
       "    </tr>\n",
       "  </tbody>\n",
       "</table>\n",
       "<p>169 rows × 7 columns</p>\n",
       "</div>"
      ],
      "text/plain": [
       "     Hour  Price  q_d  q_s     q_b     q_u  Battery\n",
       "0       0    5.0  5.0  0.0  0.0570  4.9430   2.0000\n",
       "1       1    5.0  5.0  0.0  0.0058  4.9942   1.9430\n",
       "2       2    5.0  5.0  0.0  0.0372  4.9628   1.9372\n",
       "3       3    5.0  5.0  0.0  0.0871  4.9129   1.9001\n",
       "4       4    5.0  5.0  0.0  0.1806  4.8194   1.8129\n",
       "..    ...    ...  ...  ...     ...     ...      ...\n",
       "164   164    5.0  5.0  0.0  1.0381  3.9619   4.0626\n",
       "165   165    5.0  5.0  0.0  0.5258  4.4742   3.0245\n",
       "166   166    5.0  5.0  0.0  0.2764  4.7236   2.4987\n",
       "167   167    5.0  5.0  0.0  0.1653  4.8347   2.2223\n",
       "168   168    5.0  5.0  0.0  0.0570  4.9430   2.0570\n",
       "\n",
       "[169 rows x 7 columns]"
      ]
     },
     "execution_count": 79,
     "metadata": {},
     "output_type": "execute_result"
    }
   ],
   "source": [
    "df_opt_rounded = df_opt.round(4)\n",
    "df_opt_rounded"
   ]
  },
  {
   "cell_type": "code",
   "execution_count": 80,
   "id": "bf7ef128",
   "metadata": {},
   "outputs": [
    {
     "data": {
      "application/vnd.plotly.v1+json": {
       "config": {
        "plotlyServerURL": "https://plotly.com"
       },
       "data": [
        {
         "mode": "lines",
         "name": "Price p",
         "type": "scatter",
         "y": {
          "bdata": "pkMAAAAAFED6RgAAAAAUQEZFAAAAABRANEoAAAAAFEBHVAAAAAAUQDVjAAAAABRAvIIAAAAAFECiMwAAAAAUQIjt2k4QFhRA4IaowG1nD0BUTnybMGoQQMdjEDoRnhFACxOPMLlbEkBoR38ZYKISQKmSHjv/dRJAGLg5ViHkEUBaBlsxwAoRQEKUjJtxPxNAKLCufOzvEUDd//////8TQOo0AAAAABRAOUIAAAAAFEDfQwAAAAAUQChEAAAAABRACEQAAAAAFECBRAAAAAAUQFNGAAAAABRAw0oAAAAAFEB0UgAAAAAUQGxjAAAAABRAIYMAAAAAFECbMwAAAAAUQJW3QXcVFhRAo57AwG1nD0DaWYibMGoQQL15KDoRnhFATCs3MLlbEkBJ9pQZYKISQHA1JDv/dRJAqQ8zViHkEUATpEMxwAoRQIoIOZtxPxNA9OYAfOzvEUCP//////8TQKM0AAAAABRAP0IAAAAAFEBZRAAAAAAUQChEAAAAABRAdEQAAAAAFEDURAAAAAAUQNJGAAAAABRAVkoAAAAAFECIUgAAAAAUQEljAAAAABRAU4MAAAAAFECzMwAAAAAUQEO1QXcVFhRAYkSxwG1nD0AwrYCbMGoQQJAgGToRnhFAtAGiMLlbEkArfDQZYKISQJdGLTv/dRJA3Sw3ViHkEUBiiUUxwAoRQIZ0OptxPxNAiZsBfOzvEUATAAAAAAAUQAo1AAAAABRAkEIAAAAAFEBNRAAAAAAUQEVEAAAAABRABUQAAAAAFEDMRAAAAAAUQKtGAAAAABRAWEoAAAAAFEB4UgAAAAAUQIdjAAAAABRACYMAAAAAFEC9MwAAAAAUQFMmZXcVFhRAVFfBxG1nD0BF8xmcMGoQQFIrVzoRnhFABS6uMLlbEkDbcYsZYKISQNzoHzv/dRJA9hwxViHkEUADvUIxwAoRQMdbOJtxPxNAP44AfOzvEUDm//////8TQNw0AAAAABRAcUIAAAAAFEDTRAAAAAAUQDxEAAAAABRALUQAAAAAFEBLRQAAAAAUQM9GAAAAABRAO0oAAAAAFECoUgAAAAAUQD5jAAAAABRAPYMAAAAAFEC1MwAAAAAUQES1QXcVFhRAUYiAwW1nD0D4X7aaMGoQQJNwHDoRnhFA+GNbMblbEkA7s2MZYKISQMfmIDv/dRJAJ4BbViHkEUC8XbYwwAoRQKWHvJtxPxNAL6VCfOzvEUDU//////8TQBw1AAAAABRAe0IAAAAAFEAlRAAAAAAUQLBDAAAAABRA5EMAAAAAFEAARQAAAAAUQINGAAAAABRA60kAAAAAFECvUgAAAAAUQDxjAAAAABRAKYMAAAAAFEDWMwAAAAAUQDi2QXcVFhRApqGewG1nD0BuW3ebMGoQQMB9BjoRnhFAyKF5MLlbEkDY/k8ZYKISQFGYvDv/dRJAPwwBViHkEUBxjSwxwAoRQKG4J5txPxNAWT34e+zvEUDp//////8TQAA1AAAAABRAc0IAAAAAFEARRAAAAAAUQKFEAAAAABRAY0QAAAAAFECMRAAAAAAUQA1GAAAAABRAQUoAAAAAFEBrUgAAAAAUQExjAAAAABRASYMAAAAAFECUMwAAAAAUQFe1QXcVFhRAAZj8zGtnD0AViQd4MGoQQF624RYRnhFAvQoy9rhbEkAzMwuhX6ISQAa6wjP+dRJASzVqER/kEUBKFWMquwoRQPKIC7n1PhNAK93O4f/vEUD5//////8TQNw0AAAAABRAbkIAAAAAFEA9RAAAAAAUQGtEAAAAABRApEMAAAAAFEA=",
          "dtype": "f8"
         }
        }
       ],
       "layout": {
        "template": {
         "data": {
          "bar": [
           {
            "error_x": {
             "color": "#2a3f5f"
            },
            "error_y": {
             "color": "#2a3f5f"
            },
            "marker": {
             "line": {
              "color": "#E5ECF6",
              "width": 0.5
             },
             "pattern": {
              "fillmode": "overlay",
              "size": 10,
              "solidity": 0.2
             }
            },
            "type": "bar"
           }
          ],
          "barpolar": [
           {
            "marker": {
             "line": {
              "color": "#E5ECF6",
              "width": 0.5
             },
             "pattern": {
              "fillmode": "overlay",
              "size": 10,
              "solidity": 0.2
             }
            },
            "type": "barpolar"
           }
          ],
          "carpet": [
           {
            "aaxis": {
             "endlinecolor": "#2a3f5f",
             "gridcolor": "white",
             "linecolor": "white",
             "minorgridcolor": "white",
             "startlinecolor": "#2a3f5f"
            },
            "baxis": {
             "endlinecolor": "#2a3f5f",
             "gridcolor": "white",
             "linecolor": "white",
             "minorgridcolor": "white",
             "startlinecolor": "#2a3f5f"
            },
            "type": "carpet"
           }
          ],
          "choropleth": [
           {
            "colorbar": {
             "outlinewidth": 0,
             "ticks": ""
            },
            "type": "choropleth"
           }
          ],
          "contour": [
           {
            "colorbar": {
             "outlinewidth": 0,
             "ticks": ""
            },
            "colorscale": [
             [
              0,
              "#0d0887"
             ],
             [
              0.1111111111111111,
              "#46039f"
             ],
             [
              0.2222222222222222,
              "#7201a8"
             ],
             [
              0.3333333333333333,
              "#9c179e"
             ],
             [
              0.4444444444444444,
              "#bd3786"
             ],
             [
              0.5555555555555556,
              "#d8576b"
             ],
             [
              0.6666666666666666,
              "#ed7953"
             ],
             [
              0.7777777777777778,
              "#fb9f3a"
             ],
             [
              0.8888888888888888,
              "#fdca26"
             ],
             [
              1,
              "#f0f921"
             ]
            ],
            "type": "contour"
           }
          ],
          "contourcarpet": [
           {
            "colorbar": {
             "outlinewidth": 0,
             "ticks": ""
            },
            "type": "contourcarpet"
           }
          ],
          "heatmap": [
           {
            "colorbar": {
             "outlinewidth": 0,
             "ticks": ""
            },
            "colorscale": [
             [
              0,
              "#0d0887"
             ],
             [
              0.1111111111111111,
              "#46039f"
             ],
             [
              0.2222222222222222,
              "#7201a8"
             ],
             [
              0.3333333333333333,
              "#9c179e"
             ],
             [
              0.4444444444444444,
              "#bd3786"
             ],
             [
              0.5555555555555556,
              "#d8576b"
             ],
             [
              0.6666666666666666,
              "#ed7953"
             ],
             [
              0.7777777777777778,
              "#fb9f3a"
             ],
             [
              0.8888888888888888,
              "#fdca26"
             ],
             [
              1,
              "#f0f921"
             ]
            ],
            "type": "heatmap"
           }
          ],
          "histogram": [
           {
            "marker": {
             "pattern": {
              "fillmode": "overlay",
              "size": 10,
              "solidity": 0.2
             }
            },
            "type": "histogram"
           }
          ],
          "histogram2d": [
           {
            "colorbar": {
             "outlinewidth": 0,
             "ticks": ""
            },
            "colorscale": [
             [
              0,
              "#0d0887"
             ],
             [
              0.1111111111111111,
              "#46039f"
             ],
             [
              0.2222222222222222,
              "#7201a8"
             ],
             [
              0.3333333333333333,
              "#9c179e"
             ],
             [
              0.4444444444444444,
              "#bd3786"
             ],
             [
              0.5555555555555556,
              "#d8576b"
             ],
             [
              0.6666666666666666,
              "#ed7953"
             ],
             [
              0.7777777777777778,
              "#fb9f3a"
             ],
             [
              0.8888888888888888,
              "#fdca26"
             ],
             [
              1,
              "#f0f921"
             ]
            ],
            "type": "histogram2d"
           }
          ],
          "histogram2dcontour": [
           {
            "colorbar": {
             "outlinewidth": 0,
             "ticks": ""
            },
            "colorscale": [
             [
              0,
              "#0d0887"
             ],
             [
              0.1111111111111111,
              "#46039f"
             ],
             [
              0.2222222222222222,
              "#7201a8"
             ],
             [
              0.3333333333333333,
              "#9c179e"
             ],
             [
              0.4444444444444444,
              "#bd3786"
             ],
             [
              0.5555555555555556,
              "#d8576b"
             ],
             [
              0.6666666666666666,
              "#ed7953"
             ],
             [
              0.7777777777777778,
              "#fb9f3a"
             ],
             [
              0.8888888888888888,
              "#fdca26"
             ],
             [
              1,
              "#f0f921"
             ]
            ],
            "type": "histogram2dcontour"
           }
          ],
          "mesh3d": [
           {
            "colorbar": {
             "outlinewidth": 0,
             "ticks": ""
            },
            "type": "mesh3d"
           }
          ],
          "parcoords": [
           {
            "line": {
             "colorbar": {
              "outlinewidth": 0,
              "ticks": ""
             }
            },
            "type": "parcoords"
           }
          ],
          "pie": [
           {
            "automargin": true,
            "type": "pie"
           }
          ],
          "scatter": [
           {
            "fillpattern": {
             "fillmode": "overlay",
             "size": 10,
             "solidity": 0.2
            },
            "type": "scatter"
           }
          ],
          "scatter3d": [
           {
            "line": {
             "colorbar": {
              "outlinewidth": 0,
              "ticks": ""
             }
            },
            "marker": {
             "colorbar": {
              "outlinewidth": 0,
              "ticks": ""
             }
            },
            "type": "scatter3d"
           }
          ],
          "scattercarpet": [
           {
            "marker": {
             "colorbar": {
              "outlinewidth": 0,
              "ticks": ""
             }
            },
            "type": "scattercarpet"
           }
          ],
          "scattergeo": [
           {
            "marker": {
             "colorbar": {
              "outlinewidth": 0,
              "ticks": ""
             }
            },
            "type": "scattergeo"
           }
          ],
          "scattergl": [
           {
            "marker": {
             "colorbar": {
              "outlinewidth": 0,
              "ticks": ""
             }
            },
            "type": "scattergl"
           }
          ],
          "scattermap": [
           {
            "marker": {
             "colorbar": {
              "outlinewidth": 0,
              "ticks": ""
             }
            },
            "type": "scattermap"
           }
          ],
          "scattermapbox": [
           {
            "marker": {
             "colorbar": {
              "outlinewidth": 0,
              "ticks": ""
             }
            },
            "type": "scattermapbox"
           }
          ],
          "scatterpolar": [
           {
            "marker": {
             "colorbar": {
              "outlinewidth": 0,
              "ticks": ""
             }
            },
            "type": "scatterpolar"
           }
          ],
          "scatterpolargl": [
           {
            "marker": {
             "colorbar": {
              "outlinewidth": 0,
              "ticks": ""
             }
            },
            "type": "scatterpolargl"
           }
          ],
          "scatterternary": [
           {
            "marker": {
             "colorbar": {
              "outlinewidth": 0,
              "ticks": ""
             }
            },
            "type": "scatterternary"
           }
          ],
          "surface": [
           {
            "colorbar": {
             "outlinewidth": 0,
             "ticks": ""
            },
            "colorscale": [
             [
              0,
              "#0d0887"
             ],
             [
              0.1111111111111111,
              "#46039f"
             ],
             [
              0.2222222222222222,
              "#7201a8"
             ],
             [
              0.3333333333333333,
              "#9c179e"
             ],
             [
              0.4444444444444444,
              "#bd3786"
             ],
             [
              0.5555555555555556,
              "#d8576b"
             ],
             [
              0.6666666666666666,
              "#ed7953"
             ],
             [
              0.7777777777777778,
              "#fb9f3a"
             ],
             [
              0.8888888888888888,
              "#fdca26"
             ],
             [
              1,
              "#f0f921"
             ]
            ],
            "type": "surface"
           }
          ],
          "table": [
           {
            "cells": {
             "fill": {
              "color": "#EBF0F8"
             },
             "line": {
              "color": "white"
             }
            },
            "header": {
             "fill": {
              "color": "#C8D4E3"
             },
             "line": {
              "color": "white"
             }
            },
            "type": "table"
           }
          ]
         },
         "layout": {
          "annotationdefaults": {
           "arrowcolor": "#2a3f5f",
           "arrowhead": 0,
           "arrowwidth": 1
          },
          "autotypenumbers": "strict",
          "coloraxis": {
           "colorbar": {
            "outlinewidth": 0,
            "ticks": ""
           }
          },
          "colorscale": {
           "diverging": [
            [
             0,
             "#8e0152"
            ],
            [
             0.1,
             "#c51b7d"
            ],
            [
             0.2,
             "#de77ae"
            ],
            [
             0.3,
             "#f1b6da"
            ],
            [
             0.4,
             "#fde0ef"
            ],
            [
             0.5,
             "#f7f7f7"
            ],
            [
             0.6,
             "#e6f5d0"
            ],
            [
             0.7,
             "#b8e186"
            ],
            [
             0.8,
             "#7fbc41"
            ],
            [
             0.9,
             "#4d9221"
            ],
            [
             1,
             "#276419"
            ]
           ],
           "sequential": [
            [
             0,
             "#0d0887"
            ],
            [
             0.1111111111111111,
             "#46039f"
            ],
            [
             0.2222222222222222,
             "#7201a8"
            ],
            [
             0.3333333333333333,
             "#9c179e"
            ],
            [
             0.4444444444444444,
             "#bd3786"
            ],
            [
             0.5555555555555556,
             "#d8576b"
            ],
            [
             0.6666666666666666,
             "#ed7953"
            ],
            [
             0.7777777777777778,
             "#fb9f3a"
            ],
            [
             0.8888888888888888,
             "#fdca26"
            ],
            [
             1,
             "#f0f921"
            ]
           ],
           "sequentialminus": [
            [
             0,
             "#0d0887"
            ],
            [
             0.1111111111111111,
             "#46039f"
            ],
            [
             0.2222222222222222,
             "#7201a8"
            ],
            [
             0.3333333333333333,
             "#9c179e"
            ],
            [
             0.4444444444444444,
             "#bd3786"
            ],
            [
             0.5555555555555556,
             "#d8576b"
            ],
            [
             0.6666666666666666,
             "#ed7953"
            ],
            [
             0.7777777777777778,
             "#fb9f3a"
            ],
            [
             0.8888888888888888,
             "#fdca26"
            ],
            [
             1,
             "#f0f921"
            ]
           ]
          },
          "colorway": [
           "#636efa",
           "#EF553B",
           "#00cc96",
           "#ab63fa",
           "#FFA15A",
           "#19d3f3",
           "#FF6692",
           "#B6E880",
           "#FF97FF",
           "#FECB52"
          ],
          "font": {
           "color": "#2a3f5f"
          },
          "geo": {
           "bgcolor": "white",
           "lakecolor": "white",
           "landcolor": "#E5ECF6",
           "showlakes": true,
           "showland": true,
           "subunitcolor": "white"
          },
          "hoverlabel": {
           "align": "left"
          },
          "hovermode": "closest",
          "mapbox": {
           "style": "light"
          },
          "paper_bgcolor": "white",
          "plot_bgcolor": "#E5ECF6",
          "polar": {
           "angularaxis": {
            "gridcolor": "white",
            "linecolor": "white",
            "ticks": ""
           },
           "bgcolor": "#E5ECF6",
           "radialaxis": {
            "gridcolor": "white",
            "linecolor": "white",
            "ticks": ""
           }
          },
          "scene": {
           "xaxis": {
            "backgroundcolor": "#E5ECF6",
            "gridcolor": "white",
            "gridwidth": 2,
            "linecolor": "white",
            "showbackground": true,
            "ticks": "",
            "zerolinecolor": "white"
           },
           "yaxis": {
            "backgroundcolor": "#E5ECF6",
            "gridcolor": "white",
            "gridwidth": 2,
            "linecolor": "white",
            "showbackground": true,
            "ticks": "",
            "zerolinecolor": "white"
           },
           "zaxis": {
            "backgroundcolor": "#E5ECF6",
            "gridcolor": "white",
            "gridwidth": 2,
            "linecolor": "white",
            "showbackground": true,
            "ticks": "",
            "zerolinecolor": "white"
           }
          },
          "shapedefaults": {
           "line": {
            "color": "#2a3f5f"
           }
          },
          "ternary": {
           "aaxis": {
            "gridcolor": "white",
            "linecolor": "white",
            "ticks": ""
           },
           "baxis": {
            "gridcolor": "white",
            "linecolor": "white",
            "ticks": ""
           },
           "bgcolor": "#E5ECF6",
           "caxis": {
            "gridcolor": "white",
            "linecolor": "white",
            "ticks": ""
           }
          },
          "title": {
           "x": 0.05
          },
          "xaxis": {
           "automargin": true,
           "gridcolor": "white",
           "linecolor": "white",
           "ticks": "",
           "title": {
            "standoff": 15
           },
           "zerolinecolor": "white",
           "zerolinewidth": 2
          },
          "yaxis": {
           "automargin": true,
           "gridcolor": "white",
           "linecolor": "white",
           "ticks": "",
           "title": {
            "standoff": 15
           },
           "zerolinecolor": "white",
           "zerolinewidth": 2
          }
         }
        },
        "title": {
         "text": "Price (p) over Time Steps"
        },
        "xaxis": {
         "title": {
          "text": "Time Step"
         }
        },
        "yaxis": {
         "title": {
          "text": "Price (p)"
         }
        }
       }
      }
     },
     "metadata": {},
     "output_type": "display_data"
    }
   ],
   "source": [
    "import plotly.graph_objs as go\n",
    "import plotly.offline as pyo\n",
    "\n",
    "fig = go.Figure()\n",
    "fig.add_trace(go.Scatter(y=p, mode='lines', name='Price p'))\n",
    "fig.update_layout(\n",
    "    title='Price (p) over Time Steps',\n",
    "    xaxis_title='Time Step',\n",
    "    yaxis_title='Price (p)'\n",
    ")\n",
    "fig.show()\n"
   ]
  },
  {
   "cell_type": "code",
   "execution_count": 45,
   "id": "c4957c1f",
   "metadata": {},
   "outputs": [
    {
     "data": {
      "text/plain": [
       "2.0"
      ]
     },
     "execution_count": 45,
     "metadata": {},
     "output_type": "execute_result"
    }
   ],
   "source": [
    "max(s_t)"
   ]
  },
  {
   "cell_type": "code",
   "execution_count": 81,
   "id": "c9017baf",
   "metadata": {},
   "outputs": [
    {
     "data": {
      "application/vnd.plotly.v1+json": {
       "config": {
        "plotlyServerURL": "https://plotly.com"
       },
       "data": [
        {
         "mode": "lines",
         "name": "q_d",
         "type": "scatter",
         "y": {
          "bdata": "Wrz/////E0AGuf////8TQLq6/////xNAzLX/////E0C5q/////8TQMqc/////xNARH3/////E0BezP////8TQHgSJbHv6RNAkLyrH0lMGECssYNkz5UXQDmc78XuYRZA9exwz0akFUCYuIDmn10VQFdt4cQAihVA6EfGqd4bFkCm+aTOP/UWQL5rc2SOwBRA2E9RgxMQFkAjAAAAAAAUQBbL/////xNAyL3/////E0AhvP////8TQNi7/////xNA+Lv/////E0B+u/////8TQK65/////xNAPbX/////E0CMrf////8TQJSc/////xNA33z/////E0BlzP////8TQGtIvojq6RNAr7CfH0lMGEAmpndkz5UXQEOG18XuYRZAtNTIz0akFUC4CWvmn10VQJDK28QAihVAV/DMqd4bFkDuW7zOP/UWQHb3xmSOwBRADBn/gxMQFkBwAAAAAAAUQF3L/////xNAwb3/////E0Cmu/////8TQNi7/////xNAjLv/////E0Asu/////8TQC65/////xNAqrX/////E0B4rf////8TQLac/////xNArXz/////E0BNzP////8TQL1Kvojq6RNAz12nH0lMGEDQUn9kz5UXQHDf5sXuYRZATP5dz0akFUDVg8vmn10VQGm50sQAihVAI9PIqd4bFkCedrrOP/UWQHqLxWSOwBRAd2T+gxMQFkDt//////8TQPbK/////xNAcL3/////E0Czu/////8TQLq7/////xNA/Lv/////E0A0u/////8TQFW5/////xNAqLX/////E0CIrf////8TQHmc/////xNA93z/////E0BDzP////8TQK3Zmojq6RNAVlSfHUlMGEC8DOZjz5UXQK7UqMXuYRZA+tFRz0akFUAkjnTmn10VQCQX4MQAihVACuPOqd4bFkD9Qr3OP/UWQDmkx2SOwBRAwXH/gxMQFkAaAAAAAAAUQCTL/////xNAj73/////E0Atu/////8TQMS7/////xNA1Lv/////E0C1uv////8TQDC5/////xNAxrX/////E0BYrf////8TQMKc/////xNAwnz/////E0BKzP////8TQLxKvojq6RNA2Ls/H0lMGEAIoEllz5UXQGyP48XuYRZACJykzkakFUDGTJzmn10VQDkZ38QAihVA2H+kqd4bFkBEoknPP/UWQFx4Q2SOwBRA0Vq9gxMQFkAsAAAAAAAUQOTK/////xNAhb3/////E0Dbu/////8TQFC8/////xNAHLz/////E0AAu/////8TQH25/////xNAFrb/////E0BQrf////8TQMSc/////xNA1nz/////E0AqzP////8TQMhJvojq6RNALa+wH0lMGECSpIhkz5UXQECC+cXuYRZAOF6Gz0akFUAoAbDmn10VQK9nQ8QAihVAwfP+qd4bFkCPctPOP/UWQF9H2GSOwBRAqMIHhBMQFkAWAAAAAAAUQADL/////xNAjb3/////E0Dvu/////8TQF+7/////xNAnLv/////E0B0u/////8TQPS5/////xNAv7X/////E0CVrf////8TQLSc/////xNAt3z/////E0BszP////8TQKlKvojq6RNAALSBGUpMGEDrdviHz5UXQKJJHunuYRZARPXNCUekFUDNzPReoF0VQPpFPcwBihVAtMqV7uAbFkC26pzVRPUWQA539EYKwRRA1SIxHgAQFkAIAAAAAAAUQCTL/////xNAkr3/////E0DDu/////8TQJW7/////xNAXLz/////E0A=",
          "dtype": "f8"
         }
        },
        {
         "mode": "lines",
         "name": "q_b",
         "type": "scatter",
         "y": {
          "bdata": "8C/67iAxrT/ShJ+Th5t3P0n/KuO5BaM/TDq74m9Ntj9SBp9iXR/HP3/Il8LYU9c/NLqVmvdg5z/yidEKE1zWPwxhtLWhC8g/xMtkcP+HxL9cWMUDv6Pev9VaDLMva+G/sd9O37Mm479Jln7gJMfkv9kMI2oh+ea/wRlIqlE/6784D8lATmbyv5HV7drqv/C/AanpU23U8j8VvFjAoYvuPxn37EC3i/A/0GiFaH2U4D+lqucGlrfQP0PdcID4Q8E//72VZoJ1sz91VCn/qTusP0eSuzAkqq8/34dVPdh2uT/xzHtABerHP44WRYHQhtc/FTJ3UQNu5z+ZjYveVWrWP8T4Y3ZuHsg/8iPmcf+HxL8pukYFv6Pev4K7jbQva+G/R2LQ2bMm47/chNnhJMfkv242fWoh+ea/3Z7dqVE/67+9/g1ATmbyvzKnn9nqv/C/2H9gTm3U8j+W7A/DoYvuP1XCmkG3i/A/wjQzaX2U4D//dJUHlrfQP4+oHoH4Q8E/cI5DZ4J1sz8yF9f/qTusPzpqEjEkqq8/vk1rPdh2uT/xOYFABerHP4V1RoHQhtc/JIp3UQNu5z9v6oveVWrWP6+VZHZuHsg/RJrwcP+HxL/0KlEEv6Pev5smmLMva+G/+cp94LMm479r5NHbJMfkv0FGDmsh+ea/LmkfqlE/679SLR1ATmbyvzxYpdnqv/C/ra1dTm3U8j+EEw3DoYvuPw4PmkG3i/A//osyaX2U4D/F95QHlrfQPyHVHoH4Q8E/VnlGZ4J1sz/W0uT/qTusP2LYLjEkqq8/yO6HPdh2uT+/+J1ABerHP4s1Y4HQhtc/DE6UUQNu5z+V+P7eVWrWP9RemHRuHsg/dK1oKP+HxL+F+XkXv6Pev0vWeLcva+G/YoxA4bMm478FO0HhJMfkv/lnOGoh+ea/6mu+qVE/678IywZATmbyv2f1nNnqv/C/pOJhTm3U8j/zQBHDoYvuP3wXm0G3i/A//YkzaX2U4D8Rx5UHlrfQP+QCH4H4Q8E/IuZDZ4J1sz9dYdf/qTusP6mhEjEkqq8/61FrPdh2uT8UOoFABerHP751RoHQhtc/q4p3UQNu5z+I7YveVWrWP5mZZHZuHsg/NAHlff+HxL+4gAfrvqPev8YozbMva+G/VusT7LMm47+BVcXeJMfkv2dFSGoh+ea/7J5krFE/6788zaM7Tmbyvyxqq9jqv/C/N4hZTW3U8j/O6wjCoYvuP6ICWUG3i/A/EHTxaH2U4D85s1MHlrfQP4Ls3ID4Q8E/K84BZ4J1sz/BV5X/qTusP3iW8TAkqq8/SQ5jPdh2uT+7KH9ABerHP0TwRYHQhtc/ZWl3UQNu5z+Vx4veVWrWP31dZHZuHsg/CHbGb/+HxL+r/yYDv6Pev1L/bbIva+G/l8j33bMm47/dCYrdJMfkv8FcA3Qh+ea/4mm9plE/67+fVFU/Tmbyv75oWtnqv/C/UyaDTm3U8j87hzLDoYvuP39po0G3i/A/hts7aX2U4D/UHp4HlrfQP0xMJ4H4Q8E/GjBMZ4J1sz+Uz9//qTusP2TXFjEkqq8/7VNsPdh2uT+kfoFABerHP16GRoHQhtc/MY93UQNu5z+Y8YveVWrWPwqlZHZuHsg/nTimNeCHxL8x1YFvnKPev4BFmt0Ra+G/TZ8BNnom479fxQzzscbkv6baaHg6+Oa/ZOiIjYA9678tFE9DeWTyvxGp6VD7vfC/XKUotx/U8j9SFYdgsZ3uP6pHTVPlm/A/KqY4JFTT4D/Al+ZnD7HRP3yHnnb8J8U/7y/67iAxrT8=",
          "dtype": "f8"
         }
        },
        {
         "mode": "lines",
         "name": "q_s",
         "type": "scatter",
         "y": {
          "bdata": "AAAAAAAAAAAAAAAAAAAAAAAAAAAAAAAAAAAAAAAAAAAAAAAAAAAAAAAAAAAAAAAAAAAAAAAAAACfFOGNOs0BQLfnZjD4WhFAcskuG4nwGECs6L9UC4AZQOUFUbxUjxhA06VaSx0JGECYZ5CChPYXQL+rJfIkaRhA1CoP38iDGUBlINde044bQBDLLhuJ8BhAWOlmMPhaEUDWEuGNOs0BQAAAAAAAAAAAAAAAAAAAAAAAAAAAAAAAAAAAAAAAAAAAAAAAAAAAAAAAAAAAAAAAAAAAAAAAAAAAAAAAAAAAAAAAAAAAAAAAAAAAAAAAAAAAAAAAAAAAAAC7FOGNOs0BQMnnZjD4WhFAJscuG4nwGEDq88tUC4AZQAgcabxUjxhA+wSnTB0JGECfFqaChPYXQOZOK/IkaRhA2oII38iDGUBLvr9e044bQAHLLhuJ8BhAY+lmMPhaEUBuEuGNOs0BQAAAAAAAAAAAAAAAAAAAAAAAAAAAAAAAAAAAAAAAAAAAAAAAAAAAAAAAAAAAAAAAAAAAAAAAAAAAAAAAAAAAAAAAAAAAAAAAAAAAAAAAAAAAAAAAAAAAAADQFOGNOs0BQKfnZjD4WhFA7MguG4nwGEDWRsRUC4AZQIvDWbxUjxhAhJRtSx0JGECHPKODhPYXQHNfNPIkaRhAj58M38iDGUAnpMFe044bQGPLLhuJ8BhAfulmMPhaEUBoEuGNOs0BQAAAAAAAAAAAAAAAAAAAAAAAAAAAAAAAAAAAAAAAAAAAAAAAAAAAAAAAAAAAAAAAAAAAAAAAAAAAAAAAAAAAAAAAAAAAAAAAAAAAAAAAAAAAAAAAAAAAAABXFOGNOs0BQJbnZjD4WhFAWckuG4nwGED6jV1VC4AZQCbOl7xUjxhAmMB5Sx0JGECvkZyChPYXQGMBJ/IkaRhAuY8G38iDGUDY2L5e044bQBHLLhuJ8BhAqelmMPhaEUBbEuGNOs0BQAAAAAAAAAAAAAAAAAAAAAAAAAAAAAAAAAAAAAAAAAAAAAAAAAAAAAAAAAAAAAAAAAAAAAAAAAAAAAAAAAAAAAAAAAAAAAAAAAAAAAAAAAAAAAAAAAAAAADVFOGNOs0BQGHnZjD4WhFA9MouG4nwGEA8yY9XC4AZQBITXbxUjxhAu2jeSB0JGEC803SChPYXQCf/J/IkaRhAW/Iw38iDGUBFuCdh044bQBrLLhuJ8BhAaelmMPhaEUBQEuGNOs0BQAAAAAAAAAAAAAAAAAAAAAAAAAAAAAAAAAAAAAAAAAAAAAAAAAAAAAAAAAAAAAAAAAAAAAAAAAAAAAAAAAAAAAAAAAAAAAAAAAAAAAAAAAAAAAAAAAAAAACEFOGNOs0BQIHnZjD4WhFAJckuG4nwGEBY9rpUC4AZQLYgR7xUjxhAhDRFSx0JGECSHmGChPYXQOqur+8kaRhAdn/W3siDGUAWqqhe044bQE/LLhuJ8BhAVulmMPhaEUByEuGNOs0BQAAAAAAAAAAAAAAAAAAAAAAAAAAAAAAAAAAAAAAAAAAAAAAAAAAAAAAAAAAAAAAAAAAAAAAAAAAAAAAAAAAAAAAAAAAAAAAAAAAAAAAAAAAAAAAAAAAAAACtFOGNOs0BQFvnZjD4WhFAzc0uG4nwGED3dvBOCYAZQL9w0SRRjxhAJwaOUBYJGEDiQVaddvYXQC1A1BwJaRhAgMZGAJGDGUCd1mUpY44bQPzKLhuJ8BhAoOlmMPhaEUBTEuGNOs0BQAAAAAAAAAAAAAAAAAAAAAAAAAAAAAAAAAAAAAAAAAAAAAAAAAAAAAA=",
          "dtype": "f8"
         }
        },
        {
         "mode": "lines",
         "name": "q_u",
         "type": "scatter",
         "y": {
          "bdata": "Dvshvp3FE0BGBBseGfoTQCmXOYz02RNA2Pt0QMqmE0CO5+oUBUcTQMBT1nPCihJA6PmsDOETEUDfUsQQQ2cDQI97CDGn6dw/aXJj3sV7mT0AefmFz4aePZ6Y6knr1qA9sbImEbSLoT2sKrh6iOShPTfBeUdcmaE9+/np9G0moD04tjJS7w+dPVkCxH+yEZY9eOtjQ06Ijz3ZfBEEuh/9P6qEiV8kug9AukTvUnDtEUARdZGfhvQSQCdo/DvgdRNAvZdl9imyE0BxmwGsiMcTQIJ1nrerwBNAX5IKnySaE0CZAvzVr0ATQO9+6/eShxJA0MrQlT8SEUBdEk22emUDQMINREru39w/VvnAdounmj3cCpRQvd6dPT3gMacJ1aA9FLx0ulxooT12qNrnddmhPTzebOlMPaE91LtA/qmsoD28u090A1GdPfVEBln7QJY9zjMJse1ljz2d5rUCuh/9Pz+fMl8kug9ASovZUnDtEUAkmIafhvQSQKL59jvgdRNAUuBi9imyE0C1PwCsiMcTQEXHnberwBNAmTsKnySaE0D11vvVr0ATQBpp6/eShxJAhr/QlT8SEUB9Bk22emUDQJ/mQ0ru39w/YoJQAwi0mT2S4NufgqmePc3B+RyEW6A9O95RhRGToT3e3tCTROGhPfKZx/q9XqE90CKSti1doD1aezU9NsudPaI+KpGcJZY91G9DQlYcjz0gUbcCuh/9P0z4Ml8kug9AQKDZUnDtEUDBn4afhvQSQDP49jvgdRNA59Ri9imyE0B9JACsiMcTQIOOnberwBNA+cgJnySaE0Af8frVr0ATQAOd6feShxJAVSfNlT8SEUAfpT62emUDQJOakUfu39w/8aB7tLGGmT3fT436tVmePfTHFUlHqKA9KKS/He53oT1DJiioeOuhPaT/mgd6YKE9h5YesgRooD04FwlFBuecPUUAgEcLgZY97AbtETHcjj05O7UCuh/9P2t0Ml8kug9AfIDZUnDtEUCBkoafhvQSQOj29jvgdRNACN9i9imyE0APPwCsiMcTQPPGnberwBNAcDsKnySaE0D11vvVr0ATQABp6/eShxJAmb/QlT8SEUAQBk22emUDQOHoQ0ru39w/9Hj9LkDsmD1+/WxuUD2ePUusOTKtuqA9+vk7ce+MoT0SKTf2RtyhPbYitrO9XqE9uRB+OmquoD2CTkp9HyCdPUOXYlXxMJY9Wn6eVzC0jj0rZjkDuh/9P91+U18kug9ANMPhUnDtEUAEtIqfhvQSQNwH+TvgdRNApudj9imyE0BDwwCsiMcTQEkJnrerwBNAlVwKnySaE0Bm5/vVr0ATQG5x6/eShxJA3MPQlT8SEUDdCk22emUDQKT1Q0ru39w/SAG7N2W5mT0W9FEq6DWePZNRg1HguaA9+pYcL3FjoT10s3cDq+qhPZF69tXiaKE9vJVYRuXBoD0hSd0hoKGdPaKG0eq9PpY9caf8nXhpjz3Yl6QCuh/9P2VLLl8kug9AUnbYUnDtEUCKDYafhvQSQEq09jvgdRNAm71i9imyE0CWLgCsiMcTQO2+nberwBNAVzcKnySaE0DH1PvVr0ATQPhn6/eShxJADr/QlT8SEUD3BU22emUDQFfiQ0ru39w/04LzecX3lz3HDOjlZ0edPWYyC4w1yaA97e1JyQyEoT1/D6bWdsqhPZr85lyPd6E9XkfpmzSgoD19DTv33/idPZ7aCTdQVZY9tp3maKG3jz3QUPozshb9P7JcWVYNsg9AH914e5XlEUBChoEJ7+QSQLT6ShzAVhNADvshvp3FE0A=",
          "dtype": "f8"
         }
        },
        {
         "mode": "lines",
         "name": "C",
         "type": "scatter",
         "y": {
          "bdata": "AAAAAAAAAECBLoj4dhb/P/yO9HDb/v4/ATfboa1m/j9eg6+j1gH9P5SiW/fqHfo/dbC1xvRI9D+1ptXy8TDhP/CGs7WhC8g/AAAAAAAAAACq8WNw/4fEP5io+13fc+Q/tgGEiIfv8j+PcSt44YL8P1peNfQ5cwNAjyG+ToIxCUD/E6hcqwAQQMxX2uw+mhRAMc2VoznKGEDxYptOHhUUQG9LkBaqQxBAUhuqjHhBCEAewYgyWRwEQMnLq3FmBQJA9b2k6SbxAEAGEHDWelUAQGfV5lwYyf8/0/hgO8fL/j9VoIu3WTT9P7cmfA8ZN/o/EuEq72RV9D8PkN6MxjzhPwklY3ZuHsg/AAAAAAAAAAA0UOVx/4fEPyGxHF/fc+Q/UjbViYfv8j90Z7124YL8P/EU1fM5cwNAkGJ0ToIxCUAk5XVcqwAQQNJkeew+mhRAnk7hojnKGECnLklPHhUUQBQx5xaqQxBA/wABjXhBCEDPM7QyWRwEQC6FwXFmBQJApZqv6SbxAEAyfnXWelUAQKpD7FwYyf8/WbBjO8fL/j+B+4y3WTT9P0PUfA8ZN/o/4jYr72RV9D+o496MxjzhP7+5Y3ZuHsg/AAAAAAAAAABQvu9w/4fEPw6FZF7fc+Q/01X+iIfv8j9ROz154YL8P8MWk/M5cwNAVKhWToIxCUBQQW9cqwAQQKOMduw+mhRAsuLfojnKGEBHd0hPHhUUQNfU5haqQxBAJqIAjXhBCEAm/7MyWRwEQC5gwXFmBQJA3HKv6SbxAEASP3XWelUAQI5X61wYyf8/1OBhO8fL/j/lYYm3WTT9P82idQ8ZN/o/atUc72RV9D/LXKWMxjzhP/qBl3RuHsg/AAAAAAAAAACr0Gco/4fEP+jw1lXfc+Q/meOnhofv8j/LKUh34YL8P6Zj9PM5cwNApX2CToIxCUBRDHlcqwAQQBO/euw+mhRAbfzhojnKGEDEg0lPHhUUQKZb5xaqQxBAjCsBjXhBCEAOSbQyWRwEQCyQwXFmBQJA/p+v6SbxAEDNgHXWelUAQJBG7FwYyf8/f7FjO8fL/j9h/Iy3WTT9Px7VfA8ZN/o/rjcr72RV9D+05N6MxjzhP8G3Y3ZuHsg/AAAAAAAAAABvH+R9/4fEPzbI/FTfc+Q/gfhkhIfv8j8r7m564YL8P3XM6PQ5cwNAzt16T4IxCUDFAkpdqwAQQBP2Muw+mhRAn9BdojnKGECQbgdPHhUUQBdRxhaqQxBA2yDgjHhBCEDYw6MyWRwEQHBNuXFmBQJAqH6r6SbxAEA1cHPWelUAQK016lwYyf8//qhiO8fL/j8UeIy3WTT9P/6SfA8ZN/o/7BYr72RV9D94xN6MxjzhP6uCY3ZuHsg/AAAAAAAAAAAum8Vv/4fEP6PmhF3fc+Q/+3L5h4fv8j9HV/V24YL8Pxwu3fI5cwNATAXeT4IxCUDkr8ZcqwAQQAwFnOw+mhRAO5/yojnKGECl1VFPHhUUQL2E6xaqQxBAu1QFjXhBCEDZXbYyWRwEQP+ZwnFmBQJAOiWw6SbxAEC6w3XWelUAQPWI7FwYyf8/OtJjO8fL/j/7DI23WTT9PyfdfA8ZN/o/jTsr72RV9D/z596MxjzhP4y8Y3ZuHsg/AAAAAAAAAAAtUKU14IfEP6I+KkXGc+Q/EkJiEWzv8j+5EWMsqYL8PzO69BIBcwNA3vAOsQ8xCUB6lTjqNwAQQIZaDDtWmRRAy8RGD9XIGEB0m3whzRMUQMm4a/UWQBBAvc0wQTsyCEAypCI4Zv0DQDrRJUtExwFAwei7g8R0AEAAAAAAAAAAQA==",
          "dtype": "f8"
         }
        },
        {
         "mode": "lines",
         "name": "s_t",
         "type": "scatter",
         "y": {
          "bdata": "AAAAAAAAAAAAAAAAAAAAAAAAAAAAAAAAAAAAAAAAAAAAAAAAAAAAAAAAAAAAAAAACXPZv68Pxjxya+GNOs0BQFkLZzD4WhFARukuG4nwGEDeVUdS9EUfQMcZH+r1BCJA4pFXg6F/I0AAAAAAAAAkQOKRV4OhfyNAxxkf6vUEIkDeVUdS9EUfQEbpLhuJ8BhAWQtnMPhaEUBya+GNOs0BQAlz2b+vD8Y8AAAAAAAAAAAAAAAAAAAAAAAAAAAAAAAAAAAAAAAAAAAAAAAAAAAAAAAAAAAAAAAAAAAAAAAAAAAAAAAAAAAAAAAAAAAAAAAACXPZv68Pxjxya+GNOs0BQFkLZzD4WhFARukuG4nwGEDeVUdS9EUfQMcZH+r1BCJA4pFXg6F/I0AAAAAAAAAkQOKRV4OhfyNAxxkf6vUEIkDeVUdS9EUfQEbpLhuJ8BhAWQtnMPhaEUBya+GNOs0BQAlz2b+vD8Y8AAAAAAAAAAAAAAAAAAAAAAAAAAAAAAAAAAAAAAAAAAAAAAAAAAAAAAAAAAAAAAAAAAAAAAAAAAAAAAAAAAAAAAAAAAAAAAAACXPZv68Pxjxya+GNOs0BQFkLZzD4WhFARukuG4nwGEDeVUdS9EUfQMcZH+r1BCJA4pFXg6F/I0AAAAAAAAAkQOKRV4OhfyNAxxkf6vUEIkDeVUdS9EUfQEbpLhuJ8BhAWQtnMPhaEUBya+GNOs0BQAlz2b+vD8Y8AAAAAAAAAAAAAAAAAAAAAAAAAAAAAAAAAAAAAAAAAAAAAAAAAAAAAAAAAAAAAAAAAAAAAAAAAAAAAAAAAAAAAAAAAAAAAAAACXPZv68Pxjxya+GNOs0BQFkLZzD4WhFARukuG4nwGEDeVUdS9EUfQMcZH+r1BCJA4pFXg6F/I0AAAAAAAAAkQOKRV4OhfyNAxxkf6vUEIkDeVUdS9EUfQEbpLhuJ8BhAWQtnMPhaEUBya+GNOs0BQAlz2b+vD8Y8AAAAAAAAAAAAAAAAAAAAAAAAAAAAAAAAAAAAAAAAAAAAAAAAAAAAAAAAAAAAAAAAAAAAAAAAAAAAAAAAAAAAAAAAAAAAAAAACXPZv68Pxjxya+GNOs0BQFkLZzD4WhFARukuG4nwGEDeVUdS9EUfQMcZH+r1BCJA4pFXg6F/I0AAAAAAAAAkQOKRV4OhfyNAxxkf6vUEIkDeVUdS9EUfQEbpLhuJ8BhAWQtnMPhaEUBya+GNOs0BQAlz2b+vD8Y8AAAAAAAAAAAAAAAAAAAAAAAAAAAAAAAAAAAAAAAAAAAAAAAAAAAAAAAAAAAAAAAAAAAAAAAAAAAAAAAAAAAAAAAAAAAAAAAACXPZv68Pxjxya+GNOs0BQFkLZzD4WhFARukuG4nwGEDeVUdS9EUfQMcZH+r1BCJA4pFXg6F/I0AAAAAAAAAkQOKRV4OhfyNAxxkf6vUEIkDeVUdS9EUfQEbpLhuJ8BhAWQtnMPhaEUBya+GNOs0BQAlz2b+vD8Y8AAAAAAAAAAAAAAAAAAAAAAAAAAAAAAAAAAAAAAAAAAAAAAAAAAAAAAAAAAAAAAAAAAAAAAAAAAAAAAAAAAAAAAAAAAAAAAAACXPZv68Pxjxya+GNOs0BQFkLZzD4WhFARukuG4nwGEDeVUdS9EUfQMcZH+r1BCJA4pFXg6F/I0AAAAAAAAAkQOKRV4OhfyNAxxkf6vUEIkDeVUdS9EUfQEbpLhuJ8BhAWQtnMPhaEUBya+GNOs0BQAlz2b+vD8Y8AAAAAAAAAAAAAAAAAAAAAAAAAAAAAAAAAAAAAAAAAAA=",
          "dtype": "f8"
         }
        }
       ],
       "layout": {
        "template": {
         "data": {
          "bar": [
           {
            "error_x": {
             "color": "#2a3f5f"
            },
            "error_y": {
             "color": "#2a3f5f"
            },
            "marker": {
             "line": {
              "color": "#E5ECF6",
              "width": 0.5
             },
             "pattern": {
              "fillmode": "overlay",
              "size": 10,
              "solidity": 0.2
             }
            },
            "type": "bar"
           }
          ],
          "barpolar": [
           {
            "marker": {
             "line": {
              "color": "#E5ECF6",
              "width": 0.5
             },
             "pattern": {
              "fillmode": "overlay",
              "size": 10,
              "solidity": 0.2
             }
            },
            "type": "barpolar"
           }
          ],
          "carpet": [
           {
            "aaxis": {
             "endlinecolor": "#2a3f5f",
             "gridcolor": "white",
             "linecolor": "white",
             "minorgridcolor": "white",
             "startlinecolor": "#2a3f5f"
            },
            "baxis": {
             "endlinecolor": "#2a3f5f",
             "gridcolor": "white",
             "linecolor": "white",
             "minorgridcolor": "white",
             "startlinecolor": "#2a3f5f"
            },
            "type": "carpet"
           }
          ],
          "choropleth": [
           {
            "colorbar": {
             "outlinewidth": 0,
             "ticks": ""
            },
            "type": "choropleth"
           }
          ],
          "contour": [
           {
            "colorbar": {
             "outlinewidth": 0,
             "ticks": ""
            },
            "colorscale": [
             [
              0,
              "#0d0887"
             ],
             [
              0.1111111111111111,
              "#46039f"
             ],
             [
              0.2222222222222222,
              "#7201a8"
             ],
             [
              0.3333333333333333,
              "#9c179e"
             ],
             [
              0.4444444444444444,
              "#bd3786"
             ],
             [
              0.5555555555555556,
              "#d8576b"
             ],
             [
              0.6666666666666666,
              "#ed7953"
             ],
             [
              0.7777777777777778,
              "#fb9f3a"
             ],
             [
              0.8888888888888888,
              "#fdca26"
             ],
             [
              1,
              "#f0f921"
             ]
            ],
            "type": "contour"
           }
          ],
          "contourcarpet": [
           {
            "colorbar": {
             "outlinewidth": 0,
             "ticks": ""
            },
            "type": "contourcarpet"
           }
          ],
          "heatmap": [
           {
            "colorbar": {
             "outlinewidth": 0,
             "ticks": ""
            },
            "colorscale": [
             [
              0,
              "#0d0887"
             ],
             [
              0.1111111111111111,
              "#46039f"
             ],
             [
              0.2222222222222222,
              "#7201a8"
             ],
             [
              0.3333333333333333,
              "#9c179e"
             ],
             [
              0.4444444444444444,
              "#bd3786"
             ],
             [
              0.5555555555555556,
              "#d8576b"
             ],
             [
              0.6666666666666666,
              "#ed7953"
             ],
             [
              0.7777777777777778,
              "#fb9f3a"
             ],
             [
              0.8888888888888888,
              "#fdca26"
             ],
             [
              1,
              "#f0f921"
             ]
            ],
            "type": "heatmap"
           }
          ],
          "histogram": [
           {
            "marker": {
             "pattern": {
              "fillmode": "overlay",
              "size": 10,
              "solidity": 0.2
             }
            },
            "type": "histogram"
           }
          ],
          "histogram2d": [
           {
            "colorbar": {
             "outlinewidth": 0,
             "ticks": ""
            },
            "colorscale": [
             [
              0,
              "#0d0887"
             ],
             [
              0.1111111111111111,
              "#46039f"
             ],
             [
              0.2222222222222222,
              "#7201a8"
             ],
             [
              0.3333333333333333,
              "#9c179e"
             ],
             [
              0.4444444444444444,
              "#bd3786"
             ],
             [
              0.5555555555555556,
              "#d8576b"
             ],
             [
              0.6666666666666666,
              "#ed7953"
             ],
             [
              0.7777777777777778,
              "#fb9f3a"
             ],
             [
              0.8888888888888888,
              "#fdca26"
             ],
             [
              1,
              "#f0f921"
             ]
            ],
            "type": "histogram2d"
           }
          ],
          "histogram2dcontour": [
           {
            "colorbar": {
             "outlinewidth": 0,
             "ticks": ""
            },
            "colorscale": [
             [
              0,
              "#0d0887"
             ],
             [
              0.1111111111111111,
              "#46039f"
             ],
             [
              0.2222222222222222,
              "#7201a8"
             ],
             [
              0.3333333333333333,
              "#9c179e"
             ],
             [
              0.4444444444444444,
              "#bd3786"
             ],
             [
              0.5555555555555556,
              "#d8576b"
             ],
             [
              0.6666666666666666,
              "#ed7953"
             ],
             [
              0.7777777777777778,
              "#fb9f3a"
             ],
             [
              0.8888888888888888,
              "#fdca26"
             ],
             [
              1,
              "#f0f921"
             ]
            ],
            "type": "histogram2dcontour"
           }
          ],
          "mesh3d": [
           {
            "colorbar": {
             "outlinewidth": 0,
             "ticks": ""
            },
            "type": "mesh3d"
           }
          ],
          "parcoords": [
           {
            "line": {
             "colorbar": {
              "outlinewidth": 0,
              "ticks": ""
             }
            },
            "type": "parcoords"
           }
          ],
          "pie": [
           {
            "automargin": true,
            "type": "pie"
           }
          ],
          "scatter": [
           {
            "fillpattern": {
             "fillmode": "overlay",
             "size": 10,
             "solidity": 0.2
            },
            "type": "scatter"
           }
          ],
          "scatter3d": [
           {
            "line": {
             "colorbar": {
              "outlinewidth": 0,
              "ticks": ""
             }
            },
            "marker": {
             "colorbar": {
              "outlinewidth": 0,
              "ticks": ""
             }
            },
            "type": "scatter3d"
           }
          ],
          "scattercarpet": [
           {
            "marker": {
             "colorbar": {
              "outlinewidth": 0,
              "ticks": ""
             }
            },
            "type": "scattercarpet"
           }
          ],
          "scattergeo": [
           {
            "marker": {
             "colorbar": {
              "outlinewidth": 0,
              "ticks": ""
             }
            },
            "type": "scattergeo"
           }
          ],
          "scattergl": [
           {
            "marker": {
             "colorbar": {
              "outlinewidth": 0,
              "ticks": ""
             }
            },
            "type": "scattergl"
           }
          ],
          "scattermap": [
           {
            "marker": {
             "colorbar": {
              "outlinewidth": 0,
              "ticks": ""
             }
            },
            "type": "scattermap"
           }
          ],
          "scattermapbox": [
           {
            "marker": {
             "colorbar": {
              "outlinewidth": 0,
              "ticks": ""
             }
            },
            "type": "scattermapbox"
           }
          ],
          "scatterpolar": [
           {
            "marker": {
             "colorbar": {
              "outlinewidth": 0,
              "ticks": ""
             }
            },
            "type": "scatterpolar"
           }
          ],
          "scatterpolargl": [
           {
            "marker": {
             "colorbar": {
              "outlinewidth": 0,
              "ticks": ""
             }
            },
            "type": "scatterpolargl"
           }
          ],
          "scatterternary": [
           {
            "marker": {
             "colorbar": {
              "outlinewidth": 0,
              "ticks": ""
             }
            },
            "type": "scatterternary"
           }
          ],
          "surface": [
           {
            "colorbar": {
             "outlinewidth": 0,
             "ticks": ""
            },
            "colorscale": [
             [
              0,
              "#0d0887"
             ],
             [
              0.1111111111111111,
              "#46039f"
             ],
             [
              0.2222222222222222,
              "#7201a8"
             ],
             [
              0.3333333333333333,
              "#9c179e"
             ],
             [
              0.4444444444444444,
              "#bd3786"
             ],
             [
              0.5555555555555556,
              "#d8576b"
             ],
             [
              0.6666666666666666,
              "#ed7953"
             ],
             [
              0.7777777777777778,
              "#fb9f3a"
             ],
             [
              0.8888888888888888,
              "#fdca26"
             ],
             [
              1,
              "#f0f921"
             ]
            ],
            "type": "surface"
           }
          ],
          "table": [
           {
            "cells": {
             "fill": {
              "color": "#EBF0F8"
             },
             "line": {
              "color": "white"
             }
            },
            "header": {
             "fill": {
              "color": "#C8D4E3"
             },
             "line": {
              "color": "white"
             }
            },
            "type": "table"
           }
          ]
         },
         "layout": {
          "annotationdefaults": {
           "arrowcolor": "#2a3f5f",
           "arrowhead": 0,
           "arrowwidth": 1
          },
          "autotypenumbers": "strict",
          "coloraxis": {
           "colorbar": {
            "outlinewidth": 0,
            "ticks": ""
           }
          },
          "colorscale": {
           "diverging": [
            [
             0,
             "#8e0152"
            ],
            [
             0.1,
             "#c51b7d"
            ],
            [
             0.2,
             "#de77ae"
            ],
            [
             0.3,
             "#f1b6da"
            ],
            [
             0.4,
             "#fde0ef"
            ],
            [
             0.5,
             "#f7f7f7"
            ],
            [
             0.6,
             "#e6f5d0"
            ],
            [
             0.7,
             "#b8e186"
            ],
            [
             0.8,
             "#7fbc41"
            ],
            [
             0.9,
             "#4d9221"
            ],
            [
             1,
             "#276419"
            ]
           ],
           "sequential": [
            [
             0,
             "#0d0887"
            ],
            [
             0.1111111111111111,
             "#46039f"
            ],
            [
             0.2222222222222222,
             "#7201a8"
            ],
            [
             0.3333333333333333,
             "#9c179e"
            ],
            [
             0.4444444444444444,
             "#bd3786"
            ],
            [
             0.5555555555555556,
             "#d8576b"
            ],
            [
             0.6666666666666666,
             "#ed7953"
            ],
            [
             0.7777777777777778,
             "#fb9f3a"
            ],
            [
             0.8888888888888888,
             "#fdca26"
            ],
            [
             1,
             "#f0f921"
            ]
           ],
           "sequentialminus": [
            [
             0,
             "#0d0887"
            ],
            [
             0.1111111111111111,
             "#46039f"
            ],
            [
             0.2222222222222222,
             "#7201a8"
            ],
            [
             0.3333333333333333,
             "#9c179e"
            ],
            [
             0.4444444444444444,
             "#bd3786"
            ],
            [
             0.5555555555555556,
             "#d8576b"
            ],
            [
             0.6666666666666666,
             "#ed7953"
            ],
            [
             0.7777777777777778,
             "#fb9f3a"
            ],
            [
             0.8888888888888888,
             "#fdca26"
            ],
            [
             1,
             "#f0f921"
            ]
           ]
          },
          "colorway": [
           "#636efa",
           "#EF553B",
           "#00cc96",
           "#ab63fa",
           "#FFA15A",
           "#19d3f3",
           "#FF6692",
           "#B6E880",
           "#FF97FF",
           "#FECB52"
          ],
          "font": {
           "color": "#2a3f5f"
          },
          "geo": {
           "bgcolor": "white",
           "lakecolor": "white",
           "landcolor": "#E5ECF6",
           "showlakes": true,
           "showland": true,
           "subunitcolor": "white"
          },
          "hoverlabel": {
           "align": "left"
          },
          "hovermode": "closest",
          "mapbox": {
           "style": "light"
          },
          "paper_bgcolor": "white",
          "plot_bgcolor": "#E5ECF6",
          "polar": {
           "angularaxis": {
            "gridcolor": "white",
            "linecolor": "white",
            "ticks": ""
           },
           "bgcolor": "#E5ECF6",
           "radialaxis": {
            "gridcolor": "white",
            "linecolor": "white",
            "ticks": ""
           }
          },
          "scene": {
           "xaxis": {
            "backgroundcolor": "#E5ECF6",
            "gridcolor": "white",
            "gridwidth": 2,
            "linecolor": "white",
            "showbackground": true,
            "ticks": "",
            "zerolinecolor": "white"
           },
           "yaxis": {
            "backgroundcolor": "#E5ECF6",
            "gridcolor": "white",
            "gridwidth": 2,
            "linecolor": "white",
            "showbackground": true,
            "ticks": "",
            "zerolinecolor": "white"
           },
           "zaxis": {
            "backgroundcolor": "#E5ECF6",
            "gridcolor": "white",
            "gridwidth": 2,
            "linecolor": "white",
            "showbackground": true,
            "ticks": "",
            "zerolinecolor": "white"
           }
          },
          "shapedefaults": {
           "line": {
            "color": "#2a3f5f"
           }
          },
          "ternary": {
           "aaxis": {
            "gridcolor": "white",
            "linecolor": "white",
            "ticks": ""
           },
           "baxis": {
            "gridcolor": "white",
            "linecolor": "white",
            "ticks": ""
           },
           "bgcolor": "#E5ECF6",
           "caxis": {
            "gridcolor": "white",
            "linecolor": "white",
            "ticks": ""
           }
          },
          "title": {
           "x": 0.05
          },
          "xaxis": {
           "automargin": true,
           "gridcolor": "white",
           "linecolor": "white",
           "ticks": "",
           "title": {
            "standoff": 15
           },
           "zerolinecolor": "white",
           "zerolinewidth": 2
          },
          "yaxis": {
           "automargin": true,
           "gridcolor": "white",
           "linecolor": "white",
           "ticks": "",
           "title": {
            "standoff": 15
           },
           "zerolinecolor": "white",
           "zerolinewidth": 2
          }
         }
        },
        "title": {
         "text": "Quantity of Energy Dispatched over Time Steps"
        },
        "xaxis": {
         "title": {
          "text": "Time Step"
         }
        },
        "yaxis": {
         "title": {
          "text": "Q (kwh)"
         }
        }
       }
      }
     },
     "metadata": {},
     "output_type": "display_data"
    }
   ],
   "source": [
    "import plotly.graph_objs as go\n",
    "\n",
    "fig = go.Figure()\n",
    "fig.add_trace(go.Scatter(y=q_d, mode='lines', name='q_d'))\n",
    "fig.add_trace(go.Scatter(y=q_b, mode='lines', name='q_b'))\n",
    "fig.add_trace(go.Scatter(y=q_s, mode='lines', name='q_s'))\n",
    "fig.add_trace(go.Scatter(y=q_u, mode='lines', name='q_u'))\n",
    "fig.add_trace(go.Scatter(y=C, mode='lines', name='C'))\n",
    "fig.add_trace(go.Scatter(y=s_t, mode='lines', name='s_t'))\n",
    "fig.update_layout(\n",
    "    title='Quantity of Energy Dispatched over Time Steps',\n",
    "    xaxis_title='Time Step',\n",
    "    yaxis_title='Q (kwh)'\n",
    ")\n",
    "fig.show()\n"
   ]
  },
  {
   "cell_type": "code",
   "execution_count": 47,
   "id": "66538e81",
   "metadata": {},
   "outputs": [
    {
     "ename": "NameError",
     "evalue": "name 'compute_price' is not defined",
     "output_type": "error",
     "traceback": [
      "\u001b[0;31m---------------------------------------------------------------------------\u001b[0m",
      "\u001b[0;31mNameError\u001b[0m                                 Traceback (most recent call last)",
      "Cell \u001b[0;32mIn[47], line 19\u001b[0m\n\u001b[1;32m     17\u001b[0m q_s \u001b[38;5;241m=\u001b[39m \u001b[38;5;28mmin\u001b[39m(s, \u001b[38;5;241m1.0\u001b[39m)\n\u001b[1;32m     18\u001b[0m q_u \u001b[38;5;241m=\u001b[39m \u001b[38;5;28mmax\u001b[39m(\u001b[38;5;241m0\u001b[39m, \u001b[38;5;241m1.0\u001b[39m \u001b[38;5;241m-\u001b[39m q_s \u001b[38;5;241m-\u001b[39m q_b)\n\u001b[0;32m---> 19\u001b[0m p \u001b[38;5;241m=\u001b[39m compute_price(q_s, q_b, q_u)  \u001b[38;5;66;03m# based on equilibrium, or trial value\u001b[39;00m\n\u001b[1;32m     20\u001b[0m inst_welfare \u001b[38;5;241m=\u001b[39m (v_d \u001b[38;5;241m-\u001b[39m p)\u001b[38;5;241m*\u001b[39m\u001b[38;5;241m1.0\u001b[39m \u001b[38;5;241m+\u001b[39m p\u001b[38;5;241m*\u001b[39mq_s \u001b[38;5;241m+\u001b[39m p\u001b[38;5;241m*\u001b[39mq_b \u001b[38;5;241m+\u001b[39m (p \u001b[38;5;241m-\u001b[39m c_u)\u001b[38;5;241m*\u001b[39mq_u\n\u001b[1;32m     21\u001b[0m C_next \u001b[38;5;241m=\u001b[39m C \u001b[38;5;241m-\u001b[39m q_b\n",
      "\u001b[0;31mNameError\u001b[0m: name 'compute_price' is not defined"
     ]
    }
   ],
   "source": [
    "import numpy as np\n",
    "\n",
    "T = 24\n",
    "beta = 1.0  # no discounting, or use beta < 1\n",
    "C_grid = np.linspace(0, 5, 50)\n",
    "s_grid = np.linspace(0.2, 0.8, 5)  # or treat as exogenous\n",
    "\n",
    "V = np.zeros((len(C_grid), T+1))  # value function V(C, t)\n",
    "\n",
    "# Backward iteration\n",
    "for t in reversed(range(T)):\n",
    "    for i, C in enumerate(C_grid):\n",
    "        for s in s_grid:\n",
    "            best_value = -np.inf\n",
    "            for q_b in np.linspace(-1, 1, 20):  # battery actions\n",
    "                if 0 <= C - q_b <= C_max:\n",
    "                    q_s = min(s, 1.0)\n",
    "                    q_u = max(0, 1.0 - q_s - q_b)\n",
    "                    p = compute_price(q_s, q_b, q_u)  # based on equilibrium, or trial value\n",
    "                    inst_welfare = (v_d - p)*1.0 + p*q_s + p*q_b + (p - c_u)*q_u\n",
    "                    C_next = C - q_b\n",
    "                    i_next = np.argmin(np.abs(C_grid - C_next))\n",
    "                    value = inst_welfare + beta * V[i_next, t+1]\n",
    "                    best_value = max(best_value, value)\n",
    "            V[i, t] = best_value\n",
    "\n"
   ]
  },
  {
   "cell_type": "markdown",
   "id": "1c37c032",
   "metadata": {},
   "source": []
  },
  {
   "cell_type": "markdown",
   "id": "54afcd7d",
   "metadata": {},
   "source": [
    "## 24-Period AMM Model (Daily)\n",
    "\n",
    "The goal here is to figure out, or get a sense of where should the liquidity provider   \n",
    "add liquidity so that they don't lose money. Once that can be figured out, the problem might be more straightforward   \n",
    "  \n",
    "We are assuming a simple timestep of 1 hour for now (remember this is arbitrary, everything can scaled down to 5 mins be dividing by 12)"
   ]
  },
  {
   "cell_type": "code",
   "execution_count": null,
   "id": "5ba635c9",
   "metadata": {},
   "outputs": [],
   "source": [
    "class Demand: \n",
    "    def __init__(self, v_d, q_d, AMM=None, verbose=False): \n",
    "        # state variables \n",
    "        self.v_d = v_d # per kwh reservation price \n",
    "        self.d = q_d # kwh period demand in the current period\n",
    "        self.remaining_demand = q_d # tracks how much demand has been bought and sold\n",
    "\n",
    "        # welfare \n",
    "        self.profit = 0 \n",
    "        self.sw_arr = []\n",
    "\n",
    "        # AMM Instance \n",
    "        self.AMM = AMM # NOTE: return here\n",
    "\n",
    "        # txs request \n",
    "        self.txs_request = None \n",
    "\n",
    "        # debugging\n",
    "        self.verbose = verbose\n",
    "\n",
    "        print(f\"[{self.agent_type}][INIT] v_d={v_d}, q_d={q_d}, AMM={AMM}, verbose={verbose}\")\n",
    "\n",
    "    def update_profit(self, p, q): \n",
    "        utils = self.util_func(p, q)\n",
    "        self.profit += utils\n",
    "        self.sw_arr.append(utils)\n",
    "        print(f\"[{self.agent_type}][update_profit] Updated profit by {utils}, total profit now {self.profit}\")\n",
    "        if self.verbose:\n",
    "            print(f\"[{self.agent_type}][update_profit][VERBOSE] p={p}, q={q}, utils={utils}, sw_arr={self.sw_arr}\")\n",
    "\n",
    "    def util_func(self, p, q):\n",
    "        result = (self.v_d - p) * q\n",
    "        if self.verbose:\n",
    "            print(f\"[{self.agent_type}][util_func][VERBOSE] v_d={self.v_d}, p={p}, q={q}, result={result}\")\n",
    "        return result\n",
    "    \n",
    "    def make_decision(self, E, M):\n",
    "        print(f\"[{self.agent_type}][make_decision] Called with E={E}, M={M}\")\n",
    "        q_d = self.remaining_demand # tracks the amount of demand not purchased\n",
    "        print(f\"[{self.agent_type}][make_decision] Remaining demand: {q_d}\")\n",
    "\n",
    "        if round(q_d, 12) > 0: # if there is positive demand remaining\n",
    "            exp_total_amm_price = self.calc_price(E, M, q_d) \n",
    "            print(f\"[{self.agent_type}][make_decision] Expected AMM price for {q_d}: {exp_total_amm_price}\")\n",
    "\n",
    "            if exp_total_amm_price > (self.v_d * q_d): \n",
    "                e_req = E - (M / self.v_d) # NOTE: could be wrong and needs to be tested \n",
    "                print(f\"[{self.agent_type}][make_decision] AMM price too high, calculating e_req: {e_req}\")\n",
    "\n",
    "                if e_req <= 0:\n",
    "                    print(\"[{self.agent_type}][make_decision] Not enough liquidity to buy. Skipping trade.\")\n",
    "                    return None\n",
    "\n",
    "                exp_total_amm_price = self.calc_price(E, M, e_req)\n",
    "                print(f\"[{self.agent_type}][make_decision] New expected AMM price for e_req={e_req}: {exp_total_amm_price}\")\n",
    "\n",
    "                txs_request = {\n",
    "                    \"decision\": \"buy_tokens_max_price\",\n",
    "                    \"token\": \"x\",\n",
    "                    \"quantity\": e_req,\n",
    "                    \"max_price\": self.v_d * e_req\n",
    "                }\n",
    "                if self.verbose:\n",
    "                    print(f\"[{self.agent_type}][make_decision][VERBOSE] txs_request={txs_request}\")\n",
    "            else: \n",
    "                e_req = q_d\n",
    "                txs_request = {\n",
    "                    \"decision\": \"buy_tokens_max_price\",\n",
    "                    \"token\": \"x\",\n",
    "                    \"quantity\": q_d,\n",
    "                    \"max_price\": self.v_d * e_req\n",
    "                }\n",
    "                if self.verbose:\n",
    "                    print(f\"[{self.agent_type}][make_decision][VERBOSE] txs_request={txs_request}\")\n",
    "\n",
    "            print(f\"[{self.agent_type}][make_decision] Final txs_request: {txs_request}\")\n",
    "            self.txs_request = txs_request\n",
    "            return txs_request\n",
    "\n",
    "        else: \n",
    "            print(\"[{self.agent_type}][make_decision] No remaining demand.\")\n",
    "            return \n",
    "              \n",
    "\n",
    "    def calc_price(self, E, M, e): \n",
    "        if self.verbose:\n",
    "            print(f\"[{self.agent_type}][calc_price][VERBOSE] E={E}, M={M}, e={e}\")\n",
    "        if abs(E - e) < 1e-12:\n",
    "            print(\"[{self.agent_type}][calc_price] Requesting entire pool, returning inf cost.\")\n",
    "            return float(\"inf\")  # requesting entire pool => infinite cost\n",
    "        k = E * M \n",
    "        m = k / (E - e) - M\n",
    "        if self.verbose:\n",
    "            print(f\"[{self.agent_type}][calc_price][VERBOSE] k={k}, m={m}\")\n",
    "        return m\n",
    "\n",
    "    def transaction_result(self, txs_result): \n",
    "        print(f\"[{self.agent_type}][transaction_result] txs_result: {txs_result}\")\n",
    "        e_requested = self.txs_request[\"quantity\"]\n",
    "        m_required = txs_result[\"quantity_needed\"]\n",
    "        avg_price = m_required / e_requested\n",
    "\n",
    "        print(f\"[{self.agent_type}][transaction_result] avg_price = {avg_price}\")\n",
    "\n",
    "        self.update_profit(avg_price, e_requested)\n",
    "        self.remaining_demand -= e_requested\n",
    "        print(f\"[{self.agent_type}][transaction_result] Updated remaining_demand: {self.remaining_demand}\")\n",
    "\n",
    "\n",
    "\n",
    "class Supply: \n",
    "    def __init__(self, c, q_sell, AMM, verbose=False): \n",
    "        # state variables \n",
    "        self.c = c # per kwh reservation price \n",
    "        self.q_sell = q_sell # kwh period demand in the current period\n",
    "        self.remaining_supply = q_sell # tracks how much demand has been bought and sold\n",
    "\n",
    "        # welfare \n",
    "        self.profit = 0 \n",
    "        self.sw_arr = []\n",
    "\n",
    "        # AMM Instance \n",
    "        self.AMM = AMM # NOTE: return here\n",
    "\n",
    "        # txs request \n",
    "        self.txs_request = None \n",
    "\n",
    "        # debugging\n",
    "        self.verbose = verbose\n",
    "\n",
    "        print(f\"[{self.agent_type}][INIT] c={c}, q_sell={q_sell}, AMM={AMM}, verbose={verbose}\")\n",
    "\n",
    "    def update_profit(self, p, q): \n",
    "        utils = self.util_func(p, q)\n",
    "        self.profit += utils\n",
    "        self.sw_arr.append(utils)\n",
    "        print(f\"[{self.agent_type}][update_profit] Updated profit by {utils}, total profit now {self.profit}\")\n",
    "        if self.verbose:\n",
    "            print(f\"[{self.agent_type}][update_profit][VERBOSE] p={p}, q={q}, utils={utils}, sw_arr={self.sw_arr}\")\n",
    "\n",
    "    def make_decision(self, E, M):\n",
    "        print(f\"[{self.agent_type}][make_decision] Called with E={E}, M={M}\")\n",
    "        q_s = self.remaining_supply # tracks the amount of supply not purchased\n",
    "        print(f\"[{self.agent_type}][make_decision] Remaining supply: {q_s}\")\n",
    "\n",
    "        if round(q_s, 12) > 0: # if there is positive supply remaining\n",
    "            exp_total_amm_price = self.calc_price(E, M, q_s)\n",
    "            print(f\"[{self.agent_type}][make_decision] Expected AMM price for {q_s}: {exp_total_amm_price}\")\n",
    "\n",
    "            if exp_total_amm_price < (self.c * q_s): \n",
    "                e_sell = (M / self.c) - E # NOTE: could be wrong and needs to be tested \n",
    "                print(f\"[{self.agent_type}][make_decision] AMM price too low, calculating e_sell: {e_sell}\")\n",
    "                exp_total_amm_price = self.calc_price(E, M, e_sell)\n",
    "\n",
    "                if e_sell < 0:\n",
    "                    print(\"[{self.agent_type}][make_decision] No profitable trades remaining.\")\n",
    "                    return # no profitable trades remaining\n",
    "\n",
    "                txs_request = {\n",
    "                    \"decision\": \"sell_tokens_min_price\",\n",
    "                    \"token\": \"x\",\n",
    "                    \"quantity\": e_sell,\n",
    "                    \"min_price\": self.c * e_sell\n",
    "                }\n",
    "                if self.verbose:\n",
    "                    print(f\"[{self.agent_type}][make_decision][VERBOSE] txs_request={txs_request}\")\n",
    "            else: \n",
    "                e_sell = q_s\n",
    "                txs_request = {\n",
    "                    \"decision\": \"sell_tokens_min_price\",\n",
    "                    \"token\": \"x\",\n",
    "                    \"quantity\": e_sell,\n",
    "                    \"min_price\": self.c * e_sell\n",
    "                }\n",
    "                if self.verbose:\n",
    "                    print(f\"[{self.agent_type}][make_decision][VERBOSE] txs_request={txs_request}\")\n",
    "\n",
    "            print(f\"[{self.agent_type}][make_decision] Final txs_request: {txs_request}\")\n",
    "            self.txs_request = txs_request\n",
    "            return txs_request\n",
    "\n",
    "        else: \n",
    "            print(\"[{self.agent_type}][make_decision] No remaining supply.\")\n",
    "            return \n",
    "        \n",
    "    def transaction_result(self, txs_result): \n",
    "        print(f\"[{self.agent_type}][transaction_result] txs_result: {txs_result}\")\n",
    "        e_sell = self.txs_request[\"quantity\"]\n",
    "        m_returned = txs_result[\"quantity_returned\"]\n",
    "        avg_price = m_returned / e_sell\n",
    "\n",
    "        print(f\"[{self.agent_type}][transaction_result] avg_price = {avg_price}, self.c = {self.c}\")\n",
    "\n",
    "        self.update_profit(avg_price, e_sell)\n",
    "        self.remaining_supply -= e_sell\n",
    "        print(f\"[{self.agent_type}][transaction_result] Updated remaining_supply: {self.remaining_supply}\")\n",
    "\n",
    "    def util_func(self, p, q):\n",
    "        result = (p - self.c) * q\n",
    "        if self.verbose:\n",
    "            print(f\"[{self.agent_type}][util_func][VERBOSE] p={p}, c={self.c}, q={q}, result={result}\")\n",
    "        return result\n",
    "    \n",
    "    def calc_price(self, E, M, e): \n",
    "        if self.verbose:\n",
    "            print(f\"[{self.agent_type}][calc_price][VERBOSE] E={E}, M={M}, e={e}\")\n",
    "        k = E * M \n",
    "        m = M - k / (E + e)\n",
    "        if self.verbose:\n",
    "            print(f\"[{self.agent_type}][calc_price][VERBOSE] k={k}, m={m}\")\n",
    "        return m\n"
   ]
  },
  {
   "cell_type": "markdown",
   "id": "f6d8e662",
   "metadata": {},
   "source": [
    "### Uniswap Class "
   ]
  },
  {
   "cell_type": "code",
   "execution_count": null,
   "id": "e262faaf",
   "metadata": {},
   "outputs": [],
   "source": [
    "import numpy as np \n",
    "\n",
    "class AMM(object):\n",
    "    \"\"\"\n",
    "    In the simple model below, \n",
    "    x tokens represent Energy tokens or E_tokens\n",
    "    y tokens represent Money tokens or M_tokens \n",
    "    \"\"\"\n",
    "    def __init__(self,transaction_fee = 0, ratio_error_tol = 1e-7, debug=False):\n",
    "        \n",
    "        self.reserve_x = 0\n",
    "        self.reserve_y = 0\n",
    "        \n",
    "        self.constant_product = 0\n",
    "        self.governance_tokens = 0\n",
    "        self.lp_tokens = 0 \n",
    "        \n",
    "        self.transaction_fee = transaction_fee\n",
    "        \n",
    "        self.debug = debug\n",
    "        self.ratio_error_tol = ratio_error_tol\n",
    "        \n",
    "    def setup_pool(self, quantity_x=0, quantity_y=0):\n",
    "        \"\"\"\n",
    "        Establishes a liquidity pool with constant_product = quantity_x * quantity_y.\n",
    "        Returns liqudity tokens to the agent who sets it up. \n",
    "        See 1.A \"Establish Liquidity\" above for explanation of math. \n",
    "        \"\"\"\n",
    "        self.reserve_x  = quantity_x\n",
    "        self.reserve_y = quantity_y\n",
    "        \n",
    "        self.constant_product = self.reserve_x*self.reserve_y\n",
    "        \n",
    "        lp_minted  = np.sqrt(self.constant_product)\n",
    "        self.lp_tokens = lp_minted\n",
    "        \n",
    "        return lp_minted \n",
    "        \n",
    "    def request_info(self):\n",
    "        \"\"\"\n",
    "        Simple method that informs an agent of the current reserve amounts of \n",
    "        X and Y in the liquidity pool. \n",
    "        See 1.B \"Get Current Amount of Reserves\" above for explanation of math. \n",
    "        \"\"\"\n",
    "        info_dict ={\"reserve_x\": self.reserve_x, \"reserve_y\": self.reserve_y,\n",
    "                       \"transaction_fee\": self.transaction_fee}\n",
    "        return info_dict\n",
    "    \n",
    "    def provide_liquidity(self,quantity_x, quantity_y): \n",
    "        \"\"\"\n",
    "        Allows agents to add tokens X and Y to the liquidity pool. \n",
    "        Agents must submit X and Y in the exact ratio of the current reserves. \n",
    "        Otherwise, method returns an error. \n",
    "        If successful, agents receive liquidity tokens in response. \n",
    "        See 1.C \"Add Liquidity\" for an explanation of math. \n",
    "        \"\"\"\n",
    "        ratio_submitted = quantity_x/quantity_y \n",
    "        current_reserve_ratio = self.reserve_x/self.reserve_y\n",
    "        \n",
    "        \n",
    "        if self.debug:\n",
    "            print(f\"-\"*10, f\"PROVIDE LIQUIDITY \",f\"-\"*10)\n",
    "            print(f\"-\"*10, f\"PRIOR LIQUIDITY \",f\"-\"*10)\n",
    "            print(f\"Reserve X:{self.reserve_x}\\n\"+\n",
    "                 f\"Reserve Y:{self.reserve_y}\\n\" +\n",
    "                 f\"Total pool tokens :{self.lp_tokens}\")\n",
    "        \n",
    "        \n",
    "        if abs(ratio_submitted - current_reserve_ratio) < self.ratio_error_tol:\n",
    "            \n",
    "            lp_minted = (quantity_x/self.reserve_x)*self.lp_tokens\n",
    "            \n",
    "            self.lp_tokens = self.lp_tokens + lp_minted \n",
    "            self.reserve_x = self.reserve_x + quantity_x \n",
    "            self.reserve_y = self.reserve_y + quantity_y \n",
    "            \n",
    "            if self.debug:\n",
    "                print(f\"-\"*10, f\"AFTER LIQUIDITY INSERTED\",f\"-\"*10)\n",
    "                print(f\"Reserve X:{self.reserve_x}\\n\"+\n",
    "                     f\"Reserve Y:{self.reserve_y}\\n\" +\n",
    "                     f\"Total pool tokens :{self.lp_tokens}\")\n",
    "\n",
    "            return lp_minted\n",
    "        else: \n",
    "            print(f\"ERROR: incorrect ratio of quantity x and y submitted\")\n",
    "    \n",
    "    def withdraw_liquidity(self, lp_burned):\n",
    "        \"\"\"\n",
    "        Allows agents to 'burn' liquidity tokens and receive tokens X and Y in return. \n",
    "        See 1.D \"Remove Liquidity\" for an explanation of math. \n",
    "        \"\"\"\n",
    "        total_lp_tokens = self.lp_tokens\n",
    "        reserve_x = self.reserve_x\n",
    "        reserve_y = self.reserve_y \n",
    "        \n",
    "        if self.debug:\n",
    "            print(f\"-\"*10, f\"WITHDRAW LIQUIDITY \",f\"-\"*10)\n",
    "            print(f\"-\"*10, f\"PRIOR LIQUIDITY WITHDRAWN \",f\"-\"*10)\n",
    "            print(f\"Reserve X:{self.reserve_x}\\n\"+\n",
    "                 f\"Reserve Y:{self.reserve_y}\\n\" +\n",
    "                 f\"Total pool tokens :{self.lp_tokens}\")\n",
    "\n",
    "        #calculate tokens to be returned \n",
    "        quantity_x = (lp_burned/total_lp_tokens)*reserve_x\n",
    "        quantity_y = (lp_burned/total_lp_tokens)*reserve_y\n",
    "        \n",
    "        #update state \n",
    "        self.reserve_x = self.reserve_x - quantity_x\n",
    "        self.reserve_y = self.reserve_y - quantity_y \n",
    "        self.lp_tokens = self.lp_tokens - lp_burned\n",
    "        \n",
    "        if self.debug:\n",
    "            print(f\"-\"*10, f\"AFTER LIQUIDITY WITHDRAWN\",f\"-\"*10)\n",
    "            print(f\"Reserve X:{self.reserve_x}\\n\"+\n",
    "                  f\"Reserve Y:{self.reserve_y}\\n\" +\n",
    "                  f\"Total pool tokens :{self.lp_tokens}\")\n",
    "\n",
    "        return_amt_dict = {\"quantity_x\": quantity_x, \"quantity_y\": quantity_y}\n",
    "        \n",
    "        return return_amt_dict\n",
    "    \n",
    "    def request_price(self, transaction_type = \"buy\",token = None, quantity = 1):\n",
    "        \"\"\"\n",
    "        This method provides you with a price you would have to pay if you want \n",
    "        to buy a certain quantity of tokens. However, if you want to sell a certain\n",
    "        quantity of tokens it offers you a price the institution would pay you. \n",
    "        \n",
    "        Details about this math can be found in the introduction of section 6, \n",
    "        plus in 2.B \"Buy Tokens\" and 2.C \"Sell Tokens.\"\n",
    "        \"\"\"\n",
    "        \n",
    "        if transaction_type == \"buy\" : \n",
    "            if token == 'x': \n",
    "                \n",
    "                gamma = 1 - self.transaction_fee \n",
    "                delta_x = quantity\n",
    "                new_reserve_x = self.reserve_x - delta_x\n",
    "                reserve_y = self.reserve_y\n",
    "\n",
    "                k = self.constant_product\n",
    "                \n",
    "\n",
    "                price = (k/(new_reserve_x) - reserve_y)/gamma\n",
    "\n",
    "                return price\n",
    "\n",
    "            elif token == 'y':\n",
    "                \n",
    "                gamma = 1 - self.transaction_fee \n",
    "                delta_y = quantity\n",
    "                new_reserve_y = self.reserve_y - delta_y\n",
    "                reserve_x = self.reserve_x\n",
    "\n",
    "                k = self.constant_product\n",
    "                \n",
    "\n",
    "                price = (k/(new_reserve_y) - reserve_x)/gamma\n",
    "\n",
    "                return price \n",
    "\n",
    "            else :\n",
    "                print(f\"ERROR, token = {token} is not traded in this pool\")\n",
    "        \n",
    "        elif transaction_type == \"sell\":\n",
    "            if token == 'x':\n",
    "                \n",
    "                gamma = 1 - self.transaction_fee\n",
    "                delta_x = quantity \n",
    "                new_reserve_x = self.reserve_x + delta_x*gamma\n",
    "                reserve_y = self.reserve_y\n",
    "\n",
    "                k = self.constant_product\n",
    "                \n",
    "                price = reserve_y - k/(new_reserve_x) \n",
    "                \n",
    "                return price\n",
    "            \n",
    "            elif token == 'y': \n",
    "                \n",
    "                gamma = 1 - self.transaction_fee\n",
    "                delta_y = quantity \n",
    "                new_reserve_y = self.reserve_y + delta_y*gamma\n",
    "                reserve_x = self.reserve_x\n",
    "\n",
    "                k = self.constant_product\n",
    "                \n",
    "                price = reserve_x - k/(new_reserve_y) \n",
    "                \n",
    "                return price\n",
    "            else:\n",
    "                print(f\"ERROR, token = {token} is not traded in this pool\")\n",
    "        else:\n",
    "            print(f\"ERROR, wrong transaction type requested, transaction_type = {transaction_type}\")\n",
    "\n",
    "     \n",
    "    def sell_tokens(self, token = None, quantity = 0): \n",
    "        \"\"\"\n",
    "        Allows agents to sell a fixed amount of token X or Y, and \n",
    "        receive a quantity of the opposite token in exchange. \n",
    "        Then, the institution updates its reserves in the liquidity pool accordingly. \n",
    "        See Section 2.C above, \"Sell Tokens,\" for a description.\n",
    "        \"\"\"\n",
    "        if token == 'x': \n",
    "            \n",
    "            x_offered = quantity\n",
    "            y_returned = self.request_price(\"sell\",token,x_offered)\n",
    "            \n",
    "            if self.debug:\n",
    "                print(f\"-\"*10, f\"SELL TOKEN = {token}\", f\"-\"*10)\n",
    "                print(f\" \"*10, f\"BEFORE TRADE\", f\" \"*10)\n",
    "                print(f\"Reserve X:{self.reserve_x}\\n\"+\n",
    "                      f\"Reserve Y:{self.reserve_y}\\n\" +\n",
    "                      f\"k : {self.constant_product}\\n\")\n",
    "\n",
    "            self.reserve_x = self.reserve_x + x_offered\n",
    "            self.reserve_y = self.reserve_y - y_returned\n",
    "            \n",
    "            self.constant_product = self.reserve_x*self.reserve_y\n",
    "            \n",
    "            if self.debug:\n",
    "                print(f\" \"*10, f\"AFTER TRADE\", f\" \"*10)\n",
    "                print(f\"Reserve X:{self.reserve_x}\\n\"+\n",
    "                      f\"Reserve Y:{self.reserve_y}\\n\" +\n",
    "                      f\"k : {self.constant_product}\\n\")\n",
    "\n",
    "            returned_dict = {\"token_returned\": \"y\", \"quantity_returned\": y_returned}\n",
    "            \n",
    "            return returned_dict\n",
    "        \n",
    "        elif token == 'y': \n",
    "            \n",
    "            y_offered = quantity\n",
    "            x_returned = self.request_price(\"sell\",token,y_offered)\n",
    "            \n",
    "            if self.debug:\n",
    "                print(f\"-\"*10, f\"SELL TOKEN = {token}\", f\"-\"*10)\n",
    "                print(f\" \"*10, f\"BEFORE TRADE\", f\" \"*10)\n",
    "                print(f\"Reserve X:{self.reserve_x}\\n\"+\n",
    "                      f\"Reserve Y:{self.reserve_y}\\n\" +\n",
    "                      f\"k : {self.constant_product}\\n\")\n",
    "\n",
    "            self.reserve_x = self.reserve_x - x_returned\n",
    "            self.reserve_y = self.reserve_y + y_offered            \n",
    "            self.constant_product = self.reserve_x*self.reserve_y\n",
    "            \n",
    "            if self.debug:\n",
    "                print(f\" \"*10, f\"AFTER TRADE\", f\" \"*10)\n",
    "                print(f\"Reserve X:{self.reserve_x}\\n\"+\n",
    "                      f\"Reserve Y:{self.reserve_y}\\n\" +\n",
    "                      f\"k : {self.constant_product}\\n\")\n",
    "\n",
    "            returned_dict = {\"token_returned\": \"x\", \"quantity_returned\": x_returned}\n",
    "            \n",
    "            \n",
    "            return returned_dict\n",
    "        else:\n",
    "            print(f\"ERROR, token = {token} is not traded in this pool\")\n",
    "    \n",
    "    def sell_tokens_min_price(self, token = None, quantity = 0, min_price  = 0 ): \n",
    "        \"\"\"\n",
    "        Allows agents to sell a fixed amount of token X or Y, and \n",
    "        receive a quantity of the opposite token in exchange.\n",
    "        The Agent is also allowed to specify a min price and the trade only executese if the\n",
    "        min price condition is met. \n",
    "        Then, the institution updates its reserves in the liquidity pool accordingly. \n",
    "        See Section 2.C above, \"Sell Tokens,\" for a description.\n",
    "        \"\"\"\n",
    "        if token == 'x': \n",
    "            \n",
    "            x_offered = quantity\n",
    "            y_returned = self.request_price(\"sell\",token,x_offered)\n",
    "            \n",
    "            if y_returned >= min_price: \n",
    "                if self.debug:\n",
    "                    print(f\"-\"*10, f\"SELL TOKEN = {token}\", f\"-\"*10)\n",
    "                    print(f\" \"*10, f\"BEFORE TRADE\", f\" \"*10)\n",
    "                    print(f\"Reserve X:{self.reserve_x}\\n\"+\n",
    "                          f\"Reserve Y:{self.reserve_y}\\n\" +\n",
    "                          f\"k : {self.constant_product}\\n\")\n",
    "\n",
    "                self.reserve_x = self.reserve_x + x_offered\n",
    "                self.reserve_y = self.reserve_y - y_returned\n",
    "\n",
    "                self.constant_product = self.reserve_x*self.reserve_y\n",
    "\n",
    "                if self.debug:\n",
    "                    print(f\" \"*10, f\"AFTER TRADE\", f\" \"*10)\n",
    "                    print(f\"Reserve X:{self.reserve_x}\\n\"+\n",
    "                          f\"Reserve Y:{self.reserve_y}\\n\" +\n",
    "                          f\"k : {self.constant_product}\\n\")\n",
    "\n",
    "                returned_dict = {\"token_returned\": \"y\", \"quantity_returned\": y_returned}\n",
    "\n",
    "                return returned_dict\n",
    "            \n",
    "            else : \n",
    "                \n",
    "                print(f\"-\"*10, f\"SELL TOKEN = {token}, FAILED\", f\"-\"*10)\n",
    "                print(f\"y_returned  < min_price \")\n",
    "                print(f\"y_returned = {y_returned}\" \n",
    "                      f\"min_price = {min_price}\")\n",
    "                return {\"token_returned\": \"y\" , \"quantity_returned\": \"NoTrade\"}\n",
    "                \n",
    "                \n",
    "        \n",
    "        elif token == 'y': \n",
    "    \n",
    "            y_offered = quantity\n",
    "            x_returned = self.request_price(\"sell\",token,y_offered)\n",
    "            \n",
    "            if y_returned >= min_price: \n",
    "            \n",
    "                if self.debug:\n",
    "                    print(f\"-\"*10, f\"SELL TOKEN = {token}\", f\"-\"*10)\n",
    "                    print(f\" \"*10, f\"BEFORE TRADE\", f\" \"*10)\n",
    "                    print(f\"Reserve X:{self.reserve_x}\\n\"+\n",
    "                          f\"Reserve Y:{self.reserve_y}\\n\" +\n",
    "                          f\"k : {self.constant_product}\\n\")\n",
    "\n",
    "                self.reserve_x = self.reserve_x - x_returned\n",
    "                self.reserve_y = self.reserve_y + y_offered            \n",
    "                self.constant_product = self.reserve_x*self.reserve_y\n",
    "\n",
    "                if self.debug:\n",
    "                    print(f\" \"*10, f\"AFTER TRADE\", f\" \"*10)\n",
    "                    print(f\"Reserve X:{self.reserve_x}\\n\"+\n",
    "                          f\"Reserve Y:{self.reserve_y}\\n\" +\n",
    "                          f\"k : {self.constant_product}\\n\")\n",
    "\n",
    "                returned_dict = {\"token_returned\": \"x\", \"quantity_returned\": x_returned}\n",
    "\n",
    "\n",
    "                return returned_dict\n",
    "            else :\n",
    "                print(f\"-\"*10, f\"SELL TOKEN = {token}, FAILED\", f\"-\"*10)\n",
    "                print(f\"x_returned  < min_price \")\n",
    "                print(f\"x_returned = {x_returned}\" \n",
    "                      f\"min_price = {min_price}\")\n",
    "                return {\"token_returned\": \"x\" , \"quantity_returned\": \"NoTrade\"}\n",
    "                \n",
    "        else:\n",
    "            print(f\"ERROR, token = {token} is not traded in this pool\")\n",
    "        \n",
    "    def buy_tokens(self, token = None, quantity = 0):\n",
    "        \"\"\"\n",
    "        Allows agents to request a fixed amount of token X or Y to buy.\n",
    "        This method returns the price that agent will have to pay, denominated\n",
    "        in the opposite token. \n",
    "        Then, the institution updates its reserves in the liquidity pool accordingly. \n",
    "        See Section 2.C above, \"Buy Tokens,\" for a description.\n",
    "        \"\"\"\n",
    "        if token == 'x': \n",
    "            \n",
    "            x_requested = quantity\n",
    "            y_needed = self.request_price(\"buy\",token, x_requested)\n",
    "            \n",
    "            if self.debug:\n",
    "                print(f\"-\"*10, f\"BUY TOKEN = {token}\", f\"-\"*10)\n",
    "                print(f\" \"*10, f\"BEFORE TRADE\", f\" \"*10)\n",
    "                print(f\"Reserve X:{self.reserve_x}\\n\"+\n",
    "                      f\"Reserve Y:{self.reserve_y}\\n\" +\n",
    "                      f\"k : {self.constant_product}\\n\")\n",
    "\n",
    "            self.reserve_x = self.reserve_x - x_requested\n",
    "            self.reserve_y = self.reserve_y + y_needed\n",
    "                    \n",
    "            self.constant_product = self.reserve_x*self.reserve_y\n",
    "            \n",
    "            if self.debug:\n",
    "                print(f\" \"*10, f\"AFTER TRADE\", f\" \"*10)\n",
    "                print(f\"Reserve X:{self.reserve_x}\\n\"+\n",
    "                      f\"Reserve Y:{self.reserve_y}\\n\" +\n",
    "                      f\"k : {self.constant_product}\\n\")\n",
    "\n",
    "            returned_dict = {\"token_needed\": \"y\", \"quantity_needed\": y_needed}\n",
    "            \n",
    "            return returned_dict\n",
    "        \n",
    "        elif token == 'y': \n",
    "            \n",
    "            y_requested = quantity\n",
    "            x_needed = self.request_price(\"sell\",token,y_requested)\n",
    "            \n",
    "            if self.debug:\n",
    "                print(f\"-\"*10, f\"BUY TOKEN = {token}\", f\"-\"*10)\n",
    "                print(f\" \"*10, f\"BEFORE TRADE\", f\" \"*10)\n",
    "                print(f\"Reserve X:{self.reserve_x}\\n\"+\n",
    "                      f\"Reserve Y:{self.reserve_y}\\n\" +\n",
    "                      f\"k : {self.constant_product}\\n\")\n",
    "\n",
    "            self.reserve_x = self.reserve_x + x_needed\n",
    "            self.reserve_y = self.reserve_y - y_requested\n",
    "        \n",
    "            self.constant_product = self.reserve_x*self.reserve_y\n",
    "            \n",
    "            if self.debug:\n",
    "                print(f\" \"*10, f\"AFTER TRADE\", f\" \"*10)\n",
    "                print(f\"Reserve X:{self.reserve_x}\\n\"+\n",
    "                      f\"Reserve Y:{self.reserve_y}\\n\" +\n",
    "                      f\"k : {self.constant_product}\\n\")\n",
    "\n",
    "            returned_dict = {\"token_needed\": \"x\", \"quantity_needed\": x_needed}\n",
    "            \n",
    "            return returned_dict\n",
    "        \n",
    "        else:\n",
    "            print(f\"ERROR, token = {token} is not traded in this pool\")\n",
    "            \n",
    "            \n",
    "    def buy_tokens_max_price(self, token = None, quantity = 0, max_price=0 ):\n",
    "        \"\"\"\n",
    "        Allows agents to request a fixed amount of token X or Y to buy.\n",
    "        This method returns the price that agent will have to pay, denominated\n",
    "        in the opposite token. \n",
    "        The swap only proceeds if the price required is lower than a specified max_price parameter. \n",
    "        Then, the institution updates its reserves in the liquidity pool accordingly. \n",
    "        See Section 2.C above, \"Buy Tokens,\" for a description.\n",
    "        \"\"\"\n",
    "        if token == 'x': \n",
    "            \n",
    "            x_requested = quantity\n",
    "            y_needed = self.request_price(\"buy\",token, x_requested)\n",
    "            \n",
    "            if y_needed <= max_price: \n",
    "            \n",
    "                if self.debug:\n",
    "                    print(f\"-\"*10, f\"BUY TOKEN = {token}\", f\"-\"*10)\n",
    "                    print(f\" \"*10, f\"BEFORE TRADE\", f\" \"*10)\n",
    "                    print(f\"Reserve X:{self.reserve_x}\\n\"+\n",
    "                          f\"Reserve Y:{self.reserve_y}\\n\" +\n",
    "                          f\"k : {self.constant_product}\\n\")\n",
    "\n",
    "                self.reserve_x = self.reserve_x - x_requested\n",
    "                self.reserve_y = self.reserve_y + y_needed\n",
    "\n",
    "                self.constant_product = self.reserve_x*self.reserve_y\n",
    "\n",
    "                if self.debug:\n",
    "                    print(f\" \"*10, f\"AFTER TRADE\", f\" \"*10)\n",
    "                    print(f\"Reserve X:{self.reserve_x}\\n\"+\n",
    "                          f\"Reserve Y:{self.reserve_y}\\n\" +\n",
    "                          f\"k : {self.constant_product}\\n\")\n",
    "\n",
    "                returned_dict = {\"token_needed\": \"y\", \"quantity_needed\": y_needed}\n",
    "\n",
    "                return returned_dict\n",
    "            \n",
    "            else : \n",
    "                print(f\"-\"*10, f\"BUY TOKEN = {token}, FAILED\", f\"-\"*10)\n",
    "                print(f\"y_needed  > max_price \")\n",
    "                print(f\"y_needed = {y_needed}\" \n",
    "                      f\"max_price = {max_price}\")\n",
    "                return {\"token_needed\": \"y\" , \"quantity_needed\": \"NoTrade\"}\n",
    "\n",
    "        elif token == 'y': \n",
    "            \n",
    "            y_requested = quantity\n",
    "            x_needed = self.request_price(\"sell\",token,y_requested)\n",
    "            \n",
    "            if x_needed <= max_price: \n",
    "            \n",
    "                if self.debug:\n",
    "                    print(f\"-\"*10, f\"BUY TOKEN = {token}\", f\"-\"*10)\n",
    "                    print(f\" \"*10, f\"BEFORE TRADE\", f\" \"*10)\n",
    "                    print(f\"Reserve X:{self.reserve_x}\\n\"+\n",
    "                          f\"Reserve Y:{self.reserve_y}\\n\" +\n",
    "                          f\"k : {self.constant_product}\\n\")\n",
    "\n",
    "                self.reserve_x = self.reserve_x + x_needed\n",
    "                self.reserve_y = self.reserve_y - y_requested\n",
    "\n",
    "                self.constant_product = self.reserve_x*self.reserve_y\n",
    "\n",
    "                if self.debug:\n",
    "                    print(f\" \"*10, f\"AFTER TRADE\", f\" \"*10)\n",
    "                    print(f\"Reserve X:{self.reserve_x}\\n\"+\n",
    "                          f\"Reserve Y:{self.reserve_y}\\n\" +\n",
    "                          f\"k : {self.constant_product}\\n\")\n",
    "\n",
    "                returned_dict = {\"token_needed\": \"x\", \"quantity_needed\": x_needed}\n",
    "\n",
    "                return returned_dict\n",
    "            \n",
    "            else : \n",
    "                print(f\"-\"*10, f\"BUY TOKEN = {token}, FAILED\", f\"-\"*10)\n",
    "                print(f\"x_needed  > max_price \")\n",
    "                print(f\"x_needed = {x_needed}\" \n",
    "                      f\"max_price = {max_price}\")\n",
    "                return {\"token_needed\": \"x\" , \"quantity_needed\": \"NoTrade\"}\n",
    "\n",
    "        else:\n",
    "            print(f\"ERROR, token = {token} is not traded in this pool\")\n",
    "            \n",
    "    def provide_liquidity_min_amount(self,amount_x_desired,amount_y_desired, amount_x_min = 0, amount_y_min = 0):\n",
    "        \"\"\"\n",
    "        Provides utility based on certain conditions\n",
    "        \n",
    "        \"\"\"\n",
    "        if self.debug:\n",
    "            print(f\"-\"*10, f\"PROVIDE LIQUIDITY \",f\"-\"*10)\n",
    "            print(f\"-\"*10, f\"PRIOR LIQUIDITY \",f\"-\"*10)\n",
    "            print(f\"Reserve X:{self.reserve_x}\\n\"+\n",
    "                 f\"Reserve Y:{self.reserve_y}\\n\" +\n",
    "                 f\"Total pool tokens :{self.lp_tokens}\")\n",
    "            print(f\"AGENT PARAMS\")\n",
    "            print(f\"amount_x_desired = {amount_x_desired}\")\n",
    "            print(f\"amount_y_desired = {amount_y_desired}\")\n",
    "            print(f\"amount_x_min = {amount_x_min}\")\n",
    "            print(f\"amount_y_min = {amount_y_min}\")\n",
    "        \n",
    "        \n",
    "        \n",
    "        amount_y_optimal = amount_x_desired * (self.reserve_y / self.reserve_x)\n",
    "        if amount_y_optimal <= amount_y_desired: \n",
    "            if amount_y_optimal >= amount_y_min:\n",
    "                amount_x = amount_x_desired\n",
    "                amount_y = amount_y_optimal\n",
    "                \n",
    "                lp_minted = (amount_x/self.reserve_x)*self.lp_tokens\n",
    "            \n",
    "                self.lp_tokens = self.lp_tokens + lp_minted \n",
    "                self.reserve_x = self.reserve_x + amount_x\n",
    "                self.reserve_y = self.reserve_y + amount_y\n",
    "            \n",
    "                if self.debug:\n",
    "                    print(f\"-\"*10, f\"AFTER LIQUIDITY INSERTED\",f\"-\"*10)\n",
    "                    print(f\"Reserve X:{self.reserve_x}\\n\"+\n",
    "                         f\"Reserve Y:{self.reserve_y}\\n\" +\n",
    "                         f\"Total pool tokens :{self.lp_tokens}\\n\"+\n",
    "                         f\"amount_x = {amount_x}\\n\"+\n",
    "                         f\"amount_y = {amount_y}\\n\")\n",
    "\n",
    "                return lp_minted\n",
    "        \n",
    "            else: \n",
    "                print(\"Insufficient Y Amount\")\n",
    "                print(f\"amount_y_optimal < amount_y_min\")\n",
    "                print(f\"amount_y_optimal =  {amount_y_optimal}\")\n",
    "                print(f\"amount_y_min =  {amount_y_min}\")\n",
    "\n",
    "        else: \n",
    "            amount_x_optimal = amount_y_desired * (self.reserve_x / self.reserve_y)\n",
    "            if amount_x_optimal <= amount_x_desired:\n",
    "                if amount_x_optimal >= amount_x_min: \n",
    "                    amount_x = amount_x_optimal\n",
    "                    amount_y = amount_y_desired\n",
    "                    \n",
    "                    lp_minted = (amount_x/self.reserve_x)*self.lp_tokens\n",
    "            \n",
    "                    self.lp_tokens = self.lp_tokens + lp_minted \n",
    "                    self.reserve_x = self.reserve_x + amount_x\n",
    "                    self.reserve_y = self.reserve_y + amount_y\n",
    "\n",
    "                    if self.debug:\n",
    "                        print(f\"-\"*10, f\"AFTER LIQUIDITY INSERTED\",f\"-\"*10)\n",
    "                        print(f\"amount_x = \")\n",
    "                        print(f\"Reserve X:{self.reserve_x}\\n\"+\n",
    "                             f\"Reserve Y:{self.reserve_y}\\n\" +\n",
    "                             f\"Total pool tokens :{self.lp_tokens}\\n\"+\n",
    "                             f\"amount_x = {amount_x}\\n\"+\n",
    "                             f\"amount_y = {amount_y}\\n\")\n",
    "\n",
    "                    return lp_minted\n",
    "             \n",
    "                else: \n",
    "                    print(\"Insufficient X Amount\")\n",
    "                    print(f\"amount_x_optimal < amount_x_min\")\n",
    "                    print(f\"amount_x_optimal =  {amount_x_optimal}\")\n",
    "                    print(f\"amount_x_min =  {amount_x_min}\")\n",
    "\n",
    "         \n",
    "        if self.debug:\n",
    "            print(f\"-\"*10, f\"PROVIDE LIQUIDITY \",f\"-\"*10)\n",
    "            print(f\"-\"*10, f\"PRIOR LIQUIDITY \",f\"-\"*10)\n",
    "            print(f\"Reserve X:{self.reserve_x}\\n\"+\n",
    "                 f\"Reserve Y:{self.reserve_y}\\n\" +\n",
    "                 f\"Total pool tokens :{self.lp_tokens}\")\n",
    "        \n",
    "            \n",
    "    def set_transaction_fee(self, transaction_fee):\n",
    "        \"\"\"\n",
    "        sets the transaction fee of the uniswap institution to the specified amount\n",
    "        \"\"\"\n",
    "        self.transaction_fee = transaction_fee\n",
    "        \n",
    "        \n",
    "\n",
    "    \n",
    "\n"
   ]
  },
  {
   "cell_type": "code",
   "execution_count": null,
   "id": "79c372aa",
   "metadata": {},
   "outputs": [],
   "source": [
    "\n",
    "class AMM(object):\n",
    "    \"\"\"\n",
    "    In the simple model below, \n",
    "    x tokens represent Energy tokens or E_tokens\n",
    "    y tokens represent Money tokens or M_tokens \n",
    "    \"\"\"\n",
    "    def __init__(self,transaction_fee = 0, ratio_error_tol = 1e-7, debug=False):\n",
    "        \n",
    "        self.reserve_x = 0\n",
    "        self.reserve_y = 0\n",
    "        \n",
    "        self.constant_product = 0\n",
    "        self.governance_tokens = 0\n",
    "        self.lp_tokens = 0 \n",
    "        \n",
    "        self.transaction_fee = transaction_fee\n",
    "        \n",
    "        self.debug = debug\n",
    "        self.ratio_error_tol = ratio_error_tol\n",
    "        \n",
    "    def setup_pool(self, quantity_x=0, quantity_y=0):\n",
    "        \"\"\"\n",
    "        Establishes a liquidity pool with constant_product = quantity_x * quantity_y.\n",
    "        Returns liqudity tokens to the agent who sets it up. \n",
    "        See 1.A \"Establish Liquidity\" above for explanation of math. \n",
    "        \"\"\"\n",
    "        self.reserve_x  = quantity_x\n",
    "        self.reserve_y = quantity_y\n",
    "        \n",
    "        self.constant_product = self.reserve_x*self.reserve_y\n",
    "        \n",
    "        lp_minted  = np.sqrt(self.constant_product)\n",
    "        self.lp_tokens = lp_minted\n",
    "        \n",
    "        return lp_minted \n",
    "        \n",
    "    def request_info(self):\n",
    "        \"\"\"\n",
    "        Simple method that informs an agent of the current reserve amounts of \n",
    "        X and Y in the liquidity pool. \n",
    "        See 1.B \"Get Current Amount of Reserves\" above for explanation of math. \n",
    "        \"\"\"\n",
    "        info_dict ={\"reserve_x\": self.reserve_x, \"reserve_y\": self.reserve_y,\n",
    "                       \"transaction_fee\": self.transaction_fee}\n",
    "        return info_dict\n",
    "    \n",
    "    def provide_liquidity(self,quantity_x, quantity_y): \n",
    "        \"\"\"\n",
    "        Allows agents to add tokens X and Y to the liquidity pool. \n",
    "        Agents must submit X and Y in the exact ratio of the current reserves. \n",
    "        Otherwise, method returns an error. \n",
    "        If successful, agents receive liquidity tokens in response. \n",
    "        See 1.C \"Add Liquidity\" for an explanation of math. \n",
    "        \"\"\"\n",
    "        ratio_submitted = quantity_x/quantity_y \n",
    "        current_reserve_ratio = self.reserve_x/self.reserve_y\n",
    "        \n",
    "        \n",
    "        if self.debug:\n",
    "            print(f\"-\"*10, f\"PROVIDE LIQUIDITY \",f\"-\"*10)\n",
    "            print(f\"-\"*10, f\"PRIOR LIQUIDITY \",f\"-\"*10)\n",
    "            print(f\"Reserve X:{self.reserve_x}\\n\"+\n",
    "                 f\"Reserve Y:{self.reserve_y}\\n\" +\n",
    "                 f\"Total pool tokens :{self.lp_tokens}\")\n",
    "        \n",
    "        \n",
    "        if abs(ratio_submitted - current_reserve_ratio) < self.ratio_error_tol:\n",
    "            \n",
    "            lp_minted = (quantity_x/self.reserve_x)*self.lp_tokens\n",
    "            \n",
    "            self.lp_tokens = self.lp_tokens + lp_minted \n",
    "            self.reserve_x = self.reserve_x + quantity_x \n",
    "            self.reserve_y = self.reserve_y + quantity_y \n",
    "            \n",
    "            if self.debug:\n",
    "                print(f\"-\"*10, f\"AFTER LIQUIDITY INSERTED\",f\"-\"*10)\n",
    "                print(f\"Reserve X:{self.reserve_x}\\n\"+\n",
    "                     f\"Reserve Y:{self.reserve_y}\\n\" +\n",
    "                     f\"Total pool tokens :{self.lp_tokens}\")\n",
    "\n",
    "            return lp_minted\n",
    "        else: \n",
    "            print(f\"ERROR: incorrect ratio of quantity x and y submitted\")\n",
    "    \n",
    "    def withdraw_liquidity(self, lp_burned):\n",
    "        \"\"\"\n",
    "        Allows agents to 'burn' liquidity tokens and receive tokens X and Y in return. \n",
    "        See 1.D \"Remove Liquidity\" for an explanation of math. \n",
    "        \"\"\"\n",
    "        total_lp_tokens = self.lp_tokens\n",
    "        reserve_x = self.reserve_x\n",
    "        reserve_y = self.reserve_y \n",
    "        \n",
    "        if self.debug:\n",
    "            print(f\"-\"*10, f\"WITHDRAW LIQUIDITY \",f\"-\"*10)\n",
    "            print(f\"-\"*10, f\"PRIOR LIQUIDITY WITHDRAWN \",f\"-\"*10)\n",
    "            print(f\"Reserve X:{self.reserve_x}\\n\"+\n",
    "                 f\"Reserve Y:{self.reserve_y}\\n\" +\n",
    "                 f\"Total pool tokens :{self.lp_tokens}\")\n",
    "\n",
    "        #calculate tokens to be returned \n",
    "        quantity_x = (lp_burned/total_lp_tokens)*reserve_x\n",
    "        quantity_y = (lp_burned/total_lp_tokens)*reserve_y\n",
    "        \n",
    "        #update state \n",
    "        self.reserve_x = self.reserve_x - quantity_x\n",
    "        self.reserve_y = self.reserve_y - quantity_y \n",
    "        self.lp_tokens = self.lp_tokens - lp_burned\n",
    "        \n",
    "        if self.debug:\n",
    "            print(f\"-\"*10, f\"AFTER LIQUIDITY WITHDRAWN\",f\"-\"*10)\n",
    "            print(f\"Reserve X:{self.reserve_x}\\n\"+\n",
    "                  f\"Reserve Y:{self.reserve_y}\\n\" +\n",
    "                  f\"Total pool tokens :{self.lp_tokens}\")\n",
    "\n",
    "        return_amt_dict = {\"quantity_x\": quantity_x, \"quantity_y\": quantity_y}\n",
    "        \n",
    "        return return_amt_dict\n",
    "    \n",
    "    def request_price(self, transaction_type = \"buy\",token = None, quantity = 1):\n",
    "        \"\"\"\n",
    "        This method provides you with a price you would have to pay if you want \n",
    "        to buy a certain quantity of tokens. However, if you want to sell a certain\n",
    "        quantity of tokens it offers you a price the institution would pay you. \n",
    "        \n",
    "        Details about this math can be found in the introduction of section 6, \n",
    "        plus in 2.B \"Buy Tokens\" and 2.C \"Sell Tokens.\"\n",
    "        \"\"\"\n",
    "        \n",
    "        if transaction_type == \"buy\" : \n",
    "            if token == 'x': \n",
    "                \n",
    "                gamma = 1 - self.transaction_fee \n",
    "                delta_x = quantity\n",
    "                new_reserve_x = self.reserve_x - delta_x\n",
    "                reserve_y = self.reserve_y\n",
    "\n",
    "                k = self.constant_product\n",
    "                \n",
    "\n",
    "                price = (k/(new_reserve_x) - reserve_y)/gamma\n",
    "\n",
    "                return price\n",
    "\n",
    "            elif token == 'y':\n",
    "                \n",
    "                gamma = 1 - self.transaction_fee \n",
    "                delta_y = quantity\n",
    "                new_reserve_y = self.reserve_y - delta_y\n",
    "                reserve_x = self.reserve_x\n",
    "\n",
    "                k = self.constant_product\n",
    "                \n",
    "\n",
    "                price = (k/(new_reserve_y) - reserve_x)/gamma\n",
    "\n",
    "                return price \n",
    "\n",
    "            else :\n",
    "                print(f\"ERROR, token = {token} is not traded in this pool\")\n",
    "        \n",
    "        elif transaction_type == \"sell\":\n",
    "            if token == 'x':\n",
    "                \n",
    "                gamma = 1 - self.transaction_fee\n",
    "                delta_x = quantity \n",
    "                new_reserve_x = self.reserve_x + delta_x*gamma\n",
    "                reserve_y = self.reserve_y\n",
    "\n",
    "                k = self.constant_product\n",
    "                \n",
    "                price = reserve_y - k/(new_reserve_x) \n",
    "                \n",
    "                return price\n",
    "            \n",
    "            elif token == 'y': \n",
    "                \n",
    "                gamma = 1 - self.transaction_fee\n",
    "                delta_y = quantity \n",
    "                new_reserve_y = self.reserve_y + delta_y*gamma\n",
    "                reserve_x = self.reserve_x\n",
    "\n",
    "                k = self.constant_product\n",
    "                \n",
    "                price = reserve_x - k/(new_reserve_y) \n",
    "                \n",
    "                return price\n",
    "            else:\n",
    "                print(f\"ERROR, token = {token} is not traded in this pool\")\n",
    "        else:\n",
    "            print(f\"ERROR, wrong transaction type requested, transaction_type = {transaction_type}\")\n",
    "\n",
    "     \n",
    "    def sell_tokens(self, token = None, quantity = 0): \n",
    "        \"\"\"\n",
    "        Allows agents to sell a fixed amount of token X or Y, and \n",
    "        receive a quantity of the opposite token in exchange. \n",
    "        Then, the institution updates its reserves in the liquidity pool accordingly. \n",
    "        See Section 2.C above, \"Sell Tokens,\" for a description.\n",
    "        \"\"\"\n",
    "        if token == 'x': \n",
    "            \n",
    "            x_offered = quantity\n",
    "            y_returned = self.request_price(\"sell\",token,x_offered)\n",
    "            \n",
    "            if self.debug:\n",
    "                print(f\"-\"*10, f\"SELL TOKEN = {token}\", f\"-\"*10)\n",
    "                print(f\" \"*10, f\"BEFORE TRADE\", f\" \"*10)\n",
    "                print(f\"Reserve X:{self.reserve_x}\\n\"+\n",
    "                      f\"Reserve Y:{self.reserve_y}\\n\" +\n",
    "                      f\"k : {self.constant_product}\\n\")\n",
    "\n",
    "            self.reserve_x = self.reserve_x + x_offered\n",
    "            self.reserve_y = self.reserve_y - y_returned\n",
    "            \n",
    "            self.constant_product = self.reserve_x*self.reserve_y\n",
    "            \n",
    "            if self.debug:\n",
    "                print(f\" \"*10, f\"AFTER TRADE\", f\" \"*10)\n",
    "                print(f\"Reserve X:{self.reserve_x}\\n\"+\n",
    "                      f\"Reserve Y:{self.reserve_y}\\n\" +\n",
    "                      f\"k : {self.constant_product}\\n\")\n",
    "\n",
    "            returned_dict = {\"token_returned\": \"y\", \"quantity_returned\": y_returned}\n",
    "            \n",
    "            return returned_dict\n",
    "        \n",
    "        elif token == 'y': \n",
    "            \n",
    "            y_offered = quantity\n",
    "            x_returned = self.request_price(\"sell\",token,y_offered)\n",
    "            \n",
    "            if self.debug:\n",
    "                print(f\"-\"*10, f\"SELL TOKEN = {token}\", f\"-\"*10)\n",
    "                print(f\" \"*10, f\"BEFORE TRADE\", f\" \"*10)\n",
    "                print(f\"Reserve X:{self.reserve_x}\\n\"+\n",
    "                      f\"Reserve Y:{self.reserve_y}\\n\" +\n",
    "                      f\"k : {self.constant_product}\\n\")\n",
    "\n",
    "            self.reserve_x = self.reserve_x - x_returned\n",
    "            self.reserve_y = self.reserve_y + y_offered            \n",
    "            self.constant_product = self.reserve_x*self.reserve_y\n",
    "            \n",
    "            if self.debug:\n",
    "                print(f\" \"*10, f\"AFTER TRADE\", f\" \"*10)\n",
    "                print(f\"Reserve X:{self.reserve_x}\\n\"+\n",
    "                      f\"Reserve Y:{self.reserve_y}\\n\" +\n",
    "                      f\"k : {self.constant_product}\\n\")\n",
    "\n",
    "            returned_dict = {\"token_returned\": \"x\", \"quantity_returned\": x_returned}\n",
    "            \n",
    "            \n",
    "            return returned_dict\n",
    "        else:\n",
    "            print(f\"ERROR, token = {token} is not traded in this pool\")\n",
    "    def sell_tokens_min_price(self, token = None, quantity = 0, min_price  = 0, price_tol=1e-5): \n",
    "        \"\"\"\n",
    "        Allows agents to sell a fixed amount of token X or Y, and \n",
    "        receive a quantity of the opposite token in exchange.\n",
    "        The Agent is also allowed to specify a min price and the trade only executes if the\n",
    "        min price condition is met (within error tolerance).\n",
    "        Then, the institution updates its reserves in the liquidity pool accordingly. \n",
    "        See Section 2.C above, \"Sell Tokens,\" for a description.\n",
    "        \"\"\"\n",
    "        if token == 'x': \n",
    "            x_offered = quantity\n",
    "            y_returned = self.request_price(\"sell\", token, x_offered)\n",
    "            if y_returned + price_tol >= min_price: \n",
    "                if self.debug:\n",
    "                    print(f\"-\"*10, f\"SELL TOKEN = {token}\", f\"-\"*10)\n",
    "                    print(f\" \"*10, f\"BEFORE TRADE\", f\" \"*10)\n",
    "                    print(f\"Reserve X:{self.reserve_x}\\n\"+\n",
    "                          f\"Reserve Y:{self.reserve_y}\\n\" +\n",
    "                          f\"k : {self.constant_product}\\n\")\n",
    "                self.reserve_x = self.reserve_x + x_offered\n",
    "                self.reserve_y = self.reserve_y - y_returned\n",
    "                self.constant_product = self.reserve_x * self.reserve_y\n",
    "                if self.debug:\n",
    "                    print(f\" \"*10, f\"AFTER TRADE\", f\" \"*10)\n",
    "                    print(f\"Reserve X:{self.reserve_x}\\n\"+\n",
    "                          f\"Reserve Y:{self.reserve_y}\\n\" +\n",
    "                          f\"k : {self.constant_product}\\n\")\n",
    "                returned_dict = {\"token_returned\": \"y\", \"quantity_returned\": y_returned}\n",
    "                return returned_dict\n",
    "            else: \n",
    "                print(f\"-\"*10, f\"SELL TOKEN = {token}, FAILED\", f\"-\"*10)\n",
    "                print(f\"y_returned < min_price (within tolerance)\")\n",
    "                print(f\"y_returned = {y_returned}, min_price = {min_price}, tol = {price_tol}\")\n",
    "                return {\"token_returned\": \"y\", \"quantity_returned\": \"NoTrade\"}\n",
    "        elif token == 'y': \n",
    "            y_offered = quantity\n",
    "            x_returned = self.request_price(\"sell\", token, y_offered)\n",
    "            if x_returned + price_tol >= min_price: \n",
    "                if self.debug:\n",
    "                    print(f\"-\"*10, f\"SELL TOKEN = {token}\", f\"-\"*10)\n",
    "                    print(f\" \"*10, f\"BEFORE TRADE\", f\" \"*10)\n",
    "                    print(f\"Reserve X:{self.reserve_x}\\n\"+\n",
    "                          f\"Reserve Y:{self.reserve_y}\\n\" +\n",
    "                          f\"k : {self.constant_product}\\n\")\n",
    "                self.reserve_x = self.reserve_x - x_returned\n",
    "                self.reserve_y = self.reserve_y + y_offered            \n",
    "                self.constant_product = self.reserve_x * self.reserve_y\n",
    "                if self.debug:\n",
    "                    print(f\" \"*10, f\"AFTER TRADE\", f\" \"*10)\n",
    "                    print(f\"Reserve X:{self.reserve_x}\\n\"+\n",
    "                          f\"Reserve Y:{self.reserve_y}\\n\" +\n",
    "                          f\"k : {self.constant_product}\\n\")\n",
    "                returned_dict = {\"token_returned\": \"x\", \"quantity_returned\": x_returned}\n",
    "                return returned_dict\n",
    "            else:\n",
    "                print(f\"-\"*10, f\"SELL TOKEN = {token}, FAILED\", f\"-\"*10)\n",
    "                print(f\"x_returned < min_price (within tolerance)\")\n",
    "                print(f\"x_returned = {x_returned}, min_price = {min_price}, tol = {price_tol}\")\n",
    "                return {\"token_returned\": \"x\", \"quantity_returned\": \"NoTrade\"}\n",
    "        else:\n",
    "            print(f\"ERROR, token = {token} is not traded in this pool\")\n",
    "    def buy_tokens(self, token = None, quantity = 0):\n",
    "        \"\"\"\n",
    "        Allows agents to request a fixed amount of token X or Y to buy.\n",
    "        This method returns the price that agent will have to pay, denominated\n",
    "        in the opposite token. \n",
    "        Then, the institution updates its reserves in the liquidity pool accordingly. \n",
    "        See Section 2.C above, \"Buy Tokens,\" for a description.\n",
    "        \"\"\"\n",
    "        if token == 'x': \n",
    "            \n",
    "            x_requested = quantity\n",
    "            y_needed = self.request_price(\"buy\",token, x_requested)\n",
    "            \n",
    "            if self.debug:\n",
    "                print(f\"-\"*10, f\"BUY TOKEN = {token}\", f\"-\"*10)\n",
    "                print(f\" \"*10, f\"BEFORE TRADE\", f\" \"*10)\n",
    "                print(f\"Reserve X:{self.reserve_x}\\n\"+\n",
    "                      f\"Reserve Y:{self.reserve_y}\\n\" +\n",
    "                      f\"k : {self.constant_product}\\n\")\n",
    "\n",
    "            self.reserve_x = self.reserve_x - x_requested\n",
    "            self.reserve_y = self.reserve_y + y_needed\n",
    "                    \n",
    "            self.constant_product = self.reserve_x*self.reserve_y\n",
    "            \n",
    "            if self.debug:\n",
    "                print(f\" \"*10, f\"AFTER TRADE\", f\" \"*10)\n",
    "                print(f\"Reserve X:{self.reserve_x}\\n\"+\n",
    "                      f\"Reserve Y:{self.reserve_y}\\n\" +\n",
    "                      f\"k : {self.constant_product}\\n\")\n",
    "\n",
    "            returned_dict = {\"token_needed\": \"y\", \"quantity_needed\": y_needed}\n",
    "            \n",
    "            return returned_dict\n",
    "        \n",
    "        elif token == 'y': \n",
    "            \n",
    "            y_requested = quantity\n",
    "            x_needed = self.request_price(\"sell\",token,y_requested)\n",
    "            \n",
    "            if self.debug:\n",
    "                print(f\"-\"*10, f\"BUY TOKEN = {token}\", f\"-\"*10)\n",
    "                print(f\" \"*10, f\"BEFORE TRADE\", f\" \"*10)\n",
    "                print(f\"Reserve X:{self.reserve_x}\\n\"+\n",
    "                      f\"Reserve Y:{self.reserve_y}\\n\" +\n",
    "                      f\"k : {self.constant_product}\\n\")\n",
    "\n",
    "            self.reserve_x = self.reserve_x + x_needed\n",
    "            self.reserve_y = self.reserve_y - y_requested\n",
    "        \n",
    "            self.constant_product = self.reserve_x*self.reserve_y\n",
    "            \n",
    "            if self.debug:\n",
    "                print(f\" \"*10, f\"AFTER TRADE\", f\" \"*10)\n",
    "                print(f\"Reserve X:{self.reserve_x}\\n\"+\n",
    "                      f\"Reserve Y:{self.reserve_y}\\n\" +\n",
    "                      f\"k : {self.constant_product}\\n\")\n",
    "\n",
    "            returned_dict = {\"token_needed\": \"x\", \"quantity_needed\": x_needed}\n",
    "            \n",
    "            return returned_dict\n",
    "        \n",
    "        else:\n",
    "            print(f\"ERROR, token = {token} is not traded in this pool\")\n",
    "              \n",
    "    def buy_tokens_max_price(self, token = None, quantity = 0, max_price=0, price_tol=1e-5 ):\n",
    "        \"\"\"\n",
    "        Allows agents to request a fixed amount of token X or Y to buy.\n",
    "        This method returns the price that agent will have to pay, denominated\n",
    "        in the opposite token. \n",
    "        The swap only proceeds if the price required is lower than a specified max_price parameter,\n",
    "        with error tolerance allowed (default: 1e-5).\n",
    "        Then, the institution updates its reserves in the liquidity pool accordingly. \n",
    "        See Section 2.C above, \"Buy Tokens,\" for a description.\n",
    "        \"\"\"\n",
    "        if token == 'x': \n",
    "            x_requested = quantity\n",
    "            y_needed = self.request_price(\"buy\",token, x_requested)\n",
    "            if y_needed <= max_price + price_tol: \n",
    "                if self.debug:\n",
    "                    print(f\"-\"*10, f\"BUY TOKEN = {token}\", f\"-\"*10)\n",
    "                    print(f\" \"*10, f\"BEFORE TRADE\", f\" \"*10)\n",
    "                    print(f\"Reserve X:{self.reserve_x}\\n\"+\n",
    "                          f\"Reserve Y:{self.reserve_y}\\n\" +\n",
    "                          f\"k : {self.constant_product}\\n\")\n",
    "                self.reserve_x = self.reserve_x - x_requested\n",
    "                self.reserve_y = self.reserve_y + y_needed\n",
    "                self.constant_product = self.reserve_x*self.reserve_y\n",
    "                if self.debug:\n",
    "                    print(f\" \"*10, f\"AFTER TRADE\", f\" \"*10)\n",
    "                    print(f\"Reserve X:{self.reserve_x}\\n\"+\n",
    "                          f\"Reserve Y:{self.reserve_y}\\n\" +\n",
    "                          f\"k : {self.constant_product}\\n\")\n",
    "                returned_dict = {\"token_needed\": \"y\", \"quantity_needed\": y_needed}\n",
    "                return returned_dict\n",
    "            else : \n",
    "                print(f\"-\"*10, f\"BUY TOKEN = {token}, FAILED\", f\"-\"*10)\n",
    "                print(f\"y_needed  > max_price + tol \")\n",
    "                print(f\"y_needed = {y_needed}\" \n",
    "                      f\"max_price = {max_price}, tol = {price_tol}\")\n",
    "                return {\"token_needed\": \"y\" , \"quantity_needed\": \"NoTrade\"}\n",
    "\n",
    "        elif token == 'y': \n",
    "            y_requested = quantity\n",
    "            x_needed = self.request_price(\"sell\",token,y_requested)\n",
    "            if x_needed <= max_price + price_tol: \n",
    "                if self.debug:\n",
    "                    print(f\"-\"*10, f\"BUY TOKEN = {token}\", f\"-\"*10)\n",
    "                    print(f\" \"*10, f\"BEFORE TRADE\", f\" \"*10)\n",
    "                    print(f\"Reserve X:{self.reserve_x}\\n\"+\n",
    "                          f\"Reserve Y:{self.reserve_y}\\n\" +\n",
    "                          f\"k : {self.constant_product}\\n\")\n",
    "                self.reserve_x = self.reserve_x + x_needed\n",
    "                self.reserve_y = self.reserve_y - y_requested\n",
    "                self.constant_product = self.reserve_x*self.reserve_y\n",
    "                if self.debug:\n",
    "                    print(f\" \"*10, f\"AFTER TRADE\", f\" \"*10)\n",
    "                    print(f\"Reserve X:{self.reserve_x}\\n\"+\n",
    "                          f\"Reserve Y:{self.reserve_y}\\n\" +\n",
    "                          f\"k : {self.constant_product}\\n\")\n",
    "                returned_dict = {\"token_needed\": \"x\", \"quantity_needed\": x_needed}\n",
    "                return returned_dict\n",
    "            else : \n",
    "                print(f\"-\"*10, f\"BUY TOKEN = {token}, FAILED\", f\"-\"*10)\n",
    "                print(f\"x_needed  > max_price + tol \")\n",
    "                print(f\"x_needed = {x_needed}\" \n",
    "                      f\"max_price = {max_price}, tol = {price_tol}\")\n",
    "                return {\"token_needed\": \"x\" , \"quantity_needed\": \"NoTrade\"}\n",
    "\n",
    "        else:\n",
    "            print(f\"ERROR, token = {token} is not traded in this pool\")\n",
    "            \n",
    "    def provide_liquidity_min_amount(self,amount_x_desired,amount_y_desired, amount_x_min = 0, amount_y_min = 0):\n",
    "        \"\"\"\n",
    "        Provides utility based on certain conditions\n",
    "        \n",
    "        \"\"\"\n",
    "        if self.debug:\n",
    "            print(f\"-\"*10, f\"PROVIDE LIQUIDITY \",f\"-\"*10)\n",
    "            print(f\"-\"*10, f\"PRIOR LIQUIDITY \",f\"-\"*10)\n",
    "            print(f\"Reserve X:{self.reserve_x}\\n\"+\n",
    "                 f\"Reserve Y:{self.reserve_y}\\n\" +\n",
    "                 f\"Total pool tokens :{self.lp_tokens}\")\n",
    "            print(f\"AGENT PARAMS\")\n",
    "            print(f\"amount_x_desired = {amount_x_desired}\")\n",
    "            print(f\"amount_y_desired = {amount_y_desired}\")\n",
    "            print(f\"amount_x_min = {amount_x_min}\")\n",
    "            print(f\"amount_y_min = {amount_y_min}\")\n",
    "        \n",
    "        \n",
    "        \n",
    "        amount_y_optimal = amount_x_desired * (self.reserve_y / self.reserve_x)\n",
    "        if amount_y_optimal <= amount_y_desired: \n",
    "            if amount_y_optimal >= amount_y_min:\n",
    "                amount_x = amount_x_desired\n",
    "                amount_y = amount_y_optimal\n",
    "                \n",
    "                lp_minted = (amount_x/self.reserve_x)*self.lp_tokens\n",
    "            \n",
    "                self.lp_tokens = self.lp_tokens + lp_minted \n",
    "                self.reserve_x = self.reserve_x + amount_x\n",
    "                self.reserve_y = self.reserve_y + amount_y\n",
    "            \n",
    "                if self.debug:\n",
    "                    print(f\"-\"*10, f\"AFTER LIQUIDITY INSERTED\",f\"-\"*10)\n",
    "                    print(f\"Reserve X:{self.reserve_x}\\n\"+\n",
    "                         f\"Reserve Y:{self.reserve_y}\\n\" +\n",
    "                         f\"Total pool tokens :{self.lp_tokens}\\n\"+\n",
    "                         f\"amount_x = {amount_x}\\n\"+\n",
    "                         f\"amount_y = {amount_y}\\n\")\n",
    "\n",
    "                return lp_minted\n",
    "        \n",
    "            else: \n",
    "                print(\"Insufficient Y Amount\")\n",
    "                print(f\"amount_y_optimal < amount_y_min\")\n",
    "                print(f\"amount_y_optimal =  {amount_y_optimal}\")\n",
    "                print(f\"amount_y_min =  {amount_y_min}\")\n",
    "\n",
    "        else: \n",
    "            amount_x_optimal = amount_y_desired * (self.reserve_x / self.reserve_y)\n",
    "            if amount_x_optimal <= amount_x_desired:\n",
    "                if amount_x_optimal >= amount_x_min: \n",
    "                    amount_x = amount_x_optimal\n",
    "                    amount_y = amount_y_desired\n",
    "                    \n",
    "                    lp_minted = (amount_x/self.reserve_x)*self.lp_tokens\n",
    "            \n",
    "                    self.lp_tokens = self.lp_tokens + lp_minted \n",
    "                    self.reserve_x = self.reserve_x + amount_x\n",
    "                    self.reserve_y = self.reserve_y + amount_y\n",
    "\n",
    "                    if self.debug:\n",
    "                        print(f\"-\"*10, f\"AFTER LIQUIDITY INSERTED\",f\"-\"*10)\n",
    "                        print(f\"amount_x = \")\n",
    "                        print(f\"Reserve X:{self.reserve_x}\\n\"+\n",
    "                             f\"Reserve Y:{self.reserve_y}\\n\" +\n",
    "                             f\"Total pool tokens :{self.lp_tokens}\\n\"+\n",
    "                             f\"amount_x = {amount_x}\\n\"+\n",
    "                             f\"amount_y = {amount_y}\\n\")\n",
    "\n",
    "                    return lp_minted\n",
    "             \n",
    "                else: \n",
    "                    print(\"Insufficient X Amount\")\n",
    "                    print(f\"amount_x_optimal < amount_x_min\")\n",
    "                    print(f\"amount_x_optimal =  {amount_x_optimal}\")\n",
    "                    print(f\"amount_x_min =  {amount_x_min}\")\n",
    "\n",
    "         \n",
    "        if self.debug:\n",
    "            print(f\"-\"*10, f\"PROVIDE LIQUIDITY \",f\"-\"*10)\n",
    "            print(f\"-\"*10, f\"PRIOR LIQUIDITY \",f\"-\"*10)\n",
    "            print(f\"Reserve X:{self.reserve_x}\\n\"+\n",
    "                 f\"Reserve Y:{self.reserve_y}\\n\" +\n",
    "                 f\"Total pool tokens :{self.lp_tokens}\")\n",
    "        \n",
    "            \n",
    "    def set_transaction_fee(self, transaction_fee):\n",
    "        \"\"\"\n",
    "        sets the transaction fee of the uniswap institution to the specified amount\n",
    "        \"\"\"\n",
    "        self.transaction_fee = transaction_fee\n",
    "        \n",
    "class Demand: \n",
    "    def __init__(self, v_d, q_d, agent_type, verbose=False): \n",
    "        # state variables \n",
    "        self.v_d = v_d # per kwh reservation price \n",
    "        self.d = q_d # kwh period demand in the current period\n",
    "        self.remaining_demand = q_d # tracks how much demand has been bought and sold\n",
    "        self.agent_type = agent_type\n",
    "        # welfare \n",
    "        self.profit = 0 \n",
    "        self.sw_arr = []\n",
    "\n",
    "        # AMM Instance \n",
    "        self.AMM = AMM # NOTE: return here\n",
    "\n",
    "        # txs request \n",
    "        self.txs_request = None \n",
    "        \n",
    "\n",
    "        # debugging\n",
    "        self.verbose = verbose\n",
    "\n",
    "        print(f\"[{self.agent_type}][INIT] v_d={v_d}, q_d={q_d}, AMM={AMM}, verbose={verbose}\")\n",
    "\n",
    "    def update_profit(self, p, q): \n",
    "        utils = self.util_func(p, q)\n",
    "        self.profit += utils\n",
    "        self.sw_arr.append(utils)\n",
    "        print(f\"[{self.agent_type}][update_profit] Updated profit by {utils}, total profit now {self.profit}\")\n",
    "        if self.verbose:\n",
    "            print(f\"[{self.agent_type}][update_profit][VERBOSE] p={p}, q={q}, utils={utils}, sw_arr={self.sw_arr}\")\n",
    "\n",
    "    \n",
    "    def util_func(self, p, q):\n",
    "        result = (self.v_d - p) * q\n",
    "        if self.verbose:\n",
    "            print(f\"[{self.agent_type}][util_func][VERBOSE] v_d={self.v_d}, p={p}, q={q}, result={result}\")\n",
    "        return result\n",
    "    \n",
    "    def make_decision(self, E, M):\n",
    "        print(f\"[{self.agent_type}][make_decision] Called with E={E}, M={M}\")\n",
    "        q_d = self.remaining_demand # tracks the amount of demand not purchased\n",
    "        print(f\"[{self.agent_type}][make_decision] Remaining demand: {q_d}\")\n",
    "\n",
    "        if round(q_d, 12) > 0: # if there is positive demand remaining\n",
    "            exp_total_amm_price = self.calc_price(E, M, q_d) \n",
    "            print(f\"[{self.agent_type}][make_decision] Expected AMM price for {q_d}: {exp_total_amm_price}\")\n",
    "\n",
    "            if exp_total_amm_price > (self.v_d * q_d): \n",
    "                e_req = E - (M / self.v_d) # NOTE: could be wrong and needs to be tested \n",
    "                print(f\"[{self.agent_type}][make_decision] AMM price too high, calculating e_req: {e_req}\")\n",
    "\n",
    "                if e_req <= 0:\n",
    "                    print(f\"[{self.agent_type}][make_decision] Not enough liquidity to buy. Skipping trade.\")\n",
    "                    return None\n",
    "\n",
    "                exp_total_amm_price = self.calc_price(E, M, e_req)\n",
    "                print(f\"[{self.agent_type}][make_decision] New expected AMM price for e_req={e_req}: {exp_total_amm_price}\")\n",
    "\n",
    "                txs_request = {\n",
    "                    \"decision\": \"buy_tokens_max_price\",\n",
    "                    \"token\": \"x\",\n",
    "                    \"quantity\": e_req,\n",
    "                    \"max_price\": self.v_d * e_req,\n",
    "                    \"agent_type\": self.agent_type\n",
    "                }\n",
    "                if self.verbose:\n",
    "                    print(f\"[{self.agent_type}][make_decision][VERBOSE] txs_request={txs_request}\")\n",
    "            else: \n",
    "                e_req = q_d\n",
    "                txs_request = {\n",
    "                    \"decision\": \"buy_tokens_max_price\",\n",
    "                    \"token\": \"x\",\n",
    "                    \"quantity\": q_d,\n",
    "                    \"max_price\": self.v_d * e_req,\n",
    "                    \"agent_type\": self.agent_type\n",
    "                }\n",
    "                if self.verbose:\n",
    "                    print(f\"[{self.agent_type}][make_decision][VERBOSE] txs_request={txs_request}\")\n",
    "\n",
    "            print(f\"[{self.agent_type}][make_decision] Final txs_request: {txs_request}\")\n",
    "            self.txs_request = txs_request\n",
    "            return txs_request\n",
    "\n",
    "        else: \n",
    "            print(f\"[{self.agent_type}][make_decision] No remaining demand.\")\n",
    "            return \n",
    "              \n",
    "\n",
    "    def calc_price(self, E, M, e): \n",
    "        if self.verbose:\n",
    "            print(f\"[{self.agent_type}][calc_price][VERBOSE] E={E}, M={M}, e={e}\")\n",
    "        \n",
    "        if abs(E - e) < 1e-12:\n",
    "            print(f\"[{self.agent_type}][calc_price] Requesting entire pool, returning inf cost.\")\n",
    "            return float(\"inf\")\n",
    "\n",
    "        k = E * M\n",
    "        try:\n",
    "            m = k / (E - e) - M\n",
    "        except ZeroDivisionError:\n",
    "            print(f\"[{self.agent_type}][calc_price] Division by zero, returning inf.\")\n",
    "            return float(\"inf\")\n",
    "\n",
    "        if m < 0:\n",
    "            print(f\"[{self.agent_type}][calc_price] Invalid negative price {m:.4f}. Returning inf.\")\n",
    "            return float(\"inf\")\n",
    "\n",
    "        if self.verbose:\n",
    "            print(f\"[{self.agent_type}][calc_price][VERBOSE] k={k}, m={m}\")\n",
    "\n",
    "        return m\n",
    "\n",
    "\n",
    "    def transaction_result(self, txs_result): \n",
    "        print(f\"[{self.agent_type}][transaction_result] txs_result: {txs_result}\")\n",
    "        e_requested = self.txs_request[\"quantity\"]\n",
    "        m_required = txs_result[\"quantity_needed\"]\n",
    "        avg_price = m_required / e_requested\n",
    "\n",
    "        print(f\"[{self.agent_type}][transaction_result] avg_price = {avg_price}\")\n",
    "\n",
    "        self.update_profit(avg_price, e_requested)\n",
    "        self.remaining_demand -= e_requested\n",
    "        print(f\"[{self.agent_type}][transaction_result] Updated remaining_demand: {self.remaining_demand}\")\n",
    "\n",
    "\n",
    "\n",
    "# class Supply: \n",
    "#     def __init__(self, c, q_sell, agent_type, verbose=False): \n",
    "#         # state variables \n",
    "#         self.c = c # per kwh reservation price \n",
    "#         self.q_sell = q_sell # kwh period demand in the current period\n",
    "#         self.remaining_supply = q_sell # tracks how much demand has been bought and sold\n",
    "\n",
    "#         # welfare \n",
    "#         self.profit = 0 \n",
    "#         self.sw_arr = []\n",
    "\n",
    "      \n",
    "#         # txs request \n",
    "#         self.txs_request = None \n",
    "#         self.agent_type = agent_type\n",
    "\n",
    "#         # debugging\n",
    "#         self.verbose = verbose\n",
    "\n",
    "#         print(f\"[{self.agent_type}][INIT] c={c}, q_sell={q_sell}, AMM={AMM}, verbose={verbose}\")\n",
    "\n",
    "#     def update_profit(self, p, q): \n",
    "#         utils = self.util_func(p, q)\n",
    "#         self.profit += utils\n",
    "#         self.sw_arr.append(utils)\n",
    "#         print(f\"[{self.agent_type}][update_profit] Updated profit by {utils}, total profit now {self.profit}\")\n",
    "#         if self.verbose:\n",
    "#             print(f\"[{self.agent_type}][update_profit][VERBOSE] p={p}, q={q}, utils={utils}, sw_arr={self.sw_arr}\")\n",
    "\n",
    "#     def make_decision(self, E, M):\n",
    "#         print(f\"[{self.agent_type}][make_decision] Called with E={E}, M={M}\")\n",
    "#         q_s = self.remaining_supply # tracks the amount of supply not purchased\n",
    "#         print(f\"[{self.agent_type}][make_decision] Remaining supply: {q_s}\")\n",
    "\n",
    "#         if round(q_s, 12) > 0: # if there is positive supply remaining\n",
    "#             exp_total_amm_price = self.calc_price(E, M, q_s)\n",
    "#             print(f\"[{self.agent_type}][make_decision] Expected AMM price for {q_s}: {exp_total_amm_price}\")\n",
    "\n",
    "#             if exp_total_amm_price < (self.c * q_s): \n",
    "#                 e_sell = (M / self.c) - E # NOTE: could be wrong and needs to be tested \n",
    "#                 print(f\"[{self.agent_type}][make_decision] AMM price too low, calculating e_sell: {e_sell}\")\n",
    "#                 exp_total_amm_price = self.calc_price(E, M, e_sell)\n",
    "\n",
    "#                 if e_sell < 0:\n",
    "#                     print(f\"[{self.agent_type}][make_decision] No profitable trades remaining.\")\n",
    "#                     return # no profitable trades remaining\n",
    "\n",
    "#                 txs_request = {\n",
    "#                     \"decision\": \"sell_tokens_min_price\",\n",
    "#                     \"token\": \"x\",\n",
    "#                     \"quantity\": e_sell,\n",
    "#                     \"min_price\": self.c * e_sell,\n",
    "#                     \"agent_type\": self.agent_type\n",
    "#                 }\n",
    "#                 if self.verbose:\n",
    "#                     print(f\"[{self.agent_type}][make_decision][VERBOSE] txs_request={txs_request}\")\n",
    "#             else: \n",
    "#                 e_sell = q_s\n",
    "#                 txs_request = {\n",
    "#                     \"decision\": \"sell_tokens_min_price\",\n",
    "#                     \"token\": \"x\",\n",
    "#                     \"quantity\": e_sell,\n",
    "#                     \"min_price\": self.c * e_sell,\n",
    "#                     \"agent_type\": self.agent_type\n",
    "#                 }\n",
    "#                 if self.verbose:\n",
    "#                     print(f\"[{self.agent_type}][make_decision][VERBOSE] txs_request={txs_request}\")\n",
    "\n",
    "#             print(f\"[{self.agent_type}][make_decision] Final txs_request: {txs_request}\")\n",
    "#             self.txs_request = txs_request\n",
    "#             return txs_request\n",
    "\n",
    "#         else: \n",
    "#             print(f\"[{self.agent_type}][make_decision] No remaining supply.\")\n",
    "#             return \n",
    "        \n",
    "#     def transaction_result(self, txs_result): \n",
    "#         print(f\"[{self.agent_type}][transaction_result] txs_result: {txs_result}\")\n",
    "#         e_sell = self.txs_request[\"quantity\"]\n",
    "#         m_returned = txs_result[\"quantity_returned\"]\n",
    "#         avg_price = m_returned / e_sell\n",
    "\n",
    "#         print(f\"[{self.agent_type}][transaction_result] avg_price = {avg_price}, self.c = {self.c}\")\n",
    "\n",
    "#         self.update_profit(avg_price, e_sell)\n",
    "#         self.remaining_supply -= e_sell\n",
    "#         print(f\"[{self.agent_type}][transaction_result] Updated remaining_supply: {self.remaining_supply}\")\n",
    "\n",
    "#     def util_func(self, p, q):\n",
    "#         result = (p - self.c) * q\n",
    "#         if self.verbose:\n",
    "#             print(f\"[{self.agent_type}][util_func][VERBOSE] p={p}, c={self.c}, q={q}, result={result}\")\n",
    "#         return result\n",
    "    \n",
    "#     def calc_price(self, E, M, e): \n",
    "#         if self.verbose:\n",
    "#             print(f\"[{self.agent_type}][calc_price][VERBOSE] E={E}, M={M}, e={e}\")\n",
    "#         k = E * M \n",
    "#         m = M - k / (E + e)\n",
    "#         if self.verbose:\n",
    "#             print(f\"[{self.agent_type}][calc_price][VERBOSE] k={k}, m={m}\")\n",
    "#         return m\n",
    "\n",
    "\n",
    "class Model(): \n",
    "\n",
    "    def __init__(self, T, agent_list, amm_instance, trades_per_period, verbose=False): \n",
    "        self.total_periods = T \n",
    "        self.agent_list = agent_list\n",
    "        self.trades_per_period = trades_per_period\n",
    "        self.amm_instance = amm_instance\n",
    "        self.verbose = verbose\n",
    "\n",
    "        # reserve_x  = self.amm_instance.request_info()[\"reserve_x\"]\n",
    "        # reserve_y  = self.amm_instance.request_info()[\"reserve_y\"]\n",
    "\n",
    "        # self.amm_state_list = [(reserve_x,reserve_y)]\n",
    "\n",
    "        self.amm_period_final_state = [] #logs the state of the amm at the end of the period\n",
    "    \n",
    "\n",
    "    def simulate(self): \n",
    "        print(f\"[Model][simulate] Starting simulation for {self.total_periods} periods, {self.trades_per_period} trades per period.\")\n",
    "\n",
    "        for t in range(self.total_periods): \n",
    "            print(f\"\\n[Model][simulate] === Period {t+1}/{self.total_periods} ===\")\n",
    "\n",
    "            for trade in range(self.trades_per_period): \n",
    "                print(f\"[Model][simulate] -- Trade {trade+1}/{self.trades_per_period} --\")\n",
    "                random.shuffle(self.agent_list)\n",
    "                if self.verbose:\n",
    "                    print(f\"[Model][simulate][VERBOSE] Agent list order: {[type(a).__name__ for a in self.agent_list]}\")\n",
    "                for agent in self.agent_list: \n",
    "                    print(f\"[Model][simulate] Agent: {type(agent).__name__}\")\n",
    "                    # Get the AMM state \n",
    "                    amm_state = self.amm_instance.request_info()\n",
    "                    E = amm_state[\"reserve_x\"]\n",
    "                    M = amm_state[\"reserve_y\"]\n",
    "                    print(f\"[Model][simulate] AMM State: E={E}, M={M}\")\n",
    "                    if self.verbose:\n",
    "                        print(f\"[Model][simulate][VERBOSE] AMM full state: {amm_state}\")\n",
    "\n",
    "                    # Get the txs \n",
    "                    amm_txs_request = agent.make_decision(E, M, t)\n",
    "                    print(f\"[Model][simulate] Agent decision: {amm_txs_request}\")\n",
    "                    if amm_txs_request:\n",
    "                        decision = amm_txs_request[\"decision\"]\n",
    "                        if decision == \"sell_tokens_min_price\":\n",
    "                            token = amm_txs_request[\"token\"]\n",
    "                            quantity = amm_txs_request[\"quantity\"]\n",
    "                            min_price = amm_txs_request[\"min_price\"]\n",
    "                            print(f\"[Model][simulate] Agent requests to SELL {quantity} {token} with min_price {min_price}\")\n",
    "\n",
    "                            txs_result = self.amm_instance.sell_tokens_min_price(token, quantity, min_price)\n",
    "                            quantity_returned = txs_result[\"quantity_returned\"]\n",
    "                            print(f\"[Model][simulate] AMM sell_tokens_min_price result: {txs_result}\")\n",
    "                            \n",
    "                            if quantity_returned == \"NoTrade\": \n",
    "                                print(f\"[Model][simulate] Trade not executed (NoTrade).\")\n",
    "                                continue \n",
    "                            else:\n",
    "                                print(f\"[Model][simulate] Trade executed. Passing result to agent.\")\n",
    "                                agent.transaction_result(txs_result)\n",
    "\n",
    "                        elif decision == \"buy_tokens_max_price\":\n",
    "                            token = amm_txs_request[\"token\"] \n",
    "                            quantity = amm_txs_request[\"quantity\"]\n",
    "                            max_price = amm_txs_request[\"max_price\"]\n",
    "                            print(f\"[Model][simulate] Agent requests to BUY {quantity} {token} with max_price {max_price}\")\n",
    "\n",
    "                            txs_result = self.amm_instance.buy_tokens_max_price(token, quantity, max_price)\n",
    "                            quantity_needed  = txs_result[\"quantity_needed\"]\n",
    "                            print(f\"[Model][simulate] AMM buy_tokens_max_price result: {txs_result}\")\n",
    "\n",
    "                            if quantity_needed == \"NoTrade\": \n",
    "                                print(f\"[Model][simulate] Trade not executed (NoTrade).\")\n",
    "                                continue \n",
    "                            else:\n",
    "                                print(f\"[Model][simulate] Trade executed. Passing result to agent.\")\n",
    "                                agent.transaction_result(txs_result)\n",
    "                        else: \n",
    "                            print(f\"[Model][simulate] ERROR: Unknown decision type: {decision}\")\n",
    "                            raise Exception(\"Unknown decision type encountered in Model.simulate()\")\n",
    "                    else:\n",
    "                        print(f\"[Model][simulate] No trade decision from agent.\")\n",
    "\n",
    "            reserve_x  = self.amm_instance.request_info()[\"reserve_x\"]\n",
    "            reserve_y  = self.amm_instance.request_info()[\"reserve_y\"]\n",
    "\n",
    "            print(f\"reserve_x = {reserve_x}\")\n",
    "            print(f\"reserve_y = {reserve_y}\")\n",
    "            tup = (reserve_x,reserve_y)\n",
    "            self.amm_period_final_state.append(tup)\n",
    "            \n",
    "            \n",
    "        print(\"[Model][simulate] Simulation complete.\")\n",
    "\n",
    "\n"
   ]
  },
  {
   "cell_type": "markdown",
   "id": "bafa9a54",
   "metadata": {},
   "source": [
    "### Elastic ABM Demand agent "
   ]
  },
  {
   "cell_type": "code",
   "execution_count": null,
   "id": "5ff589bd",
   "metadata": {},
   "outputs": [],
   "source": [
    "class ElasticDemand: \n",
    "    def __init__(self, v_max, q_max, agent_type, verbose=False): \n",
    "        # state variables \n",
    "        self.v_max = v_max # per kwh reservation price \n",
    "        self.q_max= q_max # max demand or total demand \n",
    "        \n",
    "        self.agent_type = agent_type\n",
    "\n",
    "        self.remaining_demand = q_max\n",
    "        # welfare \n",
    "        self.profit = 0 \n",
    "        self.sw_arr = []\n",
    "\n",
    "        # txs request \n",
    "        self.txs_request = None \n",
    "        \n",
    "        # debugging\n",
    "        self.verbose = verbose\n",
    "\n",
    "        #AMM state \n",
    "        self.amm_state = {}\n",
    "\n",
    "        if self.verbose:\n",
    "            print(f\"[{self.agent_type}][INIT] v_max={v_max}, q_max={q_max}, agent_type={agent_type}, verbose={verbose}\")\n",
    "\n",
    "    def value_function(self,q): \n",
    "        \"\"\" Marginal Value for unit q purchased\"\"\"\n",
    "        return self.v_max*(1- q/self.q_max) \n",
    "    \n",
    "    def util_func(self, q, token_required):\n",
    "        \"\"\" \n",
    "        Calculates the utility or consumer surplus from trade\n",
    "        \"\"\"\n",
    "\n",
    "        # area under demand\n",
    "        surplus = self.v_max * (q - q**2/(2*self.q_max))\n",
    "        # total paid\n",
    "        paid = token_required\n",
    "        consumer_surplus = surplus - paid\n",
    "\n",
    "        return consumer_surplus\n",
    "\n",
    "    def find_optimal_e(self, E, M, v_max, q_max):\n",
    "        \"\"\"\n",
    "        Solves for e in:\n",
    "        e^3 -(q_max + 2E)e^2 + (E^2 + 2E q_max)e + q_max*E*(M/v_max - E) = 0\n",
    "        Returns the unique real root 0 < e < E.\n",
    "        \"\"\"\n",
    "        # Coefficients of the monic cubic\n",
    "        coeffs = [\n",
    "            1,\n",
    "            -(q_max + 2*E),\n",
    "            E**2 + 2*E*q_max,\n",
    "            q_max*E*(M/v_max - E)\n",
    "        ]\n",
    "        roots = np.roots(coeffs)\n",
    "        # Filter for a real root in (0, E)\n",
    "        real_roots = [r.real for r in roots if abs(r.imag) < 1e-8 and 0 < r.real < E]\n",
    "        if not real_roots:\n",
    "            print(\"No valid root found in (0, E)\")\n",
    "        return real_roots \n",
    "\n",
    "\n",
    "    def update_profit(self, q, token_required): \n",
    "        utils = self.util_func(q, token_required)\n",
    "        self.profit += utils\n",
    "        self.sw_arr.append(utils)\n",
    "        print(f\"[{self.agent_type}][update_profit] Updated profit by {utils}, total profit now {self.profit}\")\n",
    "        if self.verbose:\n",
    "            print(f\"[{self.agent_type}][update_profit][VERBOSE] p={p}, q={q}, utils={utils}, sw_arr={self.sw_arr}\")\n",
    "    \n",
    "    \n",
    "    def make_decision(self, E, M,t):\n",
    "        \"\"\"Compute the optimal e* and issue a buy_tokens_max_price at that e.\"\"\"\n",
    "        if self.remaining_demand <= 0:\n",
    "            if self.verbose: print(f\"[{self.agent_type}] No demand left.\")\n",
    "            return None\n",
    "        \n",
    "        #AMM_state \n",
    "        self.update_amm_state(E, M)\n",
    "        e_star = self.find_optimal_e(E, M, self.v_max, self.q_max)\n",
    "        \n",
    "        if not e_star: return # if no real roots, we return \n",
    "\n",
    "        print(e_star)\n",
    "        e_star = e_star[0]\n",
    "        e_req = min(e_star, self.remaining_demand)\n",
    "        p_star = self.marginal_price(E, M, e_req)\n",
    "\n",
    "        tx = {\n",
    "            \"decision\":   \"buy_tokens_max_price\",\n",
    "            \"token\":      \"x\",\n",
    "            \"quantity\":   e_req,\n",
    "            \"max_price\":  p_star * e_req, \n",
    "            \"agent_type\": self.agent_type\n",
    "        }\n",
    "\n",
    "        if self.verbose:\n",
    "            print(f\"[{self.agent_type}][make_decision] e*={e_star:.4f}, e_req={e_req:.4f}, p*={p_star:.4f}\")\n",
    "            print(f\"[{self.agent_type}][make_decision][VERBOSE] tx = {tx}\")\n",
    "\n",
    "        self.txs_request = tx\n",
    "        return tx\n",
    "    \n",
    "    def update_amm_state(self, E, M): \n",
    "\n",
    "        self.amm_state = {\"reserve_x\" :E, \"reserve_y\": M}\n",
    "    def marginal_price(self, E, M, e):\n",
    "        \"\"\"Marginal cost MC(e) = d/d e [ total_cost(e) ].\"\"\"\n",
    "        K = E * M\n",
    "        return K / (E - e)**2\n",
    "\n",
    "    def transaction_result(self, txs_result): \n",
    "        print(f\"[{self.agent_type}][transaction_result] txs_result: {txs_result}\")\n",
    "        e_requested = self.txs_request[\"quantity\"]\n",
    "        m_required = txs_result[\"quantity_needed\"]\n",
    "        \n",
    "        #Calculating the Average Price \n",
    "        avg_price = m_required/e_requested\n",
    "        print(f\"[{self.agent_type}][transaction_result] avg_price = {avg_price}\")\n",
    "        \n",
    "        #Figuring out the Marginal value and Cost \n",
    "        E , M = self.amm_state[\"reserve_x\"], self.amm_state[\"reserve_y\"]\n",
    "        marginal_cost = self.marginal_price(E, M, e_requested)\n",
    "        marginal_value= self.value_function(e_requested)\n",
    "\n",
    "        print(f\"[{self.agent_type}][transaction_result] Marginal Value = {marginal_value}, Marginal Cost = {marginal_cost}\")\n",
    "\n",
    "        self.update_profit(e_requested, m_required)\n",
    "        self.remaining_demand -= e_requested\n",
    "        self.q_max -= e_requested \n",
    "        self.v_max = self.value_function(e_requested)\n",
    "\n",
    "        print(f\"[{self.agent_type}][transaction_result] Updated remaining_demand: {self.remaining_demand}\")\n",
    "\n",
    "        "
   ]
  },
  {
   "cell_type": "markdown",
   "id": "4c782306",
   "metadata": {},
   "source": [
    "## Marginal Cost Supply "
   ]
  },
  {
   "cell_type": "code",
   "execution_count": null,
   "id": "51733b1b",
   "metadata": {},
   "outputs": [],
   "source": [
    "class Supply:\n",
    "    def __init__(self, c, q_sell, agent_type, verbose=False):\n",
    "        # constant per-unit cost, total supply endowment\n",
    "        self.c = c\n",
    "        self.q_sell = q_sell\n",
    "        self.remaining_supply = q_sell\n",
    "\n",
    "        # welfare tracking\n",
    "        self.profit = 0.0\n",
    "        self.sw_arr = []\n",
    "\n",
    "        # last request\n",
    "        self.txs_request = None\n",
    "        self.agent_type = agent_type\n",
    "        self.verbose = verbose\n",
    "\n",
    "        #AMM \n",
    "        self.amm_state = {}\n",
    "\n",
    "        print(f\"[{self.agent_type}][INIT] c={c}, q_sell={q_sell}, verbose={verbose}\")\n",
    "\n",
    "    def update_amm_state(self, E, M): \n",
    "\n",
    "        self.amm_state = {\"reserve_x\": E, \"reserve_y\": M}\n",
    "\n",
    "    def marginal_price(self, E, M, e):\n",
    "        \"\"\"AMM marginal revenue when selling e of x into the E-reserve.\"\"\"\n",
    "        K = E * M\n",
    "        return K / (E + e) ** 2\n",
    "\n",
    "    def find_optimal_e(self, E, M):\n",
    "        \"\"\"\n",
    "        Closed-form optimal sell quantity when MC=c:\n",
    "          if c>0: solve c = K/(E+e)^2  =>  e = sqrt(K/c) − E\n",
    "          if c<=0: supply everything up to your remaining endowment\n",
    "        \"\"\"\n",
    "        if self.c <= 0:\n",
    "            # zero (or negative) marginal cost → willing to sell all you have\n",
    "            return self.remaining_supply\n",
    "\n",
    "        K = E * M\n",
    "        e_star = np.sqrt(K / self.c) - E\n",
    "        return max(0.0, e_star)\n",
    "\n",
    "    def util_func(self, p, q):\n",
    "        \"\"\"(price – cost) × quantity.\"\"\"\n",
    "        return (p - self.c) * q\n",
    "\n",
    "    def update_profit(self, p, q):\n",
    "        utils = self.util_func(p, q)\n",
    "        self.profit += utils\n",
    "        self.sw_arr.append(utils)\n",
    "        if self.verbose:\n",
    "            print(f\"[{self.agent_type}][update_profit] profit={utils:.4f}, total={self.profit:.4f}\")\n",
    "\n",
    "    def make_decision(self, E, M, t):\n",
    "        \"\"\"Compute e* and issue a sell_tokens_min_price order.\"\"\"\n",
    "        self.update_amm_state(E,M)\n",
    "\n",
    "        if self.remaining_supply <= 0:\n",
    "            if self.verbose: print(f\"[{self.agent_type}] No remaining supply.\")\n",
    "            return None\n",
    "\n",
    "        e_star = self.find_optimal_e(E, M)\n",
    "        e_req  = min(e_star, self.remaining_supply)\n",
    "\n",
    "        if e_req <= 0:\n",
    "            if self.verbose: print(f\"[{self.agent_type}] No profitable quantity to sell.\")\n",
    "            return None\n",
    "\n",
    "        p_star = self.marginal_price(E, M, e_req)\n",
    "\n",
    "        if self.c <= 0: p_star = 0 # you are willing to accept any price \n",
    "\n",
    "        tx = {\n",
    "            \"decision\":   \"sell_tokens_min_price\",\n",
    "            \"token\":      \"x\",\n",
    "            \"quantity\":   e_req,\n",
    "            # specify total minimum y-tokens you must get back\n",
    "            \"min_price\":  p_star * e_req,\n",
    "            \"agent_type\": self.agent_type\n",
    "        }\n",
    "        if self.verbose:\n",
    "            print(f\"[{self.agent_type}][make_decision] e*={e_star:.4f}, e_req={e_req:.4f}, p*={p_star:.4f}\")\n",
    "            print(f\"[{self.agent_type}][make_decision][VERBOSE] tx = {tx}\")\n",
    "\n",
    "        self.txs_request = tx\n",
    "        return tx\n",
    "\n",
    "    def transaction_result(self, txs_result):\n",
    "        \"\"\"Update profit and remaining_supply after execution.\"\"\"\n",
    "        e_sold      = self.txs_request[\"quantity\"]\n",
    "        m_received  = txs_result[\"quantity_returned\"]\n",
    "        avg_price   = m_received / e_sold\n",
    "\n",
    "        #Figuring out Marginal Cost and Marginal Revenue \n",
    "        E = self.amm_state[\"reserve_x\"]\n",
    "        M = self.amm_state[\"reserve_y\"]\n",
    "        mr_rev = self.marginal_price(E, M, e_sold)\n",
    "        \n",
    "        self.update_profit(avg_price, e_sold)\n",
    "        self.remaining_supply -= e_sold\n",
    "        if self.verbose:\n",
    "            print(f\"[{self.agent_type}][transaction_result] Marginal Cost = {self.c} Marginal Revenue = {mr_rev}\")\n",
    "            print(f\"[{self.agent_type}][transaction_result] remaining = {self.remaining_supply:.4f}\")\n"
   ]
  },
  {
   "cell_type": "markdown",
   "id": "1eacacb2",
   "metadata": {},
   "source": [
    "### Battery Strategy "
   ]
  },
  {
   "cell_type": "code",
   "execution_count": null,
   "id": "aede63ac",
   "metadata": {},
   "outputs": [],
   "source": [
    "\n",
    "class Battery: \n",
    "\n",
    "    def __init__(self, C_init, C_max, agent_type , s_t, v_max, q_max, c_u, q_u_max, verbose = False): \n",
    "\n",
    "        self.C_init = C_init # this is the initial and final state of the battery\n",
    "        self.C_max = C_max \n",
    "        self.C = C_init\n",
    "\n",
    "        self.agent_type = agent_type\n",
    "\n",
    "        self.verbose = verbose\n",
    "        \n",
    "        # welfare tracking\n",
    "        self.profit = 0.0\n",
    "        self.sw_arr = []\n",
    "        self.amm_state = {}\n",
    "        \n",
    "        if self.verbose: print(f\"[{self.agent_type}][init] \", \n",
    "                               f\"C_init = {self.C_init}\",\n",
    "                               f\"C_max = {self.C_max}\",\n",
    "                               f\"agent_type = {self.agent_type}\",)\n",
    "            \n",
    "        #buyer and seller params to calc equilibrium prices \n",
    "        self.s_t = s_t  #array of solar generation in all periods t \n",
    "        self.v_max = v_max # max value of demand \n",
    "        self.q_max = q_max # max quantity demanded \n",
    "        self.c_u = c_u #per unit marginal cost of supply \n",
    "        self.q_u_max = q_u_max # max procurement by the utility this should be q_max\n",
    "\n",
    "    def util_func(self, p, q):\n",
    "        \"\"\"price * quantity.\"\"\"\n",
    "        return p * q\n",
    "    \n",
    "    def update_profit(self, p, q):\n",
    "\n",
    "        print(f\"[{self.agent_type}] p = {p}, {q}\")\n",
    "        utils = self.util_func(p, q)\n",
    "        self.profit += utils\n",
    "        self.sw_arr.append(utils)\n",
    "        if self.verbose:\n",
    "            print(f\"[{self.agent_type}][update_profit] profit={utils:.4f}, total={self.profit:.4f}\")\n",
    "\n",
    "    def update_amm_state(self, E, M): \n",
    "        \"\"\"reserve_x are the energy reserves, and reserve y are the money reserves\"\"\"\n",
    "        self.amm_state = {\"reserve_x\": E, \"reserve_y\": M}\n",
    "\n",
    "\n",
    "\n",
    "    def make_decision(self, E, M, t):\n",
    "        \"\"\"\n",
    "        1) Compute spot p_t and forecast p_{t+1}.\n",
    "        2) Decide buy/sell/hold and q_req.\n",
    "        3) Execute via amm.buy_tokens_max_price or amm.sell_tokens_min_price.\n",
    "        \"\"\"\n",
    "        self.update_amm_state(E, M)\n",
    "        \n",
    "        # 1) true spot price\n",
    "        p_t = M / E\n",
    "\n",
    "        K = E * M\n",
    "        # 2) forecast next period equilibrium *demand-side* price\n",
    "        #    you can still use your comp_eq_price to get p_{t+1} from solar+utility stack\n",
    "        p_nxt, _ = self.comp_eq_price_quantity(t + 1)\n",
    "\n",
    "        print(f\"[{self.agent_type}][make_decision] E={E}, M={M}, t={t}, p_t={p_t}, K={K}, p_nxt={p_nxt}, SOC={self.C}, C_max={self.C_max}\")\n",
    "\n",
    "        if self.verbose:\n",
    "            print(f\"[{self.agent_type}] p_t={p_t:.4f}, p_{t+1}={p_nxt:.4f}, SOC={self.C:.4f}\")\n",
    "\n",
    "        # 1) BUY (charge)\n",
    "        if (p_nxt > p_t) and (p_nxt > 0):\n",
    "           \n",
    "            # correct unconstrained q* for buying E-tokens\n",
    "            q_uncon = E - np.sqrt(K / p_nxt)\n",
    "\n",
    "            # clamp to available battery capacity and to not drain pool completely\n",
    "            q_req = float(np.clip(q_uncon, 0.0, min(self.C_max - self.C, E - 1e-8)))\n",
    "           \n",
    "            if q_req <= 0:\n",
    "                return None\n",
    "\n",
    "            # worst-case final per-unit cost at e = q_req\n",
    "            p_final   = K / (E - q_req)**2\n",
    "            max_total = p_final * q_req\n",
    "\n",
    "            tx = {\n",
    "            \"decision\":   \"buy_tokens_max_price\",\n",
    "            \"token\":      \"x\",\n",
    "            \"quantity\":   q_req,\n",
    "            \"max_price\":  max_total,\n",
    "            \"agent_type\": self.agent_type\n",
    "            }\n",
    "            \n",
    "            self.txs_request = tx\n",
    "            return tx\n",
    "\n",
    "        # 2) SELL (discharge)\n",
    "        elif p_nxt < p_t:\n",
    "            if p_nxt > 0: \n",
    "                q_uncon = np.sqrt(K / p_nxt) - E\n",
    "            else: # if next period price is 0 we sell all our holdings. \n",
    "                q_uncon = self.C\n",
    "\n",
    "            print(f\"[{self.agent_type}][make_decision][SELL] q_uncon={q_uncon}\")\n",
    "\n",
    "            # clamp into [0, SOC]\n",
    "            q_req  = float(np.clip(q_uncon, 0.0, self.C))\n",
    "\n",
    "            print(f\"[{self.agent_type}][make_decision][SELL] q_req={q_req}\")\n",
    "\n",
    "            if q_req <= 0:\n",
    "                print(f\"[{self.agent_type}][make_decision][SELL] q_req <= 0, returning None\")\n",
    "                return None\n",
    "            \n",
    "            p_final = K / (E + q_req)**2\n",
    "            min_total = p_final * q_req\n",
    "\n",
    "            tx = {\n",
    "            \"decision\":   \"sell_tokens_min_price\",\n",
    "            \"token\":      \"x\",\n",
    "            \"quantity\":   q_req,\n",
    "            \"min_price\":  min_total,\n",
    "            \"agent_type\": self.agent_type\n",
    "            }\n",
    "            self.txs_request = tx \n",
    "            print(f\"[{self.agent_type}][make_decision][SELL] tx={tx}\")\n",
    "            return tx\n",
    "\n",
    "        # 3) HOLD\n",
    "        else:\n",
    "            print(f\"[{self.agent_type}][make_decision][HOLD] No action taken.\")\n",
    "            if self.verbose:\n",
    "                print(f\"[{self.agent_type}] hold\")\n",
    "            return None\n",
    "    \n",
    "    def transaction_result(self, txs_result):\n",
    "        \"\"\"Update profit and remaining_supply after execution.\"\"\"\n",
    "\n",
    "        print(f\"[{self.agent_type}][transaction_result] txs_result: {txs_result}\")\n",
    "\n",
    "        #if your previous decision was to sell tokens\n",
    "        if self.txs_request[\"decision\"] == \"sell_tokens_min_price\":\n",
    "            e_sold      = self.txs_request[\"quantity\"]\n",
    "            m_received  = txs_result[\"quantity_returned\"]\n",
    "            avg_price   = m_received / e_sold\n",
    "\n",
    "            print(f\"[{self.agent_type}][transaction_result] e_sold = {e_sold}\")\n",
    "            print(f\"[{self.agent_type}][transaction_result] m_received = {m_received}\")\n",
    "            print(f\"[{self.agent_type}][transaction_result] avg_price = {avg_price}\")\n",
    "\n",
    "            self.update_profit(avg_price, e_sold)\n",
    "\n",
    "            #NOTE: could be a bug if e_sold is greater than self.C\n",
    "            self.C -= e_sold #you update your battery state to reflect amount of e that was discharged\n",
    "\n",
    "            print(f\"[{self.agent_type}][transaction_result] Updated SOC (C) = {self.C}\")\n",
    "\n",
    "        elif self.txs_request[\"decision\"] == \"buy_tokens_max_price\":\n",
    "            e_requested = self.txs_request[\"quantity\"]\n",
    "            m_required = txs_result[\"quantity_needed\"]\n",
    "\n",
    "            print(f\"[{self.agent_type}][transaction_result] e_requested = {e_requested}\")\n",
    "            print(f\"[{self.agent_type}][transaction_result] m_required = {m_required}\")\n",
    "\n",
    "            #Calculating the Average Price \n",
    "            avg_price = m_required / e_requested\n",
    "\n",
    "            print(f\"[{self.agent_type}][transaction_result] avg_price = {avg_price}\")\n",
    "            \n",
    "            self.update_profit(-avg_price, e_requested)\n",
    "            self.C += e_requested \n",
    "            self.C = min(self.C_max, self.C) #incase there is an overcharge \n",
    "\n",
    "            print(f\"[{self.agent_type}][transaction_result] Updated SOC (C) = {self.C}\")\n",
    "\n",
    "        else: \n",
    "            raise Exception(f\"[{self.agent_type}][transaction_result] Unknown txs_request decision {self.txs_request}\")\n",
    "                \n",
    "\n",
    "    \n",
    "    def comp_eq_price_quantity(self, t):\n",
    "        \"\"\"\n",
    "        Find (p*, q*) solving demand v(q) = supply stack:\n",
    "        - Solar free up to s_t[t]\n",
    "        - Utility at cost c_u up to q_u_max\n",
    "        Demand: v(q)=v_max*(1-q/q_max)\n",
    "        \"\"\"\n",
    "\n",
    "        # 1) If solar alone covers full demand at p=0\n",
    "        if self.q_max <= self.s_t[t]:\n",
    "            return 0.0, self.q_max\n",
    "\n",
    "        # 2) If solar < full demand, but the next marginal value is below c_u:\n",
    "        #    v(s_t) = v_max*(1 - s_t/q_max) < c_u\n",
    "        #    ⇒ nobody is willing to pay the utility price, so\n",
    "        #    market clears on free solar alone\n",
    "        v_at_solar = self.v_max * (1 - self.s_t[t] / self.q_max)\n",
    "        if v_at_solar < self.c_u:\n",
    "            return 0.0, self.s_t[t]\n",
    "\n",
    "        # 3) Otherwise demand at price c_u (utility kicks in)\n",
    "        q_star = self.q_max * (1 - self.c_u / self.v_max)\n",
    "        total_supply = self.s_t[t] + self.q_u_max\n",
    "\n",
    "        # 3a) If that demand exceeds total capacity, clear at choke price\n",
    "        if q_star > total_supply:\n",
    "            p_star = self.v_max * (1 - total_supply / self.q_max)\n",
    "            return p_star, total_supply\n",
    "\n",
    "        # 3b) Otherwise clear at (c_u, q_star)\n",
    "        return self.c_u, q_star\n",
    "    \n",
    "    # def comp_eq_price_quantity(self, t):\n",
    "    #     \"\"\"\n",
    "    #     Find (p*, q*) solving demand v(q) = supply price curve:\n",
    "    #     - Solar:    up to s_t at price 0\n",
    "    #     - Utility:  next q_u_max at price c_u\n",
    "    #     - Beyond:   no supply (price = +inf)\n",
    "\n",
    "    #     Demand inverse: v(q) = v_max*(1 - q/q_max)\n",
    "\n",
    "    #     Returns:\n",
    "    #     p_star, q_star\n",
    "    #     \"\"\"\n",
    "    #     # 1) If zero‐price solar alone suffices to meet demand at p=0:\n",
    "    #     #    demand at p=0 is q_d0 = q_max * (1 - 0/v_max) = q_max.\n",
    "    #     #    If q_max <= s_t, solar meets all demand → p*=0, q*=q_max.\n",
    "    #     if self.q_max <= self.s_t[t]:\n",
    "    #         return 0.0, self.q_max\n",
    "\n",
    "    #     # 2) Otherwise solar alone is not enough, price must jump to c_u.\n",
    "    #     #    Solve v(q) = c_u  =>  q* = q_max*(1 - c_u/v_max).\n",
    "    #     q_star = self.q_max * (1 - self.c_u / self.v_max)\n",
    "\n",
    "    #     # Clamp between what solar+utility can supply:\n",
    "    #     total_supply = self.s_t[t] + self.q_max\n",
    "        \n",
    "    #     if q_star > total_supply:\n",
    "    #         # Even at utility cost, demand exceeds capacity → market clears\n",
    "    #         # at the marginal supplier's choke price (infinite), but in practice\n",
    "    #         # you'd set p* so that q* = total_supply:\n",
    "    #         #   v(total_supply) = p*\n",
    "    #         p_star = self.v_max * (1 - total_supply / self.q_max)\n",
    "    #         return p_star, total_supply\n",
    "\n",
    "    #     # Otherwise, equilibrium at (c_u, q_star)\n",
    "    #     return self.c_u, q_star\n",
    "\n",
    "        \n",
    "        "
   ]
  },
  {
   "cell_type": "code",
   "execution_count": 65,
   "id": "bb178684",
   "metadata": {},
   "outputs": [
    {
     "name": "stdout",
     "output_type": "stream",
     "text": [
      "p*=0.00, q_d=5.49, q_s=5.49, q_b=0.00, q_u=0.00\n",
      "4.506327908600914\n"
     ]
    }
   ],
   "source": [
    "import numpy as np\n",
    "\n",
    "def equilibrium_with_battery_offer(\n",
    "    s_t: float,\n",
    "    q_b_offer: float,\n",
    "    v_max: float,\n",
    "    q_max: float,\n",
    "    c_u: float,\n",
    "    q_u_max: float\n",
    "):\n",
    "    \"\"\"\n",
    "    Compute equilibrium price/quantities given:\n",
    "      - solar supply at price 0: s_t\n",
    "      - battery supply at price 0: q_b_offer\n",
    "      - utility supply at price c_u: capacity q_u_max\n",
    "      - linear inverse‐demand v(q)=v_max*(1 - q/q_max)\n",
    "\n",
    "    Returns:\n",
    "      p_star, q_d, q_s, q_b, q_u\n",
    "    \"\"\"\n",
    "    # 1) total zero‐price supply\n",
    "    free_supply = s_t + q_b_offer\n",
    "\n",
    "    # 2) demand at zero price\n",
    "    q_d0 = q_max  # v(0)=v_max>0 ⇒ q at p=0 is q_max\n",
    "\n",
    "    # 3) if demand <= free_supply, clear at p=0\n",
    "    if q_d0 <= free_supply:\n",
    "        q_d = q_d0\n",
    "        p_star = 0.0\n",
    "        # allocate: solar up to its capacity\n",
    "        q_s = min(s_t, q_d)\n",
    "        q_b = max(0.0, q_d - q_s)  # avoid negatives due to precision\n",
    "        q_u = 0.0\n",
    "        return p_star, q_d, q_s, q_b, q_u\n",
    "\n",
    "    # 4) check whether the marginal value at free_supply is below c_u\n",
    "    #    if so, price remains 0 but quantity = free_supply\n",
    "    v_at_free = v_max * (1 - free_supply / q_max)\n",
    "    if v_at_free < c_u:\n",
    "        q_d = free_supply\n",
    "        p_star = 0.0\n",
    "        q_s = s_t\n",
    "        q_b = q_b_offer\n",
    "        q_u = 0.0\n",
    "        return p_star, q_d, q_s, q_b, q_u\n",
    "\n",
    "    # 5) otherwise bring utility online at cost c_u\n",
    "    #    demand at p=c_u\n",
    "    q_d_cu = q_max * (1 - c_u / v_max)\n",
    "    total_capacity = free_supply + q_u_max\n",
    "\n",
    "    # 5a) if that demand exceeds total capacity, capacity‐constrained\n",
    "    if q_d_cu > total_capacity:\n",
    "        q_d = total_capacity\n",
    "        p_star = c_u\n",
    "    else:\n",
    "        q_d = q_d_cu\n",
    "        p_star = c_u\n",
    "\n",
    "    # 6) allocate across sources in dispatch order\n",
    "    #    solar first, then battery, then utility\n",
    "    remaining = q_d\n",
    "    q_s = min(s_t, remaining)\n",
    "    remaining -= q_s\n",
    "\n",
    "    q_b = min(q_b_offer, remaining)\n",
    "    remaining -= q_b\n",
    "\n",
    "    q_u = min(q_u_max, max(0.0, remaining))  # enforce non-negativity\n",
    "\n",
    "    # remaining should be ~0\n",
    "    return p_star, q_d, q_s, q_b, q_u\n",
    "\n",
    "\n",
    "def equilibrium_with_battery_bid(\n",
    "    s_t: float,\n",
    "    q_b_bid: float,\n",
    "    v_max: float,\n",
    "    q_max: float,\n",
    "    c_u: float,\n",
    "    q_u_max: float\n",
    "):\n",
    "    \"\"\"\n",
    "    Supply stack:\n",
    "      1) Solar at p=0, capacity s_t\n",
    "      2) Utility at p=c_u, capacity q_u_max\n",
    "\n",
    "    Demand:\n",
    "      1) Battery bids q_b_bid at p=0 (charges only if price=0 and solar > consumer)\n",
    "      2) Consumers with inverse‐demand v(q)=v_max*(1 - q/q_max)\n",
    "\n",
    "    Returns:\n",
    "      p_star : equilibrium price\n",
    "      q_d    : consumer quantity\n",
    "      q_s    : solar dispatched\n",
    "      q_b    : battery charged (bid filled)\n",
    "      q_u    : utility dispatched\n",
    "    \"\"\"\n",
    "    # Consumer demand at zero price\n",
    "    q_d0 = q_max  # since v(q)=0 => q=q_max\n",
    "    \n",
    "    # 1) Check if market clears at p=0 on solar alone:\n",
    "    if s_t >= q_d0:\n",
    "        # Solar > consumer demand: price=0, consumers get q_max, battery fills from excess\n",
    "        p_star = 0.0\n",
    "        q_d = q_d0\n",
    "        # battery charges only from leftover solar\n",
    "        q_b = min(q_b_bid, s_t - q_d)\n",
    "\n",
    "        q_s = q_d + q_b \n",
    "\n",
    "        q_u = 0.0\n",
    "        return p_star, q_d, q_s, q_b, q_u\n",
    "\n",
    "    # 2) Check if solar alone is binding but consumers' marginal value at s_t is below utility cost:\n",
    "    #    v(s_t) < c_u ⇒ no one pays c_u, so price still 0, consumers get only solar, battery can't charge\n",
    "    v_at_solar = v_max * (1 - s_t / q_max)\n",
    "    if v_at_solar < c_u:\n",
    "        p_star = 0.0\n",
    "        q_d = s_t\n",
    "        q_s = s_t\n",
    "        q_b = 0.0        # no excess to charge into battery\n",
    "        q_u = 0.0\n",
    "        return p_star, q_d, q_s, q_b, q_u\n",
    "\n",
    "    # 3) Otherwise utility steps in at p=c_u\n",
    "    #    Find consumers' demand at that price\n",
    "    q_d_cu = q_max * (1 - c_u / v_max)\n",
    "    total_capacity = s_t + q_u_max\n",
    "\n",
    "    # 3a) If demand > total capacity, clear at choke price > c_u\n",
    "    if q_d_cu > total_capacity:\n",
    "        q_d = total_capacity\n",
    "        p_star = c_u #last marginal unit is solar \n",
    "    else:\n",
    "        # clear at utility price\n",
    "        q_d = q_d_cu\n",
    "        p_star = c_u\n",
    "\n",
    "    # 4) Allocate dispatch:\n",
    "    #    solar first (always price=0), then utility (battery can't charge at p>0)\n",
    "    remaining = q_d\n",
    "    q_s = min(s_t, remaining)\n",
    "    remaining -= q_s\n",
    "\n",
    "    q_b = 0.0     # battery bid only fills at p=0\n",
    "    q_u = min(q_u_max, max(0.0, remaining))  # enforce non-negativity\n",
    "\n",
    "    return p_star, q_d, q_s, q_b, q_u\n",
    "\n",
    "\n",
    "# # Example\n",
    "# if __name__ == \"__main__\":\n",
    "#     s_t        = 50.0   # solar\n",
    "#     q_b_bid    = 20.0   # battery bid at p=0\n",
    "#     v_max, q_max = 10.0, 100.0\n",
    "#     c_u, q_u_max = 5.0,  40.0\n",
    "\n",
    "#     p_star, q_d, q_s, q_b, q_u = equilibrium_with_battery_bid(\n",
    "#         s_t, q_b_bid, v_max, q_max, c_u, q_u_max\n",
    "#     )\n",
    "#     print(f\"p*={p_star:.2f}, consumers={q_d:.2f}, solar={q_s:.2f}, battery_buy={q_b:.2f}, utility={q_u:.2f}\")\n",
    "\n",
    "\n",
    "# Example usage:\n",
    "if __name__ == \"__main__\":\n",
    "\n",
    "    s_t        = 5.493672091399086 # solar\n",
    "    q_b_offer  = 0  # battery offer\n",
    "    q_b_bid = 10\n",
    "    v_max, q_max = 10.0, 10.0\n",
    "    c_u, q_u_max = 5.0,  10\n",
    "\n",
    "    p_star, q_d, q_s, q_b, q_u = equilibrium_with_battery_offer(\n",
    "        s_t, q_b_offer, v_max, q_max, c_u, q_u_max\n",
    "    )\n",
    "\n",
    "    # p_star, q_d, q_s, q_b, q_u = equilibrium_with_battery_bid(\n",
    "    #     s_t, q_b_bid, v_max, q_max, c_u, q_u_max\n",
    "    # )\n",
    "    print(f\"p*={p_star:.2f}, q_d={q_d:.2f}, q_s={q_s:.2f}, q_b={q_b:.2f}, q_u={q_u:.2f}\")\n",
    "    v = v_max*(1- (q_b + q_s)/q_max)\n",
    "    print(v)\n"
   ]
  },
  {
   "cell_type": "markdown",
   "id": "0c792234",
   "metadata": {},
   "source": [
    "## Battery Bellman Dynamic Programming Optimization that works!"
   ]
  },
  {
   "cell_type": "code",
   "execution_count": 95,
   "id": "a8e509b6",
   "metadata": {},
   "outputs": [],
   "source": [
    "\n",
    "days = 7\n",
    "T = 24 * days \n",
    "v_max = 10\n",
    "q_max = 10\n",
    "c_u = 5\n",
    "q_u_max = q_max\n",
    "C_init = 16\n",
    "C_max = 20\n",
    "\n",
    "q_b_max = 2\n",
    "# Error toleran1e: half your grid spacing\n",
    "atol = 0\n",
    "beta = 1 \n",
    "mean_pmax = 20\n",
    "std_pmax = 0\n",
    "sunrise = 6\n",
    "sunset  = 20\n",
    "\n",
    "solar_gen_profile, _ = generate_nday_solar(\n",
    "    sunrise, sunset, mean_pmax, std_pmax=std_pmax, days=days\n",
    ")\n",
    "s_t = np.array(solar_gen_profile)\n",
    "# Setup grids\n",
    "C_grid = np.arange(0, C_max + 1) #integer \n",
    "q_b_grid = np.arange(-q_b_max,q_b_max + 1) #integer \n",
    "\n",
    "\n",
    "# Initialize value function arrays\n",
    "V = np.zeros((len(C_grid), T+1))\n",
    "P = np.zeros_like(V)\n",
    "QS = np.zeros_like(V)\n",
    "QB = np.zeros_like(V)\n",
    "QU = np.zeros_like(V)\n",
    "\n",
    "# Terminal constraint: return to initial SOC\n",
    "V[:, T] = -np.inf\n",
    "i_init = np.searchsorted(C_grid, C_init)\n",
    "V[i_init, T] = 0\n",
    "\n",
    "# Value function iteration loop (same as before)\n",
    "for t in reversed(range(T)):\n",
    "    solar = s_t[t]\n",
    "    for i, C in enumerate(C_grid):\n",
    "        best = -np.inf\n",
    "        bp = bqs = bqb = bqu = 0.0\n",
    "        for q_b_val in q_b_grid:\n",
    "            C_next = C - q_b_val\n",
    "            \n",
    "            if t == T - 1 and not np.isclose(C_next, C_init, atol=0):\n",
    "                continue\n",
    "            if not (0 <= C_next <= C_max):\n",
    "                continue\n",
    "            \n",
    "            if q_b_val < 0:\n",
    "                p_star, q_d, q_s, q_b_ex, q_u = equilibrium_with_battery_bid(\n",
    "                    solar, -q_b_val, v_max, q_max, c_u, q_u_max\n",
    "                )\n",
    "                q_b = -q_b_ex\n",
    "\n",
    "                # Skip if partial fill, partial fills move the VFI away from the grid \n",
    "                if not np.isclose(q_b_ex, -q_b_val, atol=1e-6):\n",
    "                    continue\n",
    "                        \n",
    "            else:\n",
    "                p_star, q_d, q_s, q_b_ex, q_u = equilibrium_with_battery_offer(\n",
    "                    solar, q_b_val, v_max, q_max, c_u, q_u_max\n",
    "                )\n",
    "                q_b = q_b_ex\n",
    "\n",
    "                # Skip if partial fill, partial fills move the VFI away from the grid \n",
    "                if not np.isclose(q_b_ex, q_b_val, atol=1e-6):\n",
    "                    continue\n",
    "            \n",
    "                \n",
    "            inst = p_star * q_b\n",
    "            idx = np.searchsorted(C_grid, C_next)\n",
    "            idx = min(max(idx, 0), len(C_grid)-1)\n",
    "            val = inst + beta*V[idx, t+1]\n",
    "            if val > best:\n",
    "                best = val\n",
    "                bp, bqs, bqb, bqu = p_star, q_s, q_b, q_u\n",
    "        V[i, t] = best\n",
    "        P[i, t], QS[i, t], QB[i, t], QU[i, t] = bp, bqs, bqb, bqu\n",
    "\n",
    "# Forward pass for optimal policy\n",
    "i = i_init\n",
    "C = C_init\n",
    "prices = []\n",
    "socs = []\n",
    "q_s_list = []\n",
    "q_b_list = []\n",
    "q_u_list = []\n",
    "q_d_list = []\n",
    "surplus_battery = []\n",
    "surplus_utility = []\n",
    "surplus_solar = []\n",
    "surplus_demand = []\n",
    "surplus_total = []\n",
    "\n",
    "for t in range(T):\n",
    "    socs.append(C)\n",
    "    prices.append(P[i, t])\n",
    "    q_s_list.append(QS[i, t])\n",
    "    q_b_list.append(QB[i, t])\n",
    "    q_u_list.append(QU[i, t])\n",
    "\n",
    "    #Determining Demand \n",
    "    p = P[i,t] #current price\n",
    "    q_d = q_max*(1-p/v_max)\n",
    "    q_d_list.append(q_d)\n",
    "\n",
    "    # Surplus calculations \n",
    "    surplus_battery.append(P[i, t] * QB[i, t])  \n",
    "    surplus_solar.append(P[i, t] * QS[i, t])   \n",
    "    surplus_utility.append((P[i, t] - c_u) * QS[i, t])  \n",
    "    surplus_demand.append(v_max * q_d - (v_max / (2 * q_max)) * q_d**2 - p * q_d)                  \n",
    "    surplus_total.append(surplus_battery[-1] + surplus_utility[-1] + surplus_demand[-1] + surplus_solar[-1])\n",
    "    \n",
    "    # #Advance to next state \n",
    "    # C = C - QB[i, t]\n",
    "    # i = np.searchsorted(C_grid, C)\n",
    "    # i = min(max(i, 0), len(C_grid)-1)\n",
    "\n",
    "    #valid \n",
    "    q_b_t = QB[i, t]\n",
    "    C_next = C - q_b_t\n",
    "\n",
    "    # Clip to [0, C_max] range to ensure SOC validity\n",
    "    C_next = max(0, min(C_max, C_next))\n",
    "\n",
    "    # Snap to nearest valid grid point\n",
    "    i = np.abs(C_grid - C_next).argmin()\n",
    "    C = C_grid[i]  # Update to snapped value\n",
    "\n",
    "socs.append(C)"
   ]
  },
  {
   "cell_type": "code",
   "execution_count": 96,
   "id": "dc5267bc",
   "metadata": {},
   "outputs": [
    {
     "data": {
      "application/vnd.plotly.v1+json": {
       "config": {
        "plotlyServerURL": "https://plotly.com"
       },
       "data": [
        {
         "mode": "lines",
         "name": "Optimal Battery Policy",
         "type": "scatter",
         "xaxis": "x",
         "y": [
          2,
          2,
          2,
          2,
          2,
          2,
          2,
          0,
          0,
          -2,
          -2,
          -2,
          -2,
          -2,
          -2,
          -2,
          -2,
          -2,
          0,
          0,
          0,
          0,
          2,
          2,
          2,
          2,
          2,
          2,
          2,
          2,
          2,
          0,
          0,
          -2,
          -2,
          -2,
          -2,
          -2,
          -2,
          -2,
          -2,
          -2,
          0,
          0,
          0,
          0,
          2,
          2,
          2,
          2,
          2,
          2,
          2,
          2,
          2,
          0,
          0,
          -2,
          -2,
          -2,
          -2,
          -2,
          -2,
          -2,
          -2,
          -2,
          0,
          0,
          0,
          0,
          2,
          2,
          2,
          2,
          2,
          2,
          2,
          2,
          2,
          0,
          0,
          -2,
          -2,
          -2,
          -2,
          -2,
          -2,
          -2,
          -2,
          -2,
          0,
          0,
          0,
          0,
          2,
          2,
          2,
          2,
          2,
          2,
          2,
          2,
          2,
          0,
          0,
          -2,
          -2,
          -2,
          -2,
          -2,
          -2,
          -2,
          -2,
          -2,
          0,
          0,
          0,
          0,
          2,
          2,
          2,
          2,
          2,
          2,
          2,
          2,
          2,
          0,
          0,
          -2,
          -2,
          -2,
          -2,
          -2,
          -2,
          -2,
          -2,
          -2,
          0,
          0,
          0,
          0,
          2,
          2,
          2,
          2,
          2,
          2,
          2,
          2,
          2,
          0,
          0,
          -2,
          -2,
          -2,
          -2,
          -2,
          -2,
          -2,
          -2,
          -2,
          0,
          0,
          0,
          0,
          2,
          2
         ],
         "yaxis": "y"
        },
        {
         "mode": "lines",
         "name": "Battery SOC",
         "type": "scatter",
         "xaxis": "x2",
         "y": [
          16,
          14,
          12,
          10,
          8,
          6,
          4,
          2,
          2,
          2,
          4,
          6,
          8,
          10,
          12,
          14,
          16,
          18,
          20,
          20,
          20,
          20,
          20,
          18,
          16,
          14,
          12,
          10,
          8,
          6,
          4,
          2,
          2,
          2,
          4,
          6,
          8,
          10,
          12,
          14,
          16,
          18,
          20,
          20,
          20,
          20,
          20,
          18,
          16,
          14,
          12,
          10,
          8,
          6,
          4,
          2,
          2,
          2,
          4,
          6,
          8,
          10,
          12,
          14,
          16,
          18,
          20,
          20,
          20,
          20,
          20,
          18,
          16,
          14,
          12,
          10,
          8,
          6,
          4,
          2,
          2,
          2,
          4,
          6,
          8,
          10,
          12,
          14,
          16,
          18,
          20,
          20,
          20,
          20,
          20,
          18,
          16,
          14,
          12,
          10,
          8,
          6,
          4,
          2,
          2,
          2,
          4,
          6,
          8,
          10,
          12,
          14,
          16,
          18,
          20,
          20,
          20,
          20,
          20,
          18,
          16,
          14,
          12,
          10,
          8,
          6,
          4,
          2,
          2,
          2,
          4,
          6,
          8,
          10,
          12,
          14,
          16,
          18,
          20,
          20,
          20,
          20,
          20,
          18,
          16,
          14,
          12,
          10,
          8,
          6,
          4,
          2,
          2,
          2,
          4,
          6,
          8,
          10,
          12,
          14,
          16,
          18,
          20,
          20,
          20,
          20,
          20,
          18,
          16
         ],
         "yaxis": "y2"
        },
        {
         "mode": "lines",
         "name": "Market Price",
         "type": "scatter",
         "xaxis": "x3",
         "y": [
          5,
          5,
          5,
          5,
          5,
          5,
          5,
          5,
          0,
          0,
          0,
          0,
          0,
          0,
          0,
          0,
          0,
          0,
          0,
          5,
          5,
          5,
          5,
          5,
          5,
          5,
          5,
          5,
          5,
          5,
          5,
          5,
          0,
          0,
          0,
          0,
          0,
          0,
          0,
          0,
          0,
          0,
          0,
          5,
          5,
          5,
          5,
          5,
          5,
          5,
          5,
          5,
          5,
          5,
          5,
          5,
          0,
          0,
          0,
          0,
          0,
          0,
          0,
          0,
          0,
          0,
          0,
          5,
          5,
          5,
          5,
          5,
          5,
          5,
          5,
          5,
          5,
          5,
          5,
          5,
          0,
          0,
          0,
          0,
          0,
          0,
          0,
          0,
          0,
          0,
          0,
          5,
          5,
          5,
          5,
          5,
          5,
          5,
          5,
          5,
          5,
          5,
          5,
          5,
          0,
          0,
          0,
          0,
          0,
          0,
          0,
          0,
          0,
          0,
          0,
          5,
          5,
          5,
          5,
          5,
          5,
          5,
          5,
          5,
          5,
          5,
          5,
          5,
          0,
          0,
          0,
          0,
          0,
          0,
          0,
          0,
          0,
          0,
          0,
          5,
          5,
          5,
          5,
          5,
          5,
          5,
          5,
          5,
          5,
          5,
          5,
          5,
          0,
          0,
          0,
          0,
          0,
          0,
          0,
          0,
          0,
          0,
          0,
          5,
          5,
          5,
          5,
          5
         ],
         "yaxis": "y3"
        }
       ],
       "layout": {
        "annotations": [
         {
          "font": {
           "size": 16
          },
          "showarrow": false,
          "text": "Optimal Battery Dispatch",
          "x": 0.5,
          "xanchor": "center",
          "xref": "paper",
          "y": 1,
          "yanchor": "bottom",
          "yref": "paper"
         },
         {
          "font": {
           "size": 16
          },
          "showarrow": false,
          "text": "Battery State-of-Charge (SOC)",
          "x": 0.5,
          "xanchor": "center",
          "xref": "paper",
          "y": 0.6433333333333333,
          "yanchor": "bottom",
          "yref": "paper"
         },
         {
          "font": {
           "size": 16
          },
          "showarrow": false,
          "text": "Market Clearing Price",
          "x": 0.5,
          "xanchor": "center",
          "xref": "paper",
          "y": 0.2866666666666667,
          "yanchor": "bottom",
          "yref": "paper"
         }
        ],
        "height": 800,
        "legend": {
         "x": 0.85,
         "y": 1.05
        },
        "shapes": [
         {
          "line": {
           "color": "gray",
           "dash": "dash"
          },
          "type": "line",
          "x0": 0,
          "x1": 1,
          "xref": "x domain",
          "y0": 0,
          "y1": 0,
          "yref": "y"
         },
         {
          "line": {
           "color": "green",
           "dash": "dot"
          },
          "type": "line",
          "x0": 0,
          "x1": 1,
          "xref": "x2 domain",
          "y0": 16,
          "y1": 16,
          "yref": "y2"
         }
        ],
        "showlegend": true,
        "template": {
         "data": {
          "bar": [
           {
            "error_x": {
             "color": "#2a3f5f"
            },
            "error_y": {
             "color": "#2a3f5f"
            },
            "marker": {
             "line": {
              "color": "#E5ECF6",
              "width": 0.5
             },
             "pattern": {
              "fillmode": "overlay",
              "size": 10,
              "solidity": 0.2
             }
            },
            "type": "bar"
           }
          ],
          "barpolar": [
           {
            "marker": {
             "line": {
              "color": "#E5ECF6",
              "width": 0.5
             },
             "pattern": {
              "fillmode": "overlay",
              "size": 10,
              "solidity": 0.2
             }
            },
            "type": "barpolar"
           }
          ],
          "carpet": [
           {
            "aaxis": {
             "endlinecolor": "#2a3f5f",
             "gridcolor": "white",
             "linecolor": "white",
             "minorgridcolor": "white",
             "startlinecolor": "#2a3f5f"
            },
            "baxis": {
             "endlinecolor": "#2a3f5f",
             "gridcolor": "white",
             "linecolor": "white",
             "minorgridcolor": "white",
             "startlinecolor": "#2a3f5f"
            },
            "type": "carpet"
           }
          ],
          "choropleth": [
           {
            "colorbar": {
             "outlinewidth": 0,
             "ticks": ""
            },
            "type": "choropleth"
           }
          ],
          "contour": [
           {
            "colorbar": {
             "outlinewidth": 0,
             "ticks": ""
            },
            "colorscale": [
             [
              0,
              "#0d0887"
             ],
             [
              0.1111111111111111,
              "#46039f"
             ],
             [
              0.2222222222222222,
              "#7201a8"
             ],
             [
              0.3333333333333333,
              "#9c179e"
             ],
             [
              0.4444444444444444,
              "#bd3786"
             ],
             [
              0.5555555555555556,
              "#d8576b"
             ],
             [
              0.6666666666666666,
              "#ed7953"
             ],
             [
              0.7777777777777778,
              "#fb9f3a"
             ],
             [
              0.8888888888888888,
              "#fdca26"
             ],
             [
              1,
              "#f0f921"
             ]
            ],
            "type": "contour"
           }
          ],
          "contourcarpet": [
           {
            "colorbar": {
             "outlinewidth": 0,
             "ticks": ""
            },
            "type": "contourcarpet"
           }
          ],
          "heatmap": [
           {
            "colorbar": {
             "outlinewidth": 0,
             "ticks": ""
            },
            "colorscale": [
             [
              0,
              "#0d0887"
             ],
             [
              0.1111111111111111,
              "#46039f"
             ],
             [
              0.2222222222222222,
              "#7201a8"
             ],
             [
              0.3333333333333333,
              "#9c179e"
             ],
             [
              0.4444444444444444,
              "#bd3786"
             ],
             [
              0.5555555555555556,
              "#d8576b"
             ],
             [
              0.6666666666666666,
              "#ed7953"
             ],
             [
              0.7777777777777778,
              "#fb9f3a"
             ],
             [
              0.8888888888888888,
              "#fdca26"
             ],
             [
              1,
              "#f0f921"
             ]
            ],
            "type": "heatmap"
           }
          ],
          "histogram": [
           {
            "marker": {
             "pattern": {
              "fillmode": "overlay",
              "size": 10,
              "solidity": 0.2
             }
            },
            "type": "histogram"
           }
          ],
          "histogram2d": [
           {
            "colorbar": {
             "outlinewidth": 0,
             "ticks": ""
            },
            "colorscale": [
             [
              0,
              "#0d0887"
             ],
             [
              0.1111111111111111,
              "#46039f"
             ],
             [
              0.2222222222222222,
              "#7201a8"
             ],
             [
              0.3333333333333333,
              "#9c179e"
             ],
             [
              0.4444444444444444,
              "#bd3786"
             ],
             [
              0.5555555555555556,
              "#d8576b"
             ],
             [
              0.6666666666666666,
              "#ed7953"
             ],
             [
              0.7777777777777778,
              "#fb9f3a"
             ],
             [
              0.8888888888888888,
              "#fdca26"
             ],
             [
              1,
              "#f0f921"
             ]
            ],
            "type": "histogram2d"
           }
          ],
          "histogram2dcontour": [
           {
            "colorbar": {
             "outlinewidth": 0,
             "ticks": ""
            },
            "colorscale": [
             [
              0,
              "#0d0887"
             ],
             [
              0.1111111111111111,
              "#46039f"
             ],
             [
              0.2222222222222222,
              "#7201a8"
             ],
             [
              0.3333333333333333,
              "#9c179e"
             ],
             [
              0.4444444444444444,
              "#bd3786"
             ],
             [
              0.5555555555555556,
              "#d8576b"
             ],
             [
              0.6666666666666666,
              "#ed7953"
             ],
             [
              0.7777777777777778,
              "#fb9f3a"
             ],
             [
              0.8888888888888888,
              "#fdca26"
             ],
             [
              1,
              "#f0f921"
             ]
            ],
            "type": "histogram2dcontour"
           }
          ],
          "mesh3d": [
           {
            "colorbar": {
             "outlinewidth": 0,
             "ticks": ""
            },
            "type": "mesh3d"
           }
          ],
          "parcoords": [
           {
            "line": {
             "colorbar": {
              "outlinewidth": 0,
              "ticks": ""
             }
            },
            "type": "parcoords"
           }
          ],
          "pie": [
           {
            "automargin": true,
            "type": "pie"
           }
          ],
          "scatter": [
           {
            "fillpattern": {
             "fillmode": "overlay",
             "size": 10,
             "solidity": 0.2
            },
            "type": "scatter"
           }
          ],
          "scatter3d": [
           {
            "line": {
             "colorbar": {
              "outlinewidth": 0,
              "ticks": ""
             }
            },
            "marker": {
             "colorbar": {
              "outlinewidth": 0,
              "ticks": ""
             }
            },
            "type": "scatter3d"
           }
          ],
          "scattercarpet": [
           {
            "marker": {
             "colorbar": {
              "outlinewidth": 0,
              "ticks": ""
             }
            },
            "type": "scattercarpet"
           }
          ],
          "scattergeo": [
           {
            "marker": {
             "colorbar": {
              "outlinewidth": 0,
              "ticks": ""
             }
            },
            "type": "scattergeo"
           }
          ],
          "scattergl": [
           {
            "marker": {
             "colorbar": {
              "outlinewidth": 0,
              "ticks": ""
             }
            },
            "type": "scattergl"
           }
          ],
          "scattermap": [
           {
            "marker": {
             "colorbar": {
              "outlinewidth": 0,
              "ticks": ""
             }
            },
            "type": "scattermap"
           }
          ],
          "scattermapbox": [
           {
            "marker": {
             "colorbar": {
              "outlinewidth": 0,
              "ticks": ""
             }
            },
            "type": "scattermapbox"
           }
          ],
          "scatterpolar": [
           {
            "marker": {
             "colorbar": {
              "outlinewidth": 0,
              "ticks": ""
             }
            },
            "type": "scatterpolar"
           }
          ],
          "scatterpolargl": [
           {
            "marker": {
             "colorbar": {
              "outlinewidth": 0,
              "ticks": ""
             }
            },
            "type": "scatterpolargl"
           }
          ],
          "scatterternary": [
           {
            "marker": {
             "colorbar": {
              "outlinewidth": 0,
              "ticks": ""
             }
            },
            "type": "scatterternary"
           }
          ],
          "surface": [
           {
            "colorbar": {
             "outlinewidth": 0,
             "ticks": ""
            },
            "colorscale": [
             [
              0,
              "#0d0887"
             ],
             [
              0.1111111111111111,
              "#46039f"
             ],
             [
              0.2222222222222222,
              "#7201a8"
             ],
             [
              0.3333333333333333,
              "#9c179e"
             ],
             [
              0.4444444444444444,
              "#bd3786"
             ],
             [
              0.5555555555555556,
              "#d8576b"
             ],
             [
              0.6666666666666666,
              "#ed7953"
             ],
             [
              0.7777777777777778,
              "#fb9f3a"
             ],
             [
              0.8888888888888888,
              "#fdca26"
             ],
             [
              1,
              "#f0f921"
             ]
            ],
            "type": "surface"
           }
          ],
          "table": [
           {
            "cells": {
             "fill": {
              "color": "#EBF0F8"
             },
             "line": {
              "color": "white"
             }
            },
            "header": {
             "fill": {
              "color": "#C8D4E3"
             },
             "line": {
              "color": "white"
             }
            },
            "type": "table"
           }
          ]
         },
         "layout": {
          "annotationdefaults": {
           "arrowcolor": "#2a3f5f",
           "arrowhead": 0,
           "arrowwidth": 1
          },
          "autotypenumbers": "strict",
          "coloraxis": {
           "colorbar": {
            "outlinewidth": 0,
            "ticks": ""
           }
          },
          "colorscale": {
           "diverging": [
            [
             0,
             "#8e0152"
            ],
            [
             0.1,
             "#c51b7d"
            ],
            [
             0.2,
             "#de77ae"
            ],
            [
             0.3,
             "#f1b6da"
            ],
            [
             0.4,
             "#fde0ef"
            ],
            [
             0.5,
             "#f7f7f7"
            ],
            [
             0.6,
             "#e6f5d0"
            ],
            [
             0.7,
             "#b8e186"
            ],
            [
             0.8,
             "#7fbc41"
            ],
            [
             0.9,
             "#4d9221"
            ],
            [
             1,
             "#276419"
            ]
           ],
           "sequential": [
            [
             0,
             "#0d0887"
            ],
            [
             0.1111111111111111,
             "#46039f"
            ],
            [
             0.2222222222222222,
             "#7201a8"
            ],
            [
             0.3333333333333333,
             "#9c179e"
            ],
            [
             0.4444444444444444,
             "#bd3786"
            ],
            [
             0.5555555555555556,
             "#d8576b"
            ],
            [
             0.6666666666666666,
             "#ed7953"
            ],
            [
             0.7777777777777778,
             "#fb9f3a"
            ],
            [
             0.8888888888888888,
             "#fdca26"
            ],
            [
             1,
             "#f0f921"
            ]
           ],
           "sequentialminus": [
            [
             0,
             "#0d0887"
            ],
            [
             0.1111111111111111,
             "#46039f"
            ],
            [
             0.2222222222222222,
             "#7201a8"
            ],
            [
             0.3333333333333333,
             "#9c179e"
            ],
            [
             0.4444444444444444,
             "#bd3786"
            ],
            [
             0.5555555555555556,
             "#d8576b"
            ],
            [
             0.6666666666666666,
             "#ed7953"
            ],
            [
             0.7777777777777778,
             "#fb9f3a"
            ],
            [
             0.8888888888888888,
             "#fdca26"
            ],
            [
             1,
             "#f0f921"
            ]
           ]
          },
          "colorway": [
           "#636efa",
           "#EF553B",
           "#00cc96",
           "#ab63fa",
           "#FFA15A",
           "#19d3f3",
           "#FF6692",
           "#B6E880",
           "#FF97FF",
           "#FECB52"
          ],
          "font": {
           "color": "#2a3f5f"
          },
          "geo": {
           "bgcolor": "white",
           "lakecolor": "white",
           "landcolor": "#E5ECF6",
           "showlakes": true,
           "showland": true,
           "subunitcolor": "white"
          },
          "hoverlabel": {
           "align": "left"
          },
          "hovermode": "closest",
          "mapbox": {
           "style": "light"
          },
          "paper_bgcolor": "white",
          "plot_bgcolor": "#E5ECF6",
          "polar": {
           "angularaxis": {
            "gridcolor": "white",
            "linecolor": "white",
            "ticks": ""
           },
           "bgcolor": "#E5ECF6",
           "radialaxis": {
            "gridcolor": "white",
            "linecolor": "white",
            "ticks": ""
           }
          },
          "scene": {
           "xaxis": {
            "backgroundcolor": "#E5ECF6",
            "gridcolor": "white",
            "gridwidth": 2,
            "linecolor": "white",
            "showbackground": true,
            "ticks": "",
            "zerolinecolor": "white"
           },
           "yaxis": {
            "backgroundcolor": "#E5ECF6",
            "gridcolor": "white",
            "gridwidth": 2,
            "linecolor": "white",
            "showbackground": true,
            "ticks": "",
            "zerolinecolor": "white"
           },
           "zaxis": {
            "backgroundcolor": "#E5ECF6",
            "gridcolor": "white",
            "gridwidth": 2,
            "linecolor": "white",
            "showbackground": true,
            "ticks": "",
            "zerolinecolor": "white"
           }
          },
          "shapedefaults": {
           "line": {
            "color": "#2a3f5f"
           }
          },
          "ternary": {
           "aaxis": {
            "gridcolor": "white",
            "linecolor": "white",
            "ticks": ""
           },
           "baxis": {
            "gridcolor": "white",
            "linecolor": "white",
            "ticks": ""
           },
           "bgcolor": "#E5ECF6",
           "caxis": {
            "gridcolor": "white",
            "linecolor": "white",
            "ticks": ""
           }
          },
          "title": {
           "x": 0.05
          },
          "xaxis": {
           "automargin": true,
           "gridcolor": "white",
           "linecolor": "white",
           "ticks": "",
           "title": {
            "standoff": 15
           },
           "zerolinecolor": "white",
           "zerolinewidth": 2
          },
          "yaxis": {
           "automargin": true,
           "gridcolor": "white",
           "linecolor": "white",
           "ticks": "",
           "title": {
            "standoff": 15
           },
           "zerolinecolor": "white",
           "zerolinewidth": 2
          }
         }
        },
        "width": 1000,
        "xaxis": {
         "anchor": "y",
         "domain": [
          0,
          1
         ],
         "matches": "x3",
         "showticklabels": false
        },
        "xaxis2": {
         "anchor": "y2",
         "domain": [
          0,
          1
         ],
         "matches": "x3",
         "showticklabels": false
        },
        "xaxis3": {
         "anchor": "y3",
         "domain": [
          0,
          1
         ],
         "title": {
          "text": "Time Step"
         }
        },
        "yaxis": {
         "anchor": "x",
         "domain": [
          0.7133333333333334,
          1
         ],
         "title": {
          "text": "Battery Dispatch (q_b)"
         }
        },
        "yaxis2": {
         "anchor": "x2",
         "domain": [
          0.3566666666666667,
          0.6433333333333333
         ],
         "title": {
          "text": "SOC"
         }
        },
        "yaxis3": {
         "anchor": "x3",
         "domain": [
          0,
          0.2866666666666667
         ],
         "title": {
          "text": "Price"
         }
        }
       }
      }
     },
     "metadata": {},
     "output_type": "display_data"
    }
   ],
   "source": [
    "from plotly.subplots import make_subplots\n",
    "\n",
    "\n",
    "import plotly.graph_objects as go\n",
    "\n",
    "fig = make_subplots(rows=3, cols=1, shared_xaxes=True, vertical_spacing=0.07,\n",
    "                    subplot_titles=(\"Optimal Battery Dispatch\", \"Battery State-of-Charge (SOC)\", \"Market Clearing Price\"))\n",
    "\n",
    "# 1. Battery Dispatch\n",
    "fig.add_trace(go.Scatter(y=q_b_list, mode='lines', name='Optimal Battery Policy'), row=1, col=1)\n",
    "fig.add_hline(y=0, line_dash=\"dash\", line_color=\"gray\", row=1, col=1)\n",
    "\n",
    "# 2. Battery SOC\n",
    "fig.add_trace(go.Scatter(y=socs, mode='lines', name='Battery SOC'), row=2, col=1)\n",
    "fig.add_hline(y=socs[0], line_dash=\"dot\", line_color=\"green\", row=2, col=1)\n",
    "\n",
    "# 3. Market Price\n",
    "fig.add_trace(go.Scatter(y=prices, mode='lines', name='Market Price'), row=3, col=1)\n",
    "\n",
    "fig.update_yaxes(title_text=\"Battery Dispatch (q_b)\", row=1, col=1)\n",
    "fig.update_yaxes(title_text=\"SOC\", row=2, col=1)\n",
    "fig.update_yaxes(title_text=\"Price\", row=3, col=1)\n",
    "fig.update_xaxes(title_text=\"Time Step\", row=3, col=1)\n",
    "\n",
    "fig.update_layout(height=800, width=1000, showlegend=True, legend=dict(x=0.85, y=1.05))\n",
    "fig.show()\n",
    "\n"
   ]
  },
  {
   "cell_type": "code",
   "execution_count": 97,
   "id": "d8625258",
   "metadata": {},
   "outputs": [
    {
     "data": {
      "application/vnd.plotly.v1+json": {
       "config": {
        "plotlyServerURL": "https://plotly.com"
       },
       "data": [
        {
         "line": {
          "color": "green"
         },
         "mode": "lines",
         "name": "Solar Dispatch",
         "type": "scatter",
         "x": [
          0,
          1,
          2,
          3,
          4,
          5,
          6,
          7,
          8,
          9,
          10,
          11,
          12,
          13,
          14,
          15,
          16,
          17,
          18,
          19,
          20,
          21,
          22,
          23,
          24,
          25,
          26,
          27,
          28,
          29,
          30,
          31,
          32,
          33,
          34,
          35,
          36,
          37,
          38,
          39,
          40,
          41,
          42,
          43,
          44,
          45,
          46,
          47,
          48,
          49,
          50,
          51,
          52,
          53,
          54,
          55,
          56,
          57,
          58,
          59,
          60,
          61,
          62,
          63,
          64,
          65,
          66,
          67,
          68,
          69,
          70,
          71,
          72,
          73,
          74,
          75,
          76,
          77,
          78,
          79,
          80,
          81,
          82,
          83,
          84,
          85,
          86,
          87,
          88,
          89,
          90,
          91,
          92,
          93,
          94,
          95,
          96,
          97,
          98,
          99,
          100,
          101,
          102,
          103,
          104,
          105,
          106,
          107,
          108,
          109,
          110,
          111,
          112,
          113,
          114,
          115,
          116,
          117,
          118,
          119,
          120,
          121,
          122,
          123,
          124,
          125,
          126,
          127,
          128,
          129,
          130,
          131,
          132,
          133,
          134,
          135,
          136,
          137,
          138,
          139,
          140,
          141,
          142,
          143,
          144,
          145,
          146,
          147,
          148,
          149,
          150,
          151,
          152,
          153,
          154,
          155,
          156,
          157,
          158,
          159,
          160,
          161,
          162,
          163,
          164,
          165,
          166,
          167,
          168
         ],
         "y": [
          0,
          0,
          0,
          0,
          0,
          0,
          1.2246467991473533e-15,
          4.4504186791262885,
          8.677674782351163,
          12,
          12,
          12,
          12,
          12,
          12,
          12,
          12,
          12,
          8.677674782351163,
          4.4504186791262885,
          1.2246467991473533e-15,
          0,
          0,
          0,
          0,
          0,
          0,
          0,
          0,
          0,
          1.2246467991473533e-15,
          4.4504186791262885,
          8.677674782351163,
          12,
          12,
          12,
          12,
          12,
          12,
          12,
          12,
          12,
          8.677674782351163,
          4.4504186791262885,
          1.2246467991473533e-15,
          0,
          0,
          0,
          0,
          0,
          0,
          0,
          0,
          0,
          1.2246467991473533e-15,
          4.4504186791262885,
          8.677674782351163,
          12,
          12,
          12,
          12,
          12,
          12,
          12,
          12,
          12,
          8.677674782351163,
          4.4504186791262885,
          1.2246467991473533e-15,
          0,
          0,
          0,
          0,
          0,
          0,
          0,
          0,
          0,
          1.2246467991473533e-15,
          4.4504186791262885,
          8.677674782351163,
          12,
          12,
          12,
          12,
          12,
          12,
          12,
          12,
          12,
          8.677674782351163,
          4.4504186791262885,
          1.2246467991473533e-15,
          0,
          0,
          0,
          0,
          0,
          0,
          0,
          0,
          0,
          1.2246467991473533e-15,
          4.4504186791262885,
          8.677674782351163,
          12,
          12,
          12,
          12,
          12,
          12,
          12,
          12,
          12,
          8.677674782351163,
          4.4504186791262885,
          1.2246467991473533e-15,
          0,
          0,
          0,
          0,
          0,
          0,
          0,
          0,
          0,
          1.2246467991473533e-15,
          4.4504186791262885,
          8.677674782351163,
          12,
          12,
          12,
          12,
          12,
          12,
          12,
          12,
          12,
          8.677674782351163,
          4.4504186791262885,
          1.2246467991473533e-15,
          0,
          0,
          0,
          0,
          0,
          0,
          0,
          0,
          0,
          1.2246467991473533e-15,
          4.4504186791262885,
          8.677674782351163,
          12,
          12,
          12,
          12,
          12,
          12,
          12,
          12,
          12,
          8.677674782351163,
          4.4504186791262885,
          1.2246467991473533e-15,
          0,
          0,
          0
         ]
        },
        {
         "line": {
          "color": "red"
         },
         "mode": "lines",
         "name": "Battery Dispatch",
         "type": "scatter",
         "x": [
          0,
          1,
          2,
          3,
          4,
          5,
          6,
          7,
          8,
          9,
          10,
          11,
          12,
          13,
          14,
          15,
          16,
          17,
          18,
          19,
          20,
          21,
          22,
          23,
          24,
          25,
          26,
          27,
          28,
          29,
          30,
          31,
          32,
          33,
          34,
          35,
          36,
          37,
          38,
          39,
          40,
          41,
          42,
          43,
          44,
          45,
          46,
          47,
          48,
          49,
          50,
          51,
          52,
          53,
          54,
          55,
          56,
          57,
          58,
          59,
          60,
          61,
          62,
          63,
          64,
          65,
          66,
          67,
          68,
          69,
          70,
          71,
          72,
          73,
          74,
          75,
          76,
          77,
          78,
          79,
          80,
          81,
          82,
          83,
          84,
          85,
          86,
          87,
          88,
          89,
          90,
          91,
          92,
          93,
          94,
          95,
          96,
          97,
          98,
          99,
          100,
          101,
          102,
          103,
          104,
          105,
          106,
          107,
          108,
          109,
          110,
          111,
          112,
          113,
          114,
          115,
          116,
          117,
          118,
          119,
          120,
          121,
          122,
          123,
          124,
          125,
          126,
          127,
          128,
          129,
          130,
          131,
          132,
          133,
          134,
          135,
          136,
          137,
          138,
          139,
          140,
          141,
          142,
          143,
          144,
          145,
          146,
          147,
          148,
          149,
          150,
          151,
          152,
          153,
          154,
          155,
          156,
          157,
          158,
          159,
          160,
          161,
          162,
          163,
          164,
          165,
          166,
          167,
          168
         ],
         "y": [
          2,
          2,
          2,
          2,
          2,
          2,
          2,
          0,
          0,
          -2,
          -2,
          -2,
          -2,
          -2,
          -2,
          -2,
          -2,
          -2,
          0,
          0,
          0,
          0,
          2,
          2,
          2,
          2,
          2,
          2,
          2,
          2,
          2,
          0,
          0,
          -2,
          -2,
          -2,
          -2,
          -2,
          -2,
          -2,
          -2,
          -2,
          0,
          0,
          0,
          0,
          2,
          2,
          2,
          2,
          2,
          2,
          2,
          2,
          2,
          0,
          0,
          -2,
          -2,
          -2,
          -2,
          -2,
          -2,
          -2,
          -2,
          -2,
          0,
          0,
          0,
          0,
          2,
          2,
          2,
          2,
          2,
          2,
          2,
          2,
          2,
          0,
          0,
          -2,
          -2,
          -2,
          -2,
          -2,
          -2,
          -2,
          -2,
          -2,
          0,
          0,
          0,
          0,
          2,
          2,
          2,
          2,
          2,
          2,
          2,
          2,
          2,
          0,
          0,
          -2,
          -2,
          -2,
          -2,
          -2,
          -2,
          -2,
          -2,
          -2,
          0,
          0,
          0,
          0,
          2,
          2,
          2,
          2,
          2,
          2,
          2,
          2,
          2,
          0,
          0,
          -2,
          -2,
          -2,
          -2,
          -2,
          -2,
          -2,
          -2,
          -2,
          0,
          0,
          0,
          0,
          2,
          2,
          2,
          2,
          2,
          2,
          2,
          2,
          2,
          0,
          0,
          -2,
          -2,
          -2,
          -2,
          -2,
          -2,
          -2,
          -2,
          -2,
          0,
          0,
          0,
          0,
          2,
          2
         ]
        },
        {
         "line": {
          "color": "purple"
         },
         "mode": "lines",
         "name": "Utility Dispatch",
         "type": "scatter",
         "x": [
          0,
          1,
          2,
          3,
          4,
          5,
          6,
          7,
          8,
          9,
          10,
          11,
          12,
          13,
          14,
          15,
          16,
          17,
          18,
          19,
          20,
          21,
          22,
          23,
          24,
          25,
          26,
          27,
          28,
          29,
          30,
          31,
          32,
          33,
          34,
          35,
          36,
          37,
          38,
          39,
          40,
          41,
          42,
          43,
          44,
          45,
          46,
          47,
          48,
          49,
          50,
          51,
          52,
          53,
          54,
          55,
          56,
          57,
          58,
          59,
          60,
          61,
          62,
          63,
          64,
          65,
          66,
          67,
          68,
          69,
          70,
          71,
          72,
          73,
          74,
          75,
          76,
          77,
          78,
          79,
          80,
          81,
          82,
          83,
          84,
          85,
          86,
          87,
          88,
          89,
          90,
          91,
          92,
          93,
          94,
          95,
          96,
          97,
          98,
          99,
          100,
          101,
          102,
          103,
          104,
          105,
          106,
          107,
          108,
          109,
          110,
          111,
          112,
          113,
          114,
          115,
          116,
          117,
          118,
          119,
          120,
          121,
          122,
          123,
          124,
          125,
          126,
          127,
          128,
          129,
          130,
          131,
          132,
          133,
          134,
          135,
          136,
          137,
          138,
          139,
          140,
          141,
          142,
          143,
          144,
          145,
          146,
          147,
          148,
          149,
          150,
          151,
          152,
          153,
          154,
          155,
          156,
          157,
          158,
          159,
          160,
          161,
          162,
          163,
          164,
          165,
          166,
          167,
          168
         ],
         "y": [
          3,
          3,
          3,
          3,
          3,
          3,
          2.999999999999999,
          0.5495813208737115,
          0,
          0,
          0,
          0,
          0,
          0,
          0,
          0,
          0,
          0,
          0,
          0.5495813208737115,
          4.999999999999999,
          5,
          3,
          3,
          3,
          3,
          3,
          3,
          3,
          3,
          2.999999999999999,
          0.5495813208737115,
          0,
          0,
          0,
          0,
          0,
          0,
          0,
          0,
          0,
          0,
          0,
          0.5495813208737115,
          4.999999999999999,
          5,
          3,
          3,
          3,
          3,
          3,
          3,
          3,
          3,
          2.999999999999999,
          0.5495813208737115,
          0,
          0,
          0,
          0,
          0,
          0,
          0,
          0,
          0,
          0,
          0,
          0.5495813208737115,
          4.999999999999999,
          5,
          3,
          3,
          3,
          3,
          3,
          3,
          3,
          3,
          2.999999999999999,
          0.5495813208737115,
          0,
          0,
          0,
          0,
          0,
          0,
          0,
          0,
          0,
          0,
          0,
          0.5495813208737115,
          4.999999999999999,
          5,
          3,
          3,
          3,
          3,
          3,
          3,
          3,
          3,
          2.999999999999999,
          0.5495813208737115,
          0,
          0,
          0,
          0,
          0,
          0,
          0,
          0,
          0,
          0,
          0,
          0.5495813208737115,
          4.999999999999999,
          5,
          3,
          3,
          3,
          3,
          3,
          3,
          3,
          3,
          2.999999999999999,
          0.5495813208737115,
          0,
          0,
          0,
          0,
          0,
          0,
          0,
          0,
          0,
          0,
          0,
          0.5495813208737115,
          4.999999999999999,
          5,
          3,
          3,
          3,
          3,
          3,
          3,
          3,
          3,
          2.999999999999999,
          0.5495813208737115,
          0,
          0,
          0,
          0,
          0,
          0,
          0,
          0,
          0,
          0,
          0,
          0.5495813208737115,
          4.999999999999999,
          5,
          3,
          3
         ]
        },
        {
         "line": {
          "color": "blue"
         },
         "mode": "lines",
         "name": "Total Demand",
         "type": "scatter",
         "x": [
          0,
          1,
          2,
          3,
          4,
          5,
          6,
          7,
          8,
          9,
          10,
          11,
          12,
          13,
          14,
          15,
          16,
          17,
          18,
          19,
          20,
          21,
          22,
          23,
          24,
          25,
          26,
          27,
          28,
          29,
          30,
          31,
          32,
          33,
          34,
          35,
          36,
          37,
          38,
          39,
          40,
          41,
          42,
          43,
          44,
          45,
          46,
          47,
          48,
          49,
          50,
          51,
          52,
          53,
          54,
          55,
          56,
          57,
          58,
          59,
          60,
          61,
          62,
          63,
          64,
          65,
          66,
          67,
          68,
          69,
          70,
          71,
          72,
          73,
          74,
          75,
          76,
          77,
          78,
          79,
          80,
          81,
          82,
          83,
          84,
          85,
          86,
          87,
          88,
          89,
          90,
          91,
          92,
          93,
          94,
          95,
          96,
          97,
          98,
          99,
          100,
          101,
          102,
          103,
          104,
          105,
          106,
          107,
          108,
          109,
          110,
          111,
          112,
          113,
          114,
          115,
          116,
          117,
          118,
          119,
          120,
          121,
          122,
          123,
          124,
          125,
          126,
          127,
          128,
          129,
          130,
          131,
          132,
          133,
          134,
          135,
          136,
          137,
          138,
          139,
          140,
          141,
          142,
          143,
          144,
          145,
          146,
          147,
          148,
          149,
          150,
          151,
          152,
          153,
          154,
          155,
          156,
          157,
          158,
          159,
          160,
          161,
          162,
          163,
          164,
          165,
          166,
          167,
          168
         ],
         "y": [
          5,
          5,
          5,
          5,
          5,
          5,
          5,
          5,
          10,
          10,
          10,
          10,
          10,
          10,
          10,
          10,
          10,
          10,
          10,
          5,
          5,
          5,
          5,
          5,
          5,
          5,
          5,
          5,
          5,
          5,
          5,
          5,
          10,
          10,
          10,
          10,
          10,
          10,
          10,
          10,
          10,
          10,
          10,
          5,
          5,
          5,
          5,
          5,
          5,
          5,
          5,
          5,
          5,
          5,
          5,
          5,
          10,
          10,
          10,
          10,
          10,
          10,
          10,
          10,
          10,
          10,
          10,
          5,
          5,
          5,
          5,
          5,
          5,
          5,
          5,
          5,
          5,
          5,
          5,
          5,
          10,
          10,
          10,
          10,
          10,
          10,
          10,
          10,
          10,
          10,
          10,
          5,
          5,
          5,
          5,
          5,
          5,
          5,
          5,
          5,
          5,
          5,
          5,
          5,
          10,
          10,
          10,
          10,
          10,
          10,
          10,
          10,
          10,
          10,
          10,
          5,
          5,
          5,
          5,
          5,
          5,
          5,
          5,
          5,
          5,
          5,
          5,
          5,
          10,
          10,
          10,
          10,
          10,
          10,
          10,
          10,
          10,
          10,
          10,
          5,
          5,
          5,
          5,
          5,
          5,
          5,
          5,
          5,
          5,
          5,
          5,
          5,
          10,
          10,
          10,
          10,
          10,
          10,
          10,
          10,
          10,
          10,
          10,
          5,
          5,
          5,
          5,
          5
         ]
        },
        {
         "line": {
          "color": "orange",
          "dash": "dash"
         },
         "mode": "lines",
         "name": "Solar Supply",
         "type": "scatter",
         "x": [
          0,
          1,
          2,
          3,
          4,
          5,
          6,
          7,
          8,
          9,
          10,
          11,
          12,
          13,
          14,
          15,
          16,
          17,
          18,
          19,
          20,
          21,
          22,
          23,
          24,
          25,
          26,
          27,
          28,
          29,
          30,
          31,
          32,
          33,
          34,
          35,
          36,
          37,
          38,
          39,
          40,
          41,
          42,
          43,
          44,
          45,
          46,
          47,
          48,
          49,
          50,
          51,
          52,
          53,
          54,
          55,
          56,
          57,
          58,
          59,
          60,
          61,
          62,
          63,
          64,
          65,
          66,
          67,
          68,
          69,
          70,
          71,
          72,
          73,
          74,
          75,
          76,
          77,
          78,
          79,
          80,
          81,
          82,
          83,
          84,
          85,
          86,
          87,
          88,
          89,
          90,
          91,
          92,
          93,
          94,
          95,
          96,
          97,
          98,
          99,
          100,
          101,
          102,
          103,
          104,
          105,
          106,
          107,
          108,
          109,
          110,
          111,
          112,
          113,
          114,
          115,
          116,
          117,
          118,
          119,
          120,
          121,
          122,
          123,
          124,
          125,
          126,
          127,
          128,
          129,
          130,
          131,
          132,
          133,
          134,
          135,
          136,
          137,
          138,
          139,
          140,
          141,
          142,
          143,
          144,
          145,
          146,
          147,
          148,
          149,
          150,
          151,
          152,
          153,
          154,
          155,
          156,
          157,
          158,
          159,
          160,
          161,
          162,
          163,
          164,
          165,
          166,
          167,
          168
         ],
         "y": [
          0,
          0,
          0,
          0,
          0,
          0,
          1.2246467991473533e-15,
          4.4504186791262885,
          8.677674782351163,
          12.469796037174671,
          15.636629649360597,
          18.019377358048384,
          19.498558243636474,
          20,
          19.498558243636474,
          18.019377358048384,
          15.636629649360597,
          12.469796037174671,
          8.677674782351163,
          4.4504186791262885,
          1.2246467991473533e-15,
          0,
          0,
          0,
          0,
          0,
          0,
          0,
          0,
          0,
          1.2246467991473533e-15,
          4.4504186791262885,
          8.677674782351163,
          12.469796037174671,
          15.636629649360597,
          18.019377358048384,
          19.498558243636474,
          20,
          19.498558243636474,
          18.019377358048384,
          15.636629649360597,
          12.469796037174671,
          8.677674782351163,
          4.4504186791262885,
          1.2246467991473533e-15,
          0,
          0,
          0,
          0,
          0,
          0,
          0,
          0,
          0,
          1.2246467991473533e-15,
          4.4504186791262885,
          8.677674782351163,
          12.469796037174671,
          15.636629649360597,
          18.019377358048384,
          19.498558243636474,
          20,
          19.498558243636474,
          18.019377358048384,
          15.636629649360597,
          12.469796037174671,
          8.677674782351163,
          4.4504186791262885,
          1.2246467991473533e-15,
          0,
          0,
          0,
          0,
          0,
          0,
          0,
          0,
          0,
          1.2246467991473533e-15,
          4.4504186791262885,
          8.677674782351163,
          12.469796037174671,
          15.636629649360597,
          18.019377358048384,
          19.498558243636474,
          20,
          19.498558243636474,
          18.019377358048384,
          15.636629649360597,
          12.469796037174671,
          8.677674782351163,
          4.4504186791262885,
          1.2246467991473533e-15,
          0,
          0,
          0,
          0,
          0,
          0,
          0,
          0,
          0,
          1.2246467991473533e-15,
          4.4504186791262885,
          8.677674782351163,
          12.469796037174671,
          15.636629649360597,
          18.019377358048384,
          19.498558243636474,
          20,
          19.498558243636474,
          18.019377358048384,
          15.636629649360597,
          12.469796037174671,
          8.677674782351163,
          4.4504186791262885,
          1.2246467991473533e-15,
          0,
          0,
          0,
          0,
          0,
          0,
          0,
          0,
          0,
          1.2246467991473533e-15,
          4.4504186791262885,
          8.677674782351163,
          12.469796037174671,
          15.636629649360597,
          18.019377358048384,
          19.498558243636474,
          20,
          19.498558243636474,
          18.019377358048384,
          15.636629649360597,
          12.469796037174671,
          8.677674782351163,
          4.4504186791262885,
          1.2246467991473533e-15,
          0,
          0,
          0,
          0,
          0,
          0,
          0,
          0,
          0,
          1.2246467991473533e-15,
          4.4504186791262885,
          8.677674782351163,
          12.469796037174671,
          15.636629649360597,
          18.019377358048384,
          19.498558243636474,
          20,
          19.498558243636474,
          18.019377358048384,
          15.636629649360597,
          12.469796037174671,
          8.677674782351163,
          4.4504186791262885,
          1.2246467991473533e-15,
          0,
          0,
          0,
          0
         ]
        }
       ],
       "layout": {
        "template": {
         "data": {
          "bar": [
           {
            "error_x": {
             "color": "#2a3f5f"
            },
            "error_y": {
             "color": "#2a3f5f"
            },
            "marker": {
             "line": {
              "color": "#E5ECF6",
              "width": 0.5
             },
             "pattern": {
              "fillmode": "overlay",
              "size": 10,
              "solidity": 0.2
             }
            },
            "type": "bar"
           }
          ],
          "barpolar": [
           {
            "marker": {
             "line": {
              "color": "#E5ECF6",
              "width": 0.5
             },
             "pattern": {
              "fillmode": "overlay",
              "size": 10,
              "solidity": 0.2
             }
            },
            "type": "barpolar"
           }
          ],
          "carpet": [
           {
            "aaxis": {
             "endlinecolor": "#2a3f5f",
             "gridcolor": "white",
             "linecolor": "white",
             "minorgridcolor": "white",
             "startlinecolor": "#2a3f5f"
            },
            "baxis": {
             "endlinecolor": "#2a3f5f",
             "gridcolor": "white",
             "linecolor": "white",
             "minorgridcolor": "white",
             "startlinecolor": "#2a3f5f"
            },
            "type": "carpet"
           }
          ],
          "choropleth": [
           {
            "colorbar": {
             "outlinewidth": 0,
             "ticks": ""
            },
            "type": "choropleth"
           }
          ],
          "contour": [
           {
            "colorbar": {
             "outlinewidth": 0,
             "ticks": ""
            },
            "colorscale": [
             [
              0,
              "#0d0887"
             ],
             [
              0.1111111111111111,
              "#46039f"
             ],
             [
              0.2222222222222222,
              "#7201a8"
             ],
             [
              0.3333333333333333,
              "#9c179e"
             ],
             [
              0.4444444444444444,
              "#bd3786"
             ],
             [
              0.5555555555555556,
              "#d8576b"
             ],
             [
              0.6666666666666666,
              "#ed7953"
             ],
             [
              0.7777777777777778,
              "#fb9f3a"
             ],
             [
              0.8888888888888888,
              "#fdca26"
             ],
             [
              1,
              "#f0f921"
             ]
            ],
            "type": "contour"
           }
          ],
          "contourcarpet": [
           {
            "colorbar": {
             "outlinewidth": 0,
             "ticks": ""
            },
            "type": "contourcarpet"
           }
          ],
          "heatmap": [
           {
            "colorbar": {
             "outlinewidth": 0,
             "ticks": ""
            },
            "colorscale": [
             [
              0,
              "#0d0887"
             ],
             [
              0.1111111111111111,
              "#46039f"
             ],
             [
              0.2222222222222222,
              "#7201a8"
             ],
             [
              0.3333333333333333,
              "#9c179e"
             ],
             [
              0.4444444444444444,
              "#bd3786"
             ],
             [
              0.5555555555555556,
              "#d8576b"
             ],
             [
              0.6666666666666666,
              "#ed7953"
             ],
             [
              0.7777777777777778,
              "#fb9f3a"
             ],
             [
              0.8888888888888888,
              "#fdca26"
             ],
             [
              1,
              "#f0f921"
             ]
            ],
            "type": "heatmap"
           }
          ],
          "histogram": [
           {
            "marker": {
             "pattern": {
              "fillmode": "overlay",
              "size": 10,
              "solidity": 0.2
             }
            },
            "type": "histogram"
           }
          ],
          "histogram2d": [
           {
            "colorbar": {
             "outlinewidth": 0,
             "ticks": ""
            },
            "colorscale": [
             [
              0,
              "#0d0887"
             ],
             [
              0.1111111111111111,
              "#46039f"
             ],
             [
              0.2222222222222222,
              "#7201a8"
             ],
             [
              0.3333333333333333,
              "#9c179e"
             ],
             [
              0.4444444444444444,
              "#bd3786"
             ],
             [
              0.5555555555555556,
              "#d8576b"
             ],
             [
              0.6666666666666666,
              "#ed7953"
             ],
             [
              0.7777777777777778,
              "#fb9f3a"
             ],
             [
              0.8888888888888888,
              "#fdca26"
             ],
             [
              1,
              "#f0f921"
             ]
            ],
            "type": "histogram2d"
           }
          ],
          "histogram2dcontour": [
           {
            "colorbar": {
             "outlinewidth": 0,
             "ticks": ""
            },
            "colorscale": [
             [
              0,
              "#0d0887"
             ],
             [
              0.1111111111111111,
              "#46039f"
             ],
             [
              0.2222222222222222,
              "#7201a8"
             ],
             [
              0.3333333333333333,
              "#9c179e"
             ],
             [
              0.4444444444444444,
              "#bd3786"
             ],
             [
              0.5555555555555556,
              "#d8576b"
             ],
             [
              0.6666666666666666,
              "#ed7953"
             ],
             [
              0.7777777777777778,
              "#fb9f3a"
             ],
             [
              0.8888888888888888,
              "#fdca26"
             ],
             [
              1,
              "#f0f921"
             ]
            ],
            "type": "histogram2dcontour"
           }
          ],
          "mesh3d": [
           {
            "colorbar": {
             "outlinewidth": 0,
             "ticks": ""
            },
            "type": "mesh3d"
           }
          ],
          "parcoords": [
           {
            "line": {
             "colorbar": {
              "outlinewidth": 0,
              "ticks": ""
             }
            },
            "type": "parcoords"
           }
          ],
          "pie": [
           {
            "automargin": true,
            "type": "pie"
           }
          ],
          "scatter": [
           {
            "fillpattern": {
             "fillmode": "overlay",
             "size": 10,
             "solidity": 0.2
            },
            "type": "scatter"
           }
          ],
          "scatter3d": [
           {
            "line": {
             "colorbar": {
              "outlinewidth": 0,
              "ticks": ""
             }
            },
            "marker": {
             "colorbar": {
              "outlinewidth": 0,
              "ticks": ""
             }
            },
            "type": "scatter3d"
           }
          ],
          "scattercarpet": [
           {
            "marker": {
             "colorbar": {
              "outlinewidth": 0,
              "ticks": ""
             }
            },
            "type": "scattercarpet"
           }
          ],
          "scattergeo": [
           {
            "marker": {
             "colorbar": {
              "outlinewidth": 0,
              "ticks": ""
             }
            },
            "type": "scattergeo"
           }
          ],
          "scattergl": [
           {
            "marker": {
             "colorbar": {
              "outlinewidth": 0,
              "ticks": ""
             }
            },
            "type": "scattergl"
           }
          ],
          "scattermap": [
           {
            "marker": {
             "colorbar": {
              "outlinewidth": 0,
              "ticks": ""
             }
            },
            "type": "scattermap"
           }
          ],
          "scattermapbox": [
           {
            "marker": {
             "colorbar": {
              "outlinewidth": 0,
              "ticks": ""
             }
            },
            "type": "scattermapbox"
           }
          ],
          "scatterpolar": [
           {
            "marker": {
             "colorbar": {
              "outlinewidth": 0,
              "ticks": ""
             }
            },
            "type": "scatterpolar"
           }
          ],
          "scatterpolargl": [
           {
            "marker": {
             "colorbar": {
              "outlinewidth": 0,
              "ticks": ""
             }
            },
            "type": "scatterpolargl"
           }
          ],
          "scatterternary": [
           {
            "marker": {
             "colorbar": {
              "outlinewidth": 0,
              "ticks": ""
             }
            },
            "type": "scatterternary"
           }
          ],
          "surface": [
           {
            "colorbar": {
             "outlinewidth": 0,
             "ticks": ""
            },
            "colorscale": [
             [
              0,
              "#0d0887"
             ],
             [
              0.1111111111111111,
              "#46039f"
             ],
             [
              0.2222222222222222,
              "#7201a8"
             ],
             [
              0.3333333333333333,
              "#9c179e"
             ],
             [
              0.4444444444444444,
              "#bd3786"
             ],
             [
              0.5555555555555556,
              "#d8576b"
             ],
             [
              0.6666666666666666,
              "#ed7953"
             ],
             [
              0.7777777777777778,
              "#fb9f3a"
             ],
             [
              0.8888888888888888,
              "#fdca26"
             ],
             [
              1,
              "#f0f921"
             ]
            ],
            "type": "surface"
           }
          ],
          "table": [
           {
            "cells": {
             "fill": {
              "color": "#EBF0F8"
             },
             "line": {
              "color": "white"
             }
            },
            "header": {
             "fill": {
              "color": "#C8D4E3"
             },
             "line": {
              "color": "white"
             }
            },
            "type": "table"
           }
          ]
         },
         "layout": {
          "annotationdefaults": {
           "arrowcolor": "#2a3f5f",
           "arrowhead": 0,
           "arrowwidth": 1
          },
          "autotypenumbers": "strict",
          "coloraxis": {
           "colorbar": {
            "outlinewidth": 0,
            "ticks": ""
           }
          },
          "colorscale": {
           "diverging": [
            [
             0,
             "#8e0152"
            ],
            [
             0.1,
             "#c51b7d"
            ],
            [
             0.2,
             "#de77ae"
            ],
            [
             0.3,
             "#f1b6da"
            ],
            [
             0.4,
             "#fde0ef"
            ],
            [
             0.5,
             "#f7f7f7"
            ],
            [
             0.6,
             "#e6f5d0"
            ],
            [
             0.7,
             "#b8e186"
            ],
            [
             0.8,
             "#7fbc41"
            ],
            [
             0.9,
             "#4d9221"
            ],
            [
             1,
             "#276419"
            ]
           ],
           "sequential": [
            [
             0,
             "#0d0887"
            ],
            [
             0.1111111111111111,
             "#46039f"
            ],
            [
             0.2222222222222222,
             "#7201a8"
            ],
            [
             0.3333333333333333,
             "#9c179e"
            ],
            [
             0.4444444444444444,
             "#bd3786"
            ],
            [
             0.5555555555555556,
             "#d8576b"
            ],
            [
             0.6666666666666666,
             "#ed7953"
            ],
            [
             0.7777777777777778,
             "#fb9f3a"
            ],
            [
             0.8888888888888888,
             "#fdca26"
            ],
            [
             1,
             "#f0f921"
            ]
           ],
           "sequentialminus": [
            [
             0,
             "#0d0887"
            ],
            [
             0.1111111111111111,
             "#46039f"
            ],
            [
             0.2222222222222222,
             "#7201a8"
            ],
            [
             0.3333333333333333,
             "#9c179e"
            ],
            [
             0.4444444444444444,
             "#bd3786"
            ],
            [
             0.5555555555555556,
             "#d8576b"
            ],
            [
             0.6666666666666666,
             "#ed7953"
            ],
            [
             0.7777777777777778,
             "#fb9f3a"
            ],
            [
             0.8888888888888888,
             "#fdca26"
            ],
            [
             1,
             "#f0f921"
            ]
           ]
          },
          "colorway": [
           "#636efa",
           "#EF553B",
           "#00cc96",
           "#ab63fa",
           "#FFA15A",
           "#19d3f3",
           "#FF6692",
           "#B6E880",
           "#FF97FF",
           "#FECB52"
          ],
          "font": {
           "color": "#2a3f5f"
          },
          "geo": {
           "bgcolor": "white",
           "lakecolor": "white",
           "landcolor": "#E5ECF6",
           "showlakes": true,
           "showland": true,
           "subunitcolor": "white"
          },
          "hoverlabel": {
           "align": "left"
          },
          "hovermode": "closest",
          "mapbox": {
           "style": "light"
          },
          "paper_bgcolor": "white",
          "plot_bgcolor": "#E5ECF6",
          "polar": {
           "angularaxis": {
            "gridcolor": "white",
            "linecolor": "white",
            "ticks": ""
           },
           "bgcolor": "#E5ECF6",
           "radialaxis": {
            "gridcolor": "white",
            "linecolor": "white",
            "ticks": ""
           }
          },
          "scene": {
           "xaxis": {
            "backgroundcolor": "#E5ECF6",
            "gridcolor": "white",
            "gridwidth": 2,
            "linecolor": "white",
            "showbackground": true,
            "ticks": "",
            "zerolinecolor": "white"
           },
           "yaxis": {
            "backgroundcolor": "#E5ECF6",
            "gridcolor": "white",
            "gridwidth": 2,
            "linecolor": "white",
            "showbackground": true,
            "ticks": "",
            "zerolinecolor": "white"
           },
           "zaxis": {
            "backgroundcolor": "#E5ECF6",
            "gridcolor": "white",
            "gridwidth": 2,
            "linecolor": "white",
            "showbackground": true,
            "ticks": "",
            "zerolinecolor": "white"
           }
          },
          "shapedefaults": {
           "line": {
            "color": "#2a3f5f"
           }
          },
          "ternary": {
           "aaxis": {
            "gridcolor": "white",
            "linecolor": "white",
            "ticks": ""
           },
           "baxis": {
            "gridcolor": "white",
            "linecolor": "white",
            "ticks": ""
           },
           "bgcolor": "#E5ECF6",
           "caxis": {
            "gridcolor": "white",
            "linecolor": "white",
            "ticks": ""
           }
          },
          "title": {
           "x": 0.05
          },
          "xaxis": {
           "automargin": true,
           "gridcolor": "white",
           "linecolor": "white",
           "ticks": "",
           "title": {
            "standoff": 15
           },
           "zerolinecolor": "white",
           "zerolinewidth": 2
          },
          "yaxis": {
           "automargin": true,
           "gridcolor": "white",
           "linecolor": "white",
           "ticks": "",
           "title": {
            "standoff": 15
           },
           "zerolinecolor": "white",
           "zerolinewidth": 2
          }
         }
        },
        "title": {
         "text": "Dispatch and Market Quantities"
        },
        "xaxis": {
         "title": {
          "text": "Time"
         }
        },
        "yaxis": {
         "title": {
          "text": "Quantity"
         }
        }
       }
      }
     },
     "metadata": {},
     "output_type": "display_data"
    }
   ],
   "source": [
    "\n",
    "import plotly.graph_objects as go\n",
    "\n",
    "fig = go.Figure()\n",
    "\n",
    "time_index = list(range(T+1))\n",
    "\n",
    "fig.add_trace(go.Scatter(x=time_index, y=q_s_list, mode='lines', name='Solar Dispatch', line=dict(color='green')))\n",
    "fig.add_trace(go.Scatter(x=time_index, y=q_b_list, mode='lines', name='Battery Dispatch', line=dict(color='red')))\n",
    "fig.add_trace(go.Scatter(x=time_index, y=q_u_list, mode='lines', name='Utility Dispatch', line=dict(color='purple')))\n",
    "fig.add_trace(go.Scatter(x=time_index, y=q_d_list, mode='lines', name='Total Demand', line=dict(color='blue')))\n",
    "fig.add_trace(go.Scatter(x=time_index, y=[s for s in s_t], mode='lines', name='Solar Supply', line=dict(color='orange', dash='dash')))\n",
    "\n",
    "fig.update_layout(\n",
    "    title=\"Dispatch and Market Quantities\",\n",
    "    xaxis_title=\"Time\",\n",
    "    yaxis_title=\"Quantity\"\n",
    "    \n",
    ")\n",
    "\n",
    "fig.show()"
   ]
  },
  {
   "cell_type": "markdown",
   "id": "95f3f85e",
   "metadata": {},
   "source": [
    "## Testing the Simple Code "
   ]
  },
  {
   "cell_type": "code",
   "execution_count": null,
   "id": "8189a3a3",
   "metadata": {},
   "outputs": [],
   "source": [
    "\n",
    "T = 1 \n",
    "k = 100\n",
    "\n",
    "reserve_x = 4\n",
    "reserve_y = k/reserve_x\n",
    "#Model Initialization\n",
    "\n",
    "#Demand/Consumer/Load agent \n",
    "demand_agent = ElasticDemand(10,10, \"demand\", True )\n",
    "utility_agent = Supply(5, 10, \"utility\", True)\n",
    "solar_agent = Supply(0, 5, \"solar\", True )\n",
    "battery_agent = Battery(2,10,\"battery\", [5,0],10, 10, 5, True)\n",
    "\n",
    "amm_agent = AMM()\n",
    "amm_agent.setup_pool(reserve_x, reserve_y)\n",
    "agent_list = [demand_agent, utility_agent, solar_agent]\n",
    "trades_per_period = 100\n",
    "\n",
    "#Model Agent \n",
    "model = Model(T, agent_list, amm_agent, trades_per_period)\n",
    "model.simulate()\n"
   ]
  },
  {
   "cell_type": "markdown",
   "id": "df1ee80d",
   "metadata": {},
   "source": [
    "### Market Clearing Price with Battery "
   ]
  },
  {
   "cell_type": "code",
   "execution_count": null,
   "id": "1f54cc0d",
   "metadata": {},
   "outputs": [
    {
     "name": "stdout",
     "output_type": "stream",
     "text": [
      "p* = 5.00, q* = 50.00, battery sells q_b = 20.00\n"
     ]
    }
   ],
   "source": [
    "import numpy as np\n",
    "\n",
    "def equilibrium_with_battery(v_max, q_max, s_t, C, c_u, q_u_max):\n",
    "    \"\"\"\n",
    "    Compute equilibrium price, quantity, and battery dispatch.\n",
    "\n",
    "    Demand:      v(q)    = v_max * (1 - q / q_max)\n",
    "    Solar supply: free up to s_t\n",
    "    Battery:      free up to C\n",
    "    Utility:      cost = c_u, capacity = q_u_max\n",
    "\n",
    "    Returns:\n",
    "      p_star : float  # equilibrium price\n",
    "      q_star : float  # equilibrium quantity\n",
    "      q_b     : float # battery dispatch (sold)\n",
    "    \"\"\"\n",
    "    # 1) Total free supply from solar + battery\n",
    "    free_supply = s_t + C\n",
    "\n",
    "    # CASE A: demand at zero price is q_max.\n",
    "    # If q_max <= s_t, solar alone meets demand -> price=0, battery stays idle\n",
    "    if q_max <= s_t:\n",
    "        return 0.0, q_max, 0.0\n",
    "\n",
    "    # If s_t < q_max <= free_supply, solar+bat cover demand at p=0\n",
    "    if q_max <= free_supply:\n",
    "        # battery only dispatches what solar cannot\n",
    "        q_b = max(0.0, q_max - s_t)\n",
    "        return 0.0, q_max, q_b\n",
    "\n",
    "    # CASE B: free supply exhausted, price jumps to c_u\n",
    "    # quantity demanded at p=c_u\n",
    "    q_d_at_cu = q_max * (1 - c_u / v_max)\n",
    "\n",
    "    # total capacity including utility\n",
    "    total_capacity = free_supply + q_u_max\n",
    "\n",
    "    if q_d_at_cu <= total_capacity:\n",
    "        # equilibrium at (c_u, q_d_at_cu)\n",
    "        # battery dispatch = as much as it can up to C, but not more than q_d_at_cu - s_t\n",
    "        q_b = min(C, max(0.0, q_d_at_cu - s_t))\n",
    "        return c_u, q_d_at_cu, q_b\n",
    "\n",
    "    # CASE C: even at utility cost, demand exceeds total capacity\n",
    "    # clear at choke price so q* = total_capacity\n",
    "    q_star = total_capacity\n",
    "    p_star = v_max * (1 - q_star / q_max)\n",
    "    # battery dispatches its entire state C\n",
    "    q_b = C\n",
    "    return p_star, q_star, q_b\n",
    "\n",
    "\n",
    "\n",
    "def equilibrium_price_and_quantity(v_max, q_max, s_t, c_u, q_u_max, t):\n",
    "    \"\"\"\n",
    "    Find (p*, q*) solving demand v(q) = supply stack:\n",
    "      - Solar free up to s_t[t]\n",
    "      - Utility at cost c_u up to q_u_max\n",
    "    Demand: v(q)=v_max*(1-q/q_max)\n",
    "    \"\"\"\n",
    "\n",
    "    # 1) If solar alone covers full demand at p=0\n",
    "    if q_max <= s_t[t]:\n",
    "        return 0.0, q_max\n",
    "\n",
    "    # 2) If solar < full demand, but the next marginal value is below c_u:\n",
    "    #    v(s_t) = v_max*(1 - s_t/q_max) < c_u\n",
    "    #    ⇒ nobody is willing to pay the utility price, so\n",
    "    #    market clears on free solar alone\n",
    "    v_at_solar = v_max * (1 - s_t[t] / q_max)\n",
    "    if v_at_solar < c_u:\n",
    "        return 0.0, s_t[t]\n",
    "\n",
    "    # 3) Otherwise demand at price c_u (utility kicks in)\n",
    "    q_star = q_max * (1 - c_u / v_max)\n",
    "    total_supply = s_t[t] + q_u_max\n",
    "\n",
    "    # 3a) If that demand exceeds total capacity, clear at choke price\n",
    "    if q_star > total_supply:\n",
    "        p_star = v_max * (1 - total_supply / q_max)\n",
    "        return p_star, total_supply\n",
    "\n",
    "    # 3b) Otherwise clear at (c_u, q_star)\n",
    "    return c_u, q_star\n",
    "\n",
    "# Example\n",
    "if __name__ == \"__main__\":\n",
    "    v_max, q_max = 10.0, 100.0  # demand parameters\n",
    "    s_t     =  30.0            # solar free supply\n",
    "    C       =  20.0            # battery state-of-charge\n",
    "    c_u     =   5.0            # utility marginal cost\n",
    "    q_u_max =  50.0            # utility capacity\n",
    "\n",
    "    p_star, q_star, q_b = equilibrium_with_battery(\n",
    "        v_max, q_max, s_t, C, c_u, q_u_max\n",
    "    )\n",
    "    print(f\"p* = {p_star:.2f}, q* = {q_star:.2f}, battery sells q_b = {q_b:.2f}\")\n"
   ]
  },
  {
   "cell_type": "markdown",
   "id": "a0237579",
   "metadata": {},
   "source": [
    "### Battery Testing "
   ]
  },
  {
   "cell_type": "code",
   "execution_count": null,
   "id": "7447e14e",
   "metadata": {},
   "outputs": [
    {
     "name": "stdout",
     "output_type": "stream",
     "text": [
      "[demand][INIT] v_max=10, q_max=10, agent_type=demand, verbose=True\n",
      "[utility][INIT] c=5, q_sell=10, verbose=True\n",
      "[solar][INIT] c=0, q_sell=5, verbose=True\n",
      "[battery][init]  C_init = 2 C_max = 10 agent_type = battery\n",
      "[Model][simulate] Starting simulation for 1 periods, 100 trades per period.\n",
      "\n",
      "[Model][simulate] === Period 1/1 ===\n",
      "[Model][simulate] -- Trade 1/100 --\n",
      "[Model][simulate] Agent: Battery\n",
      "[Model][simulate] AMM State: E=40, M=250.0\n",
      "[battery][make_decision] E=40, M=250.0, t=0, p_t=6.25, K=10000.0, p_nxt=5, SOC=2, C_max=10\n",
      "[battery] p_t=6.2500, p_1=5.0000, SOC=2.0000\n",
      "[battery][make_decision][SELL] q_uncon=4.721359549995796\n",
      "[battery][make_decision][SELL] q_req=2.0\n",
      "[battery][make_decision][SELL] tx={'decision': 'sell_tokens_min_price', 'token': 'x', 'quantity': 2.0, 'min_price': 11.337868480725623, 'agent_type': 'battery'}\n",
      "[Model][simulate] Agent decision: {'decision': 'sell_tokens_min_price', 'token': 'x', 'quantity': 2.0, 'min_price': 11.337868480725623, 'agent_type': 'battery'}\n",
      "[Model][simulate] Agent requests to SELL 2.0 x with min_price 11.337868480725623\n",
      "[Model][simulate] AMM sell_tokens_min_price result: {'token_returned': 'y', 'quantity_returned': 11.904761904761898}\n",
      "[Model][simulate] Trade executed. Passing result to agent.\n",
      "[battery][transaction_result] txs_result: {'token_returned': 'y', 'quantity_returned': 11.904761904761898}\n",
      "[battery][transaction_result] e_sold = 2.0\n",
      "[battery][transaction_result] m_received = 11.904761904761898\n",
      "[battery][transaction_result] avg_price = 5.952380952380949\n",
      "[battery] p = 5.952380952380949, 2.0\n",
      "[battery][update_profit] profit=11.9048, total=11.9048\n",
      "[battery][transaction_result] Updated SOC (C) = 0.0\n",
      "[Model][simulate] -- Trade 2/100 --\n",
      "[Model][simulate] Agent: Battery\n",
      "[Model][simulate] AMM State: E=42.0, M=238.0952380952381\n",
      "[battery][make_decision] E=42.0, M=238.0952380952381, t=0, p_t=5.668934240362812, K=10000.0, p_nxt=5, SOC=0.0, C_max=10\n",
      "[battery] p_t=5.6689, p_1=5.0000, SOC=0.0000\n",
      "[battery][make_decision][SELL] q_uncon=2.721359549995796\n",
      "[battery][make_decision][SELL] q_req=0.0\n",
      "[battery][make_decision][SELL] q_req <= 0, returning None\n",
      "[Model][simulate] Agent decision: None\n",
      "[Model][simulate] No trade decision from agent.\n",
      "[Model][simulate] -- Trade 3/100 --\n",
      "[Model][simulate] Agent: Battery\n",
      "[Model][simulate] AMM State: E=42.0, M=238.0952380952381\n",
      "[battery][make_decision] E=42.0, M=238.0952380952381, t=0, p_t=5.668934240362812, K=10000.0, p_nxt=5, SOC=0.0, C_max=10\n",
      "[battery] p_t=5.6689, p_1=5.0000, SOC=0.0000\n",
      "[battery][make_decision][SELL] q_uncon=2.721359549995796\n",
      "[battery][make_decision][SELL] q_req=0.0\n",
      "[battery][make_decision][SELL] q_req <= 0, returning None\n",
      "[Model][simulate] Agent decision: None\n",
      "[Model][simulate] No trade decision from agent.\n",
      "[Model][simulate] -- Trade 4/100 --\n",
      "[Model][simulate] Agent: Battery\n",
      "[Model][simulate] AMM State: E=42.0, M=238.0952380952381\n",
      "[battery][make_decision] E=42.0, M=238.0952380952381, t=0, p_t=5.668934240362812, K=10000.0, p_nxt=5, SOC=0.0, C_max=10\n",
      "[battery] p_t=5.6689, p_1=5.0000, SOC=0.0000\n",
      "[battery][make_decision][SELL] q_uncon=2.721359549995796\n",
      "[battery][make_decision][SELL] q_req=0.0\n",
      "[battery][make_decision][SELL] q_req <= 0, returning None\n",
      "[Model][simulate] Agent decision: None\n",
      "[Model][simulate] No trade decision from agent.\n",
      "[Model][simulate] -- Trade 5/100 --\n",
      "[Model][simulate] Agent: Battery\n",
      "[Model][simulate] AMM State: E=42.0, M=238.0952380952381\n",
      "[battery][make_decision] E=42.0, M=238.0952380952381, t=0, p_t=5.668934240362812, K=10000.0, p_nxt=5, SOC=0.0, C_max=10\n",
      "[battery] p_t=5.6689, p_1=5.0000, SOC=0.0000\n",
      "[battery][make_decision][SELL] q_uncon=2.721359549995796\n",
      "[battery][make_decision][SELL] q_req=0.0\n",
      "[battery][make_decision][SELL] q_req <= 0, returning None\n",
      "[Model][simulate] Agent decision: None\n",
      "[Model][simulate] No trade decision from agent.\n",
      "[Model][simulate] -- Trade 6/100 --\n",
      "[Model][simulate] Agent: Battery\n",
      "[Model][simulate] AMM State: E=42.0, M=238.0952380952381\n",
      "[battery][make_decision] E=42.0, M=238.0952380952381, t=0, p_t=5.668934240362812, K=10000.0, p_nxt=5, SOC=0.0, C_max=10\n",
      "[battery] p_t=5.6689, p_1=5.0000, SOC=0.0000\n",
      "[battery][make_decision][SELL] q_uncon=2.721359549995796\n",
      "[battery][make_decision][SELL] q_req=0.0\n",
      "[battery][make_decision][SELL] q_req <= 0, returning None\n",
      "[Model][simulate] Agent decision: None\n",
      "[Model][simulate] No trade decision from agent.\n",
      "[Model][simulate] -- Trade 7/100 --\n",
      "[Model][simulate] Agent: Battery\n",
      "[Model][simulate] AMM State: E=42.0, M=238.0952380952381\n",
      "[battery][make_decision] E=42.0, M=238.0952380952381, t=0, p_t=5.668934240362812, K=10000.0, p_nxt=5, SOC=0.0, C_max=10\n",
      "[battery] p_t=5.6689, p_1=5.0000, SOC=0.0000\n",
      "[battery][make_decision][SELL] q_uncon=2.721359549995796\n",
      "[battery][make_decision][SELL] q_req=0.0\n",
      "[battery][make_decision][SELL] q_req <= 0, returning None\n",
      "[Model][simulate] Agent decision: None\n",
      "[Model][simulate] No trade decision from agent.\n",
      "[Model][simulate] -- Trade 8/100 --\n",
      "[Model][simulate] Agent: Battery\n",
      "[Model][simulate] AMM State: E=42.0, M=238.0952380952381\n",
      "[battery][make_decision] E=42.0, M=238.0952380952381, t=0, p_t=5.668934240362812, K=10000.0, p_nxt=5, SOC=0.0, C_max=10\n",
      "[battery] p_t=5.6689, p_1=5.0000, SOC=0.0000\n",
      "[battery][make_decision][SELL] q_uncon=2.721359549995796\n",
      "[battery][make_decision][SELL] q_req=0.0\n",
      "[battery][make_decision][SELL] q_req <= 0, returning None\n",
      "[Model][simulate] Agent decision: None\n",
      "[Model][simulate] No trade decision from agent.\n",
      "[Model][simulate] -- Trade 9/100 --\n",
      "[Model][simulate] Agent: Battery\n",
      "[Model][simulate] AMM State: E=42.0, M=238.0952380952381\n",
      "[battery][make_decision] E=42.0, M=238.0952380952381, t=0, p_t=5.668934240362812, K=10000.0, p_nxt=5, SOC=0.0, C_max=10\n",
      "[battery] p_t=5.6689, p_1=5.0000, SOC=0.0000\n",
      "[battery][make_decision][SELL] q_uncon=2.721359549995796\n",
      "[battery][make_decision][SELL] q_req=0.0\n",
      "[battery][make_decision][SELL] q_req <= 0, returning None\n",
      "[Model][simulate] Agent decision: None\n",
      "[Model][simulate] No trade decision from agent.\n",
      "[Model][simulate] -- Trade 10/100 --\n",
      "[Model][simulate] Agent: Battery\n",
      "[Model][simulate] AMM State: E=42.0, M=238.0952380952381\n",
      "[battery][make_decision] E=42.0, M=238.0952380952381, t=0, p_t=5.668934240362812, K=10000.0, p_nxt=5, SOC=0.0, C_max=10\n",
      "[battery] p_t=5.6689, p_1=5.0000, SOC=0.0000\n",
      "[battery][make_decision][SELL] q_uncon=2.721359549995796\n",
      "[battery][make_decision][SELL] q_req=0.0\n",
      "[battery][make_decision][SELL] q_req <= 0, returning None\n",
      "[Model][simulate] Agent decision: None\n",
      "[Model][simulate] No trade decision from agent.\n",
      "[Model][simulate] -- Trade 11/100 --\n",
      "[Model][simulate] Agent: Battery\n",
      "[Model][simulate] AMM State: E=42.0, M=238.0952380952381\n",
      "[battery][make_decision] E=42.0, M=238.0952380952381, t=0, p_t=5.668934240362812, K=10000.0, p_nxt=5, SOC=0.0, C_max=10\n",
      "[battery] p_t=5.6689, p_1=5.0000, SOC=0.0000\n",
      "[battery][make_decision][SELL] q_uncon=2.721359549995796\n",
      "[battery][make_decision][SELL] q_req=0.0\n",
      "[battery][make_decision][SELL] q_req <= 0, returning None\n",
      "[Model][simulate] Agent decision: None\n",
      "[Model][simulate] No trade decision from agent.\n",
      "[Model][simulate] -- Trade 12/100 --\n",
      "[Model][simulate] Agent: Battery\n",
      "[Model][simulate] AMM State: E=42.0, M=238.0952380952381\n",
      "[battery][make_decision] E=42.0, M=238.0952380952381, t=0, p_t=5.668934240362812, K=10000.0, p_nxt=5, SOC=0.0, C_max=10\n",
      "[battery] p_t=5.6689, p_1=5.0000, SOC=0.0000\n",
      "[battery][make_decision][SELL] q_uncon=2.721359549995796\n",
      "[battery][make_decision][SELL] q_req=0.0\n",
      "[battery][make_decision][SELL] q_req <= 0, returning None\n",
      "[Model][simulate] Agent decision: None\n",
      "[Model][simulate] No trade decision from agent.\n",
      "[Model][simulate] -- Trade 13/100 --\n",
      "[Model][simulate] Agent: Battery\n",
      "[Model][simulate] AMM State: E=42.0, M=238.0952380952381\n",
      "[battery][make_decision] E=42.0, M=238.0952380952381, t=0, p_t=5.668934240362812, K=10000.0, p_nxt=5, SOC=0.0, C_max=10\n",
      "[battery] p_t=5.6689, p_1=5.0000, SOC=0.0000\n",
      "[battery][make_decision][SELL] q_uncon=2.721359549995796\n",
      "[battery][make_decision][SELL] q_req=0.0\n",
      "[battery][make_decision][SELL] q_req <= 0, returning None\n",
      "[Model][simulate] Agent decision: None\n",
      "[Model][simulate] No trade decision from agent.\n",
      "[Model][simulate] -- Trade 14/100 --\n",
      "[Model][simulate] Agent: Battery\n",
      "[Model][simulate] AMM State: E=42.0, M=238.0952380952381\n",
      "[battery][make_decision] E=42.0, M=238.0952380952381, t=0, p_t=5.668934240362812, K=10000.0, p_nxt=5, SOC=0.0, C_max=10\n",
      "[battery] p_t=5.6689, p_1=5.0000, SOC=0.0000\n",
      "[battery][make_decision][SELL] q_uncon=2.721359549995796\n",
      "[battery][make_decision][SELL] q_req=0.0\n",
      "[battery][make_decision][SELL] q_req <= 0, returning None\n",
      "[Model][simulate] Agent decision: None\n",
      "[Model][simulate] No trade decision from agent.\n",
      "[Model][simulate] -- Trade 15/100 --\n",
      "[Model][simulate] Agent: Battery\n",
      "[Model][simulate] AMM State: E=42.0, M=238.0952380952381\n",
      "[battery][make_decision] E=42.0, M=238.0952380952381, t=0, p_t=5.668934240362812, K=10000.0, p_nxt=5, SOC=0.0, C_max=10\n",
      "[battery] p_t=5.6689, p_1=5.0000, SOC=0.0000\n",
      "[battery][make_decision][SELL] q_uncon=2.721359549995796\n",
      "[battery][make_decision][SELL] q_req=0.0\n",
      "[battery][make_decision][SELL] q_req <= 0, returning None\n",
      "[Model][simulate] Agent decision: None\n",
      "[Model][simulate] No trade decision from agent.\n",
      "[Model][simulate] -- Trade 16/100 --\n",
      "[Model][simulate] Agent: Battery\n",
      "[Model][simulate] AMM State: E=42.0, M=238.0952380952381\n",
      "[battery][make_decision] E=42.0, M=238.0952380952381, t=0, p_t=5.668934240362812, K=10000.0, p_nxt=5, SOC=0.0, C_max=10\n",
      "[battery] p_t=5.6689, p_1=5.0000, SOC=0.0000\n",
      "[battery][make_decision][SELL] q_uncon=2.721359549995796\n",
      "[battery][make_decision][SELL] q_req=0.0\n",
      "[battery][make_decision][SELL] q_req <= 0, returning None\n",
      "[Model][simulate] Agent decision: None\n",
      "[Model][simulate] No trade decision from agent.\n",
      "[Model][simulate] -- Trade 17/100 --\n",
      "[Model][simulate] Agent: Battery\n",
      "[Model][simulate] AMM State: E=42.0, M=238.0952380952381\n",
      "[battery][make_decision] E=42.0, M=238.0952380952381, t=0, p_t=5.668934240362812, K=10000.0, p_nxt=5, SOC=0.0, C_max=10\n",
      "[battery] p_t=5.6689, p_1=5.0000, SOC=0.0000\n",
      "[battery][make_decision][SELL] q_uncon=2.721359549995796\n",
      "[battery][make_decision][SELL] q_req=0.0\n",
      "[battery][make_decision][SELL] q_req <= 0, returning None\n",
      "[Model][simulate] Agent decision: None\n",
      "[Model][simulate] No trade decision from agent.\n",
      "[Model][simulate] -- Trade 18/100 --\n",
      "[Model][simulate] Agent: Battery\n",
      "[Model][simulate] AMM State: E=42.0, M=238.0952380952381\n",
      "[battery][make_decision] E=42.0, M=238.0952380952381, t=0, p_t=5.668934240362812, K=10000.0, p_nxt=5, SOC=0.0, C_max=10\n",
      "[battery] p_t=5.6689, p_1=5.0000, SOC=0.0000\n",
      "[battery][make_decision][SELL] q_uncon=2.721359549995796\n",
      "[battery][make_decision][SELL] q_req=0.0\n",
      "[battery][make_decision][SELL] q_req <= 0, returning None\n",
      "[Model][simulate] Agent decision: None\n",
      "[Model][simulate] No trade decision from agent.\n",
      "[Model][simulate] -- Trade 19/100 --\n",
      "[Model][simulate] Agent: Battery\n",
      "[Model][simulate] AMM State: E=42.0, M=238.0952380952381\n",
      "[battery][make_decision] E=42.0, M=238.0952380952381, t=0, p_t=5.668934240362812, K=10000.0, p_nxt=5, SOC=0.0, C_max=10\n",
      "[battery] p_t=5.6689, p_1=5.0000, SOC=0.0000\n",
      "[battery][make_decision][SELL] q_uncon=2.721359549995796\n",
      "[battery][make_decision][SELL] q_req=0.0\n",
      "[battery][make_decision][SELL] q_req <= 0, returning None\n",
      "[Model][simulate] Agent decision: None\n",
      "[Model][simulate] No trade decision from agent.\n",
      "[Model][simulate] -- Trade 20/100 --\n",
      "[Model][simulate] Agent: Battery\n",
      "[Model][simulate] AMM State: E=42.0, M=238.0952380952381\n",
      "[battery][make_decision] E=42.0, M=238.0952380952381, t=0, p_t=5.668934240362812, K=10000.0, p_nxt=5, SOC=0.0, C_max=10\n",
      "[battery] p_t=5.6689, p_1=5.0000, SOC=0.0000\n",
      "[battery][make_decision][SELL] q_uncon=2.721359549995796\n",
      "[battery][make_decision][SELL] q_req=0.0\n",
      "[battery][make_decision][SELL] q_req <= 0, returning None\n",
      "[Model][simulate] Agent decision: None\n",
      "[Model][simulate] No trade decision from agent.\n",
      "[Model][simulate] -- Trade 21/100 --\n",
      "[Model][simulate] Agent: Battery\n",
      "[Model][simulate] AMM State: E=42.0, M=238.0952380952381\n",
      "[battery][make_decision] E=42.0, M=238.0952380952381, t=0, p_t=5.668934240362812, K=10000.0, p_nxt=5, SOC=0.0, C_max=10\n",
      "[battery] p_t=5.6689, p_1=5.0000, SOC=0.0000\n",
      "[battery][make_decision][SELL] q_uncon=2.721359549995796\n",
      "[battery][make_decision][SELL] q_req=0.0\n",
      "[battery][make_decision][SELL] q_req <= 0, returning None\n",
      "[Model][simulate] Agent decision: None\n",
      "[Model][simulate] No trade decision from agent.\n",
      "[Model][simulate] -- Trade 22/100 --\n",
      "[Model][simulate] Agent: Battery\n",
      "[Model][simulate] AMM State: E=42.0, M=238.0952380952381\n",
      "[battery][make_decision] E=42.0, M=238.0952380952381, t=0, p_t=5.668934240362812, K=10000.0, p_nxt=5, SOC=0.0, C_max=10\n",
      "[battery] p_t=5.6689, p_1=5.0000, SOC=0.0000\n",
      "[battery][make_decision][SELL] q_uncon=2.721359549995796\n",
      "[battery][make_decision][SELL] q_req=0.0\n",
      "[battery][make_decision][SELL] q_req <= 0, returning None\n",
      "[Model][simulate] Agent decision: None\n",
      "[Model][simulate] No trade decision from agent.\n",
      "[Model][simulate] -- Trade 23/100 --\n",
      "[Model][simulate] Agent: Battery\n",
      "[Model][simulate] AMM State: E=42.0, M=238.0952380952381\n",
      "[battery][make_decision] E=42.0, M=238.0952380952381, t=0, p_t=5.668934240362812, K=10000.0, p_nxt=5, SOC=0.0, C_max=10\n",
      "[battery] p_t=5.6689, p_1=5.0000, SOC=0.0000\n",
      "[battery][make_decision][SELL] q_uncon=2.721359549995796\n",
      "[battery][make_decision][SELL] q_req=0.0\n",
      "[battery][make_decision][SELL] q_req <= 0, returning None\n",
      "[Model][simulate] Agent decision: None\n",
      "[Model][simulate] No trade decision from agent.\n",
      "[Model][simulate] -- Trade 24/100 --\n",
      "[Model][simulate] Agent: Battery\n",
      "[Model][simulate] AMM State: E=42.0, M=238.0952380952381\n",
      "[battery][make_decision] E=42.0, M=238.0952380952381, t=0, p_t=5.668934240362812, K=10000.0, p_nxt=5, SOC=0.0, C_max=10\n",
      "[battery] p_t=5.6689, p_1=5.0000, SOC=0.0000\n",
      "[battery][make_decision][SELL] q_uncon=2.721359549995796\n",
      "[battery][make_decision][SELL] q_req=0.0\n",
      "[battery][make_decision][SELL] q_req <= 0, returning None\n",
      "[Model][simulate] Agent decision: None\n",
      "[Model][simulate] No trade decision from agent.\n",
      "[Model][simulate] -- Trade 25/100 --\n",
      "[Model][simulate] Agent: Battery\n",
      "[Model][simulate] AMM State: E=42.0, M=238.0952380952381\n",
      "[battery][make_decision] E=42.0, M=238.0952380952381, t=0, p_t=5.668934240362812, K=10000.0, p_nxt=5, SOC=0.0, C_max=10\n",
      "[battery] p_t=5.6689, p_1=5.0000, SOC=0.0000\n",
      "[battery][make_decision][SELL] q_uncon=2.721359549995796\n",
      "[battery][make_decision][SELL] q_req=0.0\n",
      "[battery][make_decision][SELL] q_req <= 0, returning None\n",
      "[Model][simulate] Agent decision: None\n",
      "[Model][simulate] No trade decision from agent.\n",
      "[Model][simulate] -- Trade 26/100 --\n",
      "[Model][simulate] Agent: Battery\n",
      "[Model][simulate] AMM State: E=42.0, M=238.0952380952381\n",
      "[battery][make_decision] E=42.0, M=238.0952380952381, t=0, p_t=5.668934240362812, K=10000.0, p_nxt=5, SOC=0.0, C_max=10\n",
      "[battery] p_t=5.6689, p_1=5.0000, SOC=0.0000\n",
      "[battery][make_decision][SELL] q_uncon=2.721359549995796\n",
      "[battery][make_decision][SELL] q_req=0.0\n",
      "[battery][make_decision][SELL] q_req <= 0, returning None\n",
      "[Model][simulate] Agent decision: None\n",
      "[Model][simulate] No trade decision from agent.\n",
      "[Model][simulate] -- Trade 27/100 --\n",
      "[Model][simulate] Agent: Battery\n",
      "[Model][simulate] AMM State: E=42.0, M=238.0952380952381\n",
      "[battery][make_decision] E=42.0, M=238.0952380952381, t=0, p_t=5.668934240362812, K=10000.0, p_nxt=5, SOC=0.0, C_max=10\n",
      "[battery] p_t=5.6689, p_1=5.0000, SOC=0.0000\n",
      "[battery][make_decision][SELL] q_uncon=2.721359549995796\n",
      "[battery][make_decision][SELL] q_req=0.0\n",
      "[battery][make_decision][SELL] q_req <= 0, returning None\n",
      "[Model][simulate] Agent decision: None\n",
      "[Model][simulate] No trade decision from agent.\n",
      "[Model][simulate] -- Trade 28/100 --\n",
      "[Model][simulate] Agent: Battery\n",
      "[Model][simulate] AMM State: E=42.0, M=238.0952380952381\n",
      "[battery][make_decision] E=42.0, M=238.0952380952381, t=0, p_t=5.668934240362812, K=10000.0, p_nxt=5, SOC=0.0, C_max=10\n",
      "[battery] p_t=5.6689, p_1=5.0000, SOC=0.0000\n",
      "[battery][make_decision][SELL] q_uncon=2.721359549995796\n",
      "[battery][make_decision][SELL] q_req=0.0\n",
      "[battery][make_decision][SELL] q_req <= 0, returning None\n",
      "[Model][simulate] Agent decision: None\n",
      "[Model][simulate] No trade decision from agent.\n",
      "[Model][simulate] -- Trade 29/100 --\n",
      "[Model][simulate] Agent: Battery\n",
      "[Model][simulate] AMM State: E=42.0, M=238.0952380952381\n",
      "[battery][make_decision] E=42.0, M=238.0952380952381, t=0, p_t=5.668934240362812, K=10000.0, p_nxt=5, SOC=0.0, C_max=10\n",
      "[battery] p_t=5.6689, p_1=5.0000, SOC=0.0000\n",
      "[battery][make_decision][SELL] q_uncon=2.721359549995796\n",
      "[battery][make_decision][SELL] q_req=0.0\n",
      "[battery][make_decision][SELL] q_req <= 0, returning None\n",
      "[Model][simulate] Agent decision: None\n",
      "[Model][simulate] No trade decision from agent.\n",
      "[Model][simulate] -- Trade 30/100 --\n",
      "[Model][simulate] Agent: Battery\n",
      "[Model][simulate] AMM State: E=42.0, M=238.0952380952381\n",
      "[battery][make_decision] E=42.0, M=238.0952380952381, t=0, p_t=5.668934240362812, K=10000.0, p_nxt=5, SOC=0.0, C_max=10\n",
      "[battery] p_t=5.6689, p_1=5.0000, SOC=0.0000\n",
      "[battery][make_decision][SELL] q_uncon=2.721359549995796\n",
      "[battery][make_decision][SELL] q_req=0.0\n",
      "[battery][make_decision][SELL] q_req <= 0, returning None\n",
      "[Model][simulate] Agent decision: None\n",
      "[Model][simulate] No trade decision from agent.\n",
      "[Model][simulate] -- Trade 31/100 --\n",
      "[Model][simulate] Agent: Battery\n",
      "[Model][simulate] AMM State: E=42.0, M=238.0952380952381\n",
      "[battery][make_decision] E=42.0, M=238.0952380952381, t=0, p_t=5.668934240362812, K=10000.0, p_nxt=5, SOC=0.0, C_max=10\n",
      "[battery] p_t=5.6689, p_1=5.0000, SOC=0.0000\n",
      "[battery][make_decision][SELL] q_uncon=2.721359549995796\n",
      "[battery][make_decision][SELL] q_req=0.0\n",
      "[battery][make_decision][SELL] q_req <= 0, returning None\n",
      "[Model][simulate] Agent decision: None\n",
      "[Model][simulate] No trade decision from agent.\n",
      "[Model][simulate] -- Trade 32/100 --\n",
      "[Model][simulate] Agent: Battery\n",
      "[Model][simulate] AMM State: E=42.0, M=238.0952380952381\n",
      "[battery][make_decision] E=42.0, M=238.0952380952381, t=0, p_t=5.668934240362812, K=10000.0, p_nxt=5, SOC=0.0, C_max=10\n",
      "[battery] p_t=5.6689, p_1=5.0000, SOC=0.0000\n",
      "[battery][make_decision][SELL] q_uncon=2.721359549995796\n",
      "[battery][make_decision][SELL] q_req=0.0\n",
      "[battery][make_decision][SELL] q_req <= 0, returning None\n",
      "[Model][simulate] Agent decision: None\n",
      "[Model][simulate] No trade decision from agent.\n",
      "[Model][simulate] -- Trade 33/100 --\n",
      "[Model][simulate] Agent: Battery\n",
      "[Model][simulate] AMM State: E=42.0, M=238.0952380952381\n",
      "[battery][make_decision] E=42.0, M=238.0952380952381, t=0, p_t=5.668934240362812, K=10000.0, p_nxt=5, SOC=0.0, C_max=10\n",
      "[battery] p_t=5.6689, p_1=5.0000, SOC=0.0000\n",
      "[battery][make_decision][SELL] q_uncon=2.721359549995796\n",
      "[battery][make_decision][SELL] q_req=0.0\n",
      "[battery][make_decision][SELL] q_req <= 0, returning None\n",
      "[Model][simulate] Agent decision: None\n",
      "[Model][simulate] No trade decision from agent.\n",
      "[Model][simulate] -- Trade 34/100 --\n",
      "[Model][simulate] Agent: Battery\n",
      "[Model][simulate] AMM State: E=42.0, M=238.0952380952381\n",
      "[battery][make_decision] E=42.0, M=238.0952380952381, t=0, p_t=5.668934240362812, K=10000.0, p_nxt=5, SOC=0.0, C_max=10\n",
      "[battery] p_t=5.6689, p_1=5.0000, SOC=0.0000\n",
      "[battery][make_decision][SELL] q_uncon=2.721359549995796\n",
      "[battery][make_decision][SELL] q_req=0.0\n",
      "[battery][make_decision][SELL] q_req <= 0, returning None\n",
      "[Model][simulate] Agent decision: None\n",
      "[Model][simulate] No trade decision from agent.\n",
      "[Model][simulate] -- Trade 35/100 --\n",
      "[Model][simulate] Agent: Battery\n",
      "[Model][simulate] AMM State: E=42.0, M=238.0952380952381\n",
      "[battery][make_decision] E=42.0, M=238.0952380952381, t=0, p_t=5.668934240362812, K=10000.0, p_nxt=5, SOC=0.0, C_max=10\n",
      "[battery] p_t=5.6689, p_1=5.0000, SOC=0.0000\n",
      "[battery][make_decision][SELL] q_uncon=2.721359549995796\n",
      "[battery][make_decision][SELL] q_req=0.0\n",
      "[battery][make_decision][SELL] q_req <= 0, returning None\n",
      "[Model][simulate] Agent decision: None\n",
      "[Model][simulate] No trade decision from agent.\n",
      "[Model][simulate] -- Trade 36/100 --\n",
      "[Model][simulate] Agent: Battery\n",
      "[Model][simulate] AMM State: E=42.0, M=238.0952380952381\n",
      "[battery][make_decision] E=42.0, M=238.0952380952381, t=0, p_t=5.668934240362812, K=10000.0, p_nxt=5, SOC=0.0, C_max=10\n",
      "[battery] p_t=5.6689, p_1=5.0000, SOC=0.0000\n",
      "[battery][make_decision][SELL] q_uncon=2.721359549995796\n",
      "[battery][make_decision][SELL] q_req=0.0\n",
      "[battery][make_decision][SELL] q_req <= 0, returning None\n",
      "[Model][simulate] Agent decision: None\n",
      "[Model][simulate] No trade decision from agent.\n",
      "[Model][simulate] -- Trade 37/100 --\n",
      "[Model][simulate] Agent: Battery\n",
      "[Model][simulate] AMM State: E=42.0, M=238.0952380952381\n",
      "[battery][make_decision] E=42.0, M=238.0952380952381, t=0, p_t=5.668934240362812, K=10000.0, p_nxt=5, SOC=0.0, C_max=10\n",
      "[battery] p_t=5.6689, p_1=5.0000, SOC=0.0000\n",
      "[battery][make_decision][SELL] q_uncon=2.721359549995796\n",
      "[battery][make_decision][SELL] q_req=0.0\n",
      "[battery][make_decision][SELL] q_req <= 0, returning None\n",
      "[Model][simulate] Agent decision: None\n",
      "[Model][simulate] No trade decision from agent.\n",
      "[Model][simulate] -- Trade 38/100 --\n",
      "[Model][simulate] Agent: Battery\n",
      "[Model][simulate] AMM State: E=42.0, M=238.0952380952381\n",
      "[battery][make_decision] E=42.0, M=238.0952380952381, t=0, p_t=5.668934240362812, K=10000.0, p_nxt=5, SOC=0.0, C_max=10\n",
      "[battery] p_t=5.6689, p_1=5.0000, SOC=0.0000\n",
      "[battery][make_decision][SELL] q_uncon=2.721359549995796\n",
      "[battery][make_decision][SELL] q_req=0.0\n",
      "[battery][make_decision][SELL] q_req <= 0, returning None\n",
      "[Model][simulate] Agent decision: None\n",
      "[Model][simulate] No trade decision from agent.\n",
      "[Model][simulate] -- Trade 39/100 --\n",
      "[Model][simulate] Agent: Battery\n",
      "[Model][simulate] AMM State: E=42.0, M=238.0952380952381\n",
      "[battery][make_decision] E=42.0, M=238.0952380952381, t=0, p_t=5.668934240362812, K=10000.0, p_nxt=5, SOC=0.0, C_max=10\n",
      "[battery] p_t=5.6689, p_1=5.0000, SOC=0.0000\n",
      "[battery][make_decision][SELL] q_uncon=2.721359549995796\n",
      "[battery][make_decision][SELL] q_req=0.0\n",
      "[battery][make_decision][SELL] q_req <= 0, returning None\n",
      "[Model][simulate] Agent decision: None\n",
      "[Model][simulate] No trade decision from agent.\n",
      "[Model][simulate] -- Trade 40/100 --\n",
      "[Model][simulate] Agent: Battery\n",
      "[Model][simulate] AMM State: E=42.0, M=238.0952380952381\n",
      "[battery][make_decision] E=42.0, M=238.0952380952381, t=0, p_t=5.668934240362812, K=10000.0, p_nxt=5, SOC=0.0, C_max=10\n",
      "[battery] p_t=5.6689, p_1=5.0000, SOC=0.0000\n",
      "[battery][make_decision][SELL] q_uncon=2.721359549995796\n",
      "[battery][make_decision][SELL] q_req=0.0\n",
      "[battery][make_decision][SELL] q_req <= 0, returning None\n",
      "[Model][simulate] Agent decision: None\n",
      "[Model][simulate] No trade decision from agent.\n",
      "[Model][simulate] -- Trade 41/100 --\n",
      "[Model][simulate] Agent: Battery\n",
      "[Model][simulate] AMM State: E=42.0, M=238.0952380952381\n",
      "[battery][make_decision] E=42.0, M=238.0952380952381, t=0, p_t=5.668934240362812, K=10000.0, p_nxt=5, SOC=0.0, C_max=10\n",
      "[battery] p_t=5.6689, p_1=5.0000, SOC=0.0000\n",
      "[battery][make_decision][SELL] q_uncon=2.721359549995796\n",
      "[battery][make_decision][SELL] q_req=0.0\n",
      "[battery][make_decision][SELL] q_req <= 0, returning None\n",
      "[Model][simulate] Agent decision: None\n",
      "[Model][simulate] No trade decision from agent.\n",
      "[Model][simulate] -- Trade 42/100 --\n",
      "[Model][simulate] Agent: Battery\n",
      "[Model][simulate] AMM State: E=42.0, M=238.0952380952381\n",
      "[battery][make_decision] E=42.0, M=238.0952380952381, t=0, p_t=5.668934240362812, K=10000.0, p_nxt=5, SOC=0.0, C_max=10\n",
      "[battery] p_t=5.6689, p_1=5.0000, SOC=0.0000\n",
      "[battery][make_decision][SELL] q_uncon=2.721359549995796\n",
      "[battery][make_decision][SELL] q_req=0.0\n",
      "[battery][make_decision][SELL] q_req <= 0, returning None\n",
      "[Model][simulate] Agent decision: None\n",
      "[Model][simulate] No trade decision from agent.\n",
      "[Model][simulate] -- Trade 43/100 --\n",
      "[Model][simulate] Agent: Battery\n",
      "[Model][simulate] AMM State: E=42.0, M=238.0952380952381\n",
      "[battery][make_decision] E=42.0, M=238.0952380952381, t=0, p_t=5.668934240362812, K=10000.0, p_nxt=5, SOC=0.0, C_max=10\n",
      "[battery] p_t=5.6689, p_1=5.0000, SOC=0.0000\n",
      "[battery][make_decision][SELL] q_uncon=2.721359549995796\n",
      "[battery][make_decision][SELL] q_req=0.0\n",
      "[battery][make_decision][SELL] q_req <= 0, returning None\n",
      "[Model][simulate] Agent decision: None\n",
      "[Model][simulate] No trade decision from agent.\n",
      "[Model][simulate] -- Trade 44/100 --\n",
      "[Model][simulate] Agent: Battery\n",
      "[Model][simulate] AMM State: E=42.0, M=238.0952380952381\n",
      "[battery][make_decision] E=42.0, M=238.0952380952381, t=0, p_t=5.668934240362812, K=10000.0, p_nxt=5, SOC=0.0, C_max=10\n",
      "[battery] p_t=5.6689, p_1=5.0000, SOC=0.0000\n",
      "[battery][make_decision][SELL] q_uncon=2.721359549995796\n",
      "[battery][make_decision][SELL] q_req=0.0\n",
      "[battery][make_decision][SELL] q_req <= 0, returning None\n",
      "[Model][simulate] Agent decision: None\n",
      "[Model][simulate] No trade decision from agent.\n",
      "[Model][simulate] -- Trade 45/100 --\n",
      "[Model][simulate] Agent: Battery\n",
      "[Model][simulate] AMM State: E=42.0, M=238.0952380952381\n",
      "[battery][make_decision] E=42.0, M=238.0952380952381, t=0, p_t=5.668934240362812, K=10000.0, p_nxt=5, SOC=0.0, C_max=10\n",
      "[battery] p_t=5.6689, p_1=5.0000, SOC=0.0000\n",
      "[battery][make_decision][SELL] q_uncon=2.721359549995796\n",
      "[battery][make_decision][SELL] q_req=0.0\n",
      "[battery][make_decision][SELL] q_req <= 0, returning None\n",
      "[Model][simulate] Agent decision: None\n",
      "[Model][simulate] No trade decision from agent.\n",
      "[Model][simulate] -- Trade 46/100 --\n",
      "[Model][simulate] Agent: Battery\n",
      "[Model][simulate] AMM State: E=42.0, M=238.0952380952381\n",
      "[battery][make_decision] E=42.0, M=238.0952380952381, t=0, p_t=5.668934240362812, K=10000.0, p_nxt=5, SOC=0.0, C_max=10\n",
      "[battery] p_t=5.6689, p_1=5.0000, SOC=0.0000\n",
      "[battery][make_decision][SELL] q_uncon=2.721359549995796\n",
      "[battery][make_decision][SELL] q_req=0.0\n",
      "[battery][make_decision][SELL] q_req <= 0, returning None\n",
      "[Model][simulate] Agent decision: None\n",
      "[Model][simulate] No trade decision from agent.\n",
      "[Model][simulate] -- Trade 47/100 --\n",
      "[Model][simulate] Agent: Battery\n",
      "[Model][simulate] AMM State: E=42.0, M=238.0952380952381\n",
      "[battery][make_decision] E=42.0, M=238.0952380952381, t=0, p_t=5.668934240362812, K=10000.0, p_nxt=5, SOC=0.0, C_max=10\n",
      "[battery] p_t=5.6689, p_1=5.0000, SOC=0.0000\n",
      "[battery][make_decision][SELL] q_uncon=2.721359549995796\n",
      "[battery][make_decision][SELL] q_req=0.0\n",
      "[battery][make_decision][SELL] q_req <= 0, returning None\n",
      "[Model][simulate] Agent decision: None\n",
      "[Model][simulate] No trade decision from agent.\n",
      "[Model][simulate] -- Trade 48/100 --\n",
      "[Model][simulate] Agent: Battery\n",
      "[Model][simulate] AMM State: E=42.0, M=238.0952380952381\n",
      "[battery][make_decision] E=42.0, M=238.0952380952381, t=0, p_t=5.668934240362812, K=10000.0, p_nxt=5, SOC=0.0, C_max=10\n",
      "[battery] p_t=5.6689, p_1=5.0000, SOC=0.0000\n",
      "[battery][make_decision][SELL] q_uncon=2.721359549995796\n",
      "[battery][make_decision][SELL] q_req=0.0\n",
      "[battery][make_decision][SELL] q_req <= 0, returning None\n",
      "[Model][simulate] Agent decision: None\n",
      "[Model][simulate] No trade decision from agent.\n",
      "[Model][simulate] -- Trade 49/100 --\n",
      "[Model][simulate] Agent: Battery\n",
      "[Model][simulate] AMM State: E=42.0, M=238.0952380952381\n",
      "[battery][make_decision] E=42.0, M=238.0952380952381, t=0, p_t=5.668934240362812, K=10000.0, p_nxt=5, SOC=0.0, C_max=10\n",
      "[battery] p_t=5.6689, p_1=5.0000, SOC=0.0000\n",
      "[battery][make_decision][SELL] q_uncon=2.721359549995796\n",
      "[battery][make_decision][SELL] q_req=0.0\n",
      "[battery][make_decision][SELL] q_req <= 0, returning None\n",
      "[Model][simulate] Agent decision: None\n",
      "[Model][simulate] No trade decision from agent.\n",
      "[Model][simulate] -- Trade 50/100 --\n",
      "[Model][simulate] Agent: Battery\n",
      "[Model][simulate] AMM State: E=42.0, M=238.0952380952381\n",
      "[battery][make_decision] E=42.0, M=238.0952380952381, t=0, p_t=5.668934240362812, K=10000.0, p_nxt=5, SOC=0.0, C_max=10\n",
      "[battery] p_t=5.6689, p_1=5.0000, SOC=0.0000\n",
      "[battery][make_decision][SELL] q_uncon=2.721359549995796\n",
      "[battery][make_decision][SELL] q_req=0.0\n",
      "[battery][make_decision][SELL] q_req <= 0, returning None\n",
      "[Model][simulate] Agent decision: None\n",
      "[Model][simulate] No trade decision from agent.\n",
      "[Model][simulate] -- Trade 51/100 --\n",
      "[Model][simulate] Agent: Battery\n",
      "[Model][simulate] AMM State: E=42.0, M=238.0952380952381\n",
      "[battery][make_decision] E=42.0, M=238.0952380952381, t=0, p_t=5.668934240362812, K=10000.0, p_nxt=5, SOC=0.0, C_max=10\n",
      "[battery] p_t=5.6689, p_1=5.0000, SOC=0.0000\n",
      "[battery][make_decision][SELL] q_uncon=2.721359549995796\n",
      "[battery][make_decision][SELL] q_req=0.0\n",
      "[battery][make_decision][SELL] q_req <= 0, returning None\n",
      "[Model][simulate] Agent decision: None\n",
      "[Model][simulate] No trade decision from agent.\n",
      "[Model][simulate] -- Trade 52/100 --\n",
      "[Model][simulate] Agent: Battery\n",
      "[Model][simulate] AMM State: E=42.0, M=238.0952380952381\n",
      "[battery][make_decision] E=42.0, M=238.0952380952381, t=0, p_t=5.668934240362812, K=10000.0, p_nxt=5, SOC=0.0, C_max=10\n",
      "[battery] p_t=5.6689, p_1=5.0000, SOC=0.0000\n",
      "[battery][make_decision][SELL] q_uncon=2.721359549995796\n",
      "[battery][make_decision][SELL] q_req=0.0\n",
      "[battery][make_decision][SELL] q_req <= 0, returning None\n",
      "[Model][simulate] Agent decision: None\n",
      "[Model][simulate] No trade decision from agent.\n",
      "[Model][simulate] -- Trade 53/100 --\n",
      "[Model][simulate] Agent: Battery\n",
      "[Model][simulate] AMM State: E=42.0, M=238.0952380952381\n",
      "[battery][make_decision] E=42.0, M=238.0952380952381, t=0, p_t=5.668934240362812, K=10000.0, p_nxt=5, SOC=0.0, C_max=10\n",
      "[battery] p_t=5.6689, p_1=5.0000, SOC=0.0000\n",
      "[battery][make_decision][SELL] q_uncon=2.721359549995796\n",
      "[battery][make_decision][SELL] q_req=0.0\n",
      "[battery][make_decision][SELL] q_req <= 0, returning None\n",
      "[Model][simulate] Agent decision: None\n",
      "[Model][simulate] No trade decision from agent.\n",
      "[Model][simulate] -- Trade 54/100 --\n",
      "[Model][simulate] Agent: Battery\n",
      "[Model][simulate] AMM State: E=42.0, M=238.0952380952381\n",
      "[battery][make_decision] E=42.0, M=238.0952380952381, t=0, p_t=5.668934240362812, K=10000.0, p_nxt=5, SOC=0.0, C_max=10\n",
      "[battery] p_t=5.6689, p_1=5.0000, SOC=0.0000\n",
      "[battery][make_decision][SELL] q_uncon=2.721359549995796\n",
      "[battery][make_decision][SELL] q_req=0.0\n",
      "[battery][make_decision][SELL] q_req <= 0, returning None\n",
      "[Model][simulate] Agent decision: None\n",
      "[Model][simulate] No trade decision from agent.\n",
      "[Model][simulate] -- Trade 55/100 --\n",
      "[Model][simulate] Agent: Battery\n",
      "[Model][simulate] AMM State: E=42.0, M=238.0952380952381\n",
      "[battery][make_decision] E=42.0, M=238.0952380952381, t=0, p_t=5.668934240362812, K=10000.0, p_nxt=5, SOC=0.0, C_max=10\n",
      "[battery] p_t=5.6689, p_1=5.0000, SOC=0.0000\n",
      "[battery][make_decision][SELL] q_uncon=2.721359549995796\n",
      "[battery][make_decision][SELL] q_req=0.0\n",
      "[battery][make_decision][SELL] q_req <= 0, returning None\n",
      "[Model][simulate] Agent decision: None\n",
      "[Model][simulate] No trade decision from agent.\n",
      "[Model][simulate] -- Trade 56/100 --\n",
      "[Model][simulate] Agent: Battery\n",
      "[Model][simulate] AMM State: E=42.0, M=238.0952380952381\n",
      "[battery][make_decision] E=42.0, M=238.0952380952381, t=0, p_t=5.668934240362812, K=10000.0, p_nxt=5, SOC=0.0, C_max=10\n",
      "[battery] p_t=5.6689, p_1=5.0000, SOC=0.0000\n",
      "[battery][make_decision][SELL] q_uncon=2.721359549995796\n",
      "[battery][make_decision][SELL] q_req=0.0\n",
      "[battery][make_decision][SELL] q_req <= 0, returning None\n",
      "[Model][simulate] Agent decision: None\n",
      "[Model][simulate] No trade decision from agent.\n",
      "[Model][simulate] -- Trade 57/100 --\n",
      "[Model][simulate] Agent: Battery\n",
      "[Model][simulate] AMM State: E=42.0, M=238.0952380952381\n",
      "[battery][make_decision] E=42.0, M=238.0952380952381, t=0, p_t=5.668934240362812, K=10000.0, p_nxt=5, SOC=0.0, C_max=10\n",
      "[battery] p_t=5.6689, p_1=5.0000, SOC=0.0000\n",
      "[battery][make_decision][SELL] q_uncon=2.721359549995796\n",
      "[battery][make_decision][SELL] q_req=0.0\n",
      "[battery][make_decision][SELL] q_req <= 0, returning None\n",
      "[Model][simulate] Agent decision: None\n",
      "[Model][simulate] No trade decision from agent.\n",
      "[Model][simulate] -- Trade 58/100 --\n",
      "[Model][simulate] Agent: Battery\n",
      "[Model][simulate] AMM State: E=42.0, M=238.0952380952381\n",
      "[battery][make_decision] E=42.0, M=238.0952380952381, t=0, p_t=5.668934240362812, K=10000.0, p_nxt=5, SOC=0.0, C_max=10\n",
      "[battery] p_t=5.6689, p_1=5.0000, SOC=0.0000\n",
      "[battery][make_decision][SELL] q_uncon=2.721359549995796\n",
      "[battery][make_decision][SELL] q_req=0.0\n",
      "[battery][make_decision][SELL] q_req <= 0, returning None\n",
      "[Model][simulate] Agent decision: None\n",
      "[Model][simulate] No trade decision from agent.\n",
      "[Model][simulate] -- Trade 59/100 --\n",
      "[Model][simulate] Agent: Battery\n",
      "[Model][simulate] AMM State: E=42.0, M=238.0952380952381\n",
      "[battery][make_decision] E=42.0, M=238.0952380952381, t=0, p_t=5.668934240362812, K=10000.0, p_nxt=5, SOC=0.0, C_max=10\n",
      "[battery] p_t=5.6689, p_1=5.0000, SOC=0.0000\n",
      "[battery][make_decision][SELL] q_uncon=2.721359549995796\n",
      "[battery][make_decision][SELL] q_req=0.0\n",
      "[battery][make_decision][SELL] q_req <= 0, returning None\n",
      "[Model][simulate] Agent decision: None\n",
      "[Model][simulate] No trade decision from agent.\n",
      "[Model][simulate] -- Trade 60/100 --\n",
      "[Model][simulate] Agent: Battery\n",
      "[Model][simulate] AMM State: E=42.0, M=238.0952380952381\n",
      "[battery][make_decision] E=42.0, M=238.0952380952381, t=0, p_t=5.668934240362812, K=10000.0, p_nxt=5, SOC=0.0, C_max=10\n",
      "[battery] p_t=5.6689, p_1=5.0000, SOC=0.0000\n",
      "[battery][make_decision][SELL] q_uncon=2.721359549995796\n",
      "[battery][make_decision][SELL] q_req=0.0\n",
      "[battery][make_decision][SELL] q_req <= 0, returning None\n",
      "[Model][simulate] Agent decision: None\n",
      "[Model][simulate] No trade decision from agent.\n",
      "[Model][simulate] -- Trade 61/100 --\n",
      "[Model][simulate] Agent: Battery\n",
      "[Model][simulate] AMM State: E=42.0, M=238.0952380952381\n",
      "[battery][make_decision] E=42.0, M=238.0952380952381, t=0, p_t=5.668934240362812, K=10000.0, p_nxt=5, SOC=0.0, C_max=10\n",
      "[battery] p_t=5.6689, p_1=5.0000, SOC=0.0000\n",
      "[battery][make_decision][SELL] q_uncon=2.721359549995796\n",
      "[battery][make_decision][SELL] q_req=0.0\n",
      "[battery][make_decision][SELL] q_req <= 0, returning None\n",
      "[Model][simulate] Agent decision: None\n",
      "[Model][simulate] No trade decision from agent.\n",
      "[Model][simulate] -- Trade 62/100 --\n",
      "[Model][simulate] Agent: Battery\n",
      "[Model][simulate] AMM State: E=42.0, M=238.0952380952381\n",
      "[battery][make_decision] E=42.0, M=238.0952380952381, t=0, p_t=5.668934240362812, K=10000.0, p_nxt=5, SOC=0.0, C_max=10\n",
      "[battery] p_t=5.6689, p_1=5.0000, SOC=0.0000\n",
      "[battery][make_decision][SELL] q_uncon=2.721359549995796\n",
      "[battery][make_decision][SELL] q_req=0.0\n",
      "[battery][make_decision][SELL] q_req <= 0, returning None\n",
      "[Model][simulate] Agent decision: None\n",
      "[Model][simulate] No trade decision from agent.\n",
      "[Model][simulate] -- Trade 63/100 --\n",
      "[Model][simulate] Agent: Battery\n",
      "[Model][simulate] AMM State: E=42.0, M=238.0952380952381\n",
      "[battery][make_decision] E=42.0, M=238.0952380952381, t=0, p_t=5.668934240362812, K=10000.0, p_nxt=5, SOC=0.0, C_max=10\n",
      "[battery] p_t=5.6689, p_1=5.0000, SOC=0.0000\n",
      "[battery][make_decision][SELL] q_uncon=2.721359549995796\n",
      "[battery][make_decision][SELL] q_req=0.0\n",
      "[battery][make_decision][SELL] q_req <= 0, returning None\n",
      "[Model][simulate] Agent decision: None\n",
      "[Model][simulate] No trade decision from agent.\n",
      "[Model][simulate] -- Trade 64/100 --\n",
      "[Model][simulate] Agent: Battery\n",
      "[Model][simulate] AMM State: E=42.0, M=238.0952380952381\n",
      "[battery][make_decision] E=42.0, M=238.0952380952381, t=0, p_t=5.668934240362812, K=10000.0, p_nxt=5, SOC=0.0, C_max=10\n",
      "[battery] p_t=5.6689, p_1=5.0000, SOC=0.0000\n",
      "[battery][make_decision][SELL] q_uncon=2.721359549995796\n",
      "[battery][make_decision][SELL] q_req=0.0\n",
      "[battery][make_decision][SELL] q_req <= 0, returning None\n",
      "[Model][simulate] Agent decision: None\n",
      "[Model][simulate] No trade decision from agent.\n",
      "[Model][simulate] -- Trade 65/100 --\n",
      "[Model][simulate] Agent: Battery\n",
      "[Model][simulate] AMM State: E=42.0, M=238.0952380952381\n",
      "[battery][make_decision] E=42.0, M=238.0952380952381, t=0, p_t=5.668934240362812, K=10000.0, p_nxt=5, SOC=0.0, C_max=10\n",
      "[battery] p_t=5.6689, p_1=5.0000, SOC=0.0000\n",
      "[battery][make_decision][SELL] q_uncon=2.721359549995796\n",
      "[battery][make_decision][SELL] q_req=0.0\n",
      "[battery][make_decision][SELL] q_req <= 0, returning None\n",
      "[Model][simulate] Agent decision: None\n",
      "[Model][simulate] No trade decision from agent.\n",
      "[Model][simulate] -- Trade 66/100 --\n",
      "[Model][simulate] Agent: Battery\n",
      "[Model][simulate] AMM State: E=42.0, M=238.0952380952381\n",
      "[battery][make_decision] E=42.0, M=238.0952380952381, t=0, p_t=5.668934240362812, K=10000.0, p_nxt=5, SOC=0.0, C_max=10\n",
      "[battery] p_t=5.6689, p_1=5.0000, SOC=0.0000\n",
      "[battery][make_decision][SELL] q_uncon=2.721359549995796\n",
      "[battery][make_decision][SELL] q_req=0.0\n",
      "[battery][make_decision][SELL] q_req <= 0, returning None\n",
      "[Model][simulate] Agent decision: None\n",
      "[Model][simulate] No trade decision from agent.\n",
      "[Model][simulate] -- Trade 67/100 --\n",
      "[Model][simulate] Agent: Battery\n",
      "[Model][simulate] AMM State: E=42.0, M=238.0952380952381\n",
      "[battery][make_decision] E=42.0, M=238.0952380952381, t=0, p_t=5.668934240362812, K=10000.0, p_nxt=5, SOC=0.0, C_max=10\n",
      "[battery] p_t=5.6689, p_1=5.0000, SOC=0.0000\n",
      "[battery][make_decision][SELL] q_uncon=2.721359549995796\n",
      "[battery][make_decision][SELL] q_req=0.0\n",
      "[battery][make_decision][SELL] q_req <= 0, returning None\n",
      "[Model][simulate] Agent decision: None\n",
      "[Model][simulate] No trade decision from agent.\n",
      "[Model][simulate] -- Trade 68/100 --\n",
      "[Model][simulate] Agent: Battery\n",
      "[Model][simulate] AMM State: E=42.0, M=238.0952380952381\n",
      "[battery][make_decision] E=42.0, M=238.0952380952381, t=0, p_t=5.668934240362812, K=10000.0, p_nxt=5, SOC=0.0, C_max=10\n",
      "[battery] p_t=5.6689, p_1=5.0000, SOC=0.0000\n",
      "[battery][make_decision][SELL] q_uncon=2.721359549995796\n",
      "[battery][make_decision][SELL] q_req=0.0\n",
      "[battery][make_decision][SELL] q_req <= 0, returning None\n",
      "[Model][simulate] Agent decision: None\n",
      "[Model][simulate] No trade decision from agent.\n",
      "[Model][simulate] -- Trade 69/100 --\n",
      "[Model][simulate] Agent: Battery\n",
      "[Model][simulate] AMM State: E=42.0, M=238.0952380952381\n",
      "[battery][make_decision] E=42.0, M=238.0952380952381, t=0, p_t=5.668934240362812, K=10000.0, p_nxt=5, SOC=0.0, C_max=10\n",
      "[battery] p_t=5.6689, p_1=5.0000, SOC=0.0000\n",
      "[battery][make_decision][SELL] q_uncon=2.721359549995796\n",
      "[battery][make_decision][SELL] q_req=0.0\n",
      "[battery][make_decision][SELL] q_req <= 0, returning None\n",
      "[Model][simulate] Agent decision: None\n",
      "[Model][simulate] No trade decision from agent.\n",
      "[Model][simulate] -- Trade 70/100 --\n",
      "[Model][simulate] Agent: Battery\n",
      "[Model][simulate] AMM State: E=42.0, M=238.0952380952381\n",
      "[battery][make_decision] E=42.0, M=238.0952380952381, t=0, p_t=5.668934240362812, K=10000.0, p_nxt=5, SOC=0.0, C_max=10\n",
      "[battery] p_t=5.6689, p_1=5.0000, SOC=0.0000\n",
      "[battery][make_decision][SELL] q_uncon=2.721359549995796\n",
      "[battery][make_decision][SELL] q_req=0.0\n",
      "[battery][make_decision][SELL] q_req <= 0, returning None\n",
      "[Model][simulate] Agent decision: None\n",
      "[Model][simulate] No trade decision from agent.\n",
      "[Model][simulate] -- Trade 71/100 --\n",
      "[Model][simulate] Agent: Battery\n",
      "[Model][simulate] AMM State: E=42.0, M=238.0952380952381\n",
      "[battery][make_decision] E=42.0, M=238.0952380952381, t=0, p_t=5.668934240362812, K=10000.0, p_nxt=5, SOC=0.0, C_max=10\n",
      "[battery] p_t=5.6689, p_1=5.0000, SOC=0.0000\n",
      "[battery][make_decision][SELL] q_uncon=2.721359549995796\n",
      "[battery][make_decision][SELL] q_req=0.0\n",
      "[battery][make_decision][SELL] q_req <= 0, returning None\n",
      "[Model][simulate] Agent decision: None\n",
      "[Model][simulate] No trade decision from agent.\n",
      "[Model][simulate] -- Trade 72/100 --\n",
      "[Model][simulate] Agent: Battery\n",
      "[Model][simulate] AMM State: E=42.0, M=238.0952380952381\n",
      "[battery][make_decision] E=42.0, M=238.0952380952381, t=0, p_t=5.668934240362812, K=10000.0, p_nxt=5, SOC=0.0, C_max=10\n",
      "[battery] p_t=5.6689, p_1=5.0000, SOC=0.0000\n",
      "[battery][make_decision][SELL] q_uncon=2.721359549995796\n",
      "[battery][make_decision][SELL] q_req=0.0\n",
      "[battery][make_decision][SELL] q_req <= 0, returning None\n",
      "[Model][simulate] Agent decision: None\n",
      "[Model][simulate] No trade decision from agent.\n",
      "[Model][simulate] -- Trade 73/100 --\n",
      "[Model][simulate] Agent: Battery\n",
      "[Model][simulate] AMM State: E=42.0, M=238.0952380952381\n",
      "[battery][make_decision] E=42.0, M=238.0952380952381, t=0, p_t=5.668934240362812, K=10000.0, p_nxt=5, SOC=0.0, C_max=10\n",
      "[battery] p_t=5.6689, p_1=5.0000, SOC=0.0000\n",
      "[battery][make_decision][SELL] q_uncon=2.721359549995796\n",
      "[battery][make_decision][SELL] q_req=0.0\n",
      "[battery][make_decision][SELL] q_req <= 0, returning None\n",
      "[Model][simulate] Agent decision: None\n",
      "[Model][simulate] No trade decision from agent.\n",
      "[Model][simulate] -- Trade 74/100 --\n",
      "[Model][simulate] Agent: Battery\n",
      "[Model][simulate] AMM State: E=42.0, M=238.0952380952381\n",
      "[battery][make_decision] E=42.0, M=238.0952380952381, t=0, p_t=5.668934240362812, K=10000.0, p_nxt=5, SOC=0.0, C_max=10\n",
      "[battery] p_t=5.6689, p_1=5.0000, SOC=0.0000\n",
      "[battery][make_decision][SELL] q_uncon=2.721359549995796\n",
      "[battery][make_decision][SELL] q_req=0.0\n",
      "[battery][make_decision][SELL] q_req <= 0, returning None\n",
      "[Model][simulate] Agent decision: None\n",
      "[Model][simulate] No trade decision from agent.\n",
      "[Model][simulate] -- Trade 75/100 --\n",
      "[Model][simulate] Agent: Battery\n",
      "[Model][simulate] AMM State: E=42.0, M=238.0952380952381\n",
      "[battery][make_decision] E=42.0, M=238.0952380952381, t=0, p_t=5.668934240362812, K=10000.0, p_nxt=5, SOC=0.0, C_max=10\n",
      "[battery] p_t=5.6689, p_1=5.0000, SOC=0.0000\n",
      "[battery][make_decision][SELL] q_uncon=2.721359549995796\n",
      "[battery][make_decision][SELL] q_req=0.0\n",
      "[battery][make_decision][SELL] q_req <= 0, returning None\n",
      "[Model][simulate] Agent decision: None\n",
      "[Model][simulate] No trade decision from agent.\n",
      "[Model][simulate] -- Trade 76/100 --\n",
      "[Model][simulate] Agent: Battery\n",
      "[Model][simulate] AMM State: E=42.0, M=238.0952380952381\n",
      "[battery][make_decision] E=42.0, M=238.0952380952381, t=0, p_t=5.668934240362812, K=10000.0, p_nxt=5, SOC=0.0, C_max=10\n",
      "[battery] p_t=5.6689, p_1=5.0000, SOC=0.0000\n",
      "[battery][make_decision][SELL] q_uncon=2.721359549995796\n",
      "[battery][make_decision][SELL] q_req=0.0\n",
      "[battery][make_decision][SELL] q_req <= 0, returning None\n",
      "[Model][simulate] Agent decision: None\n",
      "[Model][simulate] No trade decision from agent.\n",
      "[Model][simulate] -- Trade 77/100 --\n",
      "[Model][simulate] Agent: Battery\n",
      "[Model][simulate] AMM State: E=42.0, M=238.0952380952381\n",
      "[battery][make_decision] E=42.0, M=238.0952380952381, t=0, p_t=5.668934240362812, K=10000.0, p_nxt=5, SOC=0.0, C_max=10\n",
      "[battery] p_t=5.6689, p_1=5.0000, SOC=0.0000\n",
      "[battery][make_decision][SELL] q_uncon=2.721359549995796\n",
      "[battery][make_decision][SELL] q_req=0.0\n",
      "[battery][make_decision][SELL] q_req <= 0, returning None\n",
      "[Model][simulate] Agent decision: None\n",
      "[Model][simulate] No trade decision from agent.\n",
      "[Model][simulate] -- Trade 78/100 --\n",
      "[Model][simulate] Agent: Battery\n",
      "[Model][simulate] AMM State: E=42.0, M=238.0952380952381\n",
      "[battery][make_decision] E=42.0, M=238.0952380952381, t=0, p_t=5.668934240362812, K=10000.0, p_nxt=5, SOC=0.0, C_max=10\n",
      "[battery] p_t=5.6689, p_1=5.0000, SOC=0.0000\n",
      "[battery][make_decision][SELL] q_uncon=2.721359549995796\n",
      "[battery][make_decision][SELL] q_req=0.0\n",
      "[battery][make_decision][SELL] q_req <= 0, returning None\n",
      "[Model][simulate] Agent decision: None\n",
      "[Model][simulate] No trade decision from agent.\n",
      "[Model][simulate] -- Trade 79/100 --\n",
      "[Model][simulate] Agent: Battery\n",
      "[Model][simulate] AMM State: E=42.0, M=238.0952380952381\n",
      "[battery][make_decision] E=42.0, M=238.0952380952381, t=0, p_t=5.668934240362812, K=10000.0, p_nxt=5, SOC=0.0, C_max=10\n",
      "[battery] p_t=5.6689, p_1=5.0000, SOC=0.0000\n",
      "[battery][make_decision][SELL] q_uncon=2.721359549995796\n",
      "[battery][make_decision][SELL] q_req=0.0\n",
      "[battery][make_decision][SELL] q_req <= 0, returning None\n",
      "[Model][simulate] Agent decision: None\n",
      "[Model][simulate] No trade decision from agent.\n",
      "[Model][simulate] -- Trade 80/100 --\n",
      "[Model][simulate] Agent: Battery\n",
      "[Model][simulate] AMM State: E=42.0, M=238.0952380952381\n",
      "[battery][make_decision] E=42.0, M=238.0952380952381, t=0, p_t=5.668934240362812, K=10000.0, p_nxt=5, SOC=0.0, C_max=10\n",
      "[battery] p_t=5.6689, p_1=5.0000, SOC=0.0000\n",
      "[battery][make_decision][SELL] q_uncon=2.721359549995796\n",
      "[battery][make_decision][SELL] q_req=0.0\n",
      "[battery][make_decision][SELL] q_req <= 0, returning None\n",
      "[Model][simulate] Agent decision: None\n",
      "[Model][simulate] No trade decision from agent.\n",
      "[Model][simulate] -- Trade 81/100 --\n",
      "[Model][simulate] Agent: Battery\n",
      "[Model][simulate] AMM State: E=42.0, M=238.0952380952381\n",
      "[battery][make_decision] E=42.0, M=238.0952380952381, t=0, p_t=5.668934240362812, K=10000.0, p_nxt=5, SOC=0.0, C_max=10\n",
      "[battery] p_t=5.6689, p_1=5.0000, SOC=0.0000\n",
      "[battery][make_decision][SELL] q_uncon=2.721359549995796\n",
      "[battery][make_decision][SELL] q_req=0.0\n",
      "[battery][make_decision][SELL] q_req <= 0, returning None\n",
      "[Model][simulate] Agent decision: None\n",
      "[Model][simulate] No trade decision from agent.\n",
      "[Model][simulate] -- Trade 82/100 --\n",
      "[Model][simulate] Agent: Battery\n",
      "[Model][simulate] AMM State: E=42.0, M=238.0952380952381\n",
      "[battery][make_decision] E=42.0, M=238.0952380952381, t=0, p_t=5.668934240362812, K=10000.0, p_nxt=5, SOC=0.0, C_max=10\n",
      "[battery] p_t=5.6689, p_1=5.0000, SOC=0.0000\n",
      "[battery][make_decision][SELL] q_uncon=2.721359549995796\n",
      "[battery][make_decision][SELL] q_req=0.0\n",
      "[battery][make_decision][SELL] q_req <= 0, returning None\n",
      "[Model][simulate] Agent decision: None\n",
      "[Model][simulate] No trade decision from agent.\n",
      "[Model][simulate] -- Trade 83/100 --\n",
      "[Model][simulate] Agent: Battery\n",
      "[Model][simulate] AMM State: E=42.0, M=238.0952380952381\n",
      "[battery][make_decision] E=42.0, M=238.0952380952381, t=0, p_t=5.668934240362812, K=10000.0, p_nxt=5, SOC=0.0, C_max=10\n",
      "[battery] p_t=5.6689, p_1=5.0000, SOC=0.0000\n",
      "[battery][make_decision][SELL] q_uncon=2.721359549995796\n",
      "[battery][make_decision][SELL] q_req=0.0\n",
      "[battery][make_decision][SELL] q_req <= 0, returning None\n",
      "[Model][simulate] Agent decision: None\n",
      "[Model][simulate] No trade decision from agent.\n",
      "[Model][simulate] -- Trade 84/100 --\n",
      "[Model][simulate] Agent: Battery\n",
      "[Model][simulate] AMM State: E=42.0, M=238.0952380952381\n",
      "[battery][make_decision] E=42.0, M=238.0952380952381, t=0, p_t=5.668934240362812, K=10000.0, p_nxt=5, SOC=0.0, C_max=10\n",
      "[battery] p_t=5.6689, p_1=5.0000, SOC=0.0000\n",
      "[battery][make_decision][SELL] q_uncon=2.721359549995796\n",
      "[battery][make_decision][SELL] q_req=0.0\n",
      "[battery][make_decision][SELL] q_req <= 0, returning None\n",
      "[Model][simulate] Agent decision: None\n",
      "[Model][simulate] No trade decision from agent.\n",
      "[Model][simulate] -- Trade 85/100 --\n",
      "[Model][simulate] Agent: Battery\n",
      "[Model][simulate] AMM State: E=42.0, M=238.0952380952381\n",
      "[battery][make_decision] E=42.0, M=238.0952380952381, t=0, p_t=5.668934240362812, K=10000.0, p_nxt=5, SOC=0.0, C_max=10\n",
      "[battery] p_t=5.6689, p_1=5.0000, SOC=0.0000\n",
      "[battery][make_decision][SELL] q_uncon=2.721359549995796\n",
      "[battery][make_decision][SELL] q_req=0.0\n",
      "[battery][make_decision][SELL] q_req <= 0, returning None\n",
      "[Model][simulate] Agent decision: None\n",
      "[Model][simulate] No trade decision from agent.\n",
      "[Model][simulate] -- Trade 86/100 --\n",
      "[Model][simulate] Agent: Battery\n",
      "[Model][simulate] AMM State: E=42.0, M=238.0952380952381\n",
      "[battery][make_decision] E=42.0, M=238.0952380952381, t=0, p_t=5.668934240362812, K=10000.0, p_nxt=5, SOC=0.0, C_max=10\n",
      "[battery] p_t=5.6689, p_1=5.0000, SOC=0.0000\n",
      "[battery][make_decision][SELL] q_uncon=2.721359549995796\n",
      "[battery][make_decision][SELL] q_req=0.0\n",
      "[battery][make_decision][SELL] q_req <= 0, returning None\n",
      "[Model][simulate] Agent decision: None\n",
      "[Model][simulate] No trade decision from agent.\n",
      "[Model][simulate] -- Trade 87/100 --\n",
      "[Model][simulate] Agent: Battery\n",
      "[Model][simulate] AMM State: E=42.0, M=238.0952380952381\n",
      "[battery][make_decision] E=42.0, M=238.0952380952381, t=0, p_t=5.668934240362812, K=10000.0, p_nxt=5, SOC=0.0, C_max=10\n",
      "[battery] p_t=5.6689, p_1=5.0000, SOC=0.0000\n",
      "[battery][make_decision][SELL] q_uncon=2.721359549995796\n",
      "[battery][make_decision][SELL] q_req=0.0\n",
      "[battery][make_decision][SELL] q_req <= 0, returning None\n",
      "[Model][simulate] Agent decision: None\n",
      "[Model][simulate] No trade decision from agent.\n",
      "[Model][simulate] -- Trade 88/100 --\n",
      "[Model][simulate] Agent: Battery\n",
      "[Model][simulate] AMM State: E=42.0, M=238.0952380952381\n",
      "[battery][make_decision] E=42.0, M=238.0952380952381, t=0, p_t=5.668934240362812, K=10000.0, p_nxt=5, SOC=0.0, C_max=10\n",
      "[battery] p_t=5.6689, p_1=5.0000, SOC=0.0000\n",
      "[battery][make_decision][SELL] q_uncon=2.721359549995796\n",
      "[battery][make_decision][SELL] q_req=0.0\n",
      "[battery][make_decision][SELL] q_req <= 0, returning None\n",
      "[Model][simulate] Agent decision: None\n",
      "[Model][simulate] No trade decision from agent.\n",
      "[Model][simulate] -- Trade 89/100 --\n",
      "[Model][simulate] Agent: Battery\n",
      "[Model][simulate] AMM State: E=42.0, M=238.0952380952381\n",
      "[battery][make_decision] E=42.0, M=238.0952380952381, t=0, p_t=5.668934240362812, K=10000.0, p_nxt=5, SOC=0.0, C_max=10\n",
      "[battery] p_t=5.6689, p_1=5.0000, SOC=0.0000\n",
      "[battery][make_decision][SELL] q_uncon=2.721359549995796\n",
      "[battery][make_decision][SELL] q_req=0.0\n",
      "[battery][make_decision][SELL] q_req <= 0, returning None\n",
      "[Model][simulate] Agent decision: None\n",
      "[Model][simulate] No trade decision from agent.\n",
      "[Model][simulate] -- Trade 90/100 --\n",
      "[Model][simulate] Agent: Battery\n",
      "[Model][simulate] AMM State: E=42.0, M=238.0952380952381\n",
      "[battery][make_decision] E=42.0, M=238.0952380952381, t=0, p_t=5.668934240362812, K=10000.0, p_nxt=5, SOC=0.0, C_max=10\n",
      "[battery] p_t=5.6689, p_1=5.0000, SOC=0.0000\n",
      "[battery][make_decision][SELL] q_uncon=2.721359549995796\n",
      "[battery][make_decision][SELL] q_req=0.0\n",
      "[battery][make_decision][SELL] q_req <= 0, returning None\n",
      "[Model][simulate] Agent decision: None\n",
      "[Model][simulate] No trade decision from agent.\n",
      "[Model][simulate] -- Trade 91/100 --\n",
      "[Model][simulate] Agent: Battery\n",
      "[Model][simulate] AMM State: E=42.0, M=238.0952380952381\n",
      "[battery][make_decision] E=42.0, M=238.0952380952381, t=0, p_t=5.668934240362812, K=10000.0, p_nxt=5, SOC=0.0, C_max=10\n",
      "[battery] p_t=5.6689, p_1=5.0000, SOC=0.0000\n",
      "[battery][make_decision][SELL] q_uncon=2.721359549995796\n",
      "[battery][make_decision][SELL] q_req=0.0\n",
      "[battery][make_decision][SELL] q_req <= 0, returning None\n",
      "[Model][simulate] Agent decision: None\n",
      "[Model][simulate] No trade decision from agent.\n",
      "[Model][simulate] -- Trade 92/100 --\n",
      "[Model][simulate] Agent: Battery\n",
      "[Model][simulate] AMM State: E=42.0, M=238.0952380952381\n",
      "[battery][make_decision] E=42.0, M=238.0952380952381, t=0, p_t=5.668934240362812, K=10000.0, p_nxt=5, SOC=0.0, C_max=10\n",
      "[battery] p_t=5.6689, p_1=5.0000, SOC=0.0000\n",
      "[battery][make_decision][SELL] q_uncon=2.721359549995796\n",
      "[battery][make_decision][SELL] q_req=0.0\n",
      "[battery][make_decision][SELL] q_req <= 0, returning None\n",
      "[Model][simulate] Agent decision: None\n",
      "[Model][simulate] No trade decision from agent.\n",
      "[Model][simulate] -- Trade 93/100 --\n",
      "[Model][simulate] Agent: Battery\n",
      "[Model][simulate] AMM State: E=42.0, M=238.0952380952381\n",
      "[battery][make_decision] E=42.0, M=238.0952380952381, t=0, p_t=5.668934240362812, K=10000.0, p_nxt=5, SOC=0.0, C_max=10\n",
      "[battery] p_t=5.6689, p_1=5.0000, SOC=0.0000\n",
      "[battery][make_decision][SELL] q_uncon=2.721359549995796\n",
      "[battery][make_decision][SELL] q_req=0.0\n",
      "[battery][make_decision][SELL] q_req <= 0, returning None\n",
      "[Model][simulate] Agent decision: None\n",
      "[Model][simulate] No trade decision from agent.\n",
      "[Model][simulate] -- Trade 94/100 --\n",
      "[Model][simulate] Agent: Battery\n",
      "[Model][simulate] AMM State: E=42.0, M=238.0952380952381\n",
      "[battery][make_decision] E=42.0, M=238.0952380952381, t=0, p_t=5.668934240362812, K=10000.0, p_nxt=5, SOC=0.0, C_max=10\n",
      "[battery] p_t=5.6689, p_1=5.0000, SOC=0.0000\n",
      "[battery][make_decision][SELL] q_uncon=2.721359549995796\n",
      "[battery][make_decision][SELL] q_req=0.0\n",
      "[battery][make_decision][SELL] q_req <= 0, returning None\n",
      "[Model][simulate] Agent decision: None\n",
      "[Model][simulate] No trade decision from agent.\n",
      "[Model][simulate] -- Trade 95/100 --\n",
      "[Model][simulate] Agent: Battery\n",
      "[Model][simulate] AMM State: E=42.0, M=238.0952380952381\n",
      "[battery][make_decision] E=42.0, M=238.0952380952381, t=0, p_t=5.668934240362812, K=10000.0, p_nxt=5, SOC=0.0, C_max=10\n",
      "[battery] p_t=5.6689, p_1=5.0000, SOC=0.0000\n",
      "[battery][make_decision][SELL] q_uncon=2.721359549995796\n",
      "[battery][make_decision][SELL] q_req=0.0\n",
      "[battery][make_decision][SELL] q_req <= 0, returning None\n",
      "[Model][simulate] Agent decision: None\n",
      "[Model][simulate] No trade decision from agent.\n",
      "[Model][simulate] -- Trade 96/100 --\n",
      "[Model][simulate] Agent: Battery\n",
      "[Model][simulate] AMM State: E=42.0, M=238.0952380952381\n",
      "[battery][make_decision] E=42.0, M=238.0952380952381, t=0, p_t=5.668934240362812, K=10000.0, p_nxt=5, SOC=0.0, C_max=10\n",
      "[battery] p_t=5.6689, p_1=5.0000, SOC=0.0000\n",
      "[battery][make_decision][SELL] q_uncon=2.721359549995796\n",
      "[battery][make_decision][SELL] q_req=0.0\n",
      "[battery][make_decision][SELL] q_req <= 0, returning None\n",
      "[Model][simulate] Agent decision: None\n",
      "[Model][simulate] No trade decision from agent.\n",
      "[Model][simulate] -- Trade 97/100 --\n",
      "[Model][simulate] Agent: Battery\n",
      "[Model][simulate] AMM State: E=42.0, M=238.0952380952381\n",
      "[battery][make_decision] E=42.0, M=238.0952380952381, t=0, p_t=5.668934240362812, K=10000.0, p_nxt=5, SOC=0.0, C_max=10\n",
      "[battery] p_t=5.6689, p_1=5.0000, SOC=0.0000\n",
      "[battery][make_decision][SELL] q_uncon=2.721359549995796\n",
      "[battery][make_decision][SELL] q_req=0.0\n",
      "[battery][make_decision][SELL] q_req <= 0, returning None\n",
      "[Model][simulate] Agent decision: None\n",
      "[Model][simulate] No trade decision from agent.\n",
      "[Model][simulate] -- Trade 98/100 --\n",
      "[Model][simulate] Agent: Battery\n",
      "[Model][simulate] AMM State: E=42.0, M=238.0952380952381\n",
      "[battery][make_decision] E=42.0, M=238.0952380952381, t=0, p_t=5.668934240362812, K=10000.0, p_nxt=5, SOC=0.0, C_max=10\n",
      "[battery] p_t=5.6689, p_1=5.0000, SOC=0.0000\n",
      "[battery][make_decision][SELL] q_uncon=2.721359549995796\n",
      "[battery][make_decision][SELL] q_req=0.0\n",
      "[battery][make_decision][SELL] q_req <= 0, returning None\n",
      "[Model][simulate] Agent decision: None\n",
      "[Model][simulate] No trade decision from agent.\n",
      "[Model][simulate] -- Trade 99/100 --\n",
      "[Model][simulate] Agent: Battery\n",
      "[Model][simulate] AMM State: E=42.0, M=238.0952380952381\n",
      "[battery][make_decision] E=42.0, M=238.0952380952381, t=0, p_t=5.668934240362812, K=10000.0, p_nxt=5, SOC=0.0, C_max=10\n",
      "[battery] p_t=5.6689, p_1=5.0000, SOC=0.0000\n",
      "[battery][make_decision][SELL] q_uncon=2.721359549995796\n",
      "[battery][make_decision][SELL] q_req=0.0\n",
      "[battery][make_decision][SELL] q_req <= 0, returning None\n",
      "[Model][simulate] Agent decision: None\n",
      "[Model][simulate] No trade decision from agent.\n",
      "[Model][simulate] -- Trade 100/100 --\n",
      "[Model][simulate] Agent: Battery\n",
      "[Model][simulate] AMM State: E=42.0, M=238.0952380952381\n",
      "[battery][make_decision] E=42.0, M=238.0952380952381, t=0, p_t=5.668934240362812, K=10000.0, p_nxt=5, SOC=0.0, C_max=10\n",
      "[battery] p_t=5.6689, p_1=5.0000, SOC=0.0000\n",
      "[battery][make_decision][SELL] q_uncon=2.721359549995796\n",
      "[battery][make_decision][SELL] q_req=0.0\n",
      "[battery][make_decision][SELL] q_req <= 0, returning None\n",
      "[Model][simulate] Agent decision: None\n",
      "[Model][simulate] No trade decision from agent.\n",
      "reserve_x = 42.0\n",
      "reserve_y = 238.0952380952381\n",
      "[Model][simulate] Simulation complete.\n"
     ]
    }
   ],
   "source": [
    "# === Parameters ===\n",
    "days = 1\n",
    "T = 24*days + 1\n",
    "v_max = 10\n",
    "q_max = 10\n",
    "c_u = 5\n",
    "C_init = 2\n",
    "C_final = 2\n",
    "C_max = 10\n",
    "\n",
    "# === Simulated solar irradiance ===\n",
    "sunrise = 6 \n",
    "sunset = 20\n",
    "mean_pmax = 10\n",
    "std_pmax = 1 \n",
    "\n",
    "\n",
    "solar_gen_profile, p_max_list = generate_nday_solar(sunrise, sunset, mean_pmax, std_pmax, days)\n",
    "\n",
    "#np.random.seed(0)\n",
    "s_t = np.array(solar_gen_profile)  \n",
    "s_t = np.array([0, 5, 0])\n",
    "\n",
    "T = 1\n",
    "k = 10000\n",
    "\n",
    "reserve_x = 40 #number of Energy Tokens in the pool \n",
    "reserve_y = k/reserve_x #number of Money Tokens in the pool\n",
    "#Model Initialization\n",
    "\n",
    "#Demand/Consumer/Load agent \n",
    "demand_agent = ElasticDemand(10,10, \"demand\", True )\n",
    "utility_agent = Supply(5, 10, \"utility\", True)\n",
    "solar_agent = Supply(0, 5, \"solar\", True )\n",
    "battery_agent = Battery(C_init,C_max,\"battery\", s_t, v_max, q_max, c_u, verbose= True)\n",
    "\n",
    "#AMM \n",
    "amm_agent = AMM()\n",
    "amm_agent.setup_pool(reserve_x, reserve_y)\n",
    "agent_list = [battery_agent]\n",
    "trades_per_period = 100\n",
    "\n",
    "#Model Agent \n",
    "model = Model(T, agent_list, amm_agent, trades_per_period)\n",
    "model.simulate()"
   ]
  },
  {
   "cell_type": "code",
   "execution_count": null,
   "id": "f191e080",
   "metadata": {},
   "outputs": [],
   "source": [
    "q_req =  0.472135955\n",
    "\n",
    "reserve_x = 4 \n",
    "reserve_y = 25\n",
    "K = reserve_x*reserve_y\n",
    "p_nxt = 5 \n",
    "\n",
    "p_t = reserve_y/reserve_x\n",
    "\n",
    "p_final = K/(reserve_y- q_req)**2\n",
    "\n",
    "\n",
    "max_total = p_nxt * q_req #NOTE: think about this \n",
    "\n",
    "tx = {\n",
    "\"decision\":   \"buy_tokens_max_price\",\n",
    "\"token\":      \"x\",\n",
    "\"quantity\":   q_req,\n",
    "\"max_price\":  max_total, \n",
    "\"agent_type\": self.agent_type\n",
    "}\n",
    "\n",
    "\n",
    "print(tx)"
   ]
  },
  {
   "cell_type": "code",
   "execution_count": null,
   "id": "e788965c",
   "metadata": {},
   "outputs": [],
   "source": [
    "T = 1 \n",
    "#Demand/Consumer/Load agent \n",
    "# demand_agent = Demand(10,10, \"demand\")\n",
    "# utility_agent = Supply(5, 10, \"utility\")\n",
    "# solar_agent = Supply(0, 5, \"solar\")\n",
    "\n",
    "# amm_agent = AMM()\n",
    "# amm_agent.setup_pool(5,5)\n",
    "# agent_list = [demand_agent,utility_agent, solar_agent]\n",
    "# trades_per_period = 10\n",
    "\n",
    "\n",
    "# #Model Agent \n",
    "# model = Model(T, agent_list, amm_agent, trades_per_period)\n",
    "\n",
    "k = 100\n",
    "param_grid_reserves = []\n",
    "param_grid_final_reserves = []\n",
    "T = 1 \n",
    "\n",
    "for step in range(1,k+1): \n",
    "    reserve_x = step\n",
    "    reserve_y = k/step\n",
    "    tup = (reserve_x, reserve_y)\n",
    "    param_grid_reserves.append(tup)\n",
    "\n",
    "    #Model Initialization\n",
    "    #Demand/Consumer/Load agent \n",
    "    demand_agent = Demand(10,10, \"demand\")\n",
    "    utility_agent = Supply(5, 10, \"utility\")\n",
    "    solar_agent = Supply(0, 5, \"solar\")\n",
    "\n",
    "    amm_agent = AMM()\n",
    "    amm_agent.setup_pool(reserve_x, reserve_y)\n",
    "    agent_list = [demand_agent, utility_agent, solar_agent]\n",
    "    trades_per_period = 100\n",
    "\n",
    "    #Model Agent \n",
    "    model = Model(T, agent_list, amm_agent, trades_per_period)\n",
    "    model.simulate()\n",
    "    param_grid_final_reserves.append(model.amm_period_final_state[0])\n",
    "\n",
    "    \n",
    "#model.simulate(param_grid_reserves)"
   ]
  },
  {
   "cell_type": "code",
   "execution_count": null,
   "id": "4c075416",
   "metadata": {},
   "outputs": [],
   "source": [
    "import pandas as pd\n",
    "df = pd.DataFrame(param_grid_final_reserves, columns=['reserve_x_final', 'reserve_y_final'])\n",
    "df2 = pd.DataFrame(param_grid_reserves, columns=['reserve_x_initial', 'reserve_y_initial'])\n",
    "\n",
    "df = df.join(df2)\n",
    "\n",
    "pd.set_option('display.max_rows', None)\n",
    "\n",
    "df[\"x_difference\"] = abs(df[f\"reserve_x_final\"] - df[f\"reserve_x_initial\"])\n",
    "df[\"y_difference\"] = abs(df[f\"reserve_y_final\"] - df[f\"reserve_y_initial\"])\n",
    "\n",
    "df[\"spot_xy_initial\"] = df[f\"reserve_x_initial\"]/df[\"reserve_y_initial\"]\n",
    "df[\"spot_xy_final\"] = df[f\"reserve_x_final\"]/df[\"reserve_y_final\"]\n",
    "\n",
    "\n",
    "df[\"total_difference\"] = df[\"x_difference\"] + df[\"y_difference\"]\n",
    "\n",
    "min_row = df.loc[df[\"total_difference\"].idxmin()]\n",
    "print(min_row)"
   ]
  },
  {
   "cell_type": "code",
   "execution_count": null,
   "id": "005cb186",
   "metadata": {},
   "outputs": [],
   "source": [
    "np.sqrt(100/6.625)"
   ]
  },
  {
   "cell_type": "code",
   "execution_count": null,
   "id": "17a1177d",
   "metadata": {},
   "outputs": [],
   "source": [
    "new_steps = np.linspace(3,5, 100)\n",
    "\n",
    "param_grid_reserves = []\n",
    "param_grid_final_reserves = []\n",
    "T = 1 \n",
    "k = 100\n",
    "\n",
    "for step in new_steps: \n",
    "    reserve_x = step\n",
    "    reserve_y = k/step\n",
    "    tup = (reserve_x, reserve_y)\n",
    "    param_grid_reserves.append(tup)\n",
    "\n",
    "    #Model Initialization\n",
    "    #Demand/Consumer/Load agent \n",
    "    demand_agent = Demand(10,10, \"demand\")\n",
    "    utility_agent = Supply(5, 10, \"utility\")\n",
    "    solar_agent = Supply(0, 5, \"solar\")\n",
    "    \n",
    "    amm_agent = AMM()\n",
    "    amm_agent.setup_pool(reserve_x, reserve_y)\n",
    "    agent_list = [demand_agent, utility_agent, solar_agent]\n",
    "    trades_per_period = 10\n",
    "\n",
    "    #Model Agent \n",
    "    model = Model(T, agent_list, amm_agent, trades_per_period)\n",
    "    model.simulate()\n",
    "    param_grid_final_reserves.append(model.amm_period_final_state[0])\n"
   ]
  },
  {
   "cell_type": "code",
   "execution_count": null,
   "id": "e64bb89a",
   "metadata": {},
   "outputs": [],
   "source": [
    "df = pd.DataFrame(param_grid_final_reserves, columns=['reserve_x_final', 'reserve_y_final'])\n",
    "df2 = pd.DataFrame(param_grid_reserves, columns=['reserve_x_initial', 'reserve_y_initial'])\n",
    "\n",
    "df = df2.join(df)\n",
    "\n",
    "pd.set_option('display.max_rows', None)\n",
    "\n",
    "df[\"x_difference\"] = abs(df[f\"reserve_x_final\"] - df[f\"reserve_x_initial\"])\n",
    "df[\"y_difference\"] = abs(df[f\"reserve_y_final\"] - df[f\"reserve_y_initial\"])\n",
    "df[\"spot_yx_initial\"] = df[f\"reserve_y_initial\"]/df[\"reserve_x_initial\"]\n",
    "df[\"spot_yx_final\"] = df[f\"reserve_y_final\"]/df[\"reserve_x_final\"]\n",
    "\n",
    "df[\"total_difference\"] = df[\"x_difference\"] + df[\"y_difference\"]\n",
    "\n",
    "min_row = df.loc[df[\"total_difference\"].idxmin()]\n",
    "print(min_row)"
   ]
  },
  {
   "cell_type": "code",
   "execution_count": null,
   "id": "8a643067",
   "metadata": {},
   "outputs": [],
   "source": [
    "df"
   ]
  },
  {
   "cell_type": "code",
   "execution_count": null,
   "id": "7b47626a",
   "metadata": {},
   "outputs": [],
   "source": [
    "# Initialize AMM with some reserves\n",
    "amm = AMM()\n",
    "amm.setup_pool(quantity_x=100, quantity_y=100)  # Example: 100 energy tokens, 100 money tokens\n",
    "\n",
    "# Sell 10 units of energy token 'x' to the AMM\n",
    "sell_result = amm.sell_tokens(token='x', quantity=10)\n",
    "print(\"Sell 10 units of 'x':\", sell_result)\n",
    "\n",
    "# Buy 10 units of energy token 'x' from the AMM\n",
    "buy_result = amm.buy_tokens(token='x', quantity=10)\n",
    "print(\"Buy 10 units of 'x':\", buy_result)\n",
    "\n",
    "# Show final reserves\n",
    "print(\"Final AMM reserves:\", amm.request_info())"
   ]
  },
  {
   "cell_type": "code",
   "execution_count": null,
   "id": "1d0e3fbb",
   "metadata": {},
   "outputs": [],
   "source": [
    "k = 100 \n",
    "T = 1\n",
    "step = 4.47\n",
    "reserve_x = step \n",
    "reserve_y = k/step\n",
    "tup = (reserve_x, reserve_y)\n",
    "\n",
    "print(tup)\n",
    "param_grid_reserves.append(tup)\n",
    "\n",
    "#Model Initialization\n",
    "#Demand/Consumer/Load agent \n",
    "demand_agent = Demand(10,10, \"demand\")\n",
    "utility_agent = Supply(9, 15, \"utility\")\n",
    "solar_agent = Supply(0, 5, \"solar\")\n",
    "\n",
    "amm_agent = AMM()\n",
    "amm_agent.setup_pool(reserve_x, reserve_y)\n",
    "agent_list = [demand_agent, utility_agent, solar_agent]\n",
    "#agent_list = [demand_agent, utility_agent]\n",
    "trades_per_period = 15\n",
    "\n",
    "#Model Agent \n",
    "model = Model(T, agent_list, amm_agent, trades_per_period)\n",
    "model.simulate()\n",
    "param_grid_final_reserves.append(model.amm_period_final_state[0])\n",
    "\n"
   ]
  },
  {
   "cell_type": "code",
   "execution_count": null,
   "id": "3e7df68c",
   "metadata": {},
   "outputs": [],
   "source": [
    "# Initialize AMM with some reserves\n",
    "amm = AMM()\n",
    "amm.setup_pool(quantity_x=250, quantity_y=40)  # Example: 100 energy tokens, 100 money tokens\n",
    "\n",
    "c = 5\n",
    "q = 1\n",
    "# Sell 10 units of energy token 'x' to the AMM\n",
    "sell_result = amm.sell_tokens_min_price(token='x', quantity = q, min_price= c*q)\n",
    "print(\"Sell 10 units of 'x':\", sell_result)\n",
    "\n",
    "# # Buy 10 units of energy token 'x' from the AMM\n",
    "# buy_result = amm.buy_tokens(token='x', quantity=10)\n",
    "# print(\"Buy 10 units of 'x':\", buy_result)\n",
    "\n",
    "# Show final reserves\n",
    "print(\"Final AMM reserves:\", amm.request_info())"
   ]
  },
  {
   "cell_type": "code",
   "execution_count": null,
   "id": "0c33f49c",
   "metadata": {},
   "outputs": [],
   "source": [
    "utility_agent.remaining_supply"
   ]
  },
  {
   "cell_type": "code",
   "execution_count": 66,
   "id": "dd836139",
   "metadata": {},
   "outputs": [
    {
     "name": "stdout",
     "output_type": "stream",
     "text": [
      "Average‐cost solution: e = 0.054324, price ≃ 5.061483\n",
      "Average Cost Consumer Surplus = 0.13413924915116338\n",
      "Marginal Cost solution e = 0.0536561 price ≃ 5.060718\n",
      "Marginal Cost Consumer Surplus = 0.1341600241832297\n"
     ]
    }
   ],
   "source": [
    "import numpy as np\n",
    "\n",
    "def find_optimal_e(E, M, v_max, q_max):\n",
    "    \"\"\"\n",
    "    Solves for e in:\n",
    "      e^3 -(q_max + 2E)e^2 + (E^2 + 2E q_max)e + q_max*E*(M/v_max - E) = 0\n",
    "    Returns the unique real root 0 < e < E.\n",
    "    \"\"\"\n",
    "    # Coefficients of the monic cubic\n",
    "    coeffs = [\n",
    "        1,\n",
    "        -(q_max + 2*E),\n",
    "        E**2 + 2*E*q_max,\n",
    "        q_max*E*(M/v_max - E)\n",
    "    ]\n",
    "    \n",
    "    roots = np.roots(coeffs)\n",
    "    # Filter for a real root in (0, E)\n",
    "    real_roots = [r.real for r in roots if abs(r.imag) < 1e-8 and 0 < r.real < E]\n",
    "    if not real_roots:\n",
    "        raise ValueError(\"No valid root found in (0, E)\")\n",
    "    return real_roots \n",
    "\n",
    "\n",
    "\n",
    "def find_e_ac_closed_form(E, M, v_max, q_max):\n",
    "    \"\"\"\n",
    "    Solve the quadratic\n",
    "      e^2 - (E + q_max)*e + (E*q_max - (M*q_max)/v_max) = 0\n",
    "    using the quadratic formula, and return the unique root in (0, E).\n",
    "    \"\"\"\n",
    "    # coefficients\n",
    "    a = 1.0\n",
    "    b = -(E + q_max)\n",
    "    c = E*q_max - (M*q_max)/v_max\n",
    "\n",
    "    # compute discriminant\n",
    "    disc = b*b - 4*a*c\n",
    "    if disc < 0:\n",
    "        raise ValueError(\"Discriminant negative: no real roots\")\n",
    "\n",
    "    # two roots\n",
    "    sqrt_disc = np.sqrt(disc)\n",
    "    e1 = (-b + sqrt_disc) / (2*a)\n",
    "    e2 = (-b - sqrt_disc) / (2*a)\n",
    "\n",
    "    # pick the one in (0, E)\n",
    "    candidates = [e for e in (e1, e2) if 0 < e < E]\n",
    "    if not candidates:\n",
    "        raise ValueError(\"No valid root in (0, E)\")\n",
    "    return candidates[0]\n",
    "\n",
    "def compute_consumer_surplus(e, p, v_max, q_max):\n",
    "    \"\"\"\n",
    "    Compute CS = \\int_0^e v(q)dq - p*e\n",
    "      = v_max*(e - e^2/(2*q_max)) - p*e\n",
    "    \"\"\"\n",
    "    area_under = v_max * (e - e**2/(2 * q_max))\n",
    "    return area_under - p * e\n",
    "\n",
    "4.4721359549995805,22.360679774997898\n",
    "\n",
    "# Example\n",
    "if __name__ == \"__main__\":\n",
    "    E, M, v_max, q_max =4.4721359549995805,22.360679774997898, 10.0, 10.0\n",
    "    e_ac = find_e_ac_closed_form(E, M, v_max, q_max)\n",
    "   \n",
    "    # price either via average cost or v(e)\n",
    "    p_ac = (E*M/(E - e_ac) - M) / e_ac  \n",
    "    print(f\"Average‐cost solution: e = {e_ac:.6f}, price ≃ {p_ac:.6f}\")\n",
    "    cs_avg = compute_consumer_surplus(e_ac,p_ac, v_max, q_max)\n",
    "    print(f\"Average Cost Consumer Surplus = {cs_avg}\")\n",
    "    #marginal price\n",
    "\n",
    "    e_mc = find_optimal_e(E, M, v_max, q_max)[0]\n",
    "    p_mc = (E*M/(E - e_mc) - M) / e_mc  \n",
    "    print(f\"Marginal Cost solution e = {e_mc:.6} price ≃ {p_mc:.6f}\") \n",
    "\n",
    "    cs_mc = compute_consumer_surplus(e_mc,p_mc, v_max, q_max)\n",
    "    print(f\"Marginal Cost Consumer Surplus = {cs_mc}\")\n"
   ]
  },
  {
   "cell_type": "code",
   "execution_count": null,
   "id": "d3e46f16",
   "metadata": {},
   "outputs": [],
   "source": [
    "import numpy as np\n",
    "import plotly.graph_objects as go\n",
    "from ipywidgets import interact, FloatSlider\n",
    "\n",
    "def demand_curve(q, v_max, q_max):\n",
    "    \"\"\"\n",
    "    Inverse demand (marginal value) function v(q).\n",
    "    \"\"\"\n",
    "    return v_max * (1 - q / q_max)\n",
    "\n",
    "\n",
    "def amm_supply_curve(q, E, M):\n",
    "    \"\"\"\n",
    "    AMM marginal cost supply curve: price to purchase an incremental unit of E.\n",
    "    Derived as dM/de = K/(E - e)^2, where K = E*M.\n",
    "    \"\"\"\n",
    "    K = E * M\n",
    "    return K / (E - q)**2\n",
    "\n",
    "\n",
    "def plot_demand_and_amm_supply(v_max=0.4, q_max=10.0, price=0.2, E=10.0, M=10.0):\n",
    "    # Quantity grid up to q_max\n",
    "    q_vals = np.linspace(0, q_max, 300)\n",
    "\n",
    "    # Demand curve (marginal value)\n",
    "    v_vals = demand_curve(q_vals, v_max, q_max)\n",
    "\n",
    "    # AMM supply (marginal cost)\n",
    "    supply_vals = amm_supply_curve(q_vals, E, M)\n",
    "\n",
    "    # Compute consumer surplus at given price\n",
    "    area, q_star = consumer_surplus(price, v_max, q_max)\n",
    "\n",
    "    fig = go.Figure()\n",
    "\n",
    "    # Plot demand curve\n",
    "    fig.add_trace(go.Scatter(\n",
    "        x=q_vals, y=v_vals,\n",
    "        mode='lines', name='Inverse Demand Curve'\n",
    "    ))\n",
    "\n",
    "    # Plot AMM supply curve\n",
    "    fig.add_trace(go.Scatter(\n",
    "        x=q_vals, y=supply_vals,\n",
    "        mode='lines', name='AMM Supply Curve',\n",
    "        line=dict(dash='dot', color='green')\n",
    "    ))\n",
    "\n",
    "    # Plot market price line\n",
    "    fig.add_trace(go.Scatter(\n",
    "        x=[0, q_max], y=[price, price],\n",
    "        mode='lines', name='Market Price',\n",
    "        line=dict(dash='dash', color='red')\n",
    "    ))\n",
    "\n",
    "    # Shade consumer surplus\n",
    "    q_fill = q_vals[q_vals <= q_star]\n",
    "    v_fill = demand_curve(q_fill, v_max, q_max)\n",
    "    fig.add_trace(go.Scatter(\n",
    "        x=np.concatenate([q_fill, q_fill[::-1]]),\n",
    "        y=np.concatenate([v_fill, [price]*len(q_fill)]),\n",
    "        fill='toself', fillcolor='rgba(255,165,0,0.5)',\n",
    "        line=dict(color='orange'), name='Consumer Surplus'\n",
    "    ))\n",
    "\n",
    "    fig.update_layout(\n",
    "        title=f'Consumer Surplus = {area:.4f}, Equilibrium Quantity = {q_star:.2f}',\n",
    "        xaxis_title='Quantity (q)',\n",
    "        yaxis_title='Price / Marginal Value',\n",
    "        xaxis=dict(range=[0, q_max*1.1]),\n",
    "        yaxis=dict(range=[0, max(v_max, max(supply_vals))*1.1]),\n",
    "        legend=dict(x=0.01, y=0.99)\n",
    "    )\n",
    "\n",
    "    fig.show()\n",
    "\n",
    "# Interactive sliders to adjust parameters\n",
    "interact(\n",
    "    plot_demand_and_amm_supply,\n",
    "    v_max=FloatSlider(value=0.4, min=0.1, max=10, step=0.01, description='v_max'),\n",
    "    q_max=FloatSlider(value=10, min=1, max=20, step=0.5, description='q_max'),\n",
    "    price=FloatSlider(value=0.2, min=0.0, max=10, step=0.01, description='Price'),\n",
    "    E=FloatSlider(value=10, min=1, max=100, step=1, description='E reserve'),\n",
    "    M=FloatSlider(value=10, min=1, max=100, step=1, description='M reserve')\n",
    ")"
   ]
  }
 ],
 "metadata": {
  "kernelspec": {
   "display_name": "base",
   "language": "python",
   "name": "python3"
  },
  "language_info": {
   "codemirror_mode": {
    "name": "ipython",
    "version": 3
   },
   "file_extension": ".py",
   "mimetype": "text/x-python",
   "name": "python",
   "nbconvert_exporter": "python",
   "pygments_lexer": "ipython3",
   "version": "3.11.5"
  }
 },
 "nbformat": 4,
 "nbformat_minor": 5
}
