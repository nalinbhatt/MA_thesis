{
 "cells": [
  {
   "cell_type": "markdown",
   "id": "3f2f45e8",
   "metadata": {},
   "source": [
    "### This TESS Double Auction Model simulations"
   ]
  },
  {
   "cell_type": "code",
   "execution_count": 108,
   "id": "7e0b0979",
   "metadata": {},
   "outputs": [
    {
     "name": "stdout",
     "output_type": "stream",
     "text": [
      "irradiance_profile = 169\n",
      "p_max = [18.82026172983832, 18.12172681831621, 7.916210762972647, 18.943142367151594, 10.252808535714697, 12.206137434425207, 8.441081632562417]\n"
     ]
    }
   ],
   "source": [
    "import numpy as np\n",
    "\n",
    "def generate_daily_solar_profile(sunrise=6, sunset=20, mean_pmax=15, std_pmax=1, seed=None):\n",
    "    \"\"\"\n",
    "    Generate a 24-hour solar irradiance profile using a cosine model for daylight hours.\n",
    "    \n",
    "    Parameters:\n",
    "    - sunrise: Hour of sunrise (e.g., 6)\n",
    "    - sunset: Hour of sunset (e.g., 18)\n",
    "    - mean_pmax: Mean of P_max (e.g., 1000 W/m²)\n",
    "    - std_pmax: Standard deviation of P_max (e.g., 100 W/m²)\n",
    "    - seed: Random seed for reproducibility\n",
    "    \n",
    "    Returns:\n",
    "    - irradiance: numpy array of length 24, representing hourly solar irradiance\n",
    "    - p_max: the actual peak irradiance drawn for the day\n",
    "    \"\"\"\n",
    "    if seed is not None:\n",
    "        np.random.seed(seed)\n",
    "    \n",
    "    hours = np.arange(24 + 1)  # 0 to 25 \n",
    "    irradiance = np.zeros_like(hours, dtype=float)\n",
    "    \n",
    "    t_mid = (sunrise + sunset) / 2\n",
    "    daylight_duration = sunset - sunrise\n",
    "\n",
    "    # Draw P_max from normal distribution\n",
    "    p_max = np.random.normal(loc=mean_pmax, scale=std_pmax)\n",
    "\n",
    "    # Apply cosine model during daylight hours\n",
    "    for h in range(24 + 1):\n",
    "        \n",
    "        if sunrise <= h <= sunset:\n",
    "            val = p_max * np.cos(np.pi * (h - t_mid) / daylight_duration)\n",
    "            irradiance[h] = max(0, val)  # clip negative values to zero\n",
    "\n",
    "        #ensuring that the 25th hour is the same as the 0th hour\n",
    "        if (h == 25): val[h] == val[0] \n",
    "\n",
    "    return irradiance, p_max\n",
    "\n",
    "# Example usage\n",
    "# irradiance_profile, p_max = generate_daily_solar_profile(seed=0)\n",
    "# print(f\"P_max for the day: {p_max:.2f}\")\n",
    "# print(\"Hourly irradiance values:\")\n",
    "# print(irradiance_profile)\n",
    "\n",
    "def generate_nday_solar(sunrise=6, sunset=20, mean_pmax=14, std_pmax=1, days= 1):\n",
    "    \"\"\"Generate nday solar production\"\"\"\n",
    "\n",
    "    irradiance_profile = []\n",
    "    p_max_list = []\n",
    "    for day in range(days): \n",
    "        #print(f\"Day = {day}\")\n",
    "        p_max = -1 \n",
    "        while p_max <=0:  #ensures all days have a positive p_max\n",
    "            power_gen_day, p_max = generate_daily_solar_profile(sunrise, sunset, mean_pmax, std_pmax, day)\n",
    "        #print(f\"P_max for the day: {p_max:.2f}\")\n",
    "        #print(\"Hourly irradiance values:\")\n",
    "\n",
    "\n",
    "        if day == 0: #we want 25 values for day 1 \n",
    "            irradiance_profile.extend(power_gen_day)\n",
    "        else: #we want less than 25 values for day 2 \n",
    "            irradiance_profile.extend(power_gen_day[1:])\n",
    "\n",
    "        p_max_list.append(p_max)\n",
    "    \n",
    "    return irradiance_profile, p_max_list\n",
    "\n",
    "irradiance_profile, p_max = generate_nday_solar(sunrise=6, sunset=20, mean_pmax=10, std_pmax = 5, days = 7)\n",
    "\n",
    "print(f\"irradiance_profile = {len(irradiance_profile)}\")\n",
    "print(f\"p_max = {p_max}\")"
   ]
  },
  {
   "cell_type": "code",
   "execution_count": 101,
   "id": "1ab5340d",
   "metadata": {},
   "outputs": [
    {
     "name": "stderr",
     "output_type": "stream",
     "text": [
      "/Users/nalin/anaconda3/lib/python3.11/site-packages/scipy/optimize/_slsqp_py.py:435: RuntimeWarning:\n",
      "\n",
      "Values in x were outside bounds during a minimize step, clipping to bounds\n",
      "\n",
      "/Users/nalin/anaconda3/lib/python3.11/site-packages/scipy/optimize/_slsqp_py.py:439: RuntimeWarning:\n",
      "\n",
      "Values in x were outside bounds during a minimize step, clipping to bounds\n",
      "\n",
      "/Users/nalin/anaconda3/lib/python3.11/site-packages/scipy/optimize/_slsqp_py.py:493: RuntimeWarning:\n",
      "\n",
      "Values in x were outside bounds during a minimize step, clipping to bounds\n",
      "\n",
      "/Users/nalin/anaconda3/lib/python3.11/site-packages/scipy/optimize/_slsqp_py.py:499: RuntimeWarning:\n",
      "\n",
      "Values in x were outside bounds during a minimize step, clipping to bounds\n",
      "\n"
     ]
    },
    {
     "ename": "KeyboardInterrupt",
     "evalue": "",
     "output_type": "error",
     "traceback": [
      "\u001b[0;31m---------------------------------------------------------------------------\u001b[0m",
      "\u001b[0;31mKeyboardInterrupt\u001b[0m                         Traceback (most recent call last)",
      "Cell \u001b[0;32mIn[101], line 107\u001b[0m\n\u001b[1;32m    104\u001b[0m start_time \u001b[38;5;241m=\u001b[39m time\u001b[38;5;241m.\u001b[39mtime()\n\u001b[1;32m    106\u001b[0m \u001b[38;5;28;01mtry\u001b[39;00m:\n\u001b[0;32m--> 107\u001b[0m     res \u001b[38;5;241m=\u001b[39m minimize(\n\u001b[1;32m    108\u001b[0m         fun\u001b[38;5;241m=\u001b[39mobjective,\n\u001b[1;32m    109\u001b[0m         x0\u001b[38;5;241m=\u001b[39mx0,\n\u001b[1;32m    110\u001b[0m         method\u001b[38;5;241m=\u001b[39m\u001b[38;5;124m'\u001b[39m\u001b[38;5;124mSLSQP\u001b[39m\u001b[38;5;124m'\u001b[39m,\n\u001b[1;32m    111\u001b[0m         bounds\u001b[38;5;241m=\u001b[39mbounds,\n\u001b[1;32m    112\u001b[0m         constraints\u001b[38;5;241m=\u001b[39m[\n\u001b[1;32m    113\u001b[0m             {\u001b[38;5;124m'\u001b[39m\u001b[38;5;124mtype\u001b[39m\u001b[38;5;124m'\u001b[39m: \u001b[38;5;124m'\u001b[39m\u001b[38;5;124meq\u001b[39m\u001b[38;5;124m'\u001b[39m, \u001b[38;5;124m'\u001b[39m\u001b[38;5;124mfun\u001b[39m\u001b[38;5;124m'\u001b[39m: constraint_eq},\n\u001b[1;32m    114\u001b[0m             {\u001b[38;5;124m'\u001b[39m\u001b[38;5;124mtype\u001b[39m\u001b[38;5;124m'\u001b[39m: \u001b[38;5;124m'\u001b[39m\u001b[38;5;124mineq\u001b[39m\u001b[38;5;124m'\u001b[39m, \u001b[38;5;124m'\u001b[39m\u001b[38;5;124mfun\u001b[39m\u001b[38;5;124m'\u001b[39m: constraint_ineq}\n\u001b[1;32m    115\u001b[0m         ],\n\u001b[1;32m    116\u001b[0m         options\u001b[38;5;241m=\u001b[39m{\u001b[38;5;124m'\u001b[39m\u001b[38;5;124mdisp\u001b[39m\u001b[38;5;124m'\u001b[39m: \u001b[38;5;28;01mFalse\u001b[39;00m, \u001b[38;5;124m'\u001b[39m\u001b[38;5;124mmaxiter\u001b[39m\u001b[38;5;124m'\u001b[39m: \u001b[38;5;241m8000\u001b[39m}\n\u001b[1;32m    117\u001b[0m     )\n\u001b[1;32m    118\u001b[0m     elapsed \u001b[38;5;241m=\u001b[39m time\u001b[38;5;241m.\u001b[39mtime() \u001b[38;5;241m-\u001b[39m start_time\n\u001b[1;32m    120\u001b[0m     \u001b[38;5;28;01mif\u001b[39;00m res\u001b[38;5;241m.\u001b[39msuccess \u001b[38;5;129;01mand\u001b[39;00m elapsed \u001b[38;5;241m<\u001b[39m\u001b[38;5;241m=\u001b[39m \u001b[38;5;241m60\u001b[39m:\n",
      "File \u001b[0;32m~/anaconda3/lib/python3.11/site-packages/scipy/optimize/_minimize.py:750\u001b[0m, in \u001b[0;36mminimize\u001b[0;34m(fun, x0, args, method, jac, hess, hessp, bounds, constraints, tol, callback, options)\u001b[0m\n\u001b[1;32m    747\u001b[0m     res \u001b[38;5;241m=\u001b[39m _minimize_cobyqa(fun, x0, args, bounds, constraints, callback,\n\u001b[1;32m    748\u001b[0m                            \u001b[38;5;241m*\u001b[39m\u001b[38;5;241m*\u001b[39moptions)\n\u001b[1;32m    749\u001b[0m \u001b[38;5;28;01melif\u001b[39;00m meth \u001b[38;5;241m==\u001b[39m \u001b[38;5;124m'\u001b[39m\u001b[38;5;124mslsqp\u001b[39m\u001b[38;5;124m'\u001b[39m:\n\u001b[0;32m--> 750\u001b[0m     res \u001b[38;5;241m=\u001b[39m _minimize_slsqp(fun, x0, args, jac, bounds,\n\u001b[1;32m    751\u001b[0m                           constraints, callback\u001b[38;5;241m=\u001b[39mcallback, \u001b[38;5;241m*\u001b[39m\u001b[38;5;241m*\u001b[39moptions)\n\u001b[1;32m    752\u001b[0m \u001b[38;5;28;01melif\u001b[39;00m meth \u001b[38;5;241m==\u001b[39m \u001b[38;5;124m'\u001b[39m\u001b[38;5;124mtrust-constr\u001b[39m\u001b[38;5;124m'\u001b[39m:\n\u001b[1;32m    753\u001b[0m     res \u001b[38;5;241m=\u001b[39m _minimize_trustregion_constr(fun, x0, args, jac, hess, hessp,\n\u001b[1;32m    754\u001b[0m                                        bounds, constraints,\n\u001b[1;32m    755\u001b[0m                                        callback\u001b[38;5;241m=\u001b[39mcallback, \u001b[38;5;241m*\u001b[39m\u001b[38;5;241m*\u001b[39moptions)\n",
      "File \u001b[0;32m~/anaconda3/lib/python3.11/site-packages/scipy/optimize/_slsqp_py.py:429\u001b[0m, in \u001b[0;36m_minimize_slsqp\u001b[0;34m(func, x0, args, jac, bounds, constraints, maxiter, ftol, iprint, disp, eps, callback, finite_diff_rel_step, **unknown_options)\u001b[0m\n\u001b[1;32m    425\u001b[0m a \u001b[38;5;241m=\u001b[39m _eval_con_normals(x, cons, la, n, m, meq, mieq)\n\u001b[1;32m    427\u001b[0m \u001b[38;5;28;01mwhile\u001b[39;00m \u001b[38;5;241m1\u001b[39m:\n\u001b[1;32m    428\u001b[0m     \u001b[38;5;66;03m# Call SLSQP\u001b[39;00m\n\u001b[0;32m--> 429\u001b[0m     slsqp(m, meq, x, xl, xu, fx, c, g, a, acc, majiter, mode, w, jw,\n\u001b[1;32m    430\u001b[0m           alpha, f0, gs, h1, h2, h3, h4, t, t0, tol,\n\u001b[1;32m    431\u001b[0m           iexact, incons, ireset, itermx, line,\n\u001b[1;32m    432\u001b[0m           n1, n2, n3)\n\u001b[1;32m    434\u001b[0m     \u001b[38;5;28;01mif\u001b[39;00m mode \u001b[38;5;241m==\u001b[39m \u001b[38;5;241m1\u001b[39m:  \u001b[38;5;66;03m# objective and constraint evaluation required\u001b[39;00m\n\u001b[1;32m    435\u001b[0m         fx \u001b[38;5;241m=\u001b[39m wrapped_fun(x)\n",
      "\u001b[0;31mKeyboardInterrupt\u001b[0m: "
     ]
    }
   ],
   "source": [
    "import numpy as np\n",
    "import pandas as pd\n",
    "from scipy.optimize import minimize\n",
    "import time\n",
    "import os\n",
    "\n",
    "\n",
    "\n",
    "# === Initialize output files ===\n",
    "\n",
    "failures_path = \"failures.csv\"\n",
    "\n",
    "if not os.path.exists(failures_path):\n",
    "    pd.DataFrame(columns=[\n",
    "        \"v_max\", \"C_max\", \"p_max\", \"seed\", \"message\"\n",
    "    ]).to_csv(failures_path, index=False)\n",
    "\n",
    "# results_summary.csv\n",
    "if not os.path.exists(\"results_summary.csv\"):\n",
    "    pd.DataFrame(columns=[\n",
    "        \"v_max\", \"C_max\", \"p_max\", \"seed\",\n",
    "        \"social_welfare\", \"binding_eq\", \"binding_ineq\"\n",
    "    ]).to_csv(\"results_summary.csv\", index=False)\n",
    "\n",
    "# results_hourly.csv\n",
    "if not os.path.exists(\"results_hourly.csv\"):\n",
    "    pd.DataFrame(columns=[\n",
    "        \"v_max\", \"C_max\", \"p_max\", \"seed\",\n",
    "        \"hour\", \"p\", \"q_s\", \"q_b\", \"q_u\", \"C\", \"q_d\", \"s_t\"\n",
    "    ]).to_csv(\"results_hourly.csv\", index=False)\n",
    "\n",
    "\n",
    "# === Simulation grid ===\n",
    "#v_max_vals = np.arange(105, 4, -10)\n",
    "v_max_vals = [10,15]\n",
    "C_max_vals = [5, 10, 15]\n",
    "p_max_vals = [1, 5, 8, 10, 15]\n",
    "\n",
    "\n",
    "for v_max_val in v_max_vals:\n",
    "    for C_max_val in C_max_vals:\n",
    "        for p_max_val in p_max_vals:\n",
    "            seed = int(time.time() * 1000) % (2**32 - 1)\n",
    "            np.random.seed(seed)\n",
    "\n",
    "            days = 1\n",
    "            T = 24 * days + 1\n",
    "            q_max = 10\n",
    "            c_u = 5\n",
    "            C_init = int(round(C_max_val / 2))\n",
    "            C_final = C_init\n",
    "            sunrise = 6\n",
    "            sunset =20 \n",
    "            mean_pmax = p_max_val \n",
    "            std_pmax = 0\n",
    "\n",
    "            s_t, _ = generate_nday_solar(sunrise , sunset , mean_pmax, std_pmax, days)\n",
    "            s_t = np.array(s_t)\n",
    "\n",
    "            def unpack(x):\n",
    "                return x[0:T], x[T:2*T], x[2*T:3*T], x[3*T:4*T], x[4*T:5*T+1]\n",
    "\n",
    "            def objective(x):\n",
    "                p, q_s, q_b, q_u, _ = unpack(x)\n",
    "                q_d = q_max * (1 - p / v_max_val)\n",
    "                cs = v_max_val * q_d - (v_max_val / (2 * q_max)) * q_d**2 - p * q_d\n",
    "                return -np.sum(cs + p*q_s + p*q_b + (p - c_u) * q_u)\n",
    "\n",
    "            def constraint_eq(x):\n",
    "                p, q_s, q_b, q_u, C = unpack(x)\n",
    "                cons = [C[0] - C_init, C[T] - C_final, q_s[0] - q_s[-1], q_b[0] - q_b[-1], q_u[0] - q_u[-1]]\n",
    "                for t in range(T):\n",
    "                    q_d_t = q_max * (1 - p[t] / v_max_val)\n",
    "                    cons += [q_s[t] + q_b[t] + q_u[t] - q_d_t, C[t+1] - (C[t] - q_b[t])]\n",
    "                return np.array(cons)\n",
    "\n",
    "            def constraint_ineq(x):\n",
    "                p, q_s, q_b, q_u, _ = unpack(x)\n",
    "                ineqs = []\n",
    "                for t in range(T):\n",
    "                    q_d_t = q_max * (1 - p[t] / v_max_val)\n",
    "                    ineqs.append(s_t[t] - q_s[t])\n",
    "                    IR_d_t = v_max_val * q_d_t - (v_max_val / (2 * q_max)) * q_d_t**2 - p[t] * q_d_t\n",
    "                    ineqs += [IR_d_t, (p[t] - c_u) * q_u[t], p[t] * q_s[t]]\n",
    "                IR_b = np.sum(p * q_b)\n",
    "                ineqs.append(IR_b)\n",
    "                return np.array(ineqs)\n",
    "\n",
    "            bounds = (\n",
    "                [(0, None)] * T + [(0, None)] * T +\n",
    "                [(-C_max_val, C_max_val)] * T +\n",
    "                [(0, None)] * T +\n",
    "                [(0, C_max_val)] * (T + 1)\n",
    "            )\n",
    "\n",
    "            x0 = np.ones(5 * T + 1)\n",
    "            x0[:T] = c_u\n",
    "            x0[T:2*T] = np.minimum(s_t, q_max)\n",
    "            x0[2*T:3*T] = 0\n",
    "            x0[3*T:4*T] = np.maximum(q_max - s_t, 0)\n",
    "            x0[4*T:5*T+1] = C_init\n",
    "\n",
    "\n",
    "            start_time = time.time()\n",
    "            \n",
    "            try:\n",
    "                res = minimize(\n",
    "                    fun=objective,\n",
    "                    x0=x0,\n",
    "                    method='SLSQP',\n",
    "                    bounds=bounds,\n",
    "                    constraints=[\n",
    "                        {'type': 'eq', 'fun': constraint_eq},\n",
    "                        {'type': 'ineq', 'fun': constraint_ineq}\n",
    "                    ],\n",
    "                    options={'disp': False, 'maxiter': 8000}\n",
    "                )\n",
    "                elapsed = time.time() - start_time\n",
    "\n",
    "                if res.success and elapsed <= 60:\n",
    "                    p, q_s, q_b, q_u, C = unpack(res.x)\n",
    "                    q_d = q_max * (1 - p / v_max_val)\n",
    "                    welfare = -res.fun\n",
    "                    eq_vals = constraint_eq(res.x)\n",
    "                    ineq_vals = constraint_ineq(res.x)\n",
    "                    tol = 1e-6\n",
    "                    binding_eq = list(np.where(np.abs(eq_vals) > tol)[0])\n",
    "                    binding_ineq = list(np.where(np.abs(ineq_vals) < tol)[0])\n",
    "\n",
    "                    summary_data = pd.DataFrame([{\n",
    "                        \"v_max\": v_max_val,\n",
    "                        \"C_max\": C_max_val,\n",
    "                        \"p_max\": p_max_val,\n",
    "                        \"seed\": seed,\n",
    "                        \"social_welfare\": welfare,\n",
    "                        \"binding_eq\": str(binding_eq),\n",
    "                        \"binding_ineq\": str(binding_ineq)\n",
    "                    }])\n",
    "                    summary_data.to_csv(\"results_summary.csv\", mode='a', header=False, index=False)\n",
    "\n",
    "                    hourly_data = pd.DataFrame({\n",
    "                        \"v_max\": v_max_val,\n",
    "                        \"C_max\": C_max_val,\n",
    "                        \"p_max\": p_max_val,\n",
    "                        \"seed\": seed,\n",
    "                        \"hour\": np.arange(T),\n",
    "                        \"p\": p,\n",
    "                        \"q_s\": q_s,\n",
    "                        \"q_b\": q_b,\n",
    "                        \"q_u\": q_u,\n",
    "                        \"C\": C[:-1],\n",
    "                        \"q_d\": q_d,\n",
    "                        \"s_t\": s_t\n",
    "                    })\n",
    "                    hourly_data.to_csv(\"results_hourly.csv\", mode='a', header=False, index=False)\n",
    "\n",
    "                elif not res.success or elapsed > 60:\n",
    "                    fail_message = res.message if not res.success else \"timeout\"\n",
    "                    pd.DataFrame([{\n",
    "                        \"v_max\": v_max_val,\n",
    "                        \"C_max\": C_max_val,\n",
    "                        \"p_max\": p_max_val,\n",
    "                        \"seed\": seed,\n",
    "                        \"message\": fail_message\n",
    "                    }]).to_csv(failures_path, mode='a', header=False, index=False)\n",
    "\n",
    "            except Exception as e:\n",
    "                pd.DataFrame([{\n",
    "                    \"v_max\": v_max_val,\n",
    "                    \"C_max\": C_max_val,\n",
    "                    \"p_max\": p_max_val,\n",
    "                    \"seed\": seed,\n",
    "                    \"message\": str(e)\n",
    "                }]).to_csv(failures_path, mode='a', header=False, index=False)\n"
   ]
  },
  {
   "cell_type": "code",
   "execution_count": 10,
   "id": "8aebc9e9",
   "metadata": {},
   "outputs": [
    {
     "data": {
      "application/vnd.plotly.v1+json": {
       "config": {
        "plotlyServerURL": "https://plotly.com"
       },
       "data": [
        {
         "hovertemplate": "p_max=1<br>v_max=%{x}<br>social_welfare=%{y}<br>C_max=%{marker.color}<extra></extra>",
         "legendgroup": "1",
         "marker": {
          "color": {
           "bdata": "BQoPBQ8=",
           "dtype": "i1"
          },
          "coloraxis": "coloraxis",
          "symbol": "circle"
         },
         "mode": "markers",
         "name": "1",
         "orientation": "v",
         "showlegend": true,
         "type": "scatter",
         "x": {
          "bdata": "CgoKDw8=",
          "dtype": "i1"
         },
         "xaxis": "x",
         "y": {
          "bdata": "XO3+BgVOdkBc7f4GBU52QFzt/gYFTnZAS9/MVZBsi0B9hhmMim2LQA==",
          "dtype": "f8"
         },
         "yaxis": "y"
        },
        {
         "hovertemplate": "p_max=5<br>v_max=%{x}<br>social_welfare=%{y}<br>C_max=%{marker.color}<extra></extra>",
         "legendgroup": "5",
         "marker": {
          "color": {
           "bdata": "BQoPBQoP",
           "dtype": "i1"
          },
          "coloraxis": "coloraxis",
          "symbol": "diamond"
         },
         "mode": "markers",
         "name": "5",
         "orientation": "v",
         "showlegend": true,
         "type": "scatter",
         "x": {
          "bdata": "CgoKDw8P",
          "dtype": "i1"
         },
         "xaxis": "x",
         "y": {
          "bdata": "alF9kQyzgEBqUX2RDLOAQGpRfZEMs4BAKXwLntt8kEB7Q9enM+aPQL0WlIrbfJBA",
          "dtype": "f8"
         },
         "yaxis": "y"
        },
        {
         "hovertemplate": "p_max=8<br>v_max=%{x}<br>social_welfare=%{y}<br>C_max=%{marker.color}<extra></extra>",
         "legendgroup": "8",
         "marker": {
          "color": {
           "bdata": "BQoPBQ==",
           "dtype": "i1"
          },
          "coloraxis": "coloraxis",
          "symbol": "square"
         },
         "mode": "markers",
         "name": "8",
         "orientation": "v",
         "showlegend": true,
         "type": "scatter",
         "x": {
          "bdata": "CgoKDw==",
          "dtype": "i1"
         },
         "xaxis": "x",
         "y": {
          "bdata": "48yZman+gkAjUwGMuQODQLs7mpmp/oJAm0hi+xg8kkA=",
          "dtype": "f8"
         },
         "yaxis": "y"
        },
        {
         "hovertemplate": "p_max=10<br>v_max=%{x}<br>social_welfare=%{y}<br>C_max=%{marker.color}<extra></extra>",
         "legendgroup": "10",
         "marker": {
          "color": {
           "bdata": "BQoPBQoP",
           "dtype": "i1"
          },
          "coloraxis": "coloraxis",
          "symbol": "x"
         },
         "mode": "markers",
         "name": "10",
         "orientation": "v",
         "showlegend": true,
         "type": "scatter",
         "x": {
          "bdata": "CgoKDw8P",
          "dtype": "i1"
         },
         "xaxis": "x",
         "y": {
          "bdata": "kXORkxMbhUD12WMRuyyGQCm3nAG7LIZArIhRUTqyk0Au5OtKUdaTQHob6g2v15JA",
          "dtype": "f8"
         },
         "yaxis": "y"
        },
        {
         "hovertemplate": "p_max=15<br>v_max=%{x}<br>social_welfare=%{y}<br>C_max=%{marker.color}<extra></extra>",
         "legendgroup": "15",
         "marker": {
          "color": {
           "bdata": "CgUKDw==",
           "dtype": "i1"
          },
          "coloraxis": "coloraxis",
          "symbol": "cross"
         },
         "mode": "markers",
         "name": "15",
         "orientation": "v",
         "showlegend": true,
         "type": "scatter",
         "x": {
          "bdata": "Cg8PDw==",
          "dtype": "i1"
         },
         "xaxis": "x",
         "y": {
          "bdata": "vGZULgVIh0BynfdGowSUQGBxj3JompNAEDEJ5Yq/lEA=",
          "dtype": "f8"
         },
         "yaxis": "y"
        }
       ],
       "layout": {
        "coloraxis": {
         "colorbar": {
          "title": {
           "text": "C_max"
          }
         },
         "colorscale": [
          [
           0,
           "#0d0887"
          ],
          [
           0.1111111111111111,
           "#46039f"
          ],
          [
           0.2222222222222222,
           "#7201a8"
          ],
          [
           0.3333333333333333,
           "#9c179e"
          ],
          [
           0.4444444444444444,
           "#bd3786"
          ],
          [
           0.5555555555555556,
           "#d8576b"
          ],
          [
           0.6666666666666666,
           "#ed7953"
          ],
          [
           0.7777777777777778,
           "#fb9f3a"
          ],
          [
           0.8888888888888888,
           "#fdca26"
          ],
          [
           1,
           "#f0f921"
          ]
         ]
        },
        "legend": {
         "title": {
          "text": "p_max"
         },
         "tracegroupgap": 0
        },
        "template": {
         "data": {
          "bar": [
           {
            "error_x": {
             "color": "#2a3f5f"
            },
            "error_y": {
             "color": "#2a3f5f"
            },
            "marker": {
             "line": {
              "color": "#E5ECF6",
              "width": 0.5
             },
             "pattern": {
              "fillmode": "overlay",
              "size": 10,
              "solidity": 0.2
             }
            },
            "type": "bar"
           }
          ],
          "barpolar": [
           {
            "marker": {
             "line": {
              "color": "#E5ECF6",
              "width": 0.5
             },
             "pattern": {
              "fillmode": "overlay",
              "size": 10,
              "solidity": 0.2
             }
            },
            "type": "barpolar"
           }
          ],
          "carpet": [
           {
            "aaxis": {
             "endlinecolor": "#2a3f5f",
             "gridcolor": "white",
             "linecolor": "white",
             "minorgridcolor": "white",
             "startlinecolor": "#2a3f5f"
            },
            "baxis": {
             "endlinecolor": "#2a3f5f",
             "gridcolor": "white",
             "linecolor": "white",
             "minorgridcolor": "white",
             "startlinecolor": "#2a3f5f"
            },
            "type": "carpet"
           }
          ],
          "choropleth": [
           {
            "colorbar": {
             "outlinewidth": 0,
             "ticks": ""
            },
            "type": "choropleth"
           }
          ],
          "contour": [
           {
            "colorbar": {
             "outlinewidth": 0,
             "ticks": ""
            },
            "colorscale": [
             [
              0,
              "#0d0887"
             ],
             [
              0.1111111111111111,
              "#46039f"
             ],
             [
              0.2222222222222222,
              "#7201a8"
             ],
             [
              0.3333333333333333,
              "#9c179e"
             ],
             [
              0.4444444444444444,
              "#bd3786"
             ],
             [
              0.5555555555555556,
              "#d8576b"
             ],
             [
              0.6666666666666666,
              "#ed7953"
             ],
             [
              0.7777777777777778,
              "#fb9f3a"
             ],
             [
              0.8888888888888888,
              "#fdca26"
             ],
             [
              1,
              "#f0f921"
             ]
            ],
            "type": "contour"
           }
          ],
          "contourcarpet": [
           {
            "colorbar": {
             "outlinewidth": 0,
             "ticks": ""
            },
            "type": "contourcarpet"
           }
          ],
          "heatmap": [
           {
            "colorbar": {
             "outlinewidth": 0,
             "ticks": ""
            },
            "colorscale": [
             [
              0,
              "#0d0887"
             ],
             [
              0.1111111111111111,
              "#46039f"
             ],
             [
              0.2222222222222222,
              "#7201a8"
             ],
             [
              0.3333333333333333,
              "#9c179e"
             ],
             [
              0.4444444444444444,
              "#bd3786"
             ],
             [
              0.5555555555555556,
              "#d8576b"
             ],
             [
              0.6666666666666666,
              "#ed7953"
             ],
             [
              0.7777777777777778,
              "#fb9f3a"
             ],
             [
              0.8888888888888888,
              "#fdca26"
             ],
             [
              1,
              "#f0f921"
             ]
            ],
            "type": "heatmap"
           }
          ],
          "histogram": [
           {
            "marker": {
             "pattern": {
              "fillmode": "overlay",
              "size": 10,
              "solidity": 0.2
             }
            },
            "type": "histogram"
           }
          ],
          "histogram2d": [
           {
            "colorbar": {
             "outlinewidth": 0,
             "ticks": ""
            },
            "colorscale": [
             [
              0,
              "#0d0887"
             ],
             [
              0.1111111111111111,
              "#46039f"
             ],
             [
              0.2222222222222222,
              "#7201a8"
             ],
             [
              0.3333333333333333,
              "#9c179e"
             ],
             [
              0.4444444444444444,
              "#bd3786"
             ],
             [
              0.5555555555555556,
              "#d8576b"
             ],
             [
              0.6666666666666666,
              "#ed7953"
             ],
             [
              0.7777777777777778,
              "#fb9f3a"
             ],
             [
              0.8888888888888888,
              "#fdca26"
             ],
             [
              1,
              "#f0f921"
             ]
            ],
            "type": "histogram2d"
           }
          ],
          "histogram2dcontour": [
           {
            "colorbar": {
             "outlinewidth": 0,
             "ticks": ""
            },
            "colorscale": [
             [
              0,
              "#0d0887"
             ],
             [
              0.1111111111111111,
              "#46039f"
             ],
             [
              0.2222222222222222,
              "#7201a8"
             ],
             [
              0.3333333333333333,
              "#9c179e"
             ],
             [
              0.4444444444444444,
              "#bd3786"
             ],
             [
              0.5555555555555556,
              "#d8576b"
             ],
             [
              0.6666666666666666,
              "#ed7953"
             ],
             [
              0.7777777777777778,
              "#fb9f3a"
             ],
             [
              0.8888888888888888,
              "#fdca26"
             ],
             [
              1,
              "#f0f921"
             ]
            ],
            "type": "histogram2dcontour"
           }
          ],
          "mesh3d": [
           {
            "colorbar": {
             "outlinewidth": 0,
             "ticks": ""
            },
            "type": "mesh3d"
           }
          ],
          "parcoords": [
           {
            "line": {
             "colorbar": {
              "outlinewidth": 0,
              "ticks": ""
             }
            },
            "type": "parcoords"
           }
          ],
          "pie": [
           {
            "automargin": true,
            "type": "pie"
           }
          ],
          "scatter": [
           {
            "fillpattern": {
             "fillmode": "overlay",
             "size": 10,
             "solidity": 0.2
            },
            "type": "scatter"
           }
          ],
          "scatter3d": [
           {
            "line": {
             "colorbar": {
              "outlinewidth": 0,
              "ticks": ""
             }
            },
            "marker": {
             "colorbar": {
              "outlinewidth": 0,
              "ticks": ""
             }
            },
            "type": "scatter3d"
           }
          ],
          "scattercarpet": [
           {
            "marker": {
             "colorbar": {
              "outlinewidth": 0,
              "ticks": ""
             }
            },
            "type": "scattercarpet"
           }
          ],
          "scattergeo": [
           {
            "marker": {
             "colorbar": {
              "outlinewidth": 0,
              "ticks": ""
             }
            },
            "type": "scattergeo"
           }
          ],
          "scattergl": [
           {
            "marker": {
             "colorbar": {
              "outlinewidth": 0,
              "ticks": ""
             }
            },
            "type": "scattergl"
           }
          ],
          "scattermap": [
           {
            "marker": {
             "colorbar": {
              "outlinewidth": 0,
              "ticks": ""
             }
            },
            "type": "scattermap"
           }
          ],
          "scattermapbox": [
           {
            "marker": {
             "colorbar": {
              "outlinewidth": 0,
              "ticks": ""
             }
            },
            "type": "scattermapbox"
           }
          ],
          "scatterpolar": [
           {
            "marker": {
             "colorbar": {
              "outlinewidth": 0,
              "ticks": ""
             }
            },
            "type": "scatterpolar"
           }
          ],
          "scatterpolargl": [
           {
            "marker": {
             "colorbar": {
              "outlinewidth": 0,
              "ticks": ""
             }
            },
            "type": "scatterpolargl"
           }
          ],
          "scatterternary": [
           {
            "marker": {
             "colorbar": {
              "outlinewidth": 0,
              "ticks": ""
             }
            },
            "type": "scatterternary"
           }
          ],
          "surface": [
           {
            "colorbar": {
             "outlinewidth": 0,
             "ticks": ""
            },
            "colorscale": [
             [
              0,
              "#0d0887"
             ],
             [
              0.1111111111111111,
              "#46039f"
             ],
             [
              0.2222222222222222,
              "#7201a8"
             ],
             [
              0.3333333333333333,
              "#9c179e"
             ],
             [
              0.4444444444444444,
              "#bd3786"
             ],
             [
              0.5555555555555556,
              "#d8576b"
             ],
             [
              0.6666666666666666,
              "#ed7953"
             ],
             [
              0.7777777777777778,
              "#fb9f3a"
             ],
             [
              0.8888888888888888,
              "#fdca26"
             ],
             [
              1,
              "#f0f921"
             ]
            ],
            "type": "surface"
           }
          ],
          "table": [
           {
            "cells": {
             "fill": {
              "color": "#EBF0F8"
             },
             "line": {
              "color": "white"
             }
            },
            "header": {
             "fill": {
              "color": "#C8D4E3"
             },
             "line": {
              "color": "white"
             }
            },
            "type": "table"
           }
          ]
         },
         "layout": {
          "annotationdefaults": {
           "arrowcolor": "#2a3f5f",
           "arrowhead": 0,
           "arrowwidth": 1
          },
          "autotypenumbers": "strict",
          "coloraxis": {
           "colorbar": {
            "outlinewidth": 0,
            "ticks": ""
           }
          },
          "colorscale": {
           "diverging": [
            [
             0,
             "#8e0152"
            ],
            [
             0.1,
             "#c51b7d"
            ],
            [
             0.2,
             "#de77ae"
            ],
            [
             0.3,
             "#f1b6da"
            ],
            [
             0.4,
             "#fde0ef"
            ],
            [
             0.5,
             "#f7f7f7"
            ],
            [
             0.6,
             "#e6f5d0"
            ],
            [
             0.7,
             "#b8e186"
            ],
            [
             0.8,
             "#7fbc41"
            ],
            [
             0.9,
             "#4d9221"
            ],
            [
             1,
             "#276419"
            ]
           ],
           "sequential": [
            [
             0,
             "#0d0887"
            ],
            [
             0.1111111111111111,
             "#46039f"
            ],
            [
             0.2222222222222222,
             "#7201a8"
            ],
            [
             0.3333333333333333,
             "#9c179e"
            ],
            [
             0.4444444444444444,
             "#bd3786"
            ],
            [
             0.5555555555555556,
             "#d8576b"
            ],
            [
             0.6666666666666666,
             "#ed7953"
            ],
            [
             0.7777777777777778,
             "#fb9f3a"
            ],
            [
             0.8888888888888888,
             "#fdca26"
            ],
            [
             1,
             "#f0f921"
            ]
           ],
           "sequentialminus": [
            [
             0,
             "#0d0887"
            ],
            [
             0.1111111111111111,
             "#46039f"
            ],
            [
             0.2222222222222222,
             "#7201a8"
            ],
            [
             0.3333333333333333,
             "#9c179e"
            ],
            [
             0.4444444444444444,
             "#bd3786"
            ],
            [
             0.5555555555555556,
             "#d8576b"
            ],
            [
             0.6666666666666666,
             "#ed7953"
            ],
            [
             0.7777777777777778,
             "#fb9f3a"
            ],
            [
             0.8888888888888888,
             "#fdca26"
            ],
            [
             1,
             "#f0f921"
            ]
           ]
          },
          "colorway": [
           "#636efa",
           "#EF553B",
           "#00cc96",
           "#ab63fa",
           "#FFA15A",
           "#19d3f3",
           "#FF6692",
           "#B6E880",
           "#FF97FF",
           "#FECB52"
          ],
          "font": {
           "color": "#2a3f5f"
          },
          "geo": {
           "bgcolor": "white",
           "lakecolor": "white",
           "landcolor": "#E5ECF6",
           "showlakes": true,
           "showland": true,
           "subunitcolor": "white"
          },
          "hoverlabel": {
           "align": "left"
          },
          "hovermode": "closest",
          "mapbox": {
           "style": "light"
          },
          "paper_bgcolor": "white",
          "plot_bgcolor": "#E5ECF6",
          "polar": {
           "angularaxis": {
            "gridcolor": "white",
            "linecolor": "white",
            "ticks": ""
           },
           "bgcolor": "#E5ECF6",
           "radialaxis": {
            "gridcolor": "white",
            "linecolor": "white",
            "ticks": ""
           }
          },
          "scene": {
           "xaxis": {
            "backgroundcolor": "#E5ECF6",
            "gridcolor": "white",
            "gridwidth": 2,
            "linecolor": "white",
            "showbackground": true,
            "ticks": "",
            "zerolinecolor": "white"
           },
           "yaxis": {
            "backgroundcolor": "#E5ECF6",
            "gridcolor": "white",
            "gridwidth": 2,
            "linecolor": "white",
            "showbackground": true,
            "ticks": "",
            "zerolinecolor": "white"
           },
           "zaxis": {
            "backgroundcolor": "#E5ECF6",
            "gridcolor": "white",
            "gridwidth": 2,
            "linecolor": "white",
            "showbackground": true,
            "ticks": "",
            "zerolinecolor": "white"
           }
          },
          "shapedefaults": {
           "line": {
            "color": "#2a3f5f"
           }
          },
          "ternary": {
           "aaxis": {
            "gridcolor": "white",
            "linecolor": "white",
            "ticks": ""
           },
           "baxis": {
            "gridcolor": "white",
            "linecolor": "white",
            "ticks": ""
           },
           "bgcolor": "#E5ECF6",
           "caxis": {
            "gridcolor": "white",
            "linecolor": "white",
            "ticks": ""
           }
          },
          "title": {
           "x": 0.05
          },
          "xaxis": {
           "automargin": true,
           "gridcolor": "white",
           "linecolor": "white",
           "ticks": "",
           "title": {
            "standoff": 15
           },
           "zerolinecolor": "white",
           "zerolinewidth": 2
          },
          "yaxis": {
           "automargin": true,
           "gridcolor": "white",
           "linecolor": "white",
           "ticks": "",
           "title": {
            "standoff": 15
           },
           "zerolinecolor": "white",
           "zerolinewidth": 2
          }
         }
        },
        "title": {
         "text": "Social Welfare vs v_max (by C_max and p_max)"
        },
        "xaxis": {
         "anchor": "y",
         "domain": [
          0,
          1
         ],
         "title": {
          "text": "v_max"
         }
        },
        "yaxis": {
         "anchor": "x",
         "domain": [
          0,
          1
         ],
         "title": {
          "text": "Social Welfare"
         }
        }
       }
      }
     },
     "metadata": {},
     "output_type": "display_data"
    },
    {
     "data": {
      "application/vnd.plotly.v1+json": {
       "config": {
        "plotlyServerURL": "https://plotly.com"
       },
       "data": [
        {
         "hovertemplate": "p_max=1<br>C_max=%{x}<br>social_welfare=%{y}<br>v_max=%{marker.color}<extra></extra>",
         "legendgroup": "1",
         "marker": {
          "color": {
           "bdata": "CgoKDw8=",
           "dtype": "i1"
          },
          "coloraxis": "coloraxis",
          "symbol": "circle"
         },
         "mode": "markers",
         "name": "1",
         "orientation": "v",
         "showlegend": true,
         "type": "scatter",
         "x": {
          "bdata": "BQoPBQ8=",
          "dtype": "i1"
         },
         "xaxis": "x",
         "y": {
          "bdata": "XO3+BgVOdkBc7f4GBU52QFzt/gYFTnZAS9/MVZBsi0B9hhmMim2LQA==",
          "dtype": "f8"
         },
         "yaxis": "y"
        },
        {
         "hovertemplate": "p_max=5<br>C_max=%{x}<br>social_welfare=%{y}<br>v_max=%{marker.color}<extra></extra>",
         "legendgroup": "5",
         "marker": {
          "color": {
           "bdata": "CgoKDw8P",
           "dtype": "i1"
          },
          "coloraxis": "coloraxis",
          "symbol": "diamond"
         },
         "mode": "markers",
         "name": "5",
         "orientation": "v",
         "showlegend": true,
         "type": "scatter",
         "x": {
          "bdata": "BQoPBQoP",
          "dtype": "i1"
         },
         "xaxis": "x",
         "y": {
          "bdata": "alF9kQyzgEBqUX2RDLOAQGpRfZEMs4BAKXwLntt8kEB7Q9enM+aPQL0WlIrbfJBA",
          "dtype": "f8"
         },
         "yaxis": "y"
        },
        {
         "hovertemplate": "p_max=8<br>C_max=%{x}<br>social_welfare=%{y}<br>v_max=%{marker.color}<extra></extra>",
         "legendgroup": "8",
         "marker": {
          "color": {
           "bdata": "CgoKDw==",
           "dtype": "i1"
          },
          "coloraxis": "coloraxis",
          "symbol": "square"
         },
         "mode": "markers",
         "name": "8",
         "orientation": "v",
         "showlegend": true,
         "type": "scatter",
         "x": {
          "bdata": "BQoPBQ==",
          "dtype": "i1"
         },
         "xaxis": "x",
         "y": {
          "bdata": "48yZman+gkAjUwGMuQODQLs7mpmp/oJAm0hi+xg8kkA=",
          "dtype": "f8"
         },
         "yaxis": "y"
        },
        {
         "hovertemplate": "p_max=10<br>C_max=%{x}<br>social_welfare=%{y}<br>v_max=%{marker.color}<extra></extra>",
         "legendgroup": "10",
         "marker": {
          "color": {
           "bdata": "CgoKDw8P",
           "dtype": "i1"
          },
          "coloraxis": "coloraxis",
          "symbol": "x"
         },
         "mode": "markers",
         "name": "10",
         "orientation": "v",
         "showlegend": true,
         "type": "scatter",
         "x": {
          "bdata": "BQoPBQoP",
          "dtype": "i1"
         },
         "xaxis": "x",
         "y": {
          "bdata": "kXORkxMbhUD12WMRuyyGQCm3nAG7LIZArIhRUTqyk0Au5OtKUdaTQHob6g2v15JA",
          "dtype": "f8"
         },
         "yaxis": "y"
        },
        {
         "hovertemplate": "p_max=15<br>C_max=%{x}<br>social_welfare=%{y}<br>v_max=%{marker.color}<extra></extra>",
         "legendgroup": "15",
         "marker": {
          "color": {
           "bdata": "Cg8PDw==",
           "dtype": "i1"
          },
          "coloraxis": "coloraxis",
          "symbol": "cross"
         },
         "mode": "markers",
         "name": "15",
         "orientation": "v",
         "showlegend": true,
         "type": "scatter",
         "x": {
          "bdata": "CgUKDw==",
          "dtype": "i1"
         },
         "xaxis": "x",
         "y": {
          "bdata": "vGZULgVIh0BynfdGowSUQGBxj3JompNAEDEJ5Yq/lEA=",
          "dtype": "f8"
         },
         "yaxis": "y"
        }
       ],
       "layout": {
        "coloraxis": {
         "colorbar": {
          "title": {
           "text": "v_max"
          }
         },
         "colorscale": [
          [
           0,
           "#0d0887"
          ],
          [
           0.1111111111111111,
           "#46039f"
          ],
          [
           0.2222222222222222,
           "#7201a8"
          ],
          [
           0.3333333333333333,
           "#9c179e"
          ],
          [
           0.4444444444444444,
           "#bd3786"
          ],
          [
           0.5555555555555556,
           "#d8576b"
          ],
          [
           0.6666666666666666,
           "#ed7953"
          ],
          [
           0.7777777777777778,
           "#fb9f3a"
          ],
          [
           0.8888888888888888,
           "#fdca26"
          ],
          [
           1,
           "#f0f921"
          ]
         ]
        },
        "legend": {
         "title": {
          "text": "p_max"
         },
         "tracegroupgap": 0
        },
        "template": {
         "data": {
          "bar": [
           {
            "error_x": {
             "color": "#2a3f5f"
            },
            "error_y": {
             "color": "#2a3f5f"
            },
            "marker": {
             "line": {
              "color": "#E5ECF6",
              "width": 0.5
             },
             "pattern": {
              "fillmode": "overlay",
              "size": 10,
              "solidity": 0.2
             }
            },
            "type": "bar"
           }
          ],
          "barpolar": [
           {
            "marker": {
             "line": {
              "color": "#E5ECF6",
              "width": 0.5
             },
             "pattern": {
              "fillmode": "overlay",
              "size": 10,
              "solidity": 0.2
             }
            },
            "type": "barpolar"
           }
          ],
          "carpet": [
           {
            "aaxis": {
             "endlinecolor": "#2a3f5f",
             "gridcolor": "white",
             "linecolor": "white",
             "minorgridcolor": "white",
             "startlinecolor": "#2a3f5f"
            },
            "baxis": {
             "endlinecolor": "#2a3f5f",
             "gridcolor": "white",
             "linecolor": "white",
             "minorgridcolor": "white",
             "startlinecolor": "#2a3f5f"
            },
            "type": "carpet"
           }
          ],
          "choropleth": [
           {
            "colorbar": {
             "outlinewidth": 0,
             "ticks": ""
            },
            "type": "choropleth"
           }
          ],
          "contour": [
           {
            "colorbar": {
             "outlinewidth": 0,
             "ticks": ""
            },
            "colorscale": [
             [
              0,
              "#0d0887"
             ],
             [
              0.1111111111111111,
              "#46039f"
             ],
             [
              0.2222222222222222,
              "#7201a8"
             ],
             [
              0.3333333333333333,
              "#9c179e"
             ],
             [
              0.4444444444444444,
              "#bd3786"
             ],
             [
              0.5555555555555556,
              "#d8576b"
             ],
             [
              0.6666666666666666,
              "#ed7953"
             ],
             [
              0.7777777777777778,
              "#fb9f3a"
             ],
             [
              0.8888888888888888,
              "#fdca26"
             ],
             [
              1,
              "#f0f921"
             ]
            ],
            "type": "contour"
           }
          ],
          "contourcarpet": [
           {
            "colorbar": {
             "outlinewidth": 0,
             "ticks": ""
            },
            "type": "contourcarpet"
           }
          ],
          "heatmap": [
           {
            "colorbar": {
             "outlinewidth": 0,
             "ticks": ""
            },
            "colorscale": [
             [
              0,
              "#0d0887"
             ],
             [
              0.1111111111111111,
              "#46039f"
             ],
             [
              0.2222222222222222,
              "#7201a8"
             ],
             [
              0.3333333333333333,
              "#9c179e"
             ],
             [
              0.4444444444444444,
              "#bd3786"
             ],
             [
              0.5555555555555556,
              "#d8576b"
             ],
             [
              0.6666666666666666,
              "#ed7953"
             ],
             [
              0.7777777777777778,
              "#fb9f3a"
             ],
             [
              0.8888888888888888,
              "#fdca26"
             ],
             [
              1,
              "#f0f921"
             ]
            ],
            "type": "heatmap"
           }
          ],
          "histogram": [
           {
            "marker": {
             "pattern": {
              "fillmode": "overlay",
              "size": 10,
              "solidity": 0.2
             }
            },
            "type": "histogram"
           }
          ],
          "histogram2d": [
           {
            "colorbar": {
             "outlinewidth": 0,
             "ticks": ""
            },
            "colorscale": [
             [
              0,
              "#0d0887"
             ],
             [
              0.1111111111111111,
              "#46039f"
             ],
             [
              0.2222222222222222,
              "#7201a8"
             ],
             [
              0.3333333333333333,
              "#9c179e"
             ],
             [
              0.4444444444444444,
              "#bd3786"
             ],
             [
              0.5555555555555556,
              "#d8576b"
             ],
             [
              0.6666666666666666,
              "#ed7953"
             ],
             [
              0.7777777777777778,
              "#fb9f3a"
             ],
             [
              0.8888888888888888,
              "#fdca26"
             ],
             [
              1,
              "#f0f921"
             ]
            ],
            "type": "histogram2d"
           }
          ],
          "histogram2dcontour": [
           {
            "colorbar": {
             "outlinewidth": 0,
             "ticks": ""
            },
            "colorscale": [
             [
              0,
              "#0d0887"
             ],
             [
              0.1111111111111111,
              "#46039f"
             ],
             [
              0.2222222222222222,
              "#7201a8"
             ],
             [
              0.3333333333333333,
              "#9c179e"
             ],
             [
              0.4444444444444444,
              "#bd3786"
             ],
             [
              0.5555555555555556,
              "#d8576b"
             ],
             [
              0.6666666666666666,
              "#ed7953"
             ],
             [
              0.7777777777777778,
              "#fb9f3a"
             ],
             [
              0.8888888888888888,
              "#fdca26"
             ],
             [
              1,
              "#f0f921"
             ]
            ],
            "type": "histogram2dcontour"
           }
          ],
          "mesh3d": [
           {
            "colorbar": {
             "outlinewidth": 0,
             "ticks": ""
            },
            "type": "mesh3d"
           }
          ],
          "parcoords": [
           {
            "line": {
             "colorbar": {
              "outlinewidth": 0,
              "ticks": ""
             }
            },
            "type": "parcoords"
           }
          ],
          "pie": [
           {
            "automargin": true,
            "type": "pie"
           }
          ],
          "scatter": [
           {
            "fillpattern": {
             "fillmode": "overlay",
             "size": 10,
             "solidity": 0.2
            },
            "type": "scatter"
           }
          ],
          "scatter3d": [
           {
            "line": {
             "colorbar": {
              "outlinewidth": 0,
              "ticks": ""
             }
            },
            "marker": {
             "colorbar": {
              "outlinewidth": 0,
              "ticks": ""
             }
            },
            "type": "scatter3d"
           }
          ],
          "scattercarpet": [
           {
            "marker": {
             "colorbar": {
              "outlinewidth": 0,
              "ticks": ""
             }
            },
            "type": "scattercarpet"
           }
          ],
          "scattergeo": [
           {
            "marker": {
             "colorbar": {
              "outlinewidth": 0,
              "ticks": ""
             }
            },
            "type": "scattergeo"
           }
          ],
          "scattergl": [
           {
            "marker": {
             "colorbar": {
              "outlinewidth": 0,
              "ticks": ""
             }
            },
            "type": "scattergl"
           }
          ],
          "scattermap": [
           {
            "marker": {
             "colorbar": {
              "outlinewidth": 0,
              "ticks": ""
             }
            },
            "type": "scattermap"
           }
          ],
          "scattermapbox": [
           {
            "marker": {
             "colorbar": {
              "outlinewidth": 0,
              "ticks": ""
             }
            },
            "type": "scattermapbox"
           }
          ],
          "scatterpolar": [
           {
            "marker": {
             "colorbar": {
              "outlinewidth": 0,
              "ticks": ""
             }
            },
            "type": "scatterpolar"
           }
          ],
          "scatterpolargl": [
           {
            "marker": {
             "colorbar": {
              "outlinewidth": 0,
              "ticks": ""
             }
            },
            "type": "scatterpolargl"
           }
          ],
          "scatterternary": [
           {
            "marker": {
             "colorbar": {
              "outlinewidth": 0,
              "ticks": ""
             }
            },
            "type": "scatterternary"
           }
          ],
          "surface": [
           {
            "colorbar": {
             "outlinewidth": 0,
             "ticks": ""
            },
            "colorscale": [
             [
              0,
              "#0d0887"
             ],
             [
              0.1111111111111111,
              "#46039f"
             ],
             [
              0.2222222222222222,
              "#7201a8"
             ],
             [
              0.3333333333333333,
              "#9c179e"
             ],
             [
              0.4444444444444444,
              "#bd3786"
             ],
             [
              0.5555555555555556,
              "#d8576b"
             ],
             [
              0.6666666666666666,
              "#ed7953"
             ],
             [
              0.7777777777777778,
              "#fb9f3a"
             ],
             [
              0.8888888888888888,
              "#fdca26"
             ],
             [
              1,
              "#f0f921"
             ]
            ],
            "type": "surface"
           }
          ],
          "table": [
           {
            "cells": {
             "fill": {
              "color": "#EBF0F8"
             },
             "line": {
              "color": "white"
             }
            },
            "header": {
             "fill": {
              "color": "#C8D4E3"
             },
             "line": {
              "color": "white"
             }
            },
            "type": "table"
           }
          ]
         },
         "layout": {
          "annotationdefaults": {
           "arrowcolor": "#2a3f5f",
           "arrowhead": 0,
           "arrowwidth": 1
          },
          "autotypenumbers": "strict",
          "coloraxis": {
           "colorbar": {
            "outlinewidth": 0,
            "ticks": ""
           }
          },
          "colorscale": {
           "diverging": [
            [
             0,
             "#8e0152"
            ],
            [
             0.1,
             "#c51b7d"
            ],
            [
             0.2,
             "#de77ae"
            ],
            [
             0.3,
             "#f1b6da"
            ],
            [
             0.4,
             "#fde0ef"
            ],
            [
             0.5,
             "#f7f7f7"
            ],
            [
             0.6,
             "#e6f5d0"
            ],
            [
             0.7,
             "#b8e186"
            ],
            [
             0.8,
             "#7fbc41"
            ],
            [
             0.9,
             "#4d9221"
            ],
            [
             1,
             "#276419"
            ]
           ],
           "sequential": [
            [
             0,
             "#0d0887"
            ],
            [
             0.1111111111111111,
             "#46039f"
            ],
            [
             0.2222222222222222,
             "#7201a8"
            ],
            [
             0.3333333333333333,
             "#9c179e"
            ],
            [
             0.4444444444444444,
             "#bd3786"
            ],
            [
             0.5555555555555556,
             "#d8576b"
            ],
            [
             0.6666666666666666,
             "#ed7953"
            ],
            [
             0.7777777777777778,
             "#fb9f3a"
            ],
            [
             0.8888888888888888,
             "#fdca26"
            ],
            [
             1,
             "#f0f921"
            ]
           ],
           "sequentialminus": [
            [
             0,
             "#0d0887"
            ],
            [
             0.1111111111111111,
             "#46039f"
            ],
            [
             0.2222222222222222,
             "#7201a8"
            ],
            [
             0.3333333333333333,
             "#9c179e"
            ],
            [
             0.4444444444444444,
             "#bd3786"
            ],
            [
             0.5555555555555556,
             "#d8576b"
            ],
            [
             0.6666666666666666,
             "#ed7953"
            ],
            [
             0.7777777777777778,
             "#fb9f3a"
            ],
            [
             0.8888888888888888,
             "#fdca26"
            ],
            [
             1,
             "#f0f921"
            ]
           ]
          },
          "colorway": [
           "#636efa",
           "#EF553B",
           "#00cc96",
           "#ab63fa",
           "#FFA15A",
           "#19d3f3",
           "#FF6692",
           "#B6E880",
           "#FF97FF",
           "#FECB52"
          ],
          "font": {
           "color": "#2a3f5f"
          },
          "geo": {
           "bgcolor": "white",
           "lakecolor": "white",
           "landcolor": "#E5ECF6",
           "showlakes": true,
           "showland": true,
           "subunitcolor": "white"
          },
          "hoverlabel": {
           "align": "left"
          },
          "hovermode": "closest",
          "mapbox": {
           "style": "light"
          },
          "paper_bgcolor": "white",
          "plot_bgcolor": "#E5ECF6",
          "polar": {
           "angularaxis": {
            "gridcolor": "white",
            "linecolor": "white",
            "ticks": ""
           },
           "bgcolor": "#E5ECF6",
           "radialaxis": {
            "gridcolor": "white",
            "linecolor": "white",
            "ticks": ""
           }
          },
          "scene": {
           "xaxis": {
            "backgroundcolor": "#E5ECF6",
            "gridcolor": "white",
            "gridwidth": 2,
            "linecolor": "white",
            "showbackground": true,
            "ticks": "",
            "zerolinecolor": "white"
           },
           "yaxis": {
            "backgroundcolor": "#E5ECF6",
            "gridcolor": "white",
            "gridwidth": 2,
            "linecolor": "white",
            "showbackground": true,
            "ticks": "",
            "zerolinecolor": "white"
           },
           "zaxis": {
            "backgroundcolor": "#E5ECF6",
            "gridcolor": "white",
            "gridwidth": 2,
            "linecolor": "white",
            "showbackground": true,
            "ticks": "",
            "zerolinecolor": "white"
           }
          },
          "shapedefaults": {
           "line": {
            "color": "#2a3f5f"
           }
          },
          "ternary": {
           "aaxis": {
            "gridcolor": "white",
            "linecolor": "white",
            "ticks": ""
           },
           "baxis": {
            "gridcolor": "white",
            "linecolor": "white",
            "ticks": ""
           },
           "bgcolor": "#E5ECF6",
           "caxis": {
            "gridcolor": "white",
            "linecolor": "white",
            "ticks": ""
           }
          },
          "title": {
           "x": 0.05
          },
          "xaxis": {
           "automargin": true,
           "gridcolor": "white",
           "linecolor": "white",
           "ticks": "",
           "title": {
            "standoff": 15
           },
           "zerolinecolor": "white",
           "zerolinewidth": 2
          },
          "yaxis": {
           "automargin": true,
           "gridcolor": "white",
           "linecolor": "white",
           "ticks": "",
           "title": {
            "standoff": 15
           },
           "zerolinecolor": "white",
           "zerolinewidth": 2
          }
         }
        },
        "title": {
         "text": "Social Welfare vs C_max (by v_max and p_max)"
        },
        "xaxis": {
         "anchor": "y",
         "domain": [
          0,
          1
         ],
         "title": {
          "text": "C_max"
         }
        },
        "yaxis": {
         "anchor": "x",
         "domain": [
          0,
          1
         ],
         "title": {
          "text": "Social Welfare"
         }
        }
       }
      }
     },
     "metadata": {},
     "output_type": "display_data"
    },
    {
     "data": {
      "application/vnd.plotly.v1+json": {
       "config": {
        "plotlyServerURL": "https://plotly.com"
       },
       "data": [
        {
         "hovertemplate": "C_max=5<br>p_max=%{x}<br>social_welfare=%{y}<br>v_max=%{marker.color}<extra></extra>",
         "legendgroup": "5",
         "marker": {
          "color": {
           "bdata": "CgoKCg8PDw8P",
           "dtype": "i1"
          },
          "coloraxis": "coloraxis",
          "symbol": "circle"
         },
         "mode": "markers",
         "name": "5",
         "orientation": "v",
         "showlegend": true,
         "type": "scatter",
         "x": {
          "bdata": "AQUICgEFCAoP",
          "dtype": "i1"
         },
         "xaxis": "x",
         "y": {
          "bdata": "XO3+BgVOdkBqUX2RDLOAQOPMmZmp/oJAkXORkxMbhUBL38xVkGyLQCl8C57bfJBAm0hi+xg8kkCsiFFROrKTQHKd90ajBJRA",
          "dtype": "f8"
         },
         "yaxis": "y"
        },
        {
         "hovertemplate": "C_max=10<br>p_max=%{x}<br>social_welfare=%{y}<br>v_max=%{marker.color}<extra></extra>",
         "legendgroup": "10",
         "marker": {
          "color": {
           "bdata": "CgoKCgoPDw8=",
           "dtype": "i1"
          },
          "coloraxis": "coloraxis",
          "symbol": "diamond"
         },
         "mode": "markers",
         "name": "10",
         "orientation": "v",
         "showlegend": true,
         "type": "scatter",
         "x": {
          "bdata": "AQUICg8FCg8=",
          "dtype": "i1"
         },
         "xaxis": "x",
         "y": {
          "bdata": "XO3+BgVOdkBqUX2RDLOAQCNTAYy5A4NA9dljEbsshkC8ZlQuBUiHQHtD16cz5o9ALuTrSlHWk0BgcY9yaJqTQA==",
          "dtype": "f8"
         },
         "yaxis": "y"
        },
        {
         "hovertemplate": "C_max=15<br>p_max=%{x}<br>social_welfare=%{y}<br>v_max=%{marker.color}<extra></extra>",
         "legendgroup": "15",
         "marker": {
          "color": {
           "bdata": "CgoKCg8PDw8=",
           "dtype": "i1"
          },
          "coloraxis": "coloraxis",
          "symbol": "square"
         },
         "mode": "markers",
         "name": "15",
         "orientation": "v",
         "showlegend": true,
         "type": "scatter",
         "x": {
          "bdata": "AQUICgEFCg8=",
          "dtype": "i1"
         },
         "xaxis": "x",
         "y": {
          "bdata": "XO3+BgVOdkBqUX2RDLOAQLs7mpmp/oJAKbecAbsshkB9hhmMim2LQL0WlIrbfJBAehvqDa/XkkAQMQnlir+UQA==",
          "dtype": "f8"
         },
         "yaxis": "y"
        }
       ],
       "layout": {
        "coloraxis": {
         "colorbar": {
          "title": {
           "text": "v_max"
          }
         },
         "colorscale": [
          [
           0,
           "#0d0887"
          ],
          [
           0.1111111111111111,
           "#46039f"
          ],
          [
           0.2222222222222222,
           "#7201a8"
          ],
          [
           0.3333333333333333,
           "#9c179e"
          ],
          [
           0.4444444444444444,
           "#bd3786"
          ],
          [
           0.5555555555555556,
           "#d8576b"
          ],
          [
           0.6666666666666666,
           "#ed7953"
          ],
          [
           0.7777777777777778,
           "#fb9f3a"
          ],
          [
           0.8888888888888888,
           "#fdca26"
          ],
          [
           1,
           "#f0f921"
          ]
         ]
        },
        "legend": {
         "title": {
          "text": "C_max"
         },
         "tracegroupgap": 0
        },
        "template": {
         "data": {
          "bar": [
           {
            "error_x": {
             "color": "#2a3f5f"
            },
            "error_y": {
             "color": "#2a3f5f"
            },
            "marker": {
             "line": {
              "color": "#E5ECF6",
              "width": 0.5
             },
             "pattern": {
              "fillmode": "overlay",
              "size": 10,
              "solidity": 0.2
             }
            },
            "type": "bar"
           }
          ],
          "barpolar": [
           {
            "marker": {
             "line": {
              "color": "#E5ECF6",
              "width": 0.5
             },
             "pattern": {
              "fillmode": "overlay",
              "size": 10,
              "solidity": 0.2
             }
            },
            "type": "barpolar"
           }
          ],
          "carpet": [
           {
            "aaxis": {
             "endlinecolor": "#2a3f5f",
             "gridcolor": "white",
             "linecolor": "white",
             "minorgridcolor": "white",
             "startlinecolor": "#2a3f5f"
            },
            "baxis": {
             "endlinecolor": "#2a3f5f",
             "gridcolor": "white",
             "linecolor": "white",
             "minorgridcolor": "white",
             "startlinecolor": "#2a3f5f"
            },
            "type": "carpet"
           }
          ],
          "choropleth": [
           {
            "colorbar": {
             "outlinewidth": 0,
             "ticks": ""
            },
            "type": "choropleth"
           }
          ],
          "contour": [
           {
            "colorbar": {
             "outlinewidth": 0,
             "ticks": ""
            },
            "colorscale": [
             [
              0,
              "#0d0887"
             ],
             [
              0.1111111111111111,
              "#46039f"
             ],
             [
              0.2222222222222222,
              "#7201a8"
             ],
             [
              0.3333333333333333,
              "#9c179e"
             ],
             [
              0.4444444444444444,
              "#bd3786"
             ],
             [
              0.5555555555555556,
              "#d8576b"
             ],
             [
              0.6666666666666666,
              "#ed7953"
             ],
             [
              0.7777777777777778,
              "#fb9f3a"
             ],
             [
              0.8888888888888888,
              "#fdca26"
             ],
             [
              1,
              "#f0f921"
             ]
            ],
            "type": "contour"
           }
          ],
          "contourcarpet": [
           {
            "colorbar": {
             "outlinewidth": 0,
             "ticks": ""
            },
            "type": "contourcarpet"
           }
          ],
          "heatmap": [
           {
            "colorbar": {
             "outlinewidth": 0,
             "ticks": ""
            },
            "colorscale": [
             [
              0,
              "#0d0887"
             ],
             [
              0.1111111111111111,
              "#46039f"
             ],
             [
              0.2222222222222222,
              "#7201a8"
             ],
             [
              0.3333333333333333,
              "#9c179e"
             ],
             [
              0.4444444444444444,
              "#bd3786"
             ],
             [
              0.5555555555555556,
              "#d8576b"
             ],
             [
              0.6666666666666666,
              "#ed7953"
             ],
             [
              0.7777777777777778,
              "#fb9f3a"
             ],
             [
              0.8888888888888888,
              "#fdca26"
             ],
             [
              1,
              "#f0f921"
             ]
            ],
            "type": "heatmap"
           }
          ],
          "histogram": [
           {
            "marker": {
             "pattern": {
              "fillmode": "overlay",
              "size": 10,
              "solidity": 0.2
             }
            },
            "type": "histogram"
           }
          ],
          "histogram2d": [
           {
            "colorbar": {
             "outlinewidth": 0,
             "ticks": ""
            },
            "colorscale": [
             [
              0,
              "#0d0887"
             ],
             [
              0.1111111111111111,
              "#46039f"
             ],
             [
              0.2222222222222222,
              "#7201a8"
             ],
             [
              0.3333333333333333,
              "#9c179e"
             ],
             [
              0.4444444444444444,
              "#bd3786"
             ],
             [
              0.5555555555555556,
              "#d8576b"
             ],
             [
              0.6666666666666666,
              "#ed7953"
             ],
             [
              0.7777777777777778,
              "#fb9f3a"
             ],
             [
              0.8888888888888888,
              "#fdca26"
             ],
             [
              1,
              "#f0f921"
             ]
            ],
            "type": "histogram2d"
           }
          ],
          "histogram2dcontour": [
           {
            "colorbar": {
             "outlinewidth": 0,
             "ticks": ""
            },
            "colorscale": [
             [
              0,
              "#0d0887"
             ],
             [
              0.1111111111111111,
              "#46039f"
             ],
             [
              0.2222222222222222,
              "#7201a8"
             ],
             [
              0.3333333333333333,
              "#9c179e"
             ],
             [
              0.4444444444444444,
              "#bd3786"
             ],
             [
              0.5555555555555556,
              "#d8576b"
             ],
             [
              0.6666666666666666,
              "#ed7953"
             ],
             [
              0.7777777777777778,
              "#fb9f3a"
             ],
             [
              0.8888888888888888,
              "#fdca26"
             ],
             [
              1,
              "#f0f921"
             ]
            ],
            "type": "histogram2dcontour"
           }
          ],
          "mesh3d": [
           {
            "colorbar": {
             "outlinewidth": 0,
             "ticks": ""
            },
            "type": "mesh3d"
           }
          ],
          "parcoords": [
           {
            "line": {
             "colorbar": {
              "outlinewidth": 0,
              "ticks": ""
             }
            },
            "type": "parcoords"
           }
          ],
          "pie": [
           {
            "automargin": true,
            "type": "pie"
           }
          ],
          "scatter": [
           {
            "fillpattern": {
             "fillmode": "overlay",
             "size": 10,
             "solidity": 0.2
            },
            "type": "scatter"
           }
          ],
          "scatter3d": [
           {
            "line": {
             "colorbar": {
              "outlinewidth": 0,
              "ticks": ""
             }
            },
            "marker": {
             "colorbar": {
              "outlinewidth": 0,
              "ticks": ""
             }
            },
            "type": "scatter3d"
           }
          ],
          "scattercarpet": [
           {
            "marker": {
             "colorbar": {
              "outlinewidth": 0,
              "ticks": ""
             }
            },
            "type": "scattercarpet"
           }
          ],
          "scattergeo": [
           {
            "marker": {
             "colorbar": {
              "outlinewidth": 0,
              "ticks": ""
             }
            },
            "type": "scattergeo"
           }
          ],
          "scattergl": [
           {
            "marker": {
             "colorbar": {
              "outlinewidth": 0,
              "ticks": ""
             }
            },
            "type": "scattergl"
           }
          ],
          "scattermap": [
           {
            "marker": {
             "colorbar": {
              "outlinewidth": 0,
              "ticks": ""
             }
            },
            "type": "scattermap"
           }
          ],
          "scattermapbox": [
           {
            "marker": {
             "colorbar": {
              "outlinewidth": 0,
              "ticks": ""
             }
            },
            "type": "scattermapbox"
           }
          ],
          "scatterpolar": [
           {
            "marker": {
             "colorbar": {
              "outlinewidth": 0,
              "ticks": ""
             }
            },
            "type": "scatterpolar"
           }
          ],
          "scatterpolargl": [
           {
            "marker": {
             "colorbar": {
              "outlinewidth": 0,
              "ticks": ""
             }
            },
            "type": "scatterpolargl"
           }
          ],
          "scatterternary": [
           {
            "marker": {
             "colorbar": {
              "outlinewidth": 0,
              "ticks": ""
             }
            },
            "type": "scatterternary"
           }
          ],
          "surface": [
           {
            "colorbar": {
             "outlinewidth": 0,
             "ticks": ""
            },
            "colorscale": [
             [
              0,
              "#0d0887"
             ],
             [
              0.1111111111111111,
              "#46039f"
             ],
             [
              0.2222222222222222,
              "#7201a8"
             ],
             [
              0.3333333333333333,
              "#9c179e"
             ],
             [
              0.4444444444444444,
              "#bd3786"
             ],
             [
              0.5555555555555556,
              "#d8576b"
             ],
             [
              0.6666666666666666,
              "#ed7953"
             ],
             [
              0.7777777777777778,
              "#fb9f3a"
             ],
             [
              0.8888888888888888,
              "#fdca26"
             ],
             [
              1,
              "#f0f921"
             ]
            ],
            "type": "surface"
           }
          ],
          "table": [
           {
            "cells": {
             "fill": {
              "color": "#EBF0F8"
             },
             "line": {
              "color": "white"
             }
            },
            "header": {
             "fill": {
              "color": "#C8D4E3"
             },
             "line": {
              "color": "white"
             }
            },
            "type": "table"
           }
          ]
         },
         "layout": {
          "annotationdefaults": {
           "arrowcolor": "#2a3f5f",
           "arrowhead": 0,
           "arrowwidth": 1
          },
          "autotypenumbers": "strict",
          "coloraxis": {
           "colorbar": {
            "outlinewidth": 0,
            "ticks": ""
           }
          },
          "colorscale": {
           "diverging": [
            [
             0,
             "#8e0152"
            ],
            [
             0.1,
             "#c51b7d"
            ],
            [
             0.2,
             "#de77ae"
            ],
            [
             0.3,
             "#f1b6da"
            ],
            [
             0.4,
             "#fde0ef"
            ],
            [
             0.5,
             "#f7f7f7"
            ],
            [
             0.6,
             "#e6f5d0"
            ],
            [
             0.7,
             "#b8e186"
            ],
            [
             0.8,
             "#7fbc41"
            ],
            [
             0.9,
             "#4d9221"
            ],
            [
             1,
             "#276419"
            ]
           ],
           "sequential": [
            [
             0,
             "#0d0887"
            ],
            [
             0.1111111111111111,
             "#46039f"
            ],
            [
             0.2222222222222222,
             "#7201a8"
            ],
            [
             0.3333333333333333,
             "#9c179e"
            ],
            [
             0.4444444444444444,
             "#bd3786"
            ],
            [
             0.5555555555555556,
             "#d8576b"
            ],
            [
             0.6666666666666666,
             "#ed7953"
            ],
            [
             0.7777777777777778,
             "#fb9f3a"
            ],
            [
             0.8888888888888888,
             "#fdca26"
            ],
            [
             1,
             "#f0f921"
            ]
           ],
           "sequentialminus": [
            [
             0,
             "#0d0887"
            ],
            [
             0.1111111111111111,
             "#46039f"
            ],
            [
             0.2222222222222222,
             "#7201a8"
            ],
            [
             0.3333333333333333,
             "#9c179e"
            ],
            [
             0.4444444444444444,
             "#bd3786"
            ],
            [
             0.5555555555555556,
             "#d8576b"
            ],
            [
             0.6666666666666666,
             "#ed7953"
            ],
            [
             0.7777777777777778,
             "#fb9f3a"
            ],
            [
             0.8888888888888888,
             "#fdca26"
            ],
            [
             1,
             "#f0f921"
            ]
           ]
          },
          "colorway": [
           "#636efa",
           "#EF553B",
           "#00cc96",
           "#ab63fa",
           "#FFA15A",
           "#19d3f3",
           "#FF6692",
           "#B6E880",
           "#FF97FF",
           "#FECB52"
          ],
          "font": {
           "color": "#2a3f5f"
          },
          "geo": {
           "bgcolor": "white",
           "lakecolor": "white",
           "landcolor": "#E5ECF6",
           "showlakes": true,
           "showland": true,
           "subunitcolor": "white"
          },
          "hoverlabel": {
           "align": "left"
          },
          "hovermode": "closest",
          "mapbox": {
           "style": "light"
          },
          "paper_bgcolor": "white",
          "plot_bgcolor": "#E5ECF6",
          "polar": {
           "angularaxis": {
            "gridcolor": "white",
            "linecolor": "white",
            "ticks": ""
           },
           "bgcolor": "#E5ECF6",
           "radialaxis": {
            "gridcolor": "white",
            "linecolor": "white",
            "ticks": ""
           }
          },
          "scene": {
           "xaxis": {
            "backgroundcolor": "#E5ECF6",
            "gridcolor": "white",
            "gridwidth": 2,
            "linecolor": "white",
            "showbackground": true,
            "ticks": "",
            "zerolinecolor": "white"
           },
           "yaxis": {
            "backgroundcolor": "#E5ECF6",
            "gridcolor": "white",
            "gridwidth": 2,
            "linecolor": "white",
            "showbackground": true,
            "ticks": "",
            "zerolinecolor": "white"
           },
           "zaxis": {
            "backgroundcolor": "#E5ECF6",
            "gridcolor": "white",
            "gridwidth": 2,
            "linecolor": "white",
            "showbackground": true,
            "ticks": "",
            "zerolinecolor": "white"
           }
          },
          "shapedefaults": {
           "line": {
            "color": "#2a3f5f"
           }
          },
          "ternary": {
           "aaxis": {
            "gridcolor": "white",
            "linecolor": "white",
            "ticks": ""
           },
           "baxis": {
            "gridcolor": "white",
            "linecolor": "white",
            "ticks": ""
           },
           "bgcolor": "#E5ECF6",
           "caxis": {
            "gridcolor": "white",
            "linecolor": "white",
            "ticks": ""
           }
          },
          "title": {
           "x": 0.05
          },
          "xaxis": {
           "automargin": true,
           "gridcolor": "white",
           "linecolor": "white",
           "ticks": "",
           "title": {
            "standoff": 15
           },
           "zerolinecolor": "white",
           "zerolinewidth": 2
          },
          "yaxis": {
           "automargin": true,
           "gridcolor": "white",
           "linecolor": "white",
           "ticks": "",
           "title": {
            "standoff": 15
           },
           "zerolinecolor": "white",
           "zerolinewidth": 2
          }
         }
        },
        "title": {
         "text": "Social Welfare vs p_max (by v_max and C_max)"
        },
        "xaxis": {
         "anchor": "y",
         "domain": [
          0,
          1
         ],
         "title": {
          "text": "p_max"
         }
        },
        "yaxis": {
         "anchor": "x",
         "domain": [
          0,
          1
         ],
         "title": {
          "text": "Social Welfare"
         }
        }
       }
      }
     },
     "metadata": {},
     "output_type": "display_data"
    }
   ],
   "source": [
    "import pandas as pd\n",
    "import plotly.express as px\n",
    "\n",
    "# Load the results summary data\n",
    "results_summary = pd.read_csv(\"results_summary.csv\")\n",
    "\n",
    "# Scatter plot: Social Welfare vs v_max\n",
    "fig_vmax = px.scatter(results_summary, x=\"v_max\", y=\"social_welfare\", color=\"C_max\",\n",
    "                      symbol=\"p_max\", title=\"Social Welfare vs v_max (by C_max and p_max)\")\n",
    "fig_vmax.update_layout(xaxis_title=\"v_max\", yaxis_title=\"Social Welfare\")\n",
    "fig_vmax.show()\n",
    "\n",
    "# Scatter plot: Social Welfare vs C_max\n",
    "fig_cmax = px.scatter(results_summary, x=\"C_max\", y=\"social_welfare\", color=\"v_max\",\n",
    "                      symbol=\"p_max\", title=\"Social Welfare vs C_max (by v_max and p_max)\")\n",
    "fig_cmax.update_layout(xaxis_title=\"C_max\", yaxis_title=\"Social Welfare\")\n",
    "fig_cmax.show()\n",
    "\n",
    "# Scatter plot: Social Welfare vs p_max\n",
    "fig_pmax = px.scatter(results_summary, x=\"p_max\", y=\"social_welfare\", color=\"v_max\",\n",
    "                      symbol=\"C_max\", title=\"Social Welfare vs p_max (by v_max and C_max)\")\n",
    "fig_pmax.update_layout(xaxis_title=\"p_max\", yaxis_title=\"Social Welfare\")\n",
    "fig_pmax.show()\n"
   ]
  },
  {
   "cell_type": "markdown",
   "id": "494a1775",
   "metadata": {},
   "source": [
    "$v(q) = \\int_{0}^{q} v_{max}(1 - \\frac{q}{q_{max}})$\n",
    "\n"
   ]
  },
  {
   "cell_type": "code",
   "execution_count": null,
   "id": "6571ced0",
   "metadata": {},
   "outputs": [],
   "source": []
  },
  {
   "cell_type": "code",
   "execution_count": 10,
   "id": "1a8a7323",
   "metadata": {},
   "outputs": [
    {
     "name": "stdout",
     "output_type": "stream",
     "text": [
      "Optimization terminated successfully    (Exit mode 0)\n",
      "            Current function value: -4041.749169354321\n",
      "            Iterations: 2\n",
      "            Function evaluations: 1705\n",
      "            Gradient evaluations: 2\n",
      "   Hour  Price  q_d  q_s           q_b       q_u       Battery\n",
      "0     0    7.5  2.5  0.0 -1.576517e-14  2.500000  0.000000e+00\n",
      "1     1    7.5  2.5  0.0 -1.000000e+00  3.500000  1.598721e-14\n",
      "2     2    7.5  2.5  0.0 -1.000000e+00  3.500000  1.000000e+00\n",
      "3     3    7.5  2.5  0.0 -1.000000e+00  3.500000  2.000000e+00\n",
      "4     4    7.5  2.5  0.0 -8.965750e-01  3.396575  3.000000e+00\n",
      "\n",
      "Optimal Welfare: 4041.749\n",
      "\n",
      "Binding equality constraints indices: []\n",
      "Binding inequality constraints indices: [  0   3   4   7   8  11  12  15  16  19  20  23  24  27  28  38  42  46\n",
      "  50  54  62  66  76  80  83  84  87  88  91  92  95  96  99 100 103 104\n",
      " 107 108 111 112 115 116 119 120 123 124 134 138 142 146 154 158 162 172\n",
      " 176 179 180 183 184 187 188 191 192 195 196 199 200 203 204 207 208 211\n",
      " 212 215 216 219 220 230 234 238 242 246 250 258 268 272 275 276 279 280\n",
      " 283 284 287 288 291 292 295 296 299 300 303 304 307 308 311 312 315 316\n",
      " 322 326 334 338 342 346 350 364 368 371 372 375 376 379 380 383 384 387\n",
      " 388 391 392 395 396 399 400 403 404 407 408 411 412 422 426 430 434 438\n",
      " 446 460 464 467 468 471 472 475 476 479 480 483 484 487 488 491 492 495\n",
      " 496 499 500 503 504 507 508 514 522 530 534 542 546 550 556 560 563 564\n",
      " 567 568 571 572 575 576 579 580 583 584 587 588 591 592 595 596 599 600\n",
      " 603 604 618 622 626 630 638 642 646 650 652 656 659 660 663 664 667 668\n",
      " 671 672 675]\n"
     ]
    }
   ],
   "source": [
    "import numpy as np\n",
    "from scipy.optimize import minimize\n",
    "import pandas as pd\n",
    "\n",
    "\n",
    "# === Parameters ===\n",
    "days = 7\n",
    "T = 24*days + 1\n",
    "v_max = 10\n",
    "q_max = 10\n",
    "c_u = 5\n",
    "C_init = 0\n",
    "C_final = 0\n",
    "C_max = 10\n",
    "\n",
    "# === Simulated solar irradiance ===\n",
    "sunrise = 6 \n",
    "sunset = 20\n",
    "mean_pmax = 15\n",
    "std_pmax = 0\n",
    "\n",
    "solar_gen_profile, p_max_list = generate_nday_solar(sunrise, sunset, mean_pmax, std_pmax, days)\n",
    "\n",
    "#np.random.seed(0)\n",
    "s_t = np.array(solar_gen_profile)  \n",
    "#s_t = np.zeros(T)\n",
    "\n",
    "# === Unpacking function ===\n",
    "def unpack(x):\n",
    "    p = x[0:T]\n",
    "    q_s = x[T:2*T]\n",
    "    q_b = x[2*T:3*T]\n",
    "    q_u = x[3*T:4*T]\n",
    "    C = x[4*T:5*T+1]\n",
    "    return p, q_s, q_b, q_u, C\n",
    "\n",
    "# === Objective function ===\n",
    "def objective(x):\n",
    "    p, q_s, q_b, q_u, _ = unpack(x)\n",
    "    q_d = q_max * (1 - p / v_max)\n",
    "\n",
    "    # Consumer surplus (area under demand curve minus expenditure)\n",
    "    cs = v_max * q_d - (v_max / (2 * q_max)) * q_d**2 - p * q_d\n",
    "\n",
    "    # Payments to solar + battery\n",
    "    producer_rev = p * q_s\n",
    "    battery_rev = p*q_b\n",
    "\n",
    "    # Utility company profit\n",
    "    utility_profit = (p - c_u) * q_u\n",
    "\n",
    "    return -np.sum(cs + producer_rev + utility_profit + battery_rev)\n",
    "    \n",
    "   \n",
    "\n",
    "# === Equality Constraints ===\n",
    "def constraint_eq(x):\n",
    "    p, q_s, q_b, q_u, C = unpack(x)\n",
    "    cons = []\n",
    "\n",
    "    cons.append(C[0] - C_init)\n",
    "    cons.append(C[T] - C_final) \n",
    "\n",
    "    # Final hour values match initial hour values (cyclic constraint)\n",
    "    cons.append(q_s[0] - q_s[-1])\n",
    "    cons.append(q_b[0] - q_b[-1])\n",
    "    cons.append(q_u[0] - q_u[-1])\n",
    "\n",
    "\n",
    "    for t in range(T):\n",
    "        q_d_t = q_max * (1 - p[t] / v_max)\n",
    "        cons.append(q_s[t] + q_b[t] + q_u[t] - q_d_t)\n",
    "        cons.append(C[t+1] - (C[t] - q_b[t]))\n",
    "    \n",
    "    return np.array(cons)\n",
    "\n",
    "# === Inequality Constraints ===\n",
    "def constraint_ineq(x):\n",
    "    p, q_s, q_b, q_u, _ = unpack(x)\n",
    "    ineqs = []\n",
    "\n",
    "    for t in range(T):\n",
    "        q_d_t = q_max * (1 - p[t] / v_max)\n",
    "\n",
    "        # Physical limits\n",
    "        ineqs.append(s_t[t] - q_s[t])        # solar capacity\n",
    "        # ineqs.append(q_s[t])                 # solar ≥ 0\n",
    "        # ineqs.append(q_u[t])                 # utility ≥ 0\n",
    "        # ineqs.append(p[t])                   # price ≥ 0\n",
    "\n",
    "        # IR constraints per period\n",
    "        IR_d_t = v_max * q_d_t - (v_max / (2 * q_max)) * q_d_t**2 - p[t] * q_d_t\n",
    "        ineqs.append(IR_d_t)\n",
    "        ineqs.append((p[t] - c_u) * q_u[t])  # utility IR\n",
    "        ineqs.append(p[t] * q_s[t])          # solar IR\n",
    "\n",
    "    # Battery IR across time\n",
    "    IR_b = np.sum(p * q_b)\n",
    "    ineqs.append(IR_b)\n",
    "\n",
    "    return np.array(ineqs)\n",
    "\n",
    "# === Bounds ===\n",
    "bounds = (\n",
    "    [(0, None)] * T +       # Prices ≥ 0\n",
    "    [(0, None)] * T +       # Solar quantities ≥ 0\n",
    "    [(-1, 1)] * T + # Battery can charge (-) or discharge (+)\n",
    "    [(0, None)] * T +       # Utility quantities ≥ 0\n",
    "    [(0, C_max)] * (T + 1)  # Battery state of charge\n",
    ")\n",
    "\n",
    "\n",
    "# === Initial Guess ===\n",
    "x0 = np.ones(5*T + 1) * c_u\n",
    "# x0[:T] *= c_u  # prices initially set to marginal cost\n",
    "# x0[T:2*T] = s_t   # solar dispatch initially matches solar availability\n",
    "x0[4*T] = C_init  # Battery initial SoC\n",
    "x0[2*T:3*T] = 0   # Start neutral, let optimizer decide charge/discharge\n",
    "x0[5*T] = C_final\n",
    "\n",
    "#===Educated Guess====\n",
    "# x0 = np.ones(5*T + 1)\n",
    "# x0[:T] *= c_u# prices initially set to marginal cost\n",
    "# x0[T:2*T] = s_t   # solar dispatch initially matches solar availability\n",
    "# x0[2*T:3*T] = 0    # battery initially neutral (no dispatch)\n",
    "# x0[3*T:4*T] = np.min(abs(5 - s_t), 0) # utility initially covers residual\n",
    "# x0[4*T:5*T+1] = C_init  # Battery SOC initially constant\n",
    "\n",
    "\n",
    "# === Solve ===\n",
    "res = minimize(\n",
    "    fun=objective,\n",
    "    x0=x0,\n",
    "    method='SLSQP',\n",
    "    bounds=bounds,\n",
    "    constraints=[\n",
    "        {'type': 'eq', 'fun': constraint_eq},\n",
    "        {'type': 'ineq', 'fun': constraint_ineq}\n",
    "    ],\n",
    "    options={'disp': True, 'maxiter': 8000}\n",
    ")\n",
    "\n",
    "# === Output ===\n",
    "if res.success:\n",
    "    p, q_s, q_b, q_u, C = unpack(res.x)\n",
    "    q_d = q_max * (1 - p / v_max)\n",
    "    df_opt = pd.DataFrame({\n",
    "        'Hour': np.arange(T),\n",
    "        'Price': p,\n",
    "        'q_d': q_d,\n",
    "        'q_s': q_s,\n",
    "        'q_b': q_b,\n",
    "        'q_u': q_u,\n",
    "        'Battery': C[:-1]\n",
    "    })\n",
    "    print(df_opt.head())\n",
    "    print(f\"\\nOptimal Welfare: {-res.fun:.3f}\")\n",
    "\n",
    "    # Check which constraints are binding\n",
    "    eq_vals = constraint_eq(res.x)\n",
    "    ineq_vals = constraint_ineq(res.x)\n",
    "    tol = 1e-6  # tolerance for binding\n",
    "\n",
    "    binding_eq = np.where(np.abs(eq_vals) > tol)[0]\n",
    "    binding_ineq = np.where(np.abs(ineq_vals) < tol)[0]\n",
    "\n",
    "    print(f\"\\nBinding equality constraints indices: {binding_eq}\")\n",
    "    print(f\"Binding inequality constraints indices: {binding_ineq}\")\n",
    "else:\n",
    "    print(\"Optimization failed:\", res.message)\n"
   ]
  },
  {
   "cell_type": "code",
   "execution_count": 11,
   "id": "83b31d54",
   "metadata": {},
   "outputs": [
    {
     "data": {
      "application/vnd.plotly.v1+json": {
       "config": {
        "plotlyServerURL": "https://plotly.com"
       },
       "data": [
        {
         "mode": "lines",
         "name": "Price p",
         "type": "scatter",
         "y": {
          "bdata": "C1z9////HUDB5/7///8dQKfo/v///x1A5uj+////HUCb1v7///8dQGXl/f///x1AXNRF8VJfHUCFoDResb8XQFVD2RtqQRRA6///////E0D2//////8TQB4AAAAAABRAAwAAAAAAFEAeAAAAAAAUQLOaCl97AxRAwv//////E0Ci//////8TQAanVt11JxRAbClI0mKxFEBgbGhQL4wXQBPBIQS7Lh1A3qaSa3eZHUBTXjbUw2odQDFyzp4ZgB1AK239////HUBeEnBttLgdQLRm/f///x1A7PnfRh+uHUAEW/3///8dQPwLZVmuWh1AvfAPhzoNHUCsPCNyInMXQL4Y2VuHpRRAMQAAAAAAFEDPBadKrrMUQHE2lfuHhRRAaA0iCcFmFEDYmX91iX0UQCsAAAAAABRA5v//////E0ANDIVJiigUQG1bVSUxRhRAAeUS4diaFECXluN/v3kXQOg4/mgDMR1ALzLq8qXFHUBV6ipXiL0dQEta/f///x1Atl39////HUCk80eKEP8dQMgITB0V3h1AwQRp365UHUAcWf3///8dQC2FVF1X6h1Awzztsd5CHUBGaLA7RCoXQIGBh9xqYhRA3h7NtphhFED5//////8TQPP//////xNA7iP9////E0CYTPv///8TQN4D/P///xNAauobmzpnFEAzlPv///8TQBWIChFWYxRAPNIL4HY4FECO8ZgehasXQOQ+kq1oiR1AaaaKTvydHUBTwgmlJMAdQHGh2gVayB1ASbe2gavxHUCoYP3///8dQG9O5FQV9h1AkmH9////HUBVMMfNtLodQCJntjWQqx1ALr/utcMoHUCnnL+FpEYXQOEs8WkJQhRA6f//////E0B7clNHzHUUQPz//////xNAQKuEAd4AFEClMcej7jsUQLvZZE3IKxRA9v//////E0BrNHC7YzMUQDq32CLpwRRAPBi1dXUsFEDckezI1ZQXQPx5obNYhx1A4gm0C8VeHUCO0uZgOKMdQMHiw5YEfx1Ae2j9////HUBZNSCpmt4dQIFn/f///x1Ahl39////HUBIjm6lTjgdQOWywbpLuB1AVylGFM0SHUATJ48Mo8gXQMXWlkHUMBRA+f//////E0D7//////8TQBAAAAAAABRAf20dlcpXFECULvEXqTIUQA3BETXsIBRAGgAAAAAAFEDYege7qgkUQM44GZGQhhRAfOzVX/+gFECtcMkJ4V0XQC3IHn53Nx1A62g/fRf1HUCPUykBaccdQGpf/f///x1AL6twj4iyHUCmav3///8dQD9ci245aB1A/mT9////HUBXYzydl98dQNcUlBkijB1Af14DDOW6HECiUVHpXrgXQAIAAAAAABRAzcKw6/vWFECht5ox/BUUQBZ5puFuAxRAviP7////E0BH1P3///8TQHqSnSJkHxRAJuZ98cweFEABAAAAAAAUQAAAAAAAABRAexa+LWGTFEB1tYNXLasXQM3bqxEhfhxA3KHBlKzZHUDqclfJAPEdQGvv1yq/ch1AhAzq9wiPHUAeZ/3///8dQLNg/f///x1AS34SP+b6HUAAVP3///8dQPQeb9FcSx1ANZe+COr7HEDTPORGdaAXQETwb2EbFxVA5cp3C4QRFEDEzFKQ4g8UQPL//////xNAwinuB1ssFEAN5kJGd8AUQJYvHB10QhRAmfDJ79DfFEBmffv///8TQGR8+////xNAAQAAAAAAFEDQFduA6F0VQKJn+uX6DRxAr83PGAtvHEDiqLfTLRMcQN/bMkocmxtAC1z9////HUA=",
          "dtype": "f8"
         }
        }
       ],
       "layout": {
        "template": {
         "data": {
          "bar": [
           {
            "error_x": {
             "color": "#2a3f5f"
            },
            "error_y": {
             "color": "#2a3f5f"
            },
            "marker": {
             "line": {
              "color": "#E5ECF6",
              "width": 0.5
             },
             "pattern": {
              "fillmode": "overlay",
              "size": 10,
              "solidity": 0.2
             }
            },
            "type": "bar"
           }
          ],
          "barpolar": [
           {
            "marker": {
             "line": {
              "color": "#E5ECF6",
              "width": 0.5
             },
             "pattern": {
              "fillmode": "overlay",
              "size": 10,
              "solidity": 0.2
             }
            },
            "type": "barpolar"
           }
          ],
          "carpet": [
           {
            "aaxis": {
             "endlinecolor": "#2a3f5f",
             "gridcolor": "white",
             "linecolor": "white",
             "minorgridcolor": "white",
             "startlinecolor": "#2a3f5f"
            },
            "baxis": {
             "endlinecolor": "#2a3f5f",
             "gridcolor": "white",
             "linecolor": "white",
             "minorgridcolor": "white",
             "startlinecolor": "#2a3f5f"
            },
            "type": "carpet"
           }
          ],
          "choropleth": [
           {
            "colorbar": {
             "outlinewidth": 0,
             "ticks": ""
            },
            "type": "choropleth"
           }
          ],
          "contour": [
           {
            "colorbar": {
             "outlinewidth": 0,
             "ticks": ""
            },
            "colorscale": [
             [
              0,
              "#0d0887"
             ],
             [
              0.1111111111111111,
              "#46039f"
             ],
             [
              0.2222222222222222,
              "#7201a8"
             ],
             [
              0.3333333333333333,
              "#9c179e"
             ],
             [
              0.4444444444444444,
              "#bd3786"
             ],
             [
              0.5555555555555556,
              "#d8576b"
             ],
             [
              0.6666666666666666,
              "#ed7953"
             ],
             [
              0.7777777777777778,
              "#fb9f3a"
             ],
             [
              0.8888888888888888,
              "#fdca26"
             ],
             [
              1,
              "#f0f921"
             ]
            ],
            "type": "contour"
           }
          ],
          "contourcarpet": [
           {
            "colorbar": {
             "outlinewidth": 0,
             "ticks": ""
            },
            "type": "contourcarpet"
           }
          ],
          "heatmap": [
           {
            "colorbar": {
             "outlinewidth": 0,
             "ticks": ""
            },
            "colorscale": [
             [
              0,
              "#0d0887"
             ],
             [
              0.1111111111111111,
              "#46039f"
             ],
             [
              0.2222222222222222,
              "#7201a8"
             ],
             [
              0.3333333333333333,
              "#9c179e"
             ],
             [
              0.4444444444444444,
              "#bd3786"
             ],
             [
              0.5555555555555556,
              "#d8576b"
             ],
             [
              0.6666666666666666,
              "#ed7953"
             ],
             [
              0.7777777777777778,
              "#fb9f3a"
             ],
             [
              0.8888888888888888,
              "#fdca26"
             ],
             [
              1,
              "#f0f921"
             ]
            ],
            "type": "heatmap"
           }
          ],
          "histogram": [
           {
            "marker": {
             "pattern": {
              "fillmode": "overlay",
              "size": 10,
              "solidity": 0.2
             }
            },
            "type": "histogram"
           }
          ],
          "histogram2d": [
           {
            "colorbar": {
             "outlinewidth": 0,
             "ticks": ""
            },
            "colorscale": [
             [
              0,
              "#0d0887"
             ],
             [
              0.1111111111111111,
              "#46039f"
             ],
             [
              0.2222222222222222,
              "#7201a8"
             ],
             [
              0.3333333333333333,
              "#9c179e"
             ],
             [
              0.4444444444444444,
              "#bd3786"
             ],
             [
              0.5555555555555556,
              "#d8576b"
             ],
             [
              0.6666666666666666,
              "#ed7953"
             ],
             [
              0.7777777777777778,
              "#fb9f3a"
             ],
             [
              0.8888888888888888,
              "#fdca26"
             ],
             [
              1,
              "#f0f921"
             ]
            ],
            "type": "histogram2d"
           }
          ],
          "histogram2dcontour": [
           {
            "colorbar": {
             "outlinewidth": 0,
             "ticks": ""
            },
            "colorscale": [
             [
              0,
              "#0d0887"
             ],
             [
              0.1111111111111111,
              "#46039f"
             ],
             [
              0.2222222222222222,
              "#7201a8"
             ],
             [
              0.3333333333333333,
              "#9c179e"
             ],
             [
              0.4444444444444444,
              "#bd3786"
             ],
             [
              0.5555555555555556,
              "#d8576b"
             ],
             [
              0.6666666666666666,
              "#ed7953"
             ],
             [
              0.7777777777777778,
              "#fb9f3a"
             ],
             [
              0.8888888888888888,
              "#fdca26"
             ],
             [
              1,
              "#f0f921"
             ]
            ],
            "type": "histogram2dcontour"
           }
          ],
          "mesh3d": [
           {
            "colorbar": {
             "outlinewidth": 0,
             "ticks": ""
            },
            "type": "mesh3d"
           }
          ],
          "parcoords": [
           {
            "line": {
             "colorbar": {
              "outlinewidth": 0,
              "ticks": ""
             }
            },
            "type": "parcoords"
           }
          ],
          "pie": [
           {
            "automargin": true,
            "type": "pie"
           }
          ],
          "scatter": [
           {
            "fillpattern": {
             "fillmode": "overlay",
             "size": 10,
             "solidity": 0.2
            },
            "type": "scatter"
           }
          ],
          "scatter3d": [
           {
            "line": {
             "colorbar": {
              "outlinewidth": 0,
              "ticks": ""
             }
            },
            "marker": {
             "colorbar": {
              "outlinewidth": 0,
              "ticks": ""
             }
            },
            "type": "scatter3d"
           }
          ],
          "scattercarpet": [
           {
            "marker": {
             "colorbar": {
              "outlinewidth": 0,
              "ticks": ""
             }
            },
            "type": "scattercarpet"
           }
          ],
          "scattergeo": [
           {
            "marker": {
             "colorbar": {
              "outlinewidth": 0,
              "ticks": ""
             }
            },
            "type": "scattergeo"
           }
          ],
          "scattergl": [
           {
            "marker": {
             "colorbar": {
              "outlinewidth": 0,
              "ticks": ""
             }
            },
            "type": "scattergl"
           }
          ],
          "scattermap": [
           {
            "marker": {
             "colorbar": {
              "outlinewidth": 0,
              "ticks": ""
             }
            },
            "type": "scattermap"
           }
          ],
          "scattermapbox": [
           {
            "marker": {
             "colorbar": {
              "outlinewidth": 0,
              "ticks": ""
             }
            },
            "type": "scattermapbox"
           }
          ],
          "scatterpolar": [
           {
            "marker": {
             "colorbar": {
              "outlinewidth": 0,
              "ticks": ""
             }
            },
            "type": "scatterpolar"
           }
          ],
          "scatterpolargl": [
           {
            "marker": {
             "colorbar": {
              "outlinewidth": 0,
              "ticks": ""
             }
            },
            "type": "scatterpolargl"
           }
          ],
          "scatterternary": [
           {
            "marker": {
             "colorbar": {
              "outlinewidth": 0,
              "ticks": ""
             }
            },
            "type": "scatterternary"
           }
          ],
          "surface": [
           {
            "colorbar": {
             "outlinewidth": 0,
             "ticks": ""
            },
            "colorscale": [
             [
              0,
              "#0d0887"
             ],
             [
              0.1111111111111111,
              "#46039f"
             ],
             [
              0.2222222222222222,
              "#7201a8"
             ],
             [
              0.3333333333333333,
              "#9c179e"
             ],
             [
              0.4444444444444444,
              "#bd3786"
             ],
             [
              0.5555555555555556,
              "#d8576b"
             ],
             [
              0.6666666666666666,
              "#ed7953"
             ],
             [
              0.7777777777777778,
              "#fb9f3a"
             ],
             [
              0.8888888888888888,
              "#fdca26"
             ],
             [
              1,
              "#f0f921"
             ]
            ],
            "type": "surface"
           }
          ],
          "table": [
           {
            "cells": {
             "fill": {
              "color": "#EBF0F8"
             },
             "line": {
              "color": "white"
             }
            },
            "header": {
             "fill": {
              "color": "#C8D4E3"
             },
             "line": {
              "color": "white"
             }
            },
            "type": "table"
           }
          ]
         },
         "layout": {
          "annotationdefaults": {
           "arrowcolor": "#2a3f5f",
           "arrowhead": 0,
           "arrowwidth": 1
          },
          "autotypenumbers": "strict",
          "coloraxis": {
           "colorbar": {
            "outlinewidth": 0,
            "ticks": ""
           }
          },
          "colorscale": {
           "diverging": [
            [
             0,
             "#8e0152"
            ],
            [
             0.1,
             "#c51b7d"
            ],
            [
             0.2,
             "#de77ae"
            ],
            [
             0.3,
             "#f1b6da"
            ],
            [
             0.4,
             "#fde0ef"
            ],
            [
             0.5,
             "#f7f7f7"
            ],
            [
             0.6,
             "#e6f5d0"
            ],
            [
             0.7,
             "#b8e186"
            ],
            [
             0.8,
             "#7fbc41"
            ],
            [
             0.9,
             "#4d9221"
            ],
            [
             1,
             "#276419"
            ]
           ],
           "sequential": [
            [
             0,
             "#0d0887"
            ],
            [
             0.1111111111111111,
             "#46039f"
            ],
            [
             0.2222222222222222,
             "#7201a8"
            ],
            [
             0.3333333333333333,
             "#9c179e"
            ],
            [
             0.4444444444444444,
             "#bd3786"
            ],
            [
             0.5555555555555556,
             "#d8576b"
            ],
            [
             0.6666666666666666,
             "#ed7953"
            ],
            [
             0.7777777777777778,
             "#fb9f3a"
            ],
            [
             0.8888888888888888,
             "#fdca26"
            ],
            [
             1,
             "#f0f921"
            ]
           ],
           "sequentialminus": [
            [
             0,
             "#0d0887"
            ],
            [
             0.1111111111111111,
             "#46039f"
            ],
            [
             0.2222222222222222,
             "#7201a8"
            ],
            [
             0.3333333333333333,
             "#9c179e"
            ],
            [
             0.4444444444444444,
             "#bd3786"
            ],
            [
             0.5555555555555556,
             "#d8576b"
            ],
            [
             0.6666666666666666,
             "#ed7953"
            ],
            [
             0.7777777777777778,
             "#fb9f3a"
            ],
            [
             0.8888888888888888,
             "#fdca26"
            ],
            [
             1,
             "#f0f921"
            ]
           ]
          },
          "colorway": [
           "#636efa",
           "#EF553B",
           "#00cc96",
           "#ab63fa",
           "#FFA15A",
           "#19d3f3",
           "#FF6692",
           "#B6E880",
           "#FF97FF",
           "#FECB52"
          ],
          "font": {
           "color": "#2a3f5f"
          },
          "geo": {
           "bgcolor": "white",
           "lakecolor": "white",
           "landcolor": "#E5ECF6",
           "showlakes": true,
           "showland": true,
           "subunitcolor": "white"
          },
          "hoverlabel": {
           "align": "left"
          },
          "hovermode": "closest",
          "mapbox": {
           "style": "light"
          },
          "paper_bgcolor": "white",
          "plot_bgcolor": "#E5ECF6",
          "polar": {
           "angularaxis": {
            "gridcolor": "white",
            "linecolor": "white",
            "ticks": ""
           },
           "bgcolor": "#E5ECF6",
           "radialaxis": {
            "gridcolor": "white",
            "linecolor": "white",
            "ticks": ""
           }
          },
          "scene": {
           "xaxis": {
            "backgroundcolor": "#E5ECF6",
            "gridcolor": "white",
            "gridwidth": 2,
            "linecolor": "white",
            "showbackground": true,
            "ticks": "",
            "zerolinecolor": "white"
           },
           "yaxis": {
            "backgroundcolor": "#E5ECF6",
            "gridcolor": "white",
            "gridwidth": 2,
            "linecolor": "white",
            "showbackground": true,
            "ticks": "",
            "zerolinecolor": "white"
           },
           "zaxis": {
            "backgroundcolor": "#E5ECF6",
            "gridcolor": "white",
            "gridwidth": 2,
            "linecolor": "white",
            "showbackground": true,
            "ticks": "",
            "zerolinecolor": "white"
           }
          },
          "shapedefaults": {
           "line": {
            "color": "#2a3f5f"
           }
          },
          "ternary": {
           "aaxis": {
            "gridcolor": "white",
            "linecolor": "white",
            "ticks": ""
           },
           "baxis": {
            "gridcolor": "white",
            "linecolor": "white",
            "ticks": ""
           },
           "bgcolor": "#E5ECF6",
           "caxis": {
            "gridcolor": "white",
            "linecolor": "white",
            "ticks": ""
           }
          },
          "title": {
           "x": 0.05
          },
          "xaxis": {
           "automargin": true,
           "gridcolor": "white",
           "linecolor": "white",
           "ticks": "",
           "title": {
            "standoff": 15
           },
           "zerolinecolor": "white",
           "zerolinewidth": 2
          },
          "yaxis": {
           "automargin": true,
           "gridcolor": "white",
           "linecolor": "white",
           "ticks": "",
           "title": {
            "standoff": 15
           },
           "zerolinecolor": "white",
           "zerolinewidth": 2
          }
         }
        },
        "title": {
         "text": "Price (p) over Time Steps"
        },
        "xaxis": {
         "title": {
          "text": "Time Step"
         }
        },
        "yaxis": {
         "title": {
          "text": "Price (p)"
         }
        }
       }
      }
     },
     "metadata": {},
     "output_type": "display_data"
    }
   ],
   "source": [
    "import plotly.graph_objs as go\n",
    "import plotly.offline as pyo\n",
    "\n",
    "fig = go.Figure()\n",
    "fig.add_trace(go.Scatter(y=p, mode='lines', name='Price p'))\n",
    "fig.update_layout(\n",
    "    title='Price (p) over Time Steps',\n",
    "    xaxis_title='Time Step',\n",
    "    yaxis_title='Price (p)'\n",
    ")\n",
    "fig.show()\n"
   ]
  },
  {
   "cell_type": "code",
   "execution_count": 12,
   "id": "183c9fe8",
   "metadata": {},
   "outputs": [
    {
     "data": {
      "application/vnd.plotly.v1+json": {
       "config": {
        "plotlyServerURL": "https://plotly.com"
       },
       "data": [
        {
         "line": {
          "color": "green"
         },
         "mode": "lines",
         "name": "Solar Dispatch",
         "type": "scatter",
         "y": {
          "bdata": "AAAAAAAAAAAAAAAAAAAAAAAAAAAAAAAAAAAAAAAAAAAAAAAAAAAAAAAAAAAAAAAAAAAAAAAAAACcG9LU17MKQPsL2QBVvBRAm+x7JLjmE0AmQfVnfloUQBuc/uyA1RNAXhNeYPHDE0A8wwAOHNcTQOa/G0imcxNApFUn7bCYFEBiDd+hu0AUQMsgj0GM8hNArXbyLrM0FEDEG9LU17MKQAAAAAAAAAAAAAAAAAAAAAAAAAAAAAAAAAAAAAAAAAAAAAAAAAAAAAAAAAAAAAAAAAAAAAAAAAAAAAAAAAAAAAAAAAAAAAAAAAAAAAAAAAAAAAAAAAAAAADgG9LU17MKQORneQyolhRArSUHE8DnE0AKEuEVVsMTQJD99QrCjhNAfu0062fOE0DhLkuKwWQTQON/loGVShNANdYM+52GE0CskvH9gUwUQIGpdTt0AhRAc6AhXPS5FECyG9LU17MKQAAAAAAAAAAAAAAAAAAAAAAAAAAAAAAAAAAAAAAAAAAAAAAAAAAAAAAAAAAAAAAAAAAAAAAAAAAAAAAAAAAAAAAAAAAAAAAAAAAAAAAAAAAAAAAAAAAAAACXG9LU17MKQPvDb/x78RRAz8Sfp3g2FEAlFUgmm0oUQBjRwTj/DRRAa2Vn/gIRFED/BRf5gxkUQIFHHz6rVBRA1Ji7hqM/E0AcfDdA33sUQBXO5gbfGBRAi+OaVP5ZFEDEG9LU17MKQAAAAAAAAAAAAAAAAAAAAAAAAAAAAAAAAAAAAAAAAAAAAAAAAAAAAAAAAAAAAAAAAAAAAAAAAAAAAAAAAAAAAAAAAAAAAAAAAAAAAAAAAAAAAAAAAAAAAACrG9LU17MKQNwtb3TTbRVAc1GnAR4UFECtrE97sLITQBxaZWLhyBNAqJ24OpJUFEDZ0AjXPp0TQCtBKZAWJBRAT8IJrp4QFEACC0+IaOkTQJcDZwQWUhNAHdSmFBmHFECxG9LU17MKQAAAAAAAAAAAAAAAAAAAAAAAAAAAAAAAAAAAAAAAAAAAAAAAAAAAAAAAAAAAAAAAAAAAAAAAAAAAAAAAAAAAAAAAAAAAAAAAAAAAAAAAAAAAAAAAAAAAAACIG9LU17MKQDio7SORvRRAicUrT4rVE0D0Om1nCYgUQMLByCl12hNAr1PJQaezE0ABvNAB8hcUQMpyh4mwvBNA19yowT6RE0DqO206OUsUQMHzS2tM4hNAYD+J9YQnFECRG9LU17MKQAAAAAAAAAAAAAAAAAAAAAAAAAAAAAAAAAAAAAAAAAAAAAAAAAAAAAAAAAAAAAAAAAAAAAAAAAAAAAAAAAAAAAAAAAAAAAAAAAAAAAAAAAAAAAAAAAAAAACRG9LU17MKQLBzE68stxRAJvqIedZAE0BEgNdfrk4UQFt4Bl0DpxNAx/10VUUBFEDB8IpRr74UQPYrOrAgfBNAGj7YeXlFFECBp0lhKIMTQOrDRXU5XhRA0q5XQNDmE0C5G9LU17MKQAAAAAAAAAAAAAAAAAAAAAAAAAAAAAAAAAAAAAAAAAAAAAAAAAAAAAAAAAAAAAAAAAAAAAAAAAAAAAAAAAAAAAAAAAAAAAAAAAAAAAAAAAAAAAAAAAAAAACbG9LU17MKQPSkCRLOghNACz6dBAV7FEB02JttXAAUQH/A1DYGhBRAPCy7IEq/E0CzXCmoGlkTQBV8DZKPihNAK85v0uMVE0ABk9wQue0TQA6oss2eLhRAFEt/7ypWE0DRG9LU17MKQAAAAAAAAAAAAAAAAAAAAAAAAAAAAAAAAAAAAAAAAAAAAAAAAAAAAAA=",
          "dtype": "f8"
         }
        },
        {
         "line": {
          "color": "red"
         },
         "mode": "lines",
         "name": "Battery Dispatch",
         "type": "scatter",
         "y": {
          "bdata": "UnkhAADAEb2W5v/////vv4/8/////++/AAAAAAAA8L/NhhMQvrDsv1DhT0CSndK/ExJLk19gxj8xTXVZ08rSvwXVGLUdN9q/U/wxJJlxwL+nt6q30pu8v3vKC5N5HqC/eXzOjhS0Y7/9PBti6hGDv85sGsS+w6w/l7DqpB0Ww78EvT552/WwvxDrRXq1zr6/W/KHgdn+1b/Jvir02svEv5u5q1Pyqdo/E2jl+gY/xz92N/Qd7ue9P5v0cPt3vbA/u0gcs8czar9c4ImpOLWfP+qtY0XuJns/acqDrRwvrT9PrGqNDDmuP1Sicu/5Iss/QS/XIetG2z+PXDvkFzHDv8PnEcH0Rti/Z8zVXcXCub/d9QUiGMG9v50ONIsGSpS/ZnB9K3qUqr+vUtyw126Qv+qRFPwwe6Q/eXFtohKziD8SrKfdEUO9vw14EDoYS8G/OtRGj+YN2b8KiBwMCj7BvzYl96UMJ9s/cN3ID8fkxz8QRKrEgsS5PzUA0HQzI6E/4GiA61fPkD8UmUaz7R+FPwVlG2IqB5s/wdU76/brtj+zD+6npGuuP53mMOxnwMU/ZeBjp/Zc2j+7JzZap4O4v2k8Cix53Ne/jHSczSsCw7/USwWSyaayv/EtooNx/ou/PZITZv4Ckb81lFIS+YOZv1uaEofPKrW/O38k+yiMqj+nEsQM0Pe+v58wooBzX8O/eG+tYEz40r+vai5CB1TEv9XRhrgH7Ng/fS3dOEk7yT+ZNdozmtO2P6Sx9qDm36o/pxTAw3F4kj93ueWc3R+BP4TqdvkBTZo/5Os7cl/glz/shof3P4O7P2Rm8kDZOcg/FhjiyusJ2z/eFCiLifa/v2irBebN/dq/7rPrsb2kur+DSoLrE+Smv52Wa3gReGu/FjhSDw9ctb+1vf6XQmmjPwO4hmO397O/nl3CCa6ekL9CfPYUyrKtv92Lgv1fh8G/zq3OURw91b/AdrDvQk3EvyGGC0YAvtg/RaEO5kugyT/jDQLK92y0P3t2ajx9W7Q/PbQdA+mFWz9W6RD++XtlP75YuUsdMVq/qOolHZb5oD/7s8ijCEXCP1APgE9WO8U/QKO7Kgyc3D+pNUDal7rHvzuNyObEida/rytVCyq2sr+JXqftLAHBvypEpJ39+Ie/N4GCza3jhr8cpXpwxqayv+zzeqmqW22/ee7Kna3PlT+rfbUps0a2v+9wpQeJQcW/2OYBSIhj1b/pAiEwh5fAv5/3nFTymto/1R5w7qKAxD+fkWrPiLW7P4l/MvJ/rpc/ev9mbfctpz/6R5DPMUNlv/FrKLAxGrA/oaAxd000lD8+XpYNwWS1P46XRSw5Ksc/PCWt92063T93nMVOtvTIv9ijcvCwlNW/hpOYjzztvr+v+Y1cpCq5v7F3ks6HcZo/GjwYAldVVL8IT0Ix6tXHvwGVI2DmK7M/7RKJ1ZoRub/imQKuHxeMP1vHGKigL8a/AmMLJbh31L8dX4/M77LJvwtHSPHubd8/fgADH9s9wz+sQqTxx0axP4a18E84wLQ/cypveE2Apz+kYWbHLxdFP6nkJlcA9oU/pIcRrYUBoj8cmRWwnuGwP51eljTKD8s/dFRf/2HP2z9meG9io+XGv+U5Yqr4CtS/LTnnupsSxL/+KqXu/T6Qv0wPmNrGgMC/MvmpVtdalD9CykJs7pGZv/TN9Qo1eqU/EHSCjHuWhD/nme8n70aSP0BCEtdmT6e/V5wWEKI6xT/zdNk85XHqPwAAAAAAAPA/AAAAAAAA8D9Y/P/////vP8Tn/////+8/AukgAADAEr0=",
          "dtype": "f8"
         }
        },
        {
         "line": {
          "color": "purple"
         },
         "mode": "lines",
         "name": "Utility Dispatch",
         "type": "scatter",
         "y": {
          "bdata": "KFgFAAAABEC6PgIAAAAMQBJAAgAAAAxAAEECAAAADEAnRQeELywLQFhCDkiyUwZAebY/JFTbA0D/meazP0zwPwnA59NXtsQ/yWu0lJSawz+qxGnp4vCXP/fW3okBr7I/7DPjGZFCrz/WISWYczapPyMjXNS21bM/dx3z////HT2qYW8vYN5oP5j208AtTrg/2sJ3t+V1vj+j3X7mHALuP+8XR61LTQJAWmwsuSBZA0AqsqPmODsEQJakhwLheQRA2P3x8YwGBECW18yzLE8EQOCR4ohs8gNABg6K/wQvBECxr8/NG4cDQMjOPq5zmANAWEmlja18AkBQgqwU02PuP5h4p+/4D7I//1MMnMDSvz8AAAAAAAAAACyx9f///wc9AAAAAAAAAABhzgnz6xGnP1/ZKo6DjsE/7Mp86B5Cuz8AAAAAAAAAALK2X0HYbLA/dePz35UIrj9t/qEwJ7LtP965RJkXOQJAbx4vqWf2AkDW6YQ7y7YDQDocMjJzuwNAg1QuUGHeA0DA4rz9vuwDQFHIo3DHDQRAtyjUiUKfBEArpmVtUYYDQOv3k8ZKzwJA5ho5x6MuAkBuFHu68+7uP74nr+Rc8KQ/AAAAAAAAAABe+fP///8LPUXV9P///wk99UgdbfCj2D0AAAAAAAAAAMDJHViS4c89zuIZGcYEoj8AAAAAAAAAAJVZuxOExp4/PyWELPKhwz8en3uIeensP924yq2tzwFACPFcz1IwA0DIuk3kGckDQCfzxlnMAwRAFSILGbj3A0DMaWgi4O4DQPKFRFI73wNAoNUgQT/QA0DKc7VkfK4DQCQchABCJQNAOk/GGjtNAkDMrh+wTfruPwAAAAAAAAAA/l0XSD2dtT+dj5XPlC11P4Gr2eTPRq0/AAAAAAAAAACQQfL/////PAAAAAAAAAAAdx3z////DT2kja1qUJmeP9NjFiv2Dr4/3tAfWGcIxD/YHz8hQ53tP+ur+4+O2QFA1BI3KnGoA0AjW+J/JxYEQIz3lOgaXwRAG9zkQo/8A0CsIUCvaz0EQLy4riNGAwRA4L2Qpxm8A0DIaOYqEmsEQNKphCWzOwNAiUkcUuRGAkB1Zs4+LtrsP5h1Ajq6jb4/BMljQJZTvT8ssfX////3PKIqCIOqw6g/kEHy////zzyQQfL////PPIvI/V1bB6M/4wdWLmQ8tj9XxnzIXNtwP0K7//XSS7A/CVMe5IW2wT/STHQqemfuP07hLrmyPQJA9zya1sbNAkDoFDK3gZMDQM/sIACj0ANAHR5pAzc+BECHH3nMUAUEQMQUaJW7rgRAauMWZZfXA0Dylhq9qpUDQISNEzoYdQNABK8DKejiAkDpa9711qrtP9zPdv7LQ8Q/FlspQaP4uD8AAAAAAAAAAGEWPsIcjq0/AAAAAAAAAABMqW30S9fUPXdcs6eTy5c/kEHy/////zzvzNW3A7O7P8KRwP7j0LQ/xhpeh0KpyT+hvb3j8UPuPw9Qf/7/FQNA/JyMJMkYA0DeCMQtyJMDQCWs0Od/dARAtzpK2uyDBEAMzAiNrv4DQHMorv8J6gNA/c0may3CA0DDu4QK83gDQPJs2LlJuANA1veWrj+OAkDciDFOX+btP1DMkeXC2MQ/6M8wws0LlD/hRPj///8BPZBB8v///988AAAAAAAAAAD6aPf///8DPZRq0YDND4A/AAAAAAAAAAAAAAAAAAAAAAAAAAAAAAAALLH1////5zxF2wrS7p7fP9x8FmgUyP8/RubAnNND/j+YfCGxSLP/P8ZbmmvHyQBAJlgFAAAABEA=",
          "dtype": "f8"
         }
        },
        {
         "line": {
          "color": "blue"
         },
         "mode": "lines",
         "name": "Total Demand",
         "type": "scatter",
         "y": {
          "bdata": "6kcFAAAABEB9MAIAAAAEQLEuAgAAAARANC4CAAAABEDJUgIAAAAEQDU1BAAAAARASFd0HVpBBUB7X8uhTkAQQKq8JuSVvhNAFQAAAAAAFEAKAAAAAAAUQOL//////xNA/v//////E0Di//////8TQE1l9aCE/BNAPgAAAAAAFEBeAAAAAAAUQPpYqSKK2BNAlNa3LZ1OE0Cgk5ev0HMQQNp9vPeJogVAQ7LaKBHNBEBbQ5NXeCoFQJ4bY8LM/wRAqiUFAAAABEBE2x8ll44EQJgyBQAAAARAJwxAcsGjBED3SQUAAAAEQAjoNU2jSgVAhh7g8YrlBUBUw9yN3YwQQELnJqR4WhNAz///////E0Ax+li1UUwTQI/JagR4ehNAmPLd9j6ZE0AoZoCKdoITQNb//////xNAGgAAAAAAFEDz83q2ddcTQJOkqtrOuRNAABvtHidlE0BpaRyAQIYQQC+OAy75nQVAopsrGrR0BEBVK6pR74QEQGlLBQAAAARAk0QFAAAABEC4GHDr3gEEQHDuZ8XVQwRAffYtQaJWBUDITQUAAAAEQKb1VkVRKwRAeoYlnEJ6BUC6l0/Eu9UQQH5+eCOVnRNAIuEySWeeE0AIAAAAAAAUQAwAAAAAABRAEtwCAAAAFEBoswQAAAAUQCL8AwAAABRAlhXkZMWYE0DNawQAAAAUQOt39e6pnBNAxC30H4nHE0ByDmfhelQQQDiC26Qu7QRALrPqYgfEBEBbe+y1tn8EQB69SvRLbwRAb5GS/KgcBECwPgUAAAAEQCFjN1bVEwRA3DwFAAAABEBVn3FklooEQLwxk5TfqARApIEilHiuBUBZY0B6W7kQQB/TDpb2vRNAFgAAAAAAFECEjay4M4oTQAQAAAAAABRAwFR7/iH/E0BczjhcEcQTQEUmm7I31BNACgAAAAAAFECWy49EnMwTQMZIJ90WPhNAxOdKiorTE0AkbhM3KmsQQAgMvZhO8QRAPOyX6HVCBUDkWjI+j7kEQH46eNL2AQVACi8FAAAABEBPlb+tykIEQP4wBQAAAARA9EQFAAAABEBv4yK1Yo8FQDaafIpojwRAUq1z12XaBUDt2HDzXDcQQDspab4rzxNACAAAAAAAFEAFAAAAAAAUQPD//////xNAgpLiajWoE0Bs0Q7oVs0TQPM+7soT3xNA5v//////E0AohfhEVfYTQDLH5m5veRNAhBMqoABfE0BTjzb2HqIQQKZvwgMRkQVAKi6BBdEVBEDiWK39LXEEQC1BBQAAAARAoqke4e6aBEC0KgUAAAAEQIJH6SKNLwVABDYFAAAABEBSOYfF0EAEQFLW18y75wRAAkP55zWKBkBerq4WoUcQQP7//////xNAMz1PFAQpE0BfSGXOA+oTQOqGWR6R/BNAQtwEAAAAFEC5KwIAAAAUQIZtYt2b4BNA2hmCDjPhE0D///////8TQAAAAAAAABRAhelB0p5sE0CLSnyo0lQQQGZIqNy9AwdASLx81qZMBEAsGlFt/h0EQCkhUKqBGgVA+OYrEO7hBEDEMQUAAAAEQJk+BQAAAARAagPbgTMKBEAAWAUAAAAEQBjCIV1GaQVAltGC7isIBkAtwxu5il8QQLwPkJ7k6BJAGzWI9HvuE0A8M61vHfATQA4AAAAAABRAPtYR+KTTE0DzGb25iD8TQGrQ4+KLvRNAZw82EC8gE0CaggQAAAAUQJyDBAAAABRA////////E0Aw6iR/F6ISQLwwCzQK5AdAomRgzukhB0A8rpBYpNkHQEJImmvHyQhA6kcFAAAABEA=",
          "dtype": "f8"
         }
        },
        {
         "mode": "lines",
         "name": "Total Charge (C)",
         "type": "scatter",
         "y": {
          "bdata": "AAAAAAAAAAC0ZCEAAAASPSDn/////+8/2vH//////z99+v////8HQDDcBIQvLA9ALWwH5vC/EECdE23p7QwQQHBoBB+bORFAwPVV+gzdEkCkhXfDmWATQH8wVg4J0xNAFUh8AUbzE0DkIQ6EvPUTQIIvP3lF/xNAp/q2+73FE0ArUN7obl4UQB9Lw1ZGohRAymKsLIEdFUDw4cTEbn0WQOc3ZpzNIxdATXwrdy55FUANUVQ/Nr8UQDCA3IaWRxRAXbzupqAEFEDpH+Uf5wcUQAaWO+cx6BNAGz2qK2jhE0CENU/yCacTQC1gNNmXahNAGMu4CYCREkAlWJtXEd0QQAszvRaadhFAhlHOYgn7EkC6qEV4FGITQJLAzdgY2RNAnvRY32LtE0CD76/TiyIUQNPLYKv6MhRAr6JoSQQKFED3axfAqv0TQKcKjge3chRAaI5eyQ/9FECp+1Iy7o0WQOnfs4LeFxdAk21UuG1lFUCqJtZ/R6YUQJl9w3Q1PxRAm93ZDe8cFEAzXe61HwwUQOa5FL+PARRAf56ylIjmE0ArrwW52IoTQAnTtW8BThNA10tUMP6fEkDPDd7FLvoQQHDmRmM9XBFAN4oH9gTaEkDabXRUFnITQAyDvHqxvBNAIVR+s7DKE0CzZ+Sxs9sTQEi69qo39RNAsQQT6eJJFEC0uxyXyhQUQP/LT9epkBRAht1Uc6UrFUB9tF85KlsWQNEncXPK/RZAsbro9wlvFUBF0SGuL6UUQGpoUkXhSRRAB3sQeCEUFEDuukwGqQEUQBJIfhcZ+RNAKtGEFczeE0BBlRK268YTQCJ3NLbeWBNA8+Ms7A+XEkBtwn4vceYQQMFiq1VLZhFAd70LNCgWE0BKbNMqu4ATQN1wqlKDrhNAUn7ZVPKxE0ArxxaRYgcUQK/J5guQ4BNAj+R06W4wFEDupn6XDUEUQOaTqCtzfBRARKiUK64IFUAlk7Hwf1wWQN4WLwjq/hZAfF7OAwpzFUBz6Z2kB6YUQDrhdcVTVBRAYzeE0OUCFECHBfRxLQEUQGVDtPJ9/hNA+/6IBCEAFEAls07YLd4TQIdtMJMFTBNACm204CqiEkDQsggeatgQQH+02tw+lhFAUj1HK9v+EkABknTTs0kTQPHM4Tq90RNAEJ+wubndE0BTYJeQK+kTQOZKWarGMxRARXquH3I3FEBXrxByoiEUQFCFtz69ehRA2bD0hskkFUBIz3QLAnsWQGPX9US+/xZA5wesHw9WFUDyhjgICrIUQKzc+uQzQxRAMKoIZYUrFEAx3C12Kf0TQDjOZ9zR/xNAiiynFWm/E0Dt+i/INKsTQHGh+cOhVRNAtHSX+k+cEkBlohwbqcgQQEvPks1OkBFAhPmZ3JnpEkDVW9jOTmUTQL6TSmD5yRNAUAF82IevE0DQIuwtzbATQEs1dn98bxRA9qb15cwiFEBGy0tRE4cUQPrJdMEHeRRALpC1xoQqFUBaRgZJAHIWQF3BaseXPxdA6jxW2LhIFUDoJF7/ya4UQN+Tl9+uaRRACdFX/q0WFEC58mZjrecTQI+36KkE5xNAHiS9qQncE0AOAWOeBrgTQKuqoiOAdBNAtPf90QGcEkBtAgiyC98QQCt+G804lhFAzKHBV+jWEkCd25g1fXcTQM2AhzO8hxNAPkFcasILFEBElwWTZ/cTQAfacYH5EBRAbu5bFwXmE0AwrZXZudsTQJq9bepyyRNAGeIbuBH4E0AzLZunPE4TQDf9/////w9AoPr/////B0BA8v//////P4jn/////+8/AAAAAAAAAAAAAAAAAAAAAA==",
          "dtype": "f8"
         }
        },
        {
         "line": {
          "color": "gold",
          "dash": "dash"
         },
         "mode": "lines",
         "name": "Solar Supply",
         "type": "scatter",
         "y": {
          "bdata": "AAAAAAAAAAAAAAAAAAAAAAAAAAAAAAAAAAAAAAAAAAAAAAAAAAAAAAAAAAAAAAAARxbjz8OL0DwsIdLU17MKQAaRmkh0CBpA9S5j1Ga0IkBmgLU9d3QnQKqmLt9wBytA0loDRXI/LUAAAAAAAAAuQNJaA0VyPy1AqqYu33AHK0BmgLU9d3QnQPUuY9RmtCJABpGaSHQIGkAsIdLU17MKQEcW48/Di9A8AAAAAAAAAAAAAAAAAAAAAAAAAAAAAAAAAAAAAAAAAAAAAAAAAAAAAAAAAAAAAAAAAAAAAAAAAAAAAAAAAAAAAAAAAAAAAAAARxbjz8OL0DwsIdLU17MKQAaRmkh0CBpA9S5j1Ga0IkBmgLU9d3QnQKqmLt9wBytA0loDRXI/LUAAAAAAAAAuQNJaA0VyPy1AqqYu33AHK0BmgLU9d3QnQPUuY9RmtCJABpGaSHQIGkAsIdLU17MKQEcW48/Di9A8AAAAAAAAAAAAAAAAAAAAAAAAAAAAAAAAAAAAAAAAAAAAAAAAAAAAAAAAAAAAAAAAAAAAAAAAAAAAAAAAAAAAAAAAAAAAAAAARxbjz8OL0DwsIdLU17MKQAaRmkh0CBpA9S5j1Ga0IkBmgLU9d3QnQKqmLt9wBytA0loDRXI/LUAAAAAAAAAuQNJaA0VyPy1AqqYu33AHK0BmgLU9d3QnQPUuY9RmtCJABpGaSHQIGkAsIdLU17MKQEcW48/Di9A8AAAAAAAAAAAAAAAAAAAAAAAAAAAAAAAAAAAAAAAAAAAAAAAAAAAAAAAAAAAAAAAAAAAAAAAAAAAAAAAAAAAAAAAAAAAAAAAARxbjz8OL0DwsIdLU17MKQAaRmkh0CBpA9S5j1Ga0IkBmgLU9d3QnQKqmLt9wBytA0loDRXI/LUAAAAAAAAAuQNJaA0VyPy1AqqYu33AHK0BmgLU9d3QnQPUuY9RmtCJABpGaSHQIGkAsIdLU17MKQEcW48/Di9A8AAAAAAAAAAAAAAAAAAAAAAAAAAAAAAAAAAAAAAAAAAAAAAAAAAAAAAAAAAAAAAAAAAAAAAAAAAAAAAAAAAAAAAAAAAAAAAAARxbjz8OL0DwsIdLU17MKQAaRmkh0CBpA9S5j1Ga0IkBmgLU9d3QnQKqmLt9wBytA0loDRXI/LUAAAAAAAAAuQNJaA0VyPy1AqqYu33AHK0BmgLU9d3QnQPUuY9RmtCJABpGaSHQIGkAsIdLU17MKQEcW48/Di9A8AAAAAAAAAAAAAAAAAAAAAAAAAAAAAAAAAAAAAAAAAAAAAAAAAAAAAAAAAAAAAAAAAAAAAAAAAAAAAAAAAAAAAAAAAAAAAAAARxbjz8OL0DwsIdLU17MKQAaRmkh0CBpA9S5j1Ga0IkBmgLU9d3QnQKqmLt9wBytA0loDRXI/LUAAAAAAAAAuQNJaA0VyPy1AqqYu33AHK0BmgLU9d3QnQPUuY9RmtCJABpGaSHQIGkAsIdLU17MKQEcW48/Di9A8AAAAAAAAAAAAAAAAAAAAAAAAAAAAAAAAAAAAAAAAAAAAAAAAAAAAAAAAAAAAAAAAAAAAAAAAAAAAAAAAAAAAAAAAAAAAAAAARxbjz8OL0DwsIdLU17MKQAaRmkh0CBpA9S5j1Ga0IkBmgLU9d3QnQKqmLt9wBytA0loDRXI/LUAAAAAAAAAuQNJaA0VyPy1AqqYu33AHK0BmgLU9d3QnQPUuY9RmtCJABpGaSHQIGkAsIdLU17MKQEcW48/Di9A8AAAAAAAAAAAAAAAAAAAAAAAAAAAAAAAAAAAAAAAAAAA=",
          "dtype": "f8"
         }
        }
       ],
       "layout": {
        "template": {
         "data": {
          "bar": [
           {
            "error_x": {
             "color": "#2a3f5f"
            },
            "error_y": {
             "color": "#2a3f5f"
            },
            "marker": {
             "line": {
              "color": "#E5ECF6",
              "width": 0.5
             },
             "pattern": {
              "fillmode": "overlay",
              "size": 10,
              "solidity": 0.2
             }
            },
            "type": "bar"
           }
          ],
          "barpolar": [
           {
            "marker": {
             "line": {
              "color": "#E5ECF6",
              "width": 0.5
             },
             "pattern": {
              "fillmode": "overlay",
              "size": 10,
              "solidity": 0.2
             }
            },
            "type": "barpolar"
           }
          ],
          "carpet": [
           {
            "aaxis": {
             "endlinecolor": "#2a3f5f",
             "gridcolor": "white",
             "linecolor": "white",
             "minorgridcolor": "white",
             "startlinecolor": "#2a3f5f"
            },
            "baxis": {
             "endlinecolor": "#2a3f5f",
             "gridcolor": "white",
             "linecolor": "white",
             "minorgridcolor": "white",
             "startlinecolor": "#2a3f5f"
            },
            "type": "carpet"
           }
          ],
          "choropleth": [
           {
            "colorbar": {
             "outlinewidth": 0,
             "ticks": ""
            },
            "type": "choropleth"
           }
          ],
          "contour": [
           {
            "colorbar": {
             "outlinewidth": 0,
             "ticks": ""
            },
            "colorscale": [
             [
              0,
              "#0d0887"
             ],
             [
              0.1111111111111111,
              "#46039f"
             ],
             [
              0.2222222222222222,
              "#7201a8"
             ],
             [
              0.3333333333333333,
              "#9c179e"
             ],
             [
              0.4444444444444444,
              "#bd3786"
             ],
             [
              0.5555555555555556,
              "#d8576b"
             ],
             [
              0.6666666666666666,
              "#ed7953"
             ],
             [
              0.7777777777777778,
              "#fb9f3a"
             ],
             [
              0.8888888888888888,
              "#fdca26"
             ],
             [
              1,
              "#f0f921"
             ]
            ],
            "type": "contour"
           }
          ],
          "contourcarpet": [
           {
            "colorbar": {
             "outlinewidth": 0,
             "ticks": ""
            },
            "type": "contourcarpet"
           }
          ],
          "heatmap": [
           {
            "colorbar": {
             "outlinewidth": 0,
             "ticks": ""
            },
            "colorscale": [
             [
              0,
              "#0d0887"
             ],
             [
              0.1111111111111111,
              "#46039f"
             ],
             [
              0.2222222222222222,
              "#7201a8"
             ],
             [
              0.3333333333333333,
              "#9c179e"
             ],
             [
              0.4444444444444444,
              "#bd3786"
             ],
             [
              0.5555555555555556,
              "#d8576b"
             ],
             [
              0.6666666666666666,
              "#ed7953"
             ],
             [
              0.7777777777777778,
              "#fb9f3a"
             ],
             [
              0.8888888888888888,
              "#fdca26"
             ],
             [
              1,
              "#f0f921"
             ]
            ],
            "type": "heatmap"
           }
          ],
          "histogram": [
           {
            "marker": {
             "pattern": {
              "fillmode": "overlay",
              "size": 10,
              "solidity": 0.2
             }
            },
            "type": "histogram"
           }
          ],
          "histogram2d": [
           {
            "colorbar": {
             "outlinewidth": 0,
             "ticks": ""
            },
            "colorscale": [
             [
              0,
              "#0d0887"
             ],
             [
              0.1111111111111111,
              "#46039f"
             ],
             [
              0.2222222222222222,
              "#7201a8"
             ],
             [
              0.3333333333333333,
              "#9c179e"
             ],
             [
              0.4444444444444444,
              "#bd3786"
             ],
             [
              0.5555555555555556,
              "#d8576b"
             ],
             [
              0.6666666666666666,
              "#ed7953"
             ],
             [
              0.7777777777777778,
              "#fb9f3a"
             ],
             [
              0.8888888888888888,
              "#fdca26"
             ],
             [
              1,
              "#f0f921"
             ]
            ],
            "type": "histogram2d"
           }
          ],
          "histogram2dcontour": [
           {
            "colorbar": {
             "outlinewidth": 0,
             "ticks": ""
            },
            "colorscale": [
             [
              0,
              "#0d0887"
             ],
             [
              0.1111111111111111,
              "#46039f"
             ],
             [
              0.2222222222222222,
              "#7201a8"
             ],
             [
              0.3333333333333333,
              "#9c179e"
             ],
             [
              0.4444444444444444,
              "#bd3786"
             ],
             [
              0.5555555555555556,
              "#d8576b"
             ],
             [
              0.6666666666666666,
              "#ed7953"
             ],
             [
              0.7777777777777778,
              "#fb9f3a"
             ],
             [
              0.8888888888888888,
              "#fdca26"
             ],
             [
              1,
              "#f0f921"
             ]
            ],
            "type": "histogram2dcontour"
           }
          ],
          "mesh3d": [
           {
            "colorbar": {
             "outlinewidth": 0,
             "ticks": ""
            },
            "type": "mesh3d"
           }
          ],
          "parcoords": [
           {
            "line": {
             "colorbar": {
              "outlinewidth": 0,
              "ticks": ""
             }
            },
            "type": "parcoords"
           }
          ],
          "pie": [
           {
            "automargin": true,
            "type": "pie"
           }
          ],
          "scatter": [
           {
            "fillpattern": {
             "fillmode": "overlay",
             "size": 10,
             "solidity": 0.2
            },
            "type": "scatter"
           }
          ],
          "scatter3d": [
           {
            "line": {
             "colorbar": {
              "outlinewidth": 0,
              "ticks": ""
             }
            },
            "marker": {
             "colorbar": {
              "outlinewidth": 0,
              "ticks": ""
             }
            },
            "type": "scatter3d"
           }
          ],
          "scattercarpet": [
           {
            "marker": {
             "colorbar": {
              "outlinewidth": 0,
              "ticks": ""
             }
            },
            "type": "scattercarpet"
           }
          ],
          "scattergeo": [
           {
            "marker": {
             "colorbar": {
              "outlinewidth": 0,
              "ticks": ""
             }
            },
            "type": "scattergeo"
           }
          ],
          "scattergl": [
           {
            "marker": {
             "colorbar": {
              "outlinewidth": 0,
              "ticks": ""
             }
            },
            "type": "scattergl"
           }
          ],
          "scattermap": [
           {
            "marker": {
             "colorbar": {
              "outlinewidth": 0,
              "ticks": ""
             }
            },
            "type": "scattermap"
           }
          ],
          "scattermapbox": [
           {
            "marker": {
             "colorbar": {
              "outlinewidth": 0,
              "ticks": ""
             }
            },
            "type": "scattermapbox"
           }
          ],
          "scatterpolar": [
           {
            "marker": {
             "colorbar": {
              "outlinewidth": 0,
              "ticks": ""
             }
            },
            "type": "scatterpolar"
           }
          ],
          "scatterpolargl": [
           {
            "marker": {
             "colorbar": {
              "outlinewidth": 0,
              "ticks": ""
             }
            },
            "type": "scatterpolargl"
           }
          ],
          "scatterternary": [
           {
            "marker": {
             "colorbar": {
              "outlinewidth": 0,
              "ticks": ""
             }
            },
            "type": "scatterternary"
           }
          ],
          "surface": [
           {
            "colorbar": {
             "outlinewidth": 0,
             "ticks": ""
            },
            "colorscale": [
             [
              0,
              "#0d0887"
             ],
             [
              0.1111111111111111,
              "#46039f"
             ],
             [
              0.2222222222222222,
              "#7201a8"
             ],
             [
              0.3333333333333333,
              "#9c179e"
             ],
             [
              0.4444444444444444,
              "#bd3786"
             ],
             [
              0.5555555555555556,
              "#d8576b"
             ],
             [
              0.6666666666666666,
              "#ed7953"
             ],
             [
              0.7777777777777778,
              "#fb9f3a"
             ],
             [
              0.8888888888888888,
              "#fdca26"
             ],
             [
              1,
              "#f0f921"
             ]
            ],
            "type": "surface"
           }
          ],
          "table": [
           {
            "cells": {
             "fill": {
              "color": "#EBF0F8"
             },
             "line": {
              "color": "white"
             }
            },
            "header": {
             "fill": {
              "color": "#C8D4E3"
             },
             "line": {
              "color": "white"
             }
            },
            "type": "table"
           }
          ]
         },
         "layout": {
          "annotationdefaults": {
           "arrowcolor": "#2a3f5f",
           "arrowhead": 0,
           "arrowwidth": 1
          },
          "autotypenumbers": "strict",
          "coloraxis": {
           "colorbar": {
            "outlinewidth": 0,
            "ticks": ""
           }
          },
          "colorscale": {
           "diverging": [
            [
             0,
             "#8e0152"
            ],
            [
             0.1,
             "#c51b7d"
            ],
            [
             0.2,
             "#de77ae"
            ],
            [
             0.3,
             "#f1b6da"
            ],
            [
             0.4,
             "#fde0ef"
            ],
            [
             0.5,
             "#f7f7f7"
            ],
            [
             0.6,
             "#e6f5d0"
            ],
            [
             0.7,
             "#b8e186"
            ],
            [
             0.8,
             "#7fbc41"
            ],
            [
             0.9,
             "#4d9221"
            ],
            [
             1,
             "#276419"
            ]
           ],
           "sequential": [
            [
             0,
             "#0d0887"
            ],
            [
             0.1111111111111111,
             "#46039f"
            ],
            [
             0.2222222222222222,
             "#7201a8"
            ],
            [
             0.3333333333333333,
             "#9c179e"
            ],
            [
             0.4444444444444444,
             "#bd3786"
            ],
            [
             0.5555555555555556,
             "#d8576b"
            ],
            [
             0.6666666666666666,
             "#ed7953"
            ],
            [
             0.7777777777777778,
             "#fb9f3a"
            ],
            [
             0.8888888888888888,
             "#fdca26"
            ],
            [
             1,
             "#f0f921"
            ]
           ],
           "sequentialminus": [
            [
             0,
             "#0d0887"
            ],
            [
             0.1111111111111111,
             "#46039f"
            ],
            [
             0.2222222222222222,
             "#7201a8"
            ],
            [
             0.3333333333333333,
             "#9c179e"
            ],
            [
             0.4444444444444444,
             "#bd3786"
            ],
            [
             0.5555555555555556,
             "#d8576b"
            ],
            [
             0.6666666666666666,
             "#ed7953"
            ],
            [
             0.7777777777777778,
             "#fb9f3a"
            ],
            [
             0.8888888888888888,
             "#fdca26"
            ],
            [
             1,
             "#f0f921"
            ]
           ]
          },
          "colorway": [
           "#636efa",
           "#EF553B",
           "#00cc96",
           "#ab63fa",
           "#FFA15A",
           "#19d3f3",
           "#FF6692",
           "#B6E880",
           "#FF97FF",
           "#FECB52"
          ],
          "font": {
           "color": "#2a3f5f"
          },
          "geo": {
           "bgcolor": "white",
           "lakecolor": "white",
           "landcolor": "#E5ECF6",
           "showlakes": true,
           "showland": true,
           "subunitcolor": "white"
          },
          "hoverlabel": {
           "align": "left"
          },
          "hovermode": "closest",
          "mapbox": {
           "style": "light"
          },
          "paper_bgcolor": "white",
          "plot_bgcolor": "#E5ECF6",
          "polar": {
           "angularaxis": {
            "gridcolor": "white",
            "linecolor": "white",
            "ticks": ""
           },
           "bgcolor": "#E5ECF6",
           "radialaxis": {
            "gridcolor": "white",
            "linecolor": "white",
            "ticks": ""
           }
          },
          "scene": {
           "xaxis": {
            "backgroundcolor": "#E5ECF6",
            "gridcolor": "white",
            "gridwidth": 2,
            "linecolor": "white",
            "showbackground": true,
            "ticks": "",
            "zerolinecolor": "white"
           },
           "yaxis": {
            "backgroundcolor": "#E5ECF6",
            "gridcolor": "white",
            "gridwidth": 2,
            "linecolor": "white",
            "showbackground": true,
            "ticks": "",
            "zerolinecolor": "white"
           },
           "zaxis": {
            "backgroundcolor": "#E5ECF6",
            "gridcolor": "white",
            "gridwidth": 2,
            "linecolor": "white",
            "showbackground": true,
            "ticks": "",
            "zerolinecolor": "white"
           }
          },
          "shapedefaults": {
           "line": {
            "color": "#2a3f5f"
           }
          },
          "ternary": {
           "aaxis": {
            "gridcolor": "white",
            "linecolor": "white",
            "ticks": ""
           },
           "baxis": {
            "gridcolor": "white",
            "linecolor": "white",
            "ticks": ""
           },
           "bgcolor": "#E5ECF6",
           "caxis": {
            "gridcolor": "white",
            "linecolor": "white",
            "ticks": ""
           }
          },
          "title": {
           "x": 0.05
          },
          "xaxis": {
           "automargin": true,
           "gridcolor": "white",
           "linecolor": "white",
           "ticks": "",
           "title": {
            "standoff": 15
           },
           "zerolinecolor": "white",
           "zerolinewidth": 2
          },
          "yaxis": {
           "automargin": true,
           "gridcolor": "white",
           "linecolor": "white",
           "ticks": "",
           "title": {
            "standoff": 15
           },
           "zerolinecolor": "white",
           "zerolinewidth": 2
          }
         }
        },
        "title": {
         "text": "Quantity of Energy Dispatched over Time Steps"
        },
        "xaxis": {
         "title": {
          "text": "Time Step"
         }
        },
        "yaxis": {
         "title": {
          "text": "Q (Mwh)"
         }
        }
       }
      }
     },
     "metadata": {},
     "output_type": "display_data"
    }
   ],
   "source": [
    "import plotly.graph_objs as go\n",
    "\n",
    "fig = go.Figure()\n",
    "\n",
    "import plotly.graph_objects as go\n",
    "\n",
    "fig = go.Figure()\n",
    "\n",
    "\n",
    "\n",
    "fig.add_trace(go.Scatter(y=q_s, mode='lines', name='Solar Dispatch', line=dict(color='green')))\n",
    "fig.add_trace(go.Scatter(y=q_b, mode='lines', name='Battery Dispatch', line=dict(color='red')))\n",
    "fig.add_trace(go.Scatter(y=q_u, mode='lines', name='Utility Dispatch', line=dict(color='purple')))\n",
    "fig.add_trace(go.Scatter(y=q_d, mode='lines', name='Total Demand', line=dict(color='blue')))\n",
    "fig.add_trace(go.Scatter(y=C, mode='lines', name='Total Charge (C)'))\n",
    "fig.add_trace(go.Scatter(y=s_t, mode='lines', name='Solar Supply', line=dict(color='gold', dash='dash')))\n",
    "\n",
    "\n",
    "fig.update_layout(\n",
    "    title='Quantity of Energy Dispatched over Time Steps',\n",
    "    xaxis_title='Time Step',\n",
    "    yaxis_title='Q (Mwh)'\n",
    ")\n",
    "fig.show()\n"
   ]
  },
  {
   "cell_type": "code",
   "execution_count": 65,
   "id": "cbc3592e",
   "metadata": {},
   "outputs": [
    {
     "name": "stdout",
     "output_type": "stream",
     "text": [
      "p*=0.00, q_d=100.00, q_s=110.00, q_b=10.00, q_u=0.00\n",
      "-1.9999999999999996\n"
     ]
    }
   ],
   "source": [
    "import numpy as np\n",
    "\n",
    "def equilibrium_with_battery_offer(\n",
    "    s_t: float,\n",
    "    q_b_offer: float,\n",
    "    v_max: float,\n",
    "    q_max: float,\n",
    "    c_u: float,\n",
    "    q_u_max: float\n",
    "):\n",
    "    \"\"\"\n",
    "    Compute equilibrium price/quantities given:\n",
    "      - solar supply at price 0: s_t\n",
    "      - battery supply at price 0: q_b_offer\n",
    "      - utility supply at price c_u: capacity q_u_max\n",
    "      - linear inverse‐demand v(q)=v_max*(1 - q/q_max)\n",
    "\n",
    "    Returns:\n",
    "      p_star, q_d, q_s, q_b, q_u\n",
    "    \"\"\"\n",
    "    # 1) total zero‐price supply\n",
    "    free_supply = s_t + q_b_offer\n",
    "\n",
    "    # 2) demand at zero price\n",
    "    q_d0 = q_max  # v(0)=v_max>0 ⇒ q at p=0 is q_max\n",
    "\n",
    "    # 3) if demand <= free_supply, clear at p=0\n",
    "    if q_d0 <= free_supply:\n",
    "        q_d = q_d0\n",
    "        p_star = 0.0\n",
    "        # allocate: solar up to its capacity\n",
    "        q_s = min(s_t, q_d)\n",
    "        q_b = q_d - q_s\n",
    "        q_u = 0.0\n",
    "        return p_star, q_d, q_s, q_b, q_u\n",
    "\n",
    "    # 4) check whether the marginal value at free_supply is below c_u\n",
    "    #    if so, price remains 0 but quantity = free_supply\n",
    "    v_at_free = v_max * (1 - free_supply / q_max)\n",
    "    if v_at_free < c_u:\n",
    "        q_d = free_supply\n",
    "        p_star = 0.0\n",
    "        q_s = s_t\n",
    "        q_b = q_b_offer\n",
    "        q_u = 0.0\n",
    "        return p_star, q_d, q_s, q_b, q_u\n",
    "\n",
    "    # 5) otherwise bring utility online at cost c_u\n",
    "    #    demand at p=c_u\n",
    "    q_d_cu = q_max * (1 - c_u / v_max)\n",
    "    total_capacity = free_supply + q_u_max\n",
    "\n",
    "    # 5a) if that demand exceeds total capacity, capacity‐constrained\n",
    "    if q_d_cu > total_capacity:\n",
    "        q_d = total_capacity\n",
    "        p_star = v_max * (1 - q_d / q_max)\n",
    "    else:\n",
    "        q_d = q_d_cu\n",
    "        p_star = c_u\n",
    "\n",
    "    # 6) allocate across sources in dispatch order\n",
    "    #    solar first, then battery, then utility\n",
    "    remaining = q_d\n",
    "    q_s = min(s_t, remaining)\n",
    "    remaining -= q_s\n",
    "\n",
    "    q_b = min(q_b_offer, remaining)\n",
    "    remaining -= q_b\n",
    "\n",
    "    q_u = min(q_u_max, remaining)\n",
    "    remaining -= q_u\n",
    "\n",
    "    # remaining should be ~0\n",
    "    return p_star, q_d, q_s, q_b, q_u\n",
    "\n",
    "\n",
    "def equilibrium_with_battery_bid(\n",
    "    s_t: float,\n",
    "    q_b_bid: float,\n",
    "    v_max: float,\n",
    "    q_max: float,\n",
    "    c_u: float,\n",
    "    q_u_max: float\n",
    "):\n",
    "    \"\"\"\n",
    "    Supply stack:\n",
    "      1) Solar at p=0, capacity s_t\n",
    "      2) Utility at p=c_u, capacity q_u_max\n",
    "\n",
    "    Demand:\n",
    "      1) Battery bids q_b_bid at p=0 (charges only if price=0 and solar > consumer)\n",
    "      2) Consumers with inverse‐demand v(q)=v_max*(1 - q/q_max)\n",
    "\n",
    "    Returns:\n",
    "      p_star : equilibrium price\n",
    "      q_d    : consumer quantity\n",
    "      q_s    : solar dispatched\n",
    "      q_b    : battery charged (bid filled)\n",
    "      q_u    : utility dispatched\n",
    "    \"\"\"\n",
    "    # Consumer demand at zero price\n",
    "    q_d0 = q_max  # since v(q)=0 => q=q_max\n",
    "    \n",
    "    # 1) Check if market clears at p=0 on solar alone:\n",
    "    if s_t >= q_d0:\n",
    "        # Solar > consumer demand: price=0, consumers get q_max, battery fills from excess\n",
    "        p_star = 0.0\n",
    "        q_d = q_d0\n",
    "        # battery charges only from leftover solar\n",
    "        q_b = min(q_b_bid, s_t - q_d)\n",
    "        q_s = q_d + q_b \n",
    "\n",
    "        q_u = 0.0\n",
    "        return p_star, q_d, q_s, q_b, q_u\n",
    "\n",
    "    # 2) Check if solar alone is binding but consumers' marginal value at s_t is below utility cost:\n",
    "    #    v(s_t) < c_u ⇒ no one pays c_u, so price still 0, consumers get only solar, battery can't charge\n",
    "    v_at_solar = v_max * (1 - s_t / q_max)\n",
    "    if v_at_solar < c_u:\n",
    "        p_star = 0.0\n",
    "        q_d = s_t\n",
    "        q_s = s_t\n",
    "        q_b = 0.0        # no excess to charge into battery\n",
    "        q_u = 0.0\n",
    "        return p_star, q_d, q_s, q_b, q_u\n",
    "\n",
    "    # 3) Otherwise utility steps in at p=c_u\n",
    "    #    Find consumers' demand at that price\n",
    "    q_d_cu = q_max * (1 - c_u / v_max)\n",
    "    total_capacity = s_t + q_u_max\n",
    "\n",
    "    # 3a) If demand > total capacity, clear at choke price > c_u\n",
    "    if q_d_cu > total_capacity:\n",
    "        q_d = total_capacity\n",
    "        p_star = v_max * (1 - q_d / q_max)\n",
    "    else:\n",
    "        # clear at utility price\n",
    "        q_d = q_d_cu\n",
    "        p_star = c_u\n",
    "\n",
    "    # 4) Allocate dispatch:\n",
    "    #    solar first (always price=0), then utility (battery can't charge at p>0)\n",
    "    remaining = q_d\n",
    "    q_s = min(s_t, remaining)\n",
    "    remaining -= q_s\n",
    "\n",
    "    q_b = 0.0     # battery bid only fills at p=0\n",
    "    q_u = min(q_u_max, remaining)\n",
    "    remaining -= q_u\n",
    "\n",
    "    return p_star, q_d, q_s, q_b, q_u\n",
    "\n",
    "\n",
    "# # Example\n",
    "# if __name__ == \"__main__\":\n",
    "#     s_t        = 50.0   # solar\n",
    "#     q_b_bid    = 20.0   # battery bid at p=0\n",
    "#     v_max, q_max = 10.0, 100.0\n",
    "#     c_u, q_u_max = 5.0,  40.0\n",
    "\n",
    "#     p_star, q_d, q_s, q_b, q_u = equilibrium_with_battery_bid(\n",
    "#         s_t, q_b_bid, v_max, q_max, c_u, q_u_max\n",
    "#     )\n",
    "#     print(f\"p*={p_star:.2f}, consumers={q_d:.2f}, solar={q_s:.2f}, battery_buy={q_b:.2f}, utility={q_u:.2f}\")\n",
    "\n",
    "\n",
    "# Example usage:\n",
    "if __name__ == \"__main__\":\n",
    "    s_t        = 115 # solar\n",
    "    q_b_offer  = 10.0    # battery offer\n",
    "    q_b_bid = 10\n",
    "    v_max, q_max = 10.0, 100.0\n",
    "    c_u, q_u_max = 5.0,  100\n",
    "\n",
    "    p_star, q_d, q_s, q_b, q_u = equilibrium_with_battery_offer(\n",
    "        s_t, q_b_offer, v_max, q_max, c_u, q_u_max\n",
    "    )\n",
    "\n",
    "    p_star, q_d, q_s, q_b, q_u = equilibrium_with_battery_bid(\n",
    "        s_t, q_b_bid, v_max, q_max, c_u, q_u_max\n",
    "    )\n",
    "    print(f\"p*={p_star:.2f}, q_d={q_d:.2f}, q_s={q_s:.2f}, q_b={q_b:.2f}, q_u={q_u:.2f}\")\n",
    "    v = v_max*(1- (q_b + q_s)/q_max)\n",
    "    print(v)\n"
   ]
  },
  {
   "cell_type": "code",
   "execution_count": 67,
   "id": "5e277326",
   "metadata": {},
   "outputs": [],
   "source": [
    "from itertools import product\n",
    "import numpy as np\n",
    "import pandas as pd"
   ]
  },
  {
   "cell_type": "code",
   "execution_count": 134,
   "id": "59de993a",
   "metadata": {},
   "outputs": [
    {
     "data": {
      "text/plain": [
       "v_max                                                                   10\n",
       "q_max                                                                   10\n",
       "c_u                                                                      5\n",
       "q_u_max                                                                 10\n",
       "C_max                                                                    5\n",
       "C_init                                                                   1\n",
       "q_b_max                                                                  1\n",
       "mean_pmax                                                                5\n",
       "std_pmax                                                               0.0\n",
       "prices                   [5.0, 5.0, 5.0, 5.0, 5.0, 5.0, 5.0, 5.0, 5.0, ...\n",
       "socs                     [1, 1.0, 1.0, 1.0, 1.0, 1.0, 1.0, 1.0, 1.0, 1....\n",
       "q_s                      [0.0, 0.0, 0.0, 0.0, 0.0, 0.0, 3.0616169978683...\n",
       "q_b                      [-0.0, -0.0, -0.0, -0.0, -0.0, -0.0, -0.0, -0....\n",
       "q_u                      [5.0, 5.0, 5.0, 5.0, 5.0, 5.0, 5.0, 3.88739533...\n",
       "q_d                      [5.0, 5.0, 5.0, 5.0, 5.0, 5.0, 5.0, 5.0, 5.0, ...\n",
       "surplus_battery_ts       [-0.0, -0.0, -0.0, -0.0, -0.0, -0.0, -0.0, -0....\n",
       "surplus_utility_ts       [0.0, 0.0, 0.0, 0.0, 0.0, 0.0, 0.0, 0.0, 0.0, ...\n",
       "surplus_demand_ts        [12.5, 12.5, 12.5, 12.5, 12.5, 12.5, 12.5, 12....\n",
       "surplus_total_ts         [12.5, 12.5, 12.5, 12.5, 12.5, 12.5, 12.500000...\n",
       "total_surplus_battery                                                  5.0\n",
       "total_surplus_utility                                                  0.0\n",
       "total_surplus_demand                                                2112.5\n",
       "total_surplus_all                                              3670.667958\n",
       "Name: 0, dtype: object"
      ]
     },
     "execution_count": 134,
     "metadata": {},
     "output_type": "execute_result"
    }
   ],
   "source": [
    "sim_df.iloc[0]"
   ]
  },
  {
   "cell_type": "code",
   "execution_count": 135,
   "id": "f241a105",
   "metadata": {},
   "outputs": [],
   "source": [
    "days = 7\n",
    "T = 24 * days \n",
    "v_max = 10\n",
    "q_max = 10\n",
    "c_u = 5\n",
    "q_u_max = q_max\n",
    "C_init = 1\n",
    "C_final = 1\n",
    "C_max = 5\n",
    "\n",
    "C_max_grid = np.arange(5, 21)\n",
    "mean_pmax_grid = np.arange(5, 21)\n",
    "std_pmax_grid = np.arange(1, 6)\n",
    "# Predefine sunrise/sunset if needed\n",
    "sunrise = 6\n",
    "sunset = 20\n",
    "\n",
    "\n",
    "C_grid = np.linspace(0, C_max, C_max +1)      # SOC: 0, 1, ..., 10\n",
    "q_b_grid = np.linspace(-10, 10, 21)    # Battery dispatch: -5, -4, ..., 5\n",
    "q_b_grid = np.linspace(-3, 3, 2*3 +1 ) \n",
    "q_b_grid = np.arange(-1, 2, 1) \n",
    "\n",
    "# Error tolerance: half your grid spacing\n",
    "#atol = (C_grid[1] - C_grid[0]) / 2   # e.g., 0.25 if grid step is 0.5\n",
    "atol = 0\n",
    "beta = 1 \n",
    "mean_pmax = 5\n",
    "std_pmax = 0\n",
    "\n",
    "solar_gen_profile, _ = generate_nday_solar(\n",
    "    sunrise, sunset, mean_pmax, std_pmax=std_pmax, days=days\n",
    ")\n",
    "s_t = np.array(solar_gen_profile)\n",
    "\n",
    "V = np.zeros((len(C_grid), T+1))\n",
    "P = np.zeros_like(V)\n",
    "QS = np.zeros_like(V)\n",
    "QB = np.zeros_like(V)\n",
    "QU = np.zeros_like(V)\n",
    "\n",
    "# Terminal constraint (battery returns to initial state)\n",
    "V[:, T] = -np.inf\n",
    "i_init = np.searchsorted(C_grid, C_init)\n",
    "V[i_init, T] = 0\n",
    "\n",
    "\n",
    "for t in reversed(range(T)):\n",
    "    solar = s_t[t]\n",
    "    for i, C in enumerate(C_grid):\n",
    "        best = -np.inf\n",
    "        bp = bqs = bqb = bqu = 0.0\n",
    "\n",
    "        for q_b_val in q_b_grid:\n",
    "            C_next = C - q_b_val\n",
    "            \n",
    "            # Ensure C_next is exactly at C_init when at final step (t = T-1)\n",
    "            if t == T - 1 and not np.isclose(C_next, C_init, atol=atol):\n",
    "                continue\n",
    "            \n",
    "            # ensure state is within bounds for all other time steps\n",
    "            if not (0 <= C_next <= C_max):\n",
    "                continue\n",
    "\n",
    "            if q_b_val < 0:\n",
    "                p_star, q_d, q_s, q_b_ex, q_u = equilibrium_with_battery_bid(\n",
    "                    solar, -q_b_val, v_max, q_max, c_u, q_u_max\n",
    "                )\n",
    "                q_b = -q_b_ex\n",
    "                \n",
    "            else:\n",
    "                p_star, q_d, q_s, q_b_ex, q_u = equilibrium_with_battery_offer(\n",
    "                    solar, q_b_val, v_max, q_max, c_u, q_u_max\n",
    "                )\n",
    "                q_b = q_b_ex\n",
    "\n",
    "            inst = p_star * q_b_ex\n",
    "\n",
    "            idx = np.searchsorted(C_grid, C_next)\n",
    "            idx = min(max(idx, 0), len(C_grid)-1)\n",
    "\n",
    "            val = inst + beta * V[idx, t+1]\n",
    "\n",
    "            if val > best:\n",
    "                best = val\n",
    "                bp, bqs, bqb, bqu = p_star, q_s, q_b, q_u\n",
    "\n",
    "        V[i, t] = best\n",
    "        P[i, t], QS[i, t], QB[i, t], QU[i, t] = bp, bqs, bqb, bqu\n",
    "\n",
    "\n",
    "\n"
   ]
  },
  {
   "cell_type": "code",
   "execution_count": 69,
   "id": "1178ecf6",
   "metadata": {},
   "outputs": [],
   "source": [
    "import numpy as np\n",
    "import pandas as pd\n",
    "from itertools import product"
   ]
  },
  {
   "cell_type": "code",
   "execution_count": null,
   "id": "d63ea690",
   "metadata": {},
   "outputs": [],
   "source": [
    "\n",
    "\n",
    "# Parameter ranges\n",
    "C_max_grid = [5,10,15,20]        # C_max: 5..20\n",
    "mean_pmax_grid = [5,10,15,20]# mean_pmax: 5..20\n",
    "std_pmax_grid = [0]    # std_pmax: 1..5\n",
    "days = 7\n",
    "T = 24 * days\n",
    "sunrise = 6\n",
    "sunset = 20\n",
    "\n",
    "results = []\n",
    "period_rows = []\n",
    "\n",
    "for C_max in C_max_grid:\n",
    "    # For each C_max, C_init ranges from 0 up to C_max (inclusive)\n",
    "    C_init_grid = np.arange(0, C_max + 1)\n",
    "    # For each C_max, q_b_max ranges from 1 up to C_max (inclusive)\n",
    "    q_b_max_grid = np.arange(1, C_max + 1)\n",
    "\n",
    "    for C_init, q_b_max, mean_pmax, std_pmax in product(\n",
    "        C_init_grid, q_b_max_grid, mean_pmax_grid, std_pmax_grid\n",
    "    ):\n",
    "        # Setup grids\n",
    "        C_grid = np.arange(0, C_max + 1) #integer \n",
    "        q_b_grid = np.arange(-q_b_max, q_b_max + 1) #integer \n",
    "\n",
    "        # Solar generation\n",
    "        solar_gen_profile, _ = generate_nday_solar(\n",
    "            sunrise, sunset, mean_pmax, std_pmax, days=days\n",
    "        )\n",
    "        s_t = np.array(solar_gen_profile[:T])\n",
    "\n",
    "        # Initialize value function arrays\n",
    "        V = np.zeros((len(C_grid), T+1))\n",
    "        P = np.zeros_like(V)\n",
    "        QS = np.zeros_like(V)\n",
    "        QB = np.zeros_like(V)\n",
    "        QU = np.zeros_like(V)\n",
    "\n",
    "        # Terminal constraint: return to initial SOC\n",
    "        V[:, T] = -np.inf\n",
    "        i_init = np.searchsorted(C_grid, C_init)\n",
    "        V[i_init, T] = 0\n",
    "\n",
    "        # Value function iteration loop (same as before)\n",
    "        for t in reversed(range(T)):\n",
    "            solar = s_t[t]\n",
    "            for i, C in enumerate(C_grid):\n",
    "                best = -np.inf\n",
    "                bp = bqs = bqb = bqu = 0.0\n",
    "                for q_b_val in q_b_grid:\n",
    "                    C_next = C - q_b_val\n",
    "                    if t == T - 1 and not np.isclose(C_next, C_init, atol=0):\n",
    "                        continue\n",
    "                    if not (0 <= C_next <= C_max):\n",
    "                        continue\n",
    "\n",
    "                    # Insert your equilibrium functions here!\n",
    "                    p_star, q_d, q_s, q_b_ex, q_u = 0, 0, 0, 0, 0  # TODO\n",
    "\n",
    "                    inst = p_star * q_b_ex\n",
    "                    idx = np.searchsorted(C_grid, C_next)\n",
    "                    idx = min(max(idx, 0), len(C_grid)-1)\n",
    "                    val = inst + V[idx, t+1]\n",
    "                    if val > best:\n",
    "                        best = val\n",
    "                        bp, bqs, bqb, bqu = p_star, q_s, q_b_ex, q_u\n",
    "                V[i, t] = best\n",
    "                P[i, t], QS[i, t], QB[i, t], QU[i, t] = bp, bqs, bqb, bqu\n",
    "\n",
    "        # Forward pass for optimal policy\n",
    "        i = i_init\n",
    "        C = C_init\n",
    "        prices = []\n",
    "        socs = []\n",
    "        q_s_list = []\n",
    "        q_b_list = []\n",
    "        q_u_list = []\n",
    "        q_d_list = []\n",
    "        surplus_battery = []\n",
    "        surplus_utility = []\n",
    "        surplus_solar = []\n",
    "        surplus_demand = []\n",
    "        surplus_total = []\n",
    "\n",
    "        for t in range(T):\n",
    "            socs.append(C)\n",
    "            prices.append(P[i, t])\n",
    "            q_s_list.append(QS[i, t])\n",
    "            q_b_list.append(QB[i, t])\n",
    "            q_u_list.append(QU[i, t])\n",
    "\n",
    "            #Determining Demand \n",
    "            p = P[i,t] #current price\n",
    "            q_d = q_max*(1-p/v_max)\n",
    "            q_d_list.append(q_d)\n",
    "\n",
    "            # Surplus calculations \n",
    "            surplus_battery.append(P[i, t] * QB[i, t])  \n",
    "            surplus_solar.append(P[i, t] * QS[i, t])   \n",
    "            surplus_utility.append((P[i, t] - c_u) * QS[i, t])  \n",
    "            surplus_demand.append(v_max * q_d - (v_max / (2 * q_max)) * q_d**2 - p * q_d)                  \n",
    "            surplus_total.append(surplus_battery[-1] + surplus_utility[-1] + surplus_demand[-1] + surplus_solar[-1])\n",
    "\n",
    "            #Advance to next state \n",
    "            C = C - QB[i, t]\n",
    "            i = np.searchsorted(C_grid, C)\n",
    "            i = min(max(i, 0), len(C_grid)-1)\n",
    "\n",
    "        #Ensure a closed loop, the first period T=0 matches the final period T+1\n",
    "        socs.append(C)\n",
    "        prices.append(prices[0])\n",
    "        q_s_list.append(q_s_list[0])\n",
    "        q_b_list.append(q_b_list[0])\n",
    "        q_u_list.append(q_u_list[0])\n",
    "\n",
    "        q_d_list.append(q_d_list[0])\n",
    "        # Surplus calculations \n",
    "        surplus_battery.append(surplus_battery[0])  \n",
    "        surplus_solar.append(surplus_solar[0])   \n",
    "        surplus_utility.append(surplus_utility[0])  \n",
    "        surplus_demand.append(surplus_demand[0])                  \n",
    "        surplus_total.append(surplus_battery[0] + surplus_utility[0] + surplus_demand[0] + surplus_solar[0])\n",
    "\n",
    "        for t in range(T + 1): #Extra period for the closed loop \n",
    "            period_rows.append({\n",
    "                'C_max': C_max,\n",
    "                'C_init': C_init,\n",
    "                'q_b_max': q_b_max,\n",
    "                'mean_pmax': mean_pmax,\n",
    "                'std_pmax': std_pmax,\n",
    "                'period': t,\n",
    "                'price': prices[t],\n",
    "                'soc': socs[t],\n",
    "                'q_s': q_s_list[t],\n",
    "                'q_b': q_b_list[t],\n",
    "                'q_u': q_u_list[t],\n",
    "                'surplus_battery': surplus_battery[t],\n",
    "                'surplus_utility': surplus_utility[t],\n",
    "                'surplus_demand': surplus_demand[t],\n",
    "                'surplus_total': surplus_total[t]\n",
    "            })\n",
    "\n",
    "\n",
    "        results.append({\n",
    "            'C_max': C_max,\n",
    "            'C_init': C_init,\n",
    "            'q_b_max': q_b_max,\n",
    "            'mean_pmax': mean_pmax,\n",
    "            'std_pmax': std_pmax,\n",
    "            'prices': prices,\n",
    "            'socs': socs,\n",
    "            'q_s': q_s_list,\n",
    "            'q_b': q_b_list,\n",
    "            'q_u': q_u_list,\n",
    "            'surplus_battery_ts': surplus_battery,\n",
    "            'surplus_utility_ts': surplus_utility,\n",
    "            'surplus_demand_ts': surplus_demand,\n",
    "            'surplus_total_ts': surplus_total,\n",
    "            'total_surplus_battery': sum(surplus_battery),\n",
    "            'total_surplus_utility': sum(surplus_utility),\n",
    "            'total_surplus_demand': sum(surplus_demand),\n",
    "            'total_surplus_all': sum(surplus_total)\n",
    "        })\n",
    "\n",
    "\n",
    "# At the end, after all runs:\n",
    "df_summary = pd.DataFrame(results)\n",
    "df_period = pd.DataFrame(period_rows)\n",
    "\n"
   ]
  },
  {
   "cell_type": "code",
   "execution_count": null,
   "id": "c2087030",
   "metadata": {},
   "outputs": [
    {
     "name": "stdout",
     "output_type": "stream",
     "text": [
      "[ 0  5 10]\n",
      "[1, 5, 10]\n",
      "108\n",
      "[ 0  5 10 15]\n",
      "[1, 5, 10, 15]\n",
      "1728\n",
      "[ 0  5 10 15 20]\n",
      "[1, 5, 10, 15, 20]\n",
      "43200\n"
     ]
    }
   ],
   "source": [
    "# Parameter ranges\n",
    "C_max_grid = [10,15,20]        # C_max: 5..20\n",
    "mean_pmax_grid = [5,10,15,20]# mean_pmax: 5..20\n",
    "prod = len(C_max_grid)*len(mean_pmax_grid)\n",
    "\n",
    "for C_max in C_max_grid:\n",
    "    # For each C_max, C_init ranges from 0 up to C_max (inclusive)\n",
    "    C_init_grid = np.arange(0, C_max + 1,5)\n",
    "    print(C_init_grid)\n",
    "    # For each C_max, q_b_max ranges from 1 up to C_max (inclusive)\n",
    "    q_b_max_grid = [1, *np.arange(0, C_max + 1,5)[1:]]\n",
    "    print(q_b_max_grid)\n",
    "\n",
    "    prod = prod*len(C_init_grid)*len(q_b_max_grid)\n",
    "    print(prod)\n",
    "\n"
   ]
  },
  {
   "cell_type": "code",
   "execution_count": 110,
   "id": "058a04fa",
   "metadata": {},
   "outputs": [],
   "source": [
    "import numpy as np\n",
    "import pandas as pd\n",
    "from itertools import product\n",
    "import os\n",
    "from concurrent.futures import ProcessPoolExecutor, as_completed\n",
    "\n",
    "\n",
    "# Output file paths\n",
    "summary_csv = \"simulation_summary.csv\"\n",
    "period_csv = \" .csv\"\n",
    "\n",
    "# Remove old files if present (optional)\n",
    "for fname in [summary_csv, period_csv]:\n",
    "    if os.path.exists(fname):\n",
    "        os.remove(fname)"
   ]
  },
  {
   "cell_type": "code",
   "execution_count": 111,
   "id": "77cdde33",
   "metadata": {},
   "outputs": [],
   "source": [
    "\n",
    "\n",
    "# ---- 1. Simulation function for one parameter combination ----\n",
    "def run_simulation(args):\n",
    "    (C_max, C_init, q_b_max, mean_pmax, std_pmax, days, T, sunrise, sunset) = args\n",
    "    \n",
    "    period_rows = []\n",
    "    summary_rows = []\n",
    "\n",
    "    # Setup grids\n",
    "    C_grid = np.arange(0, C_max + 1) #integer \n",
    "    q_b_grid = np.arange(-q_b_max, q_b_max + 1) #integer \n",
    "\n",
    "    # Solar generation\n",
    "    solar_gen_profile, _ = generate_nday_solar(\n",
    "        sunrise, sunset, mean_pmax, std_pmax, days=days\n",
    "    )\n",
    "    s_t = np.array(solar_gen_profile[:T])\n",
    "\n",
    "    # Initialize value function arrays\n",
    "    V = np.zeros((len(C_grid), T+1))\n",
    "    P = np.zeros_like(V)\n",
    "    QS = np.zeros_like(V)\n",
    "    QB = np.zeros_like(V)\n",
    "    QU = np.zeros_like(V)\n",
    "\n",
    "    # Terminal constraint: return to initial SOC\n",
    "    V[:, T] = -np.inf\n",
    "    i_init = np.searchsorted(C_grid, C_init)\n",
    "    V[i_init, T] = 0\n",
    "\n",
    "    # Value function iteration loop (same as before)\n",
    "    for t in reversed(range(T)):\n",
    "        solar = s_t[t]\n",
    "        for i, C in enumerate(C_grid):\n",
    "            best = -np.inf\n",
    "            bp = bqs = bqb = bqu = 0.0\n",
    "            for q_b_val in q_b_grid:\n",
    "                C_next = C - q_b_val\n",
    "                if t == T - 1 and not np.isclose(C_next, C_init, atol=0):\n",
    "                    continue\n",
    "                if not (0 <= C_next <= C_max):\n",
    "                    continue\n",
    "\n",
    "                # Insert your equilibrium functions here!\n",
    "                p_star, q_d, q_s, q_b_ex, q_u = 0, 0, 0, 0, 0  # TODO\n",
    "\n",
    "                inst = p_star * q_b_ex\n",
    "                idx = np.searchsorted(C_grid, C_next)\n",
    "                idx = min(max(idx, 0), len(C_grid)-1)\n",
    "                val = inst + V[idx, t+1]\n",
    "                if val > best:\n",
    "                    best = val\n",
    "                    bp, bqs, bqb, bqu = p_star, q_s, q_b_ex, q_u\n",
    "            V[i, t] = best\n",
    "            P[i, t], QS[i, t], QB[i, t], QU[i, t] = bp, bqs, bqb, bqu\n",
    "\n",
    "    # Forward pass for optimal policy\n",
    "    i = i_init\n",
    "    C = C_init\n",
    "    prices = []\n",
    "    socs = []\n",
    "    q_s_list = []\n",
    "    q_b_list = []\n",
    "    q_u_list = []\n",
    "    q_d_list = []\n",
    "    surplus_battery = []\n",
    "    surplus_utility = []\n",
    "    surplus_solar = []\n",
    "    surplus_demand = []\n",
    "    surplus_total = []\n",
    "\n",
    "    for t in range(T):\n",
    "        socs.append(C)\n",
    "        prices.append(P[i, t])\n",
    "        q_s_list.append(QS[i, t])\n",
    "        q_b_list.append(QB[i, t])\n",
    "        q_u_list.append(QU[i, t])\n",
    "\n",
    "        #Determining Demand \n",
    "        p = P[i,t] #current price\n",
    "        q_d = q_max*(1-p/v_max)\n",
    "        q_d_list.append(q_d)\n",
    "\n",
    "        # Surplus calculations \n",
    "        surplus_battery.append(P[i, t] * QB[i, t])  \n",
    "        surplus_solar.append(P[i, t] * QS[i, t])   \n",
    "        surplus_utility.append((P[i, t] - c_u) * QS[i, t])  \n",
    "        surplus_demand.append(v_max * q_d - (v_max / (2 * q_max)) * q_d**2 - p * q_d)                  \n",
    "        surplus_total.append(surplus_battery[-1] + surplus_utility[-1] + surplus_demand[-1] + surplus_solar[-1])\n",
    "\n",
    "        #Advance to next state \n",
    "        C = C - QB[i, t]\n",
    "        i = np.searchsorted(C_grid, C)\n",
    "        i = min(max(i, 0), len(C_grid)-1)\n",
    "\n",
    "    #Ensure a closed loop, the first period T=0 matches the final period T+1\n",
    "    socs.append(C)\n",
    "    prices.append(prices[0])\n",
    "    q_s_list.append(q_s_list[0])\n",
    "    q_b_list.append(q_b_list[0])\n",
    "    q_u_list.append(q_u_list[0])\n",
    "\n",
    "    q_d_list.append(q_d_list[0])\n",
    "    # Surplus calculations \n",
    "    surplus_battery.append(surplus_battery[0])  \n",
    "    surplus_solar.append(surplus_solar[0])   \n",
    "    surplus_utility.append(surplus_utility[0])  \n",
    "    surplus_demand.append(surplus_demand[0])                  \n",
    "    surplus_total.append(surplus_battery[0] + surplus_utility[0] + surplus_demand[0] + surplus_solar[0])\n",
    "\n",
    "\n",
    "    summary_row = {\n",
    "        'C_max': C_max,\n",
    "        'C_init': C_init,\n",
    "        'q_b_max': q_b_max,\n",
    "        'mean_pmax': mean_pmax,\n",
    "        'std_pmax': std_pmax,\n",
    "        'prices': prices,\n",
    "        'socs': socs,\n",
    "        'q_s': q_s_list,\n",
    "        'q_b': q_b_list,\n",
    "        'q_u': q_u_list,\n",
    "        'q_d': q_d_list,\n",
    "        'surplus_battery_ts': surplus_battery,\n",
    "        'surplus_utility_ts': surplus_utility,\n",
    "        'surplus_demand_ts': surplus_demand,\n",
    "        'surplus_total_ts': surplus_total,\n",
    "        'total_surplus_battery': sum(surplus_battery),\n",
    "        'total_surplus_utility': sum(surplus_utility),\n",
    "        'total_surplus_demand': sum(surplus_demand),\n",
    "        'total_surplus_all': sum(surplus_total)\n",
    "    }\n",
    "\n",
    "    for t in range(T + 1): # T+1st period loops around and is the same as first period\n",
    "        period_rows.append({\n",
    "            'C_max': C_max,\n",
    "            'C_init': C_init,\n",
    "            'q_b_max': q_b_max,\n",
    "            'mean_pmax': mean_pmax,\n",
    "            'std_pmax': std_pmax,\n",
    "            'period': t,\n",
    "            'price': prices[t],\n",
    "            'soc': socs[t],\n",
    "            'q_s': q_s_list[t],\n",
    "            'q_b': q_b_list[t],\n",
    "            'q_u': q_u_list[t],\n",
    "            'q_d': q_d_list[t],\n",
    "            'surplus_battery': surplus_battery[t],\n",
    "            'surplus_utility': surplus_utility[t],\n",
    "            'surplus_demand': surplus_demand[t],\n",
    "            'surplus_total': surplus_total[t]\n",
    "        })\n",
    "\n",
    "    return summary_row, period_rows\n",
    "\n",
    "\n",
    "\n",
    "\n",
    "\n",
    "# ---- 3. Parallel execution and CSV writing ----\n",
    "def write_csv_row(df, file, header):\n",
    "    df.to_csv(file, mode='a', index=False, header=header)\n",
    "\n",
    "\n"
   ]
  },
  {
   "cell_type": "code",
   "execution_count": 112,
   "id": "c9cbf5aa",
   "metadata": {},
   "outputs": [
    {
     "name": "stdout",
     "output_type": "stream",
     "text": [
      "Total simulations: 480\n"
     ]
    }
   ],
   "source": [
    "\n",
    "C_max_grid = [5, 10, 15, 20]\n",
    "C_init_fracs = [0.2, 0.5, 0.8]             # 20%, 50%, 80%\n",
    "q_b_max_grid = [1, 2, 3, 4, 5]\n",
    "mean_pmax_grid = [5, 10, 15, 20]\n",
    "days = 7\n",
    "T = 24 * days\n",
    "sunrise = 6\n",
    "sunset = 20\n",
    "\n",
    "param_grid = []\n",
    "for C_max in C_max_grid:\n",
    "    # For each C_max, compute all valid integer initial charges\n",
    "    C_init_grid = [int(round(C_max * frac)) for frac in C_init_fracs]\n",
    "    for C_init, q_b_max, mean_pmax in product(C_init_grid, q_b_max_grid, mean_pmax_grid):\n",
    "        std_pmax_grid = [0, mean_pmax / 2]    # For each P_max, try 0 and P_max/2\n",
    "        for std_pmax in std_pmax_grid:\n",
    "            param_grid.append(\n",
    "                (C_max, C_init, q_b_max, mean_pmax, std_pmax, days, T, sunrise, sunset)\n",
    "            )\n",
    "print(f\"Total simulations: {len(param_grid)}\")\n",
    "# You can inspect the first few rows if desired:\n",
    "# for p in param_grid[:5]: print(p) "
   ]
  },
  {
   "cell_type": "code",
   "execution_count": null,
   "id": "b48526e0",
   "metadata": {},
   "outputs": [],
   "source": [
    "from tqdm import tqdm\n",
    "import multiprocessing\n",
    "\n",
    "with ProcessPoolExecutor(max_workers=multiprocessing.cpu_count()) as executor:\n",
    "    futures = [executor.submit(run_simulation, args) for args in param_grid]\n",
    "\n",
    "    # Write headers\n",
    "    first_summary = True\n",
    "    first_period = True\n",
    "\n",
    "    for future in tqdm(as_completed(futures), total=len(futures)):\n",
    "        summary_row, period_rows = future.result()\n",
    "\n",
    "        # Write summary row\n",
    "        summary_df = pd.DataFrame([summary_row])\n",
    "        write_csv_row(summary_df, summary_csv, header=first_summary)\n",
    "        first_summary = False\n",
    "\n",
    "        # Write period rows\n",
    "        period_df = pd.DataFrame(period_rows)\n",
    "        write_csv_row(period_df, period_csv, header=first_period)\n",
    "        first_period = False\n",
    "\n",
    "print(\"All simulations complete. Results written to CSV.\")"
   ]
  },
  {
   "cell_type": "markdown",
   "id": "63368f04",
   "metadata": {},
   "source": [
    "### Potential Variations \n"
   ]
  },
  {
   "cell_type": "markdown",
   "id": "08d49749",
   "metadata": {},
   "source": [
    "Max Charge $C_{max}$ : [5,10,15,20]   \n",
    "Initial Charge : [ 20%, 50%, 80%]. (maybe 0 and max because not good for batteries)\n",
    "Abs max charge/discharge : [1,2,3,4,5]      \n",
    "Max Solar (Noon) $P_{max}$ : [5,10,15,20]    \n",
    "Std of Max Solar: [0, $\\frac{P_{max}}{2}$]  (use cumulative normal and clip values at 0, beta distribution, linear distribution) \n",
    "\n"
   ]
  },
  {
   "cell_type": "code",
   "execution_count": 285,
   "metadata": {},
   "outputs": [],
   "source": [
    "sim_df = pd.read_csv(\"/Users/nalin/Desktop/UChicago/Thesis/simulation_summary.csv\")\n"
   ]
  },
  {
   "cell_type": "code",
   "execution_count": 286,
   "id": "fc42733a",
   "metadata": {},
   "outputs": [
    {
     "data": {
      "text/html": [
       "<div>\n",
       "<style scoped>\n",
       "    .dataframe tbody tr th:only-of-type {\n",
       "        vertical-align: middle;\n",
       "    }\n",
       "\n",
       "    .dataframe tbody tr th {\n",
       "        vertical-align: top;\n",
       "    }\n",
       "\n",
       "    .dataframe thead th {\n",
       "        text-align: right;\n",
       "    }\n",
       "</style>\n",
       "<table border=\"1\" class=\"dataframe\">\n",
       "  <thead>\n",
       "    <tr style=\"text-align: right;\">\n",
       "      <th></th>\n",
       "      <th>v_max</th>\n",
       "      <th>q_max</th>\n",
       "      <th>c_u</th>\n",
       "      <th>q_u_max</th>\n",
       "      <th>beta</th>\n",
       "      <th>C_max</th>\n",
       "      <th>C_init</th>\n",
       "      <th>q_b_max</th>\n",
       "      <th>mean_pmax</th>\n",
       "      <th>std_pmax</th>\n",
       "      <th>...</th>\n",
       "      <th>surplus_battery_ts</th>\n",
       "      <th>surplus_utility_ts</th>\n",
       "      <th>surplus_demand_ts</th>\n",
       "      <th>surplus_solar_ts</th>\n",
       "      <th>surplus_total_ts</th>\n",
       "      <th>total_surplus_battery</th>\n",
       "      <th>total_surplus_solar</th>\n",
       "      <th>total_surplus_utility</th>\n",
       "      <th>total_surplus_demand</th>\n",
       "      <th>total_surplus_all</th>\n",
       "    </tr>\n",
       "  </thead>\n",
       "  <tbody>\n",
       "    <tr>\n",
       "      <th>0</th>\n",
       "      <td>10</td>\n",
       "      <td>10</td>\n",
       "      <td>5</td>\n",
       "      <td>10</td>\n",
       "      <td>1</td>\n",
       "      <td>5</td>\n",
       "      <td>1</td>\n",
       "      <td>1</td>\n",
       "      <td>5</td>\n",
       "      <td>0.0</td>\n",
       "      <td>...</td>\n",
       "      <td>[0.0, 0.0, 0.0, 0.0, 0.0, 0.0, 0.0, 0.0, 0.0, ...</td>\n",
       "      <td>[0.0, 0.0, 0.0, 0.0, 0.0, 0.0, 0.0, 0.0, 0.0, ...</td>\n",
       "      <td>[12.5, 12.5, 12.5, 12.5, 12.5, 12.5, 12.5, 12....</td>\n",
       "      <td>[0.0, 0.0, 0.0, 0.0, 0.0, 0.0, 1.5308084989341...</td>\n",
       "      <td>[12.5, 12.5, 12.5, 12.5, 12.5, 12.5, 12.500000...</td>\n",
       "      <td>0.0</td>\n",
       "      <td>1553.167958</td>\n",
       "      <td>0.0</td>\n",
       "      <td>2112.5</td>\n",
       "      <td>3665.667958</td>\n",
       "    </tr>\n",
       "    <tr>\n",
       "      <th>1</th>\n",
       "      <td>10</td>\n",
       "      <td>10</td>\n",
       "      <td>5</td>\n",
       "      <td>10</td>\n",
       "      <td>1</td>\n",
       "      <td>5</td>\n",
       "      <td>1</td>\n",
       "      <td>1</td>\n",
       "      <td>15</td>\n",
       "      <td>0.0</td>\n",
       "      <td>...</td>\n",
       "      <td>[0.0, 0.0, 0.0, 0.0, 0.0, 0.0, 0.0, 5.0, 0.0, ...</td>\n",
       "      <td>[0.0, 0.0, 0.0, 0.0, 0.0, 0.0, 0.0, 0.0, -0.0,...</td>\n",
       "      <td>[12.5, 12.5, 12.5, 12.5, 12.5, 12.5, 12.5, 12....</td>\n",
       "      <td>[0.0, 0.0, 0.0, 0.0, 0.0, 0.0, 4.5924254968025...</td>\n",
       "      <td>[12.5, 12.5, 12.5, 12.5, 12.5, 12.5, 12.500000...</td>\n",
       "      <td>175.0</td>\n",
       "      <td>233.646981</td>\n",
       "      <td>0.0</td>\n",
       "      <td>5000.0</td>\n",
       "      <td>5408.646981</td>\n",
       "    </tr>\n",
       "    <tr>\n",
       "      <th>2</th>\n",
       "      <td>10</td>\n",
       "      <td>10</td>\n",
       "      <td>5</td>\n",
       "      <td>10</td>\n",
       "      <td>1</td>\n",
       "      <td>5</td>\n",
       "      <td>1</td>\n",
       "      <td>1</td>\n",
       "      <td>10</td>\n",
       "      <td>0.0</td>\n",
       "      <td>...</td>\n",
       "      <td>[0.0, 0.0, 0.0, 0.0, 0.0, 0.0, 0.0, 0.0, 0.0, ...</td>\n",
       "      <td>[0.0, 0.0, 0.0, 0.0, 0.0, 0.0, 0.0, 0.0, 0.0, ...</td>\n",
       "      <td>[12.5, 12.5, 12.5, 12.5, 12.5, 12.5, 12.5, 12....</td>\n",
       "      <td>[0.0, 0.0, 0.0, 0.0, 0.0, 0.0, 3.0616169978683...</td>\n",
       "      <td>[12.5, 12.5, 12.5, 12.5, 12.5, 12.5, 12.500000...</td>\n",
       "      <td>0.0</td>\n",
       "      <td>459.483271</td>\n",
       "      <td>0.0</td>\n",
       "      <td>4475.0</td>\n",
       "      <td>4934.483271</td>\n",
       "    </tr>\n",
       "    <tr>\n",
       "      <th>3</th>\n",
       "      <td>10</td>\n",
       "      <td>10</td>\n",
       "      <td>5</td>\n",
       "      <td>10</td>\n",
       "      <td>1</td>\n",
       "      <td>5</td>\n",
       "      <td>1</td>\n",
       "      <td>1</td>\n",
       "      <td>10</td>\n",
       "      <td>5.0</td>\n",
       "      <td>...</td>\n",
       "      <td>[0.0, 0.0, 0.0, 0.0, 0.0, 0.0, 5.0, 0.0, 0.0, ...</td>\n",
       "      <td>[0.0, 0.0, 0.0, 0.0, 0.0, 0.0, 0.0, 0.0, -0.0,...</td>\n",
       "      <td>[12.5, 12.5, 12.5, 12.5, 12.5, 12.5, 12.5, 12....</td>\n",
       "      <td>[0.0, 0.0, 0.0, 0.0, 0.0, 0.0, 5.7620433216404...</td>\n",
       "      <td>[12.5, 12.5, 12.5, 12.5, 12.5, 12.5, 17.500000...</td>\n",
       "      <td>90.0</td>\n",
       "      <td>375.544039</td>\n",
       "      <td>0.0</td>\n",
       "      <td>4700.0</td>\n",
       "      <td>5165.544039</td>\n",
       "    </tr>\n",
       "    <tr>\n",
       "      <th>4</th>\n",
       "      <td>10</td>\n",
       "      <td>10</td>\n",
       "      <td>5</td>\n",
       "      <td>10</td>\n",
       "      <td>1</td>\n",
       "      <td>5</td>\n",
       "      <td>1</td>\n",
       "      <td>1</td>\n",
       "      <td>5</td>\n",
       "      <td>2.5</td>\n",
       "      <td>...</td>\n",
       "      <td>[0.0, 0.0, 0.0, 0.0, 0.0, 0.0, 0.0, 0.0, 0.0, ...</td>\n",
       "      <td>[0.0, 0.0, 0.0, 0.0, 0.0, 0.0, 0.0, 0.0, 0.0, ...</td>\n",
       "      <td>[12.5, 12.5, 12.5, 12.5, 12.5, 12.5, 12.5, 12....</td>\n",
       "      <td>[0.0, 0.0, 0.0, 0.0, 0.0, 0.0, 2.8810216608202...</td>\n",
       "      <td>[12.5, 12.5, 12.5, 12.5, 12.5, 12.5, 12.500000...</td>\n",
       "      <td>0.0</td>\n",
       "      <td>874.040781</td>\n",
       "      <td>0.0</td>\n",
       "      <td>3350.0</td>\n",
       "      <td>4224.040781</td>\n",
       "    </tr>\n",
       "  </tbody>\n",
       "</table>\n",
       "<p>5 rows × 27 columns</p>\n",
       "</div>"
      ],
      "text/plain": [
       "   v_max  q_max  c_u  q_u_max  beta  C_max  C_init  q_b_max  mean_pmax  \\\n",
       "0     10     10    5       10     1      5       1        1          5   \n",
       "1     10     10    5       10     1      5       1        1         15   \n",
       "2     10     10    5       10     1      5       1        1         10   \n",
       "3     10     10    5       10     1      5       1        1         10   \n",
       "4     10     10    5       10     1      5       1        1          5   \n",
       "\n",
       "   std_pmax  ...                                 surplus_battery_ts  \\\n",
       "0       0.0  ...  [0.0, 0.0, 0.0, 0.0, 0.0, 0.0, 0.0, 0.0, 0.0, ...   \n",
       "1       0.0  ...  [0.0, 0.0, 0.0, 0.0, 0.0, 0.0, 0.0, 5.0, 0.0, ...   \n",
       "2       0.0  ...  [0.0, 0.0, 0.0, 0.0, 0.0, 0.0, 0.0, 0.0, 0.0, ...   \n",
       "3       5.0  ...  [0.0, 0.0, 0.0, 0.0, 0.0, 0.0, 5.0, 0.0, 0.0, ...   \n",
       "4       2.5  ...  [0.0, 0.0, 0.0, 0.0, 0.0, 0.0, 0.0, 0.0, 0.0, ...   \n",
       "\n",
       "                                  surplus_utility_ts  \\\n",
       "0  [0.0, 0.0, 0.0, 0.0, 0.0, 0.0, 0.0, 0.0, 0.0, ...   \n",
       "1  [0.0, 0.0, 0.0, 0.0, 0.0, 0.0, 0.0, 0.0, -0.0,...   \n",
       "2  [0.0, 0.0, 0.0, 0.0, 0.0, 0.0, 0.0, 0.0, 0.0, ...   \n",
       "3  [0.0, 0.0, 0.0, 0.0, 0.0, 0.0, 0.0, 0.0, -0.0,...   \n",
       "4  [0.0, 0.0, 0.0, 0.0, 0.0, 0.0, 0.0, 0.0, 0.0, ...   \n",
       "\n",
       "                                   surplus_demand_ts  \\\n",
       "0  [12.5, 12.5, 12.5, 12.5, 12.5, 12.5, 12.5, 12....   \n",
       "1  [12.5, 12.5, 12.5, 12.5, 12.5, 12.5, 12.5, 12....   \n",
       "2  [12.5, 12.5, 12.5, 12.5, 12.5, 12.5, 12.5, 12....   \n",
       "3  [12.5, 12.5, 12.5, 12.5, 12.5, 12.5, 12.5, 12....   \n",
       "4  [12.5, 12.5, 12.5, 12.5, 12.5, 12.5, 12.5, 12....   \n",
       "\n",
       "                                    surplus_solar_ts  \\\n",
       "0  [0.0, 0.0, 0.0, 0.0, 0.0, 0.0, 1.5308084989341...   \n",
       "1  [0.0, 0.0, 0.0, 0.0, 0.0, 0.0, 4.5924254968025...   \n",
       "2  [0.0, 0.0, 0.0, 0.0, 0.0, 0.0, 3.0616169978683...   \n",
       "3  [0.0, 0.0, 0.0, 0.0, 0.0, 0.0, 5.7620433216404...   \n",
       "4  [0.0, 0.0, 0.0, 0.0, 0.0, 0.0, 2.8810216608202...   \n",
       "\n",
       "                                    surplus_total_ts total_surplus_battery  \\\n",
       "0  [12.5, 12.5, 12.5, 12.5, 12.5, 12.5, 12.500000...                   0.0   \n",
       "1  [12.5, 12.5, 12.5, 12.5, 12.5, 12.5, 12.500000...                 175.0   \n",
       "2  [12.5, 12.5, 12.5, 12.5, 12.5, 12.5, 12.500000...                   0.0   \n",
       "3  [12.5, 12.5, 12.5, 12.5, 12.5, 12.5, 17.500000...                  90.0   \n",
       "4  [12.5, 12.5, 12.5, 12.5, 12.5, 12.5, 12.500000...                   0.0   \n",
       "\n",
       "  total_surplus_solar total_surplus_utility total_surplus_demand  \\\n",
       "0         1553.167958                   0.0               2112.5   \n",
       "1          233.646981                   0.0               5000.0   \n",
       "2          459.483271                   0.0               4475.0   \n",
       "3          375.544039                   0.0               4700.0   \n",
       "4          874.040781                   0.0               3350.0   \n",
       "\n",
       "  total_surplus_all  \n",
       "0       3665.667958  \n",
       "1       5408.646981  \n",
       "2       4934.483271  \n",
       "3       5165.544039  \n",
       "4       4224.040781  \n",
       "\n",
       "[5 rows x 27 columns]"
      ]
     },
     "execution_count": 286,
     "metadata": {},
     "output_type": "execute_result"
    }
   ],
   "source": [
    "sim_df.head()"
   ]
  },
  {
   "cell_type": "code",
   "execution_count": 287,
   "id": "132875fb",
   "metadata": {},
   "outputs": [],
   "source": [
    "import plotly.graph_objects as go\n",
    "import ast\n",
    "\n",
    "def plot_summary_row(row, title_suffix=\"\"):\n",
    "    # Helper to parse the stringified lists\n",
    "    def parse(col):\n",
    "        if isinstance(col, str):\n",
    "            return ast.literal_eval(col)\n",
    "        return col  # already a list\n",
    "\n",
    "    prices = parse(row['prices'])\n",
    "    socs = parse(row['socs'])\n",
    "    q_s_list = parse(row['q_s'])\n",
    "    q_b_list = parse(row['q_b'])\n",
    "    q_u_list = parse(row['q_u'])\n",
    "    q_d_list = parse(row['q_d'])\n",
    "    # For solar supply curve, you can use q_s or supply your own s_t if you saved it.\n",
    "\n",
    "    time_index = list(range(len(prices)))\n",
    "\n",
    "    # 1. Battery Dispatch (q_b)\n",
    "    fig_battery = go.Figure()\n",
    "    fig_battery.add_trace(go.Scatter(x=time_index, y=q_b_list, mode='lines+markers', name='Battery Dispatch', line=dict(color='red')))\n",
    "    fig_battery.add_hline(y=0, line_dash=\"dash\", line_color=\"gray\")\n",
    "    fig_battery.update_layout(title=f\"Optimal Battery Dispatch{title_suffix}\", xaxis_title=\"Time\", yaxis_title=\"Battery Dispatch (q_b)\", \n",
    "                            xaxis=dict(range=[0, len(time_index)]))\n",
    "\n",
    "    # 2. Battery State of Charge (SOC)\n",
    "    fig_soc = go.Figure()\n",
    "    fig_soc.add_trace(go.Scatter(x=time_index, y=socs, mode='lines+markers', name='SOC', line=dict(color='green')))\n",
    "    fig_soc.add_hline(y=socs[0], line_dash=\"dot\", line_color=\"orange\", annotation_text=\"Initial/Final SOC\", annotation_position=\"bottom right\")\n",
    "    fig_soc.update_layout(title=f\"Battery State-of-Charge (SOC){title_suffix}\", xaxis_title=\"Time\", yaxis_title=\"SOC\",\n",
    "                          yaxis=dict(range=[0, max(prices)*1.1]))\n",
    "\n",
    "    # 3. Market Clearing Price\n",
    "    fig_price = go.Figure()\n",
    "    fig_price.add_trace(go.Scatter(x=time_index, y=prices, mode='lines+markers', name='Market Price', line=dict(color='blue')))\n",
    "    fig_price.update_layout(title=f\"Market Clearing Price{title_suffix}\", xaxis_title=\"Time\", yaxis_title=\"Price\")\n",
    "\n",
    "    # 4. Dispatch Quantities\n",
    "    fig_dispatch = go.Figure()\n",
    "    fig_dispatch.add_trace(go.Scatter(x=time_index, y=q_s_list, mode='lines', name='Solar Dispatch', line=dict(color='green')))\n",
    "    fig_dispatch.add_trace(go.Scatter(x=time_index, y=q_b_list, mode='lines', name='Battery Dispatch', line=dict(color='red')))\n",
    "    fig_dispatch.add_trace(go.Scatter(x=time_index, y=q_u_list, mode='lines', name='Utility Dispatch', line=dict(color='purple')))\n",
    "    fig_dispatch.add_trace(go.Scatter(x=time_index, y=q_d_list, mode='lines', name='Total Demand', line=dict(color='blue')))\n",
    "    # Optionally, add Solar Supply if you saved s_t\n",
    "    if 's_t' in row:\n",
    "        s_t = parse(row['s_t'])\n",
    "        fig_dispatch.add_trace(go.Scatter(x=time_index, y=s_t, mode='lines', name='Solar Supply', line=dict(color='orange', dash='dash')))\n",
    "    \n",
    "    fig_dispatch.update_layout(\n",
    "        title=f\"Dispatch and Market Quantities{title_suffix}\",\n",
    "        xaxis_title=\"Time\", yaxis_title=\"Quantity\"\n",
    "    )\n",
    "\n",
    "    return {\n",
    "        \"battery_dispatch\": fig_battery,\n",
    "        \"state_of_charge\": fig_soc,\n",
    "        \"market_price\": fig_price,\n",
    "        \"dispatch_quantities\": fig_dispatch\n",
    "    }\n",
    "\n",
    "# Usage example:\n",
    "# row = summary_df.iloc[0]\n",
    "# figs = plot_summary_row(row)\n",
    "# figs['battery_dispatch'].show()\n",
    "# figs['state_of_charge'].show()\n",
    "# figs['market_price'].show()\n",
    "# figs['dispatch_quantities'].show()\n"
   ]
  },
  {
   "cell_type": "code",
   "execution_count": 318,
   "id": "4c831008",
   "metadata": {},
   "outputs": [],
   "source": [
    "plot_dict = plot_summary_row(sim_df.iloc[452])"
   ]
  },
  {
   "cell_type": "code",
   "execution_count": 319,
   "id": "b70b480c",
   "metadata": {},
   "outputs": [
    {
     "data": {
      "text/plain": [
       "dict_keys(['battery_dispatch', 'state_of_charge', 'market_price', 'dispatch_quantities'])"
      ]
     },
     "execution_count": 319,
     "metadata": {},
     "output_type": "execute_result"
    }
   ],
   "source": [
    "plot_dict.keys()"
   ]
  },
  {
   "cell_type": "code",
   "execution_count": 320,
   "id": "5b91af6f",
   "metadata": {},
   "outputs": [
    {
     "data": {
      "application/vnd.plotly.v1+json": {
       "config": {
        "plotlyServerURL": "https://plotly.com"
       },
       "data": [
        {
         "line": {
          "color": "green"
         },
         "mode": "lines+markers",
         "name": "SOC",
         "type": "scatter",
         "x": [
          0,
          1,
          2,
          3,
          4,
          5,
          6,
          7,
          8,
          9,
          10,
          11,
          12,
          13,
          14,
          15,
          16,
          17,
          18,
          19,
          20,
          21,
          22,
          23,
          24,
          25,
          26,
          27,
          28,
          29,
          30,
          31,
          32,
          33,
          34,
          35,
          36,
          37,
          38,
          39,
          40,
          41,
          42,
          43,
          44,
          45,
          46,
          47,
          48,
          49,
          50,
          51,
          52,
          53,
          54,
          55,
          56,
          57,
          58,
          59,
          60,
          61,
          62,
          63,
          64,
          65,
          66,
          67,
          68,
          69,
          70,
          71,
          72,
          73,
          74,
          75,
          76,
          77,
          78,
          79,
          80,
          81,
          82,
          83,
          84,
          85,
          86,
          87,
          88,
          89,
          90,
          91,
          92,
          93,
          94,
          95,
          96,
          97,
          98,
          99,
          100,
          101,
          102,
          103,
          104,
          105,
          106,
          107,
          108,
          109,
          110,
          111,
          112,
          113,
          114,
          115,
          116,
          117,
          118,
          119,
          120,
          121,
          122,
          123,
          124,
          125,
          126,
          127,
          128,
          129,
          130,
          131,
          132,
          133,
          134,
          135,
          136,
          137,
          138,
          139,
          140,
          141,
          142,
          143,
          144,
          145,
          146,
          147,
          148,
          149,
          150,
          151,
          152,
          153,
          154,
          155,
          156,
          157,
          158,
          159,
          160,
          161,
          162,
          163,
          164,
          165,
          166,
          167,
          168
         ],
         "y": [
          16,
          14,
          12,
          10,
          8,
          6,
          4,
          2,
          2,
          2,
          4,
          6,
          8,
          10,
          12,
          14,
          16,
          18,
          20,
          20,
          20,
          20,
          20,
          18,
          16,
          14,
          12,
          10,
          8,
          6,
          4,
          2,
          2,
          2,
          4,
          6,
          8,
          10,
          12,
          14,
          16,
          18,
          20,
          20,
          20,
          20,
          20,
          18,
          16,
          14,
          12,
          10,
          8,
          6,
          4,
          2,
          2,
          2,
          4,
          6,
          8,
          10,
          12,
          14,
          16,
          18,
          20,
          20,
          20,
          20,
          20,
          18,
          16,
          14,
          12,
          10,
          8,
          6,
          4,
          2,
          2,
          2,
          4,
          6,
          8,
          10,
          12,
          14,
          16,
          18,
          20,
          20,
          20,
          20,
          20,
          18,
          16,
          14,
          12,
          10,
          8,
          6,
          4,
          2,
          2,
          2,
          4,
          6,
          8,
          10,
          12,
          14,
          16,
          18,
          20,
          20,
          20,
          20,
          20,
          18,
          16,
          14,
          12,
          10,
          8,
          6,
          4,
          2,
          2,
          2,
          4,
          6,
          8,
          10,
          12,
          14,
          16,
          18,
          20,
          20,
          20,
          20,
          20,
          18,
          16,
          14,
          12,
          10,
          8,
          6,
          4,
          2,
          2,
          2,
          4,
          6,
          8,
          10,
          12,
          14,
          16,
          18,
          20,
          20,
          20,
          20,
          20,
          18,
          16
         ]
        }
       ],
       "layout": {
        "annotations": [
         {
          "showarrow": false,
          "text": "Initial/Final SOC",
          "x": 1,
          "xanchor": "right",
          "xref": "x domain",
          "y": 16,
          "yanchor": "top",
          "yref": "y"
         }
        ],
        "shapes": [
         {
          "line": {
           "color": "orange",
           "dash": "dot"
          },
          "type": "line",
          "x0": 0,
          "x1": 1,
          "xref": "x domain",
          "y0": 16,
          "y1": 16,
          "yref": "y"
         }
        ],
        "template": {
         "data": {
          "bar": [
           {
            "error_x": {
             "color": "#2a3f5f"
            },
            "error_y": {
             "color": "#2a3f5f"
            },
            "marker": {
             "line": {
              "color": "#E5ECF6",
              "width": 0.5
             },
             "pattern": {
              "fillmode": "overlay",
              "size": 10,
              "solidity": 0.2
             }
            },
            "type": "bar"
           }
          ],
          "barpolar": [
           {
            "marker": {
             "line": {
              "color": "#E5ECF6",
              "width": 0.5
             },
             "pattern": {
              "fillmode": "overlay",
              "size": 10,
              "solidity": 0.2
             }
            },
            "type": "barpolar"
           }
          ],
          "carpet": [
           {
            "aaxis": {
             "endlinecolor": "#2a3f5f",
             "gridcolor": "white",
             "linecolor": "white",
             "minorgridcolor": "white",
             "startlinecolor": "#2a3f5f"
            },
            "baxis": {
             "endlinecolor": "#2a3f5f",
             "gridcolor": "white",
             "linecolor": "white",
             "minorgridcolor": "white",
             "startlinecolor": "#2a3f5f"
            },
            "type": "carpet"
           }
          ],
          "choropleth": [
           {
            "colorbar": {
             "outlinewidth": 0,
             "ticks": ""
            },
            "type": "choropleth"
           }
          ],
          "contour": [
           {
            "colorbar": {
             "outlinewidth": 0,
             "ticks": ""
            },
            "colorscale": [
             [
              0,
              "#0d0887"
             ],
             [
              0.1111111111111111,
              "#46039f"
             ],
             [
              0.2222222222222222,
              "#7201a8"
             ],
             [
              0.3333333333333333,
              "#9c179e"
             ],
             [
              0.4444444444444444,
              "#bd3786"
             ],
             [
              0.5555555555555556,
              "#d8576b"
             ],
             [
              0.6666666666666666,
              "#ed7953"
             ],
             [
              0.7777777777777778,
              "#fb9f3a"
             ],
             [
              0.8888888888888888,
              "#fdca26"
             ],
             [
              1,
              "#f0f921"
             ]
            ],
            "type": "contour"
           }
          ],
          "contourcarpet": [
           {
            "colorbar": {
             "outlinewidth": 0,
             "ticks": ""
            },
            "type": "contourcarpet"
           }
          ],
          "heatmap": [
           {
            "colorbar": {
             "outlinewidth": 0,
             "ticks": ""
            },
            "colorscale": [
             [
              0,
              "#0d0887"
             ],
             [
              0.1111111111111111,
              "#46039f"
             ],
             [
              0.2222222222222222,
              "#7201a8"
             ],
             [
              0.3333333333333333,
              "#9c179e"
             ],
             [
              0.4444444444444444,
              "#bd3786"
             ],
             [
              0.5555555555555556,
              "#d8576b"
             ],
             [
              0.6666666666666666,
              "#ed7953"
             ],
             [
              0.7777777777777778,
              "#fb9f3a"
             ],
             [
              0.8888888888888888,
              "#fdca26"
             ],
             [
              1,
              "#f0f921"
             ]
            ],
            "type": "heatmap"
           }
          ],
          "histogram": [
           {
            "marker": {
             "pattern": {
              "fillmode": "overlay",
              "size": 10,
              "solidity": 0.2
             }
            },
            "type": "histogram"
           }
          ],
          "histogram2d": [
           {
            "colorbar": {
             "outlinewidth": 0,
             "ticks": ""
            },
            "colorscale": [
             [
              0,
              "#0d0887"
             ],
             [
              0.1111111111111111,
              "#46039f"
             ],
             [
              0.2222222222222222,
              "#7201a8"
             ],
             [
              0.3333333333333333,
              "#9c179e"
             ],
             [
              0.4444444444444444,
              "#bd3786"
             ],
             [
              0.5555555555555556,
              "#d8576b"
             ],
             [
              0.6666666666666666,
              "#ed7953"
             ],
             [
              0.7777777777777778,
              "#fb9f3a"
             ],
             [
              0.8888888888888888,
              "#fdca26"
             ],
             [
              1,
              "#f0f921"
             ]
            ],
            "type": "histogram2d"
           }
          ],
          "histogram2dcontour": [
           {
            "colorbar": {
             "outlinewidth": 0,
             "ticks": ""
            },
            "colorscale": [
             [
              0,
              "#0d0887"
             ],
             [
              0.1111111111111111,
              "#46039f"
             ],
             [
              0.2222222222222222,
              "#7201a8"
             ],
             [
              0.3333333333333333,
              "#9c179e"
             ],
             [
              0.4444444444444444,
              "#bd3786"
             ],
             [
              0.5555555555555556,
              "#d8576b"
             ],
             [
              0.6666666666666666,
              "#ed7953"
             ],
             [
              0.7777777777777778,
              "#fb9f3a"
             ],
             [
              0.8888888888888888,
              "#fdca26"
             ],
             [
              1,
              "#f0f921"
             ]
            ],
            "type": "histogram2dcontour"
           }
          ],
          "mesh3d": [
           {
            "colorbar": {
             "outlinewidth": 0,
             "ticks": ""
            },
            "type": "mesh3d"
           }
          ],
          "parcoords": [
           {
            "line": {
             "colorbar": {
              "outlinewidth": 0,
              "ticks": ""
             }
            },
            "type": "parcoords"
           }
          ],
          "pie": [
           {
            "automargin": true,
            "type": "pie"
           }
          ],
          "scatter": [
           {
            "fillpattern": {
             "fillmode": "overlay",
             "size": 10,
             "solidity": 0.2
            },
            "type": "scatter"
           }
          ],
          "scatter3d": [
           {
            "line": {
             "colorbar": {
              "outlinewidth": 0,
              "ticks": ""
             }
            },
            "marker": {
             "colorbar": {
              "outlinewidth": 0,
              "ticks": ""
             }
            },
            "type": "scatter3d"
           }
          ],
          "scattercarpet": [
           {
            "marker": {
             "colorbar": {
              "outlinewidth": 0,
              "ticks": ""
             }
            },
            "type": "scattercarpet"
           }
          ],
          "scattergeo": [
           {
            "marker": {
             "colorbar": {
              "outlinewidth": 0,
              "ticks": ""
             }
            },
            "type": "scattergeo"
           }
          ],
          "scattergl": [
           {
            "marker": {
             "colorbar": {
              "outlinewidth": 0,
              "ticks": ""
             }
            },
            "type": "scattergl"
           }
          ],
          "scattermap": [
           {
            "marker": {
             "colorbar": {
              "outlinewidth": 0,
              "ticks": ""
             }
            },
            "type": "scattermap"
           }
          ],
          "scattermapbox": [
           {
            "marker": {
             "colorbar": {
              "outlinewidth": 0,
              "ticks": ""
             }
            },
            "type": "scattermapbox"
           }
          ],
          "scatterpolar": [
           {
            "marker": {
             "colorbar": {
              "outlinewidth": 0,
              "ticks": ""
             }
            },
            "type": "scatterpolar"
           }
          ],
          "scatterpolargl": [
           {
            "marker": {
             "colorbar": {
              "outlinewidth": 0,
              "ticks": ""
             }
            },
            "type": "scatterpolargl"
           }
          ],
          "scatterternary": [
           {
            "marker": {
             "colorbar": {
              "outlinewidth": 0,
              "ticks": ""
             }
            },
            "type": "scatterternary"
           }
          ],
          "surface": [
           {
            "colorbar": {
             "outlinewidth": 0,
             "ticks": ""
            },
            "colorscale": [
             [
              0,
              "#0d0887"
             ],
             [
              0.1111111111111111,
              "#46039f"
             ],
             [
              0.2222222222222222,
              "#7201a8"
             ],
             [
              0.3333333333333333,
              "#9c179e"
             ],
             [
              0.4444444444444444,
              "#bd3786"
             ],
             [
              0.5555555555555556,
              "#d8576b"
             ],
             [
              0.6666666666666666,
              "#ed7953"
             ],
             [
              0.7777777777777778,
              "#fb9f3a"
             ],
             [
              0.8888888888888888,
              "#fdca26"
             ],
             [
              1,
              "#f0f921"
             ]
            ],
            "type": "surface"
           }
          ],
          "table": [
           {
            "cells": {
             "fill": {
              "color": "#EBF0F8"
             },
             "line": {
              "color": "white"
             }
            },
            "header": {
             "fill": {
              "color": "#C8D4E3"
             },
             "line": {
              "color": "white"
             }
            },
            "type": "table"
           }
          ]
         },
         "layout": {
          "annotationdefaults": {
           "arrowcolor": "#2a3f5f",
           "arrowhead": 0,
           "arrowwidth": 1
          },
          "autotypenumbers": "strict",
          "coloraxis": {
           "colorbar": {
            "outlinewidth": 0,
            "ticks": ""
           }
          },
          "colorscale": {
           "diverging": [
            [
             0,
             "#8e0152"
            ],
            [
             0.1,
             "#c51b7d"
            ],
            [
             0.2,
             "#de77ae"
            ],
            [
             0.3,
             "#f1b6da"
            ],
            [
             0.4,
             "#fde0ef"
            ],
            [
             0.5,
             "#f7f7f7"
            ],
            [
             0.6,
             "#e6f5d0"
            ],
            [
             0.7,
             "#b8e186"
            ],
            [
             0.8,
             "#7fbc41"
            ],
            [
             0.9,
             "#4d9221"
            ],
            [
             1,
             "#276419"
            ]
           ],
           "sequential": [
            [
             0,
             "#0d0887"
            ],
            [
             0.1111111111111111,
             "#46039f"
            ],
            [
             0.2222222222222222,
             "#7201a8"
            ],
            [
             0.3333333333333333,
             "#9c179e"
            ],
            [
             0.4444444444444444,
             "#bd3786"
            ],
            [
             0.5555555555555556,
             "#d8576b"
            ],
            [
             0.6666666666666666,
             "#ed7953"
            ],
            [
             0.7777777777777778,
             "#fb9f3a"
            ],
            [
             0.8888888888888888,
             "#fdca26"
            ],
            [
             1,
             "#f0f921"
            ]
           ],
           "sequentialminus": [
            [
             0,
             "#0d0887"
            ],
            [
             0.1111111111111111,
             "#46039f"
            ],
            [
             0.2222222222222222,
             "#7201a8"
            ],
            [
             0.3333333333333333,
             "#9c179e"
            ],
            [
             0.4444444444444444,
             "#bd3786"
            ],
            [
             0.5555555555555556,
             "#d8576b"
            ],
            [
             0.6666666666666666,
             "#ed7953"
            ],
            [
             0.7777777777777778,
             "#fb9f3a"
            ],
            [
             0.8888888888888888,
             "#fdca26"
            ],
            [
             1,
             "#f0f921"
            ]
           ]
          },
          "colorway": [
           "#636efa",
           "#EF553B",
           "#00cc96",
           "#ab63fa",
           "#FFA15A",
           "#19d3f3",
           "#FF6692",
           "#B6E880",
           "#FF97FF",
           "#FECB52"
          ],
          "font": {
           "color": "#2a3f5f"
          },
          "geo": {
           "bgcolor": "white",
           "lakecolor": "white",
           "landcolor": "#E5ECF6",
           "showlakes": true,
           "showland": true,
           "subunitcolor": "white"
          },
          "hoverlabel": {
           "align": "left"
          },
          "hovermode": "closest",
          "mapbox": {
           "style": "light"
          },
          "paper_bgcolor": "white",
          "plot_bgcolor": "#E5ECF6",
          "polar": {
           "angularaxis": {
            "gridcolor": "white",
            "linecolor": "white",
            "ticks": ""
           },
           "bgcolor": "#E5ECF6",
           "radialaxis": {
            "gridcolor": "white",
            "linecolor": "white",
            "ticks": ""
           }
          },
          "scene": {
           "xaxis": {
            "backgroundcolor": "#E5ECF6",
            "gridcolor": "white",
            "gridwidth": 2,
            "linecolor": "white",
            "showbackground": true,
            "ticks": "",
            "zerolinecolor": "white"
           },
           "yaxis": {
            "backgroundcolor": "#E5ECF6",
            "gridcolor": "white",
            "gridwidth": 2,
            "linecolor": "white",
            "showbackground": true,
            "ticks": "",
            "zerolinecolor": "white"
           },
           "zaxis": {
            "backgroundcolor": "#E5ECF6",
            "gridcolor": "white",
            "gridwidth": 2,
            "linecolor": "white",
            "showbackground": true,
            "ticks": "",
            "zerolinecolor": "white"
           }
          },
          "shapedefaults": {
           "line": {
            "color": "#2a3f5f"
           }
          },
          "ternary": {
           "aaxis": {
            "gridcolor": "white",
            "linecolor": "white",
            "ticks": ""
           },
           "baxis": {
            "gridcolor": "white",
            "linecolor": "white",
            "ticks": ""
           },
           "bgcolor": "#E5ECF6",
           "caxis": {
            "gridcolor": "white",
            "linecolor": "white",
            "ticks": ""
           }
          },
          "title": {
           "x": 0.05
          },
          "xaxis": {
           "automargin": true,
           "gridcolor": "white",
           "linecolor": "white",
           "ticks": "",
           "title": {
            "standoff": 15
           },
           "zerolinecolor": "white",
           "zerolinewidth": 2
          },
          "yaxis": {
           "automargin": true,
           "gridcolor": "white",
           "linecolor": "white",
           "ticks": "",
           "title": {
            "standoff": 15
           },
           "zerolinecolor": "white",
           "zerolinewidth": 2
          }
         }
        },
        "title": {
         "text": "Battery State-of-Charge (SOC)"
        },
        "xaxis": {
         "title": {
          "text": "Time"
         }
        },
        "yaxis": {
         "range": [
          0,
          5.5
         ],
         "title": {
          "text": "SOC"
         }
        }
       }
      }
     },
     "metadata": {},
     "output_type": "display_data"
    }
   ],
   "source": [
    "plot_dict[\"state_of_charge\"].show()"
   ]
  },
  {
   "cell_type": "code",
   "execution_count": 321,
   "id": "44f981aa",
   "metadata": {},
   "outputs": [
    {
     "data": {
      "application/vnd.plotly.v1+json": {
       "config": {
        "plotlyServerURL": "https://plotly.com"
       },
       "data": [
        {
         "line": {
          "color": "blue"
         },
         "mode": "lines+markers",
         "name": "Market Price",
         "type": "scatter",
         "x": [
          0,
          1,
          2,
          3,
          4,
          5,
          6,
          7,
          8,
          9,
          10,
          11,
          12,
          13,
          14,
          15,
          16,
          17,
          18,
          19,
          20,
          21,
          22,
          23,
          24,
          25,
          26,
          27,
          28,
          29,
          30,
          31,
          32,
          33,
          34,
          35,
          36,
          37,
          38,
          39,
          40,
          41,
          42,
          43,
          44,
          45,
          46,
          47,
          48,
          49,
          50,
          51,
          52,
          53,
          54,
          55,
          56,
          57,
          58,
          59,
          60,
          61,
          62,
          63,
          64,
          65,
          66,
          67,
          68,
          69,
          70,
          71,
          72,
          73,
          74,
          75,
          76,
          77,
          78,
          79,
          80,
          81,
          82,
          83,
          84,
          85,
          86,
          87,
          88,
          89,
          90,
          91,
          92,
          93,
          94,
          95,
          96,
          97,
          98,
          99,
          100,
          101,
          102,
          103,
          104,
          105,
          106,
          107,
          108,
          109,
          110,
          111,
          112,
          113,
          114,
          115,
          116,
          117,
          118,
          119,
          120,
          121,
          122,
          123,
          124,
          125,
          126,
          127,
          128,
          129,
          130,
          131,
          132,
          133,
          134,
          135,
          136,
          137,
          138,
          139,
          140,
          141,
          142,
          143,
          144,
          145,
          146,
          147,
          148,
          149,
          150,
          151,
          152,
          153,
          154,
          155,
          156,
          157,
          158,
          159,
          160,
          161,
          162,
          163,
          164,
          165,
          166,
          167,
          168
         ],
         "y": [
          5,
          5,
          5,
          5,
          5,
          5,
          5,
          5,
          0,
          0,
          0,
          0,
          0,
          0,
          0,
          0,
          0,
          0,
          0,
          5,
          5,
          5,
          5,
          5,
          5,
          5,
          5,
          5,
          5,
          5,
          5,
          5,
          0,
          0,
          0,
          0,
          0,
          0,
          0,
          0,
          0,
          0,
          0,
          5,
          5,
          5,
          5,
          5,
          5,
          5,
          5,
          5,
          5,
          5,
          5,
          5,
          0,
          0,
          0,
          0,
          0,
          0,
          0,
          0,
          0,
          0,
          0,
          5,
          5,
          5,
          5,
          5,
          5,
          5,
          5,
          5,
          5,
          5,
          5,
          5,
          0,
          0,
          0,
          0,
          0,
          0,
          0,
          0,
          0,
          0,
          0,
          5,
          5,
          5,
          5,
          5,
          5,
          5,
          5,
          5,
          5,
          5,
          5,
          5,
          0,
          0,
          0,
          0,
          0,
          0,
          0,
          0,
          0,
          0,
          0,
          5,
          5,
          5,
          5,
          5,
          5,
          5,
          5,
          5,
          5,
          5,
          5,
          5,
          0,
          0,
          0,
          0,
          0,
          0,
          0,
          0,
          0,
          0,
          0,
          5,
          5,
          5,
          5,
          5,
          5,
          5,
          5,
          5,
          5,
          5,
          5,
          5,
          0,
          0,
          0,
          0,
          0,
          0,
          0,
          0,
          0,
          0,
          0,
          5,
          5,
          5,
          5,
          5,
          5
         ]
        }
       ],
       "layout": {
        "template": {
         "data": {
          "bar": [
           {
            "error_x": {
             "color": "#2a3f5f"
            },
            "error_y": {
             "color": "#2a3f5f"
            },
            "marker": {
             "line": {
              "color": "#E5ECF6",
              "width": 0.5
             },
             "pattern": {
              "fillmode": "overlay",
              "size": 10,
              "solidity": 0.2
             }
            },
            "type": "bar"
           }
          ],
          "barpolar": [
           {
            "marker": {
             "line": {
              "color": "#E5ECF6",
              "width": 0.5
             },
             "pattern": {
              "fillmode": "overlay",
              "size": 10,
              "solidity": 0.2
             }
            },
            "type": "barpolar"
           }
          ],
          "carpet": [
           {
            "aaxis": {
             "endlinecolor": "#2a3f5f",
             "gridcolor": "white",
             "linecolor": "white",
             "minorgridcolor": "white",
             "startlinecolor": "#2a3f5f"
            },
            "baxis": {
             "endlinecolor": "#2a3f5f",
             "gridcolor": "white",
             "linecolor": "white",
             "minorgridcolor": "white",
             "startlinecolor": "#2a3f5f"
            },
            "type": "carpet"
           }
          ],
          "choropleth": [
           {
            "colorbar": {
             "outlinewidth": 0,
             "ticks": ""
            },
            "type": "choropleth"
           }
          ],
          "contour": [
           {
            "colorbar": {
             "outlinewidth": 0,
             "ticks": ""
            },
            "colorscale": [
             [
              0,
              "#0d0887"
             ],
             [
              0.1111111111111111,
              "#46039f"
             ],
             [
              0.2222222222222222,
              "#7201a8"
             ],
             [
              0.3333333333333333,
              "#9c179e"
             ],
             [
              0.4444444444444444,
              "#bd3786"
             ],
             [
              0.5555555555555556,
              "#d8576b"
             ],
             [
              0.6666666666666666,
              "#ed7953"
             ],
             [
              0.7777777777777778,
              "#fb9f3a"
             ],
             [
              0.8888888888888888,
              "#fdca26"
             ],
             [
              1,
              "#f0f921"
             ]
            ],
            "type": "contour"
           }
          ],
          "contourcarpet": [
           {
            "colorbar": {
             "outlinewidth": 0,
             "ticks": ""
            },
            "type": "contourcarpet"
           }
          ],
          "heatmap": [
           {
            "colorbar": {
             "outlinewidth": 0,
             "ticks": ""
            },
            "colorscale": [
             [
              0,
              "#0d0887"
             ],
             [
              0.1111111111111111,
              "#46039f"
             ],
             [
              0.2222222222222222,
              "#7201a8"
             ],
             [
              0.3333333333333333,
              "#9c179e"
             ],
             [
              0.4444444444444444,
              "#bd3786"
             ],
             [
              0.5555555555555556,
              "#d8576b"
             ],
             [
              0.6666666666666666,
              "#ed7953"
             ],
             [
              0.7777777777777778,
              "#fb9f3a"
             ],
             [
              0.8888888888888888,
              "#fdca26"
             ],
             [
              1,
              "#f0f921"
             ]
            ],
            "type": "heatmap"
           }
          ],
          "histogram": [
           {
            "marker": {
             "pattern": {
              "fillmode": "overlay",
              "size": 10,
              "solidity": 0.2
             }
            },
            "type": "histogram"
           }
          ],
          "histogram2d": [
           {
            "colorbar": {
             "outlinewidth": 0,
             "ticks": ""
            },
            "colorscale": [
             [
              0,
              "#0d0887"
             ],
             [
              0.1111111111111111,
              "#46039f"
             ],
             [
              0.2222222222222222,
              "#7201a8"
             ],
             [
              0.3333333333333333,
              "#9c179e"
             ],
             [
              0.4444444444444444,
              "#bd3786"
             ],
             [
              0.5555555555555556,
              "#d8576b"
             ],
             [
              0.6666666666666666,
              "#ed7953"
             ],
             [
              0.7777777777777778,
              "#fb9f3a"
             ],
             [
              0.8888888888888888,
              "#fdca26"
             ],
             [
              1,
              "#f0f921"
             ]
            ],
            "type": "histogram2d"
           }
          ],
          "histogram2dcontour": [
           {
            "colorbar": {
             "outlinewidth": 0,
             "ticks": ""
            },
            "colorscale": [
             [
              0,
              "#0d0887"
             ],
             [
              0.1111111111111111,
              "#46039f"
             ],
             [
              0.2222222222222222,
              "#7201a8"
             ],
             [
              0.3333333333333333,
              "#9c179e"
             ],
             [
              0.4444444444444444,
              "#bd3786"
             ],
             [
              0.5555555555555556,
              "#d8576b"
             ],
             [
              0.6666666666666666,
              "#ed7953"
             ],
             [
              0.7777777777777778,
              "#fb9f3a"
             ],
             [
              0.8888888888888888,
              "#fdca26"
             ],
             [
              1,
              "#f0f921"
             ]
            ],
            "type": "histogram2dcontour"
           }
          ],
          "mesh3d": [
           {
            "colorbar": {
             "outlinewidth": 0,
             "ticks": ""
            },
            "type": "mesh3d"
           }
          ],
          "parcoords": [
           {
            "line": {
             "colorbar": {
              "outlinewidth": 0,
              "ticks": ""
             }
            },
            "type": "parcoords"
           }
          ],
          "pie": [
           {
            "automargin": true,
            "type": "pie"
           }
          ],
          "scatter": [
           {
            "fillpattern": {
             "fillmode": "overlay",
             "size": 10,
             "solidity": 0.2
            },
            "type": "scatter"
           }
          ],
          "scatter3d": [
           {
            "line": {
             "colorbar": {
              "outlinewidth": 0,
              "ticks": ""
             }
            },
            "marker": {
             "colorbar": {
              "outlinewidth": 0,
              "ticks": ""
             }
            },
            "type": "scatter3d"
           }
          ],
          "scattercarpet": [
           {
            "marker": {
             "colorbar": {
              "outlinewidth": 0,
              "ticks": ""
             }
            },
            "type": "scattercarpet"
           }
          ],
          "scattergeo": [
           {
            "marker": {
             "colorbar": {
              "outlinewidth": 0,
              "ticks": ""
             }
            },
            "type": "scattergeo"
           }
          ],
          "scattergl": [
           {
            "marker": {
             "colorbar": {
              "outlinewidth": 0,
              "ticks": ""
             }
            },
            "type": "scattergl"
           }
          ],
          "scattermap": [
           {
            "marker": {
             "colorbar": {
              "outlinewidth": 0,
              "ticks": ""
             }
            },
            "type": "scattermap"
           }
          ],
          "scattermapbox": [
           {
            "marker": {
             "colorbar": {
              "outlinewidth": 0,
              "ticks": ""
             }
            },
            "type": "scattermapbox"
           }
          ],
          "scatterpolar": [
           {
            "marker": {
             "colorbar": {
              "outlinewidth": 0,
              "ticks": ""
             }
            },
            "type": "scatterpolar"
           }
          ],
          "scatterpolargl": [
           {
            "marker": {
             "colorbar": {
              "outlinewidth": 0,
              "ticks": ""
             }
            },
            "type": "scatterpolargl"
           }
          ],
          "scatterternary": [
           {
            "marker": {
             "colorbar": {
              "outlinewidth": 0,
              "ticks": ""
             }
            },
            "type": "scatterternary"
           }
          ],
          "surface": [
           {
            "colorbar": {
             "outlinewidth": 0,
             "ticks": ""
            },
            "colorscale": [
             [
              0,
              "#0d0887"
             ],
             [
              0.1111111111111111,
              "#46039f"
             ],
             [
              0.2222222222222222,
              "#7201a8"
             ],
             [
              0.3333333333333333,
              "#9c179e"
             ],
             [
              0.4444444444444444,
              "#bd3786"
             ],
             [
              0.5555555555555556,
              "#d8576b"
             ],
             [
              0.6666666666666666,
              "#ed7953"
             ],
             [
              0.7777777777777778,
              "#fb9f3a"
             ],
             [
              0.8888888888888888,
              "#fdca26"
             ],
             [
              1,
              "#f0f921"
             ]
            ],
            "type": "surface"
           }
          ],
          "table": [
           {
            "cells": {
             "fill": {
              "color": "#EBF0F8"
             },
             "line": {
              "color": "white"
             }
            },
            "header": {
             "fill": {
              "color": "#C8D4E3"
             },
             "line": {
              "color": "white"
             }
            },
            "type": "table"
           }
          ]
         },
         "layout": {
          "annotationdefaults": {
           "arrowcolor": "#2a3f5f",
           "arrowhead": 0,
           "arrowwidth": 1
          },
          "autotypenumbers": "strict",
          "coloraxis": {
           "colorbar": {
            "outlinewidth": 0,
            "ticks": ""
           }
          },
          "colorscale": {
           "diverging": [
            [
             0,
             "#8e0152"
            ],
            [
             0.1,
             "#c51b7d"
            ],
            [
             0.2,
             "#de77ae"
            ],
            [
             0.3,
             "#f1b6da"
            ],
            [
             0.4,
             "#fde0ef"
            ],
            [
             0.5,
             "#f7f7f7"
            ],
            [
             0.6,
             "#e6f5d0"
            ],
            [
             0.7,
             "#b8e186"
            ],
            [
             0.8,
             "#7fbc41"
            ],
            [
             0.9,
             "#4d9221"
            ],
            [
             1,
             "#276419"
            ]
           ],
           "sequential": [
            [
             0,
             "#0d0887"
            ],
            [
             0.1111111111111111,
             "#46039f"
            ],
            [
             0.2222222222222222,
             "#7201a8"
            ],
            [
             0.3333333333333333,
             "#9c179e"
            ],
            [
             0.4444444444444444,
             "#bd3786"
            ],
            [
             0.5555555555555556,
             "#d8576b"
            ],
            [
             0.6666666666666666,
             "#ed7953"
            ],
            [
             0.7777777777777778,
             "#fb9f3a"
            ],
            [
             0.8888888888888888,
             "#fdca26"
            ],
            [
             1,
             "#f0f921"
            ]
           ],
           "sequentialminus": [
            [
             0,
             "#0d0887"
            ],
            [
             0.1111111111111111,
             "#46039f"
            ],
            [
             0.2222222222222222,
             "#7201a8"
            ],
            [
             0.3333333333333333,
             "#9c179e"
            ],
            [
             0.4444444444444444,
             "#bd3786"
            ],
            [
             0.5555555555555556,
             "#d8576b"
            ],
            [
             0.6666666666666666,
             "#ed7953"
            ],
            [
             0.7777777777777778,
             "#fb9f3a"
            ],
            [
             0.8888888888888888,
             "#fdca26"
            ],
            [
             1,
             "#f0f921"
            ]
           ]
          },
          "colorway": [
           "#636efa",
           "#EF553B",
           "#00cc96",
           "#ab63fa",
           "#FFA15A",
           "#19d3f3",
           "#FF6692",
           "#B6E880",
           "#FF97FF",
           "#FECB52"
          ],
          "font": {
           "color": "#2a3f5f"
          },
          "geo": {
           "bgcolor": "white",
           "lakecolor": "white",
           "landcolor": "#E5ECF6",
           "showlakes": true,
           "showland": true,
           "subunitcolor": "white"
          },
          "hoverlabel": {
           "align": "left"
          },
          "hovermode": "closest",
          "mapbox": {
           "style": "light"
          },
          "paper_bgcolor": "white",
          "plot_bgcolor": "#E5ECF6",
          "polar": {
           "angularaxis": {
            "gridcolor": "white",
            "linecolor": "white",
            "ticks": ""
           },
           "bgcolor": "#E5ECF6",
           "radialaxis": {
            "gridcolor": "white",
            "linecolor": "white",
            "ticks": ""
           }
          },
          "scene": {
           "xaxis": {
            "backgroundcolor": "#E5ECF6",
            "gridcolor": "white",
            "gridwidth": 2,
            "linecolor": "white",
            "showbackground": true,
            "ticks": "",
            "zerolinecolor": "white"
           },
           "yaxis": {
            "backgroundcolor": "#E5ECF6",
            "gridcolor": "white",
            "gridwidth": 2,
            "linecolor": "white",
            "showbackground": true,
            "ticks": "",
            "zerolinecolor": "white"
           },
           "zaxis": {
            "backgroundcolor": "#E5ECF6",
            "gridcolor": "white",
            "gridwidth": 2,
            "linecolor": "white",
            "showbackground": true,
            "ticks": "",
            "zerolinecolor": "white"
           }
          },
          "shapedefaults": {
           "line": {
            "color": "#2a3f5f"
           }
          },
          "ternary": {
           "aaxis": {
            "gridcolor": "white",
            "linecolor": "white",
            "ticks": ""
           },
           "baxis": {
            "gridcolor": "white",
            "linecolor": "white",
            "ticks": ""
           },
           "bgcolor": "#E5ECF6",
           "caxis": {
            "gridcolor": "white",
            "linecolor": "white",
            "ticks": ""
           }
          },
          "title": {
           "x": 0.05
          },
          "xaxis": {
           "automargin": true,
           "gridcolor": "white",
           "linecolor": "white",
           "ticks": "",
           "title": {
            "standoff": 15
           },
           "zerolinecolor": "white",
           "zerolinewidth": 2
          },
          "yaxis": {
           "automargin": true,
           "gridcolor": "white",
           "linecolor": "white",
           "ticks": "",
           "title": {
            "standoff": 15
           },
           "zerolinecolor": "white",
           "zerolinewidth": 2
          }
         }
        },
        "title": {
         "text": "Market Clearing Price"
        },
        "xaxis": {
         "title": {
          "text": "Time"
         }
        },
        "yaxis": {
         "title": {
          "text": "Price"
         }
        }
       }
      }
     },
     "metadata": {},
     "output_type": "display_data"
    }
   ],
   "source": [
    "plot_dict[\"market_price\"].show()"
   ]
  },
  {
   "cell_type": "code",
   "execution_count": 322,
   "id": "6c0014e9",
   "metadata": {},
   "outputs": [
    {
     "data": {
      "application/vnd.plotly.v1+json": {
       "config": {
        "plotlyServerURL": "https://plotly.com"
       },
       "data": [
        {
         "line": {
          "color": "green"
         },
         "mode": "lines",
         "name": "Solar Dispatch",
         "type": "scatter",
         "x": [
          0,
          1,
          2,
          3,
          4,
          5,
          6,
          7,
          8,
          9,
          10,
          11,
          12,
          13,
          14,
          15,
          16,
          17,
          18,
          19,
          20,
          21,
          22,
          23,
          24,
          25,
          26,
          27,
          28,
          29,
          30,
          31,
          32,
          33,
          34,
          35,
          36,
          37,
          38,
          39,
          40,
          41,
          42,
          43,
          44,
          45,
          46,
          47,
          48,
          49,
          50,
          51,
          52,
          53,
          54,
          55,
          56,
          57,
          58,
          59,
          60,
          61,
          62,
          63,
          64,
          65,
          66,
          67,
          68,
          69,
          70,
          71,
          72,
          73,
          74,
          75,
          76,
          77,
          78,
          79,
          80,
          81,
          82,
          83,
          84,
          85,
          86,
          87,
          88,
          89,
          90,
          91,
          92,
          93,
          94,
          95,
          96,
          97,
          98,
          99,
          100,
          101,
          102,
          103,
          104,
          105,
          106,
          107,
          108,
          109,
          110,
          111,
          112,
          113,
          114,
          115,
          116,
          117,
          118,
          119,
          120,
          121,
          122,
          123,
          124,
          125,
          126,
          127,
          128,
          129,
          130,
          131,
          132,
          133,
          134,
          135,
          136,
          137,
          138,
          139,
          140,
          141,
          142,
          143,
          144,
          145,
          146,
          147,
          148,
          149,
          150,
          151,
          152,
          153,
          154,
          155,
          156,
          157,
          158,
          159,
          160,
          161,
          162,
          163,
          164,
          165,
          166,
          167,
          168
         ],
         "y": [
          0,
          0,
          0,
          0,
          0,
          0,
          1.2246467991473533e-15,
          4.4504186791262885,
          8.677674782351163,
          12,
          12,
          12,
          12,
          12,
          12,
          12,
          12,
          12,
          8.677674782351163,
          4.4504186791262885,
          1.2246467991473533e-15,
          0,
          0,
          0,
          0,
          0,
          0,
          0,
          0,
          0,
          1.2246467991473533e-15,
          4.4504186791262885,
          8.677674782351163,
          12,
          12,
          12,
          12,
          12,
          12,
          12,
          12,
          12,
          8.677674782351163,
          4.4504186791262885,
          1.2246467991473533e-15,
          0,
          0,
          0,
          0,
          0,
          0,
          0,
          0,
          0,
          1.2246467991473533e-15,
          4.4504186791262885,
          8.677674782351163,
          12,
          12,
          12,
          12,
          12,
          12,
          12,
          12,
          12,
          8.677674782351163,
          4.4504186791262885,
          1.2246467991473533e-15,
          0,
          0,
          0,
          0,
          0,
          0,
          0,
          0,
          0,
          1.2246467991473533e-15,
          4.4504186791262885,
          8.677674782351163,
          12,
          12,
          12,
          12,
          12,
          12,
          12,
          12,
          12,
          8.677674782351163,
          4.4504186791262885,
          1.2246467991473533e-15,
          0,
          0,
          0,
          0,
          0,
          0,
          0,
          0,
          0,
          1.2246467991473533e-15,
          4.4504186791262885,
          8.677674782351163,
          12,
          12,
          12,
          12,
          12,
          12,
          12,
          12,
          12,
          8.677674782351163,
          4.4504186791262885,
          1.2246467991473533e-15,
          0,
          0,
          0,
          0,
          0,
          0,
          0,
          0,
          0,
          1.2246467991473533e-15,
          4.4504186791262885,
          8.677674782351163,
          12,
          12,
          12,
          12,
          12,
          12,
          12,
          12,
          12,
          8.677674782351163,
          4.4504186791262885,
          1.2246467991473533e-15,
          0,
          0,
          0,
          0,
          0,
          0,
          0,
          0,
          0,
          1.2246467991473533e-15,
          4.4504186791262885,
          8.677674782351163,
          12,
          12,
          12,
          12,
          12,
          12,
          12,
          12,
          12,
          8.677674782351163,
          4.4504186791262885,
          1.2246467991473533e-15,
          0,
          0,
          0,
          0
         ]
        },
        {
         "line": {
          "color": "red"
         },
         "mode": "lines",
         "name": "Battery Dispatch",
         "type": "scatter",
         "x": [
          0,
          1,
          2,
          3,
          4,
          5,
          6,
          7,
          8,
          9,
          10,
          11,
          12,
          13,
          14,
          15,
          16,
          17,
          18,
          19,
          20,
          21,
          22,
          23,
          24,
          25,
          26,
          27,
          28,
          29,
          30,
          31,
          32,
          33,
          34,
          35,
          36,
          37,
          38,
          39,
          40,
          41,
          42,
          43,
          44,
          45,
          46,
          47,
          48,
          49,
          50,
          51,
          52,
          53,
          54,
          55,
          56,
          57,
          58,
          59,
          60,
          61,
          62,
          63,
          64,
          65,
          66,
          67,
          68,
          69,
          70,
          71,
          72,
          73,
          74,
          75,
          76,
          77,
          78,
          79,
          80,
          81,
          82,
          83,
          84,
          85,
          86,
          87,
          88,
          89,
          90,
          91,
          92,
          93,
          94,
          95,
          96,
          97,
          98,
          99,
          100,
          101,
          102,
          103,
          104,
          105,
          106,
          107,
          108,
          109,
          110,
          111,
          112,
          113,
          114,
          115,
          116,
          117,
          118,
          119,
          120,
          121,
          122,
          123,
          124,
          125,
          126,
          127,
          128,
          129,
          130,
          131,
          132,
          133,
          134,
          135,
          136,
          137,
          138,
          139,
          140,
          141,
          142,
          143,
          144,
          145,
          146,
          147,
          148,
          149,
          150,
          151,
          152,
          153,
          154,
          155,
          156,
          157,
          158,
          159,
          160,
          161,
          162,
          163,
          164,
          165,
          166,
          167,
          168
         ],
         "y": [
          2,
          2,
          2,
          2,
          2,
          2,
          2,
          0,
          0,
          -2,
          -2,
          -2,
          -2,
          -2,
          -2,
          -2,
          -2,
          -2,
          0,
          0,
          0,
          0,
          2,
          2,
          2,
          2,
          2,
          2,
          2,
          2,
          2,
          0,
          0,
          -2,
          -2,
          -2,
          -2,
          -2,
          -2,
          -2,
          -2,
          -2,
          0,
          0,
          0,
          0,
          2,
          2,
          2,
          2,
          2,
          2,
          2,
          2,
          2,
          0,
          0,
          -2,
          -2,
          -2,
          -2,
          -2,
          -2,
          -2,
          -2,
          -2,
          0,
          0,
          0,
          0,
          2,
          2,
          2,
          2,
          2,
          2,
          2,
          2,
          2,
          0,
          0,
          -2,
          -2,
          -2,
          -2,
          -2,
          -2,
          -2,
          -2,
          -2,
          0,
          0,
          0,
          0,
          2,
          2,
          2,
          2,
          2,
          2,
          2,
          2,
          2,
          0,
          0,
          -2,
          -2,
          -2,
          -2,
          -2,
          -2,
          -2,
          -2,
          -2,
          0,
          0,
          0,
          0,
          2,
          2,
          2,
          2,
          2,
          2,
          2,
          2,
          2,
          0,
          0,
          -2,
          -2,
          -2,
          -2,
          -2,
          -2,
          -2,
          -2,
          -2,
          0,
          0,
          0,
          0,
          2,
          2,
          2,
          2,
          2,
          2,
          2,
          2,
          2,
          0,
          0,
          -2,
          -2,
          -2,
          -2,
          -2,
          -2,
          -2,
          -2,
          -2,
          0,
          0,
          0,
          0,
          2,
          2,
          2
         ]
        },
        {
         "line": {
          "color": "purple"
         },
         "mode": "lines",
         "name": "Utility Dispatch",
         "type": "scatter",
         "x": [
          0,
          1,
          2,
          3,
          4,
          5,
          6,
          7,
          8,
          9,
          10,
          11,
          12,
          13,
          14,
          15,
          16,
          17,
          18,
          19,
          20,
          21,
          22,
          23,
          24,
          25,
          26,
          27,
          28,
          29,
          30,
          31,
          32,
          33,
          34,
          35,
          36,
          37,
          38,
          39,
          40,
          41,
          42,
          43,
          44,
          45,
          46,
          47,
          48,
          49,
          50,
          51,
          52,
          53,
          54,
          55,
          56,
          57,
          58,
          59,
          60,
          61,
          62,
          63,
          64,
          65,
          66,
          67,
          68,
          69,
          70,
          71,
          72,
          73,
          74,
          75,
          76,
          77,
          78,
          79,
          80,
          81,
          82,
          83,
          84,
          85,
          86,
          87,
          88,
          89,
          90,
          91,
          92,
          93,
          94,
          95,
          96,
          97,
          98,
          99,
          100,
          101,
          102,
          103,
          104,
          105,
          106,
          107,
          108,
          109,
          110,
          111,
          112,
          113,
          114,
          115,
          116,
          117,
          118,
          119,
          120,
          121,
          122,
          123,
          124,
          125,
          126,
          127,
          128,
          129,
          130,
          131,
          132,
          133,
          134,
          135,
          136,
          137,
          138,
          139,
          140,
          141,
          142,
          143,
          144,
          145,
          146,
          147,
          148,
          149,
          150,
          151,
          152,
          153,
          154,
          155,
          156,
          157,
          158,
          159,
          160,
          161,
          162,
          163,
          164,
          165,
          166,
          167,
          168
         ],
         "y": [
          3,
          3,
          3,
          3,
          3,
          3,
          2.999999999999999,
          0.5495813208737115,
          0,
          0,
          0,
          0,
          0,
          0,
          0,
          0,
          0,
          0,
          0,
          0.5495813208737115,
          4.999999999999999,
          5,
          3,
          3,
          3,
          3,
          3,
          3,
          3,
          3,
          2.999999999999999,
          0.5495813208737115,
          0,
          0,
          0,
          0,
          0,
          0,
          0,
          0,
          0,
          0,
          0,
          0.5495813208737115,
          4.999999999999999,
          5,
          3,
          3,
          3,
          3,
          3,
          3,
          3,
          3,
          2.999999999999999,
          0.5495813208737115,
          0,
          0,
          0,
          0,
          0,
          0,
          0,
          0,
          0,
          0,
          0,
          0.5495813208737115,
          4.999999999999999,
          5,
          3,
          3,
          3,
          3,
          3,
          3,
          3,
          3,
          2.999999999999999,
          0.5495813208737115,
          0,
          0,
          0,
          0,
          0,
          0,
          0,
          0,
          0,
          0,
          0,
          0.5495813208737115,
          4.999999999999999,
          5,
          3,
          3,
          3,
          3,
          3,
          3,
          3,
          3,
          2.999999999999999,
          0.5495813208737115,
          0,
          0,
          0,
          0,
          0,
          0,
          0,
          0,
          0,
          0,
          0,
          0.5495813208737115,
          4.999999999999999,
          5,
          3,
          3,
          3,
          3,
          3,
          3,
          3,
          3,
          2.999999999999999,
          0.5495813208737115,
          0,
          0,
          0,
          0,
          0,
          0,
          0,
          0,
          0,
          0,
          0,
          0.5495813208737115,
          4.999999999999999,
          5,
          3,
          3,
          3,
          3,
          3,
          3,
          3,
          3,
          2.999999999999999,
          0.5495813208737115,
          0,
          0,
          0,
          0,
          0,
          0,
          0,
          0,
          0,
          0,
          0,
          0.5495813208737115,
          4.999999999999999,
          5,
          3,
          3,
          3
         ]
        },
        {
         "line": {
          "color": "blue"
         },
         "mode": "lines",
         "name": "Total Demand",
         "type": "scatter",
         "x": [
          0,
          1,
          2,
          3,
          4,
          5,
          6,
          7,
          8,
          9,
          10,
          11,
          12,
          13,
          14,
          15,
          16,
          17,
          18,
          19,
          20,
          21,
          22,
          23,
          24,
          25,
          26,
          27,
          28,
          29,
          30,
          31,
          32,
          33,
          34,
          35,
          36,
          37,
          38,
          39,
          40,
          41,
          42,
          43,
          44,
          45,
          46,
          47,
          48,
          49,
          50,
          51,
          52,
          53,
          54,
          55,
          56,
          57,
          58,
          59,
          60,
          61,
          62,
          63,
          64,
          65,
          66,
          67,
          68,
          69,
          70,
          71,
          72,
          73,
          74,
          75,
          76,
          77,
          78,
          79,
          80,
          81,
          82,
          83,
          84,
          85,
          86,
          87,
          88,
          89,
          90,
          91,
          92,
          93,
          94,
          95,
          96,
          97,
          98,
          99,
          100,
          101,
          102,
          103,
          104,
          105,
          106,
          107,
          108,
          109,
          110,
          111,
          112,
          113,
          114,
          115,
          116,
          117,
          118,
          119,
          120,
          121,
          122,
          123,
          124,
          125,
          126,
          127,
          128,
          129,
          130,
          131,
          132,
          133,
          134,
          135,
          136,
          137,
          138,
          139,
          140,
          141,
          142,
          143,
          144,
          145,
          146,
          147,
          148,
          149,
          150,
          151,
          152,
          153,
          154,
          155,
          156,
          157,
          158,
          159,
          160,
          161,
          162,
          163,
          164,
          165,
          166,
          167,
          168
         ],
         "y": [
          5,
          5,
          5,
          5,
          5,
          5,
          5,
          5,
          10,
          10,
          10,
          10,
          10,
          10,
          10,
          10,
          10,
          10,
          10,
          5,
          5,
          5,
          5,
          5,
          5,
          5,
          5,
          5,
          5,
          5,
          5,
          5,
          10,
          10,
          10,
          10,
          10,
          10,
          10,
          10,
          10,
          10,
          10,
          5,
          5,
          5,
          5,
          5,
          5,
          5,
          5,
          5,
          5,
          5,
          5,
          5,
          10,
          10,
          10,
          10,
          10,
          10,
          10,
          10,
          10,
          10,
          10,
          5,
          5,
          5,
          5,
          5,
          5,
          5,
          5,
          5,
          5,
          5,
          5,
          5,
          10,
          10,
          10,
          10,
          10,
          10,
          10,
          10,
          10,
          10,
          10,
          5,
          5,
          5,
          5,
          5,
          5,
          5,
          5,
          5,
          5,
          5,
          5,
          5,
          10,
          10,
          10,
          10,
          10,
          10,
          10,
          10,
          10,
          10,
          10,
          5,
          5,
          5,
          5,
          5,
          5,
          5,
          5,
          5,
          5,
          5,
          5,
          5,
          10,
          10,
          10,
          10,
          10,
          10,
          10,
          10,
          10,
          10,
          10,
          5,
          5,
          5,
          5,
          5,
          5,
          5,
          5,
          5,
          5,
          5,
          5,
          5,
          10,
          10,
          10,
          10,
          10,
          10,
          10,
          10,
          10,
          10,
          10,
          5,
          5,
          5,
          5,
          5,
          5
         ]
        },
        {
         "line": {
          "color": "orange",
          "dash": "dash"
         },
         "mode": "lines",
         "name": "Solar Supply",
         "type": "scatter",
         "x": [
          0,
          1,
          2,
          3,
          4,
          5,
          6,
          7,
          8,
          9,
          10,
          11,
          12,
          13,
          14,
          15,
          16,
          17,
          18,
          19,
          20,
          21,
          22,
          23,
          24,
          25,
          26,
          27,
          28,
          29,
          30,
          31,
          32,
          33,
          34,
          35,
          36,
          37,
          38,
          39,
          40,
          41,
          42,
          43,
          44,
          45,
          46,
          47,
          48,
          49,
          50,
          51,
          52,
          53,
          54,
          55,
          56,
          57,
          58,
          59,
          60,
          61,
          62,
          63,
          64,
          65,
          66,
          67,
          68,
          69,
          70,
          71,
          72,
          73,
          74,
          75,
          76,
          77,
          78,
          79,
          80,
          81,
          82,
          83,
          84,
          85,
          86,
          87,
          88,
          89,
          90,
          91,
          92,
          93,
          94,
          95,
          96,
          97,
          98,
          99,
          100,
          101,
          102,
          103,
          104,
          105,
          106,
          107,
          108,
          109,
          110,
          111,
          112,
          113,
          114,
          115,
          116,
          117,
          118,
          119,
          120,
          121,
          122,
          123,
          124,
          125,
          126,
          127,
          128,
          129,
          130,
          131,
          132,
          133,
          134,
          135,
          136,
          137,
          138,
          139,
          140,
          141,
          142,
          143,
          144,
          145,
          146,
          147,
          148,
          149,
          150,
          151,
          152,
          153,
          154,
          155,
          156,
          157,
          158,
          159,
          160,
          161,
          162,
          163,
          164,
          165,
          166,
          167,
          168
         ],
         "y": [
          0,
          0,
          0,
          0,
          0,
          0,
          1.2246467991473533e-15,
          4.4504186791262885,
          8.677674782351163,
          12.469796037174671,
          15.636629649360597,
          18.019377358048384,
          19.498558243636474,
          20,
          19.498558243636474,
          18.019377358048384,
          15.636629649360597,
          12.469796037174671,
          8.677674782351163,
          4.4504186791262885,
          1.2246467991473533e-15,
          0,
          0,
          0,
          0,
          0,
          0,
          0,
          0,
          0,
          1.2246467991473533e-15,
          4.4504186791262885,
          8.677674782351163,
          12.469796037174671,
          15.636629649360597,
          18.019377358048384,
          19.498558243636474,
          20,
          19.498558243636474,
          18.019377358048384,
          15.636629649360597,
          12.469796037174671,
          8.677674782351163,
          4.4504186791262885,
          1.2246467991473533e-15,
          0,
          0,
          0,
          0,
          0,
          0,
          0,
          0,
          0,
          1.2246467991473533e-15,
          4.4504186791262885,
          8.677674782351163,
          12.469796037174671,
          15.636629649360597,
          18.019377358048384,
          19.498558243636474,
          20,
          19.498558243636474,
          18.019377358048384,
          15.636629649360597,
          12.469796037174671,
          8.677674782351163,
          4.4504186791262885,
          1.2246467991473533e-15,
          0,
          0,
          0,
          0,
          0,
          0,
          0,
          0,
          0,
          1.2246467991473533e-15,
          4.4504186791262885,
          8.677674782351163,
          12.469796037174671,
          15.636629649360597,
          18.019377358048384,
          19.498558243636474,
          20,
          19.498558243636474,
          18.019377358048384,
          15.636629649360597,
          12.469796037174671,
          8.677674782351163,
          4.4504186791262885,
          1.2246467991473533e-15,
          0,
          0,
          0,
          0,
          0,
          0,
          0,
          0,
          0,
          1.2246467991473533e-15,
          4.4504186791262885,
          8.677674782351163,
          12.469796037174671,
          15.636629649360597,
          18.019377358048384,
          19.498558243636474,
          20,
          19.498558243636474,
          18.019377358048384,
          15.636629649360597,
          12.469796037174671,
          8.677674782351163,
          4.4504186791262885,
          1.2246467991473533e-15,
          0,
          0,
          0,
          0,
          0,
          0,
          0,
          0,
          0,
          1.2246467991473533e-15,
          4.4504186791262885,
          8.677674782351163,
          12.469796037174671,
          15.636629649360597,
          18.019377358048384,
          19.498558243636474,
          20,
          19.498558243636474,
          18.019377358048384,
          15.636629649360597,
          12.469796037174671,
          8.677674782351163,
          4.4504186791262885,
          1.2246467991473533e-15,
          0,
          0,
          0,
          0,
          0,
          0,
          0,
          0,
          0,
          1.2246467991473533e-15,
          4.4504186791262885,
          8.677674782351163,
          12.469796037174671,
          15.636629649360597,
          18.019377358048384,
          19.498558243636474,
          20,
          19.498558243636474,
          18.019377358048384,
          15.636629649360597,
          12.469796037174671,
          8.677674782351163,
          4.4504186791262885,
          1.2246467991473533e-15,
          0,
          0,
          0,
          0
         ]
        }
       ],
       "layout": {
        "template": {
         "data": {
          "bar": [
           {
            "error_x": {
             "color": "#2a3f5f"
            },
            "error_y": {
             "color": "#2a3f5f"
            },
            "marker": {
             "line": {
              "color": "#E5ECF6",
              "width": 0.5
             },
             "pattern": {
              "fillmode": "overlay",
              "size": 10,
              "solidity": 0.2
             }
            },
            "type": "bar"
           }
          ],
          "barpolar": [
           {
            "marker": {
             "line": {
              "color": "#E5ECF6",
              "width": 0.5
             },
             "pattern": {
              "fillmode": "overlay",
              "size": 10,
              "solidity": 0.2
             }
            },
            "type": "barpolar"
           }
          ],
          "carpet": [
           {
            "aaxis": {
             "endlinecolor": "#2a3f5f",
             "gridcolor": "white",
             "linecolor": "white",
             "minorgridcolor": "white",
             "startlinecolor": "#2a3f5f"
            },
            "baxis": {
             "endlinecolor": "#2a3f5f",
             "gridcolor": "white",
             "linecolor": "white",
             "minorgridcolor": "white",
             "startlinecolor": "#2a3f5f"
            },
            "type": "carpet"
           }
          ],
          "choropleth": [
           {
            "colorbar": {
             "outlinewidth": 0,
             "ticks": ""
            },
            "type": "choropleth"
           }
          ],
          "contour": [
           {
            "colorbar": {
             "outlinewidth": 0,
             "ticks": ""
            },
            "colorscale": [
             [
              0,
              "#0d0887"
             ],
             [
              0.1111111111111111,
              "#46039f"
             ],
             [
              0.2222222222222222,
              "#7201a8"
             ],
             [
              0.3333333333333333,
              "#9c179e"
             ],
             [
              0.4444444444444444,
              "#bd3786"
             ],
             [
              0.5555555555555556,
              "#d8576b"
             ],
             [
              0.6666666666666666,
              "#ed7953"
             ],
             [
              0.7777777777777778,
              "#fb9f3a"
             ],
             [
              0.8888888888888888,
              "#fdca26"
             ],
             [
              1,
              "#f0f921"
             ]
            ],
            "type": "contour"
           }
          ],
          "contourcarpet": [
           {
            "colorbar": {
             "outlinewidth": 0,
             "ticks": ""
            },
            "type": "contourcarpet"
           }
          ],
          "heatmap": [
           {
            "colorbar": {
             "outlinewidth": 0,
             "ticks": ""
            },
            "colorscale": [
             [
              0,
              "#0d0887"
             ],
             [
              0.1111111111111111,
              "#46039f"
             ],
             [
              0.2222222222222222,
              "#7201a8"
             ],
             [
              0.3333333333333333,
              "#9c179e"
             ],
             [
              0.4444444444444444,
              "#bd3786"
             ],
             [
              0.5555555555555556,
              "#d8576b"
             ],
             [
              0.6666666666666666,
              "#ed7953"
             ],
             [
              0.7777777777777778,
              "#fb9f3a"
             ],
             [
              0.8888888888888888,
              "#fdca26"
             ],
             [
              1,
              "#f0f921"
             ]
            ],
            "type": "heatmap"
           }
          ],
          "histogram": [
           {
            "marker": {
             "pattern": {
              "fillmode": "overlay",
              "size": 10,
              "solidity": 0.2
             }
            },
            "type": "histogram"
           }
          ],
          "histogram2d": [
           {
            "colorbar": {
             "outlinewidth": 0,
             "ticks": ""
            },
            "colorscale": [
             [
              0,
              "#0d0887"
             ],
             [
              0.1111111111111111,
              "#46039f"
             ],
             [
              0.2222222222222222,
              "#7201a8"
             ],
             [
              0.3333333333333333,
              "#9c179e"
             ],
             [
              0.4444444444444444,
              "#bd3786"
             ],
             [
              0.5555555555555556,
              "#d8576b"
             ],
             [
              0.6666666666666666,
              "#ed7953"
             ],
             [
              0.7777777777777778,
              "#fb9f3a"
             ],
             [
              0.8888888888888888,
              "#fdca26"
             ],
             [
              1,
              "#f0f921"
             ]
            ],
            "type": "histogram2d"
           }
          ],
          "histogram2dcontour": [
           {
            "colorbar": {
             "outlinewidth": 0,
             "ticks": ""
            },
            "colorscale": [
             [
              0,
              "#0d0887"
             ],
             [
              0.1111111111111111,
              "#46039f"
             ],
             [
              0.2222222222222222,
              "#7201a8"
             ],
             [
              0.3333333333333333,
              "#9c179e"
             ],
             [
              0.4444444444444444,
              "#bd3786"
             ],
             [
              0.5555555555555556,
              "#d8576b"
             ],
             [
              0.6666666666666666,
              "#ed7953"
             ],
             [
              0.7777777777777778,
              "#fb9f3a"
             ],
             [
              0.8888888888888888,
              "#fdca26"
             ],
             [
              1,
              "#f0f921"
             ]
            ],
            "type": "histogram2dcontour"
           }
          ],
          "mesh3d": [
           {
            "colorbar": {
             "outlinewidth": 0,
             "ticks": ""
            },
            "type": "mesh3d"
           }
          ],
          "parcoords": [
           {
            "line": {
             "colorbar": {
              "outlinewidth": 0,
              "ticks": ""
             }
            },
            "type": "parcoords"
           }
          ],
          "pie": [
           {
            "automargin": true,
            "type": "pie"
           }
          ],
          "scatter": [
           {
            "fillpattern": {
             "fillmode": "overlay",
             "size": 10,
             "solidity": 0.2
            },
            "type": "scatter"
           }
          ],
          "scatter3d": [
           {
            "line": {
             "colorbar": {
              "outlinewidth": 0,
              "ticks": ""
             }
            },
            "marker": {
             "colorbar": {
              "outlinewidth": 0,
              "ticks": ""
             }
            },
            "type": "scatter3d"
           }
          ],
          "scattercarpet": [
           {
            "marker": {
             "colorbar": {
              "outlinewidth": 0,
              "ticks": ""
             }
            },
            "type": "scattercarpet"
           }
          ],
          "scattergeo": [
           {
            "marker": {
             "colorbar": {
              "outlinewidth": 0,
              "ticks": ""
             }
            },
            "type": "scattergeo"
           }
          ],
          "scattergl": [
           {
            "marker": {
             "colorbar": {
              "outlinewidth": 0,
              "ticks": ""
             }
            },
            "type": "scattergl"
           }
          ],
          "scattermap": [
           {
            "marker": {
             "colorbar": {
              "outlinewidth": 0,
              "ticks": ""
             }
            },
            "type": "scattermap"
           }
          ],
          "scattermapbox": [
           {
            "marker": {
             "colorbar": {
              "outlinewidth": 0,
              "ticks": ""
             }
            },
            "type": "scattermapbox"
           }
          ],
          "scatterpolar": [
           {
            "marker": {
             "colorbar": {
              "outlinewidth": 0,
              "ticks": ""
             }
            },
            "type": "scatterpolar"
           }
          ],
          "scatterpolargl": [
           {
            "marker": {
             "colorbar": {
              "outlinewidth": 0,
              "ticks": ""
             }
            },
            "type": "scatterpolargl"
           }
          ],
          "scatterternary": [
           {
            "marker": {
             "colorbar": {
              "outlinewidth": 0,
              "ticks": ""
             }
            },
            "type": "scatterternary"
           }
          ],
          "surface": [
           {
            "colorbar": {
             "outlinewidth": 0,
             "ticks": ""
            },
            "colorscale": [
             [
              0,
              "#0d0887"
             ],
             [
              0.1111111111111111,
              "#46039f"
             ],
             [
              0.2222222222222222,
              "#7201a8"
             ],
             [
              0.3333333333333333,
              "#9c179e"
             ],
             [
              0.4444444444444444,
              "#bd3786"
             ],
             [
              0.5555555555555556,
              "#d8576b"
             ],
             [
              0.6666666666666666,
              "#ed7953"
             ],
             [
              0.7777777777777778,
              "#fb9f3a"
             ],
             [
              0.8888888888888888,
              "#fdca26"
             ],
             [
              1,
              "#f0f921"
             ]
            ],
            "type": "surface"
           }
          ],
          "table": [
           {
            "cells": {
             "fill": {
              "color": "#EBF0F8"
             },
             "line": {
              "color": "white"
             }
            },
            "header": {
             "fill": {
              "color": "#C8D4E3"
             },
             "line": {
              "color": "white"
             }
            },
            "type": "table"
           }
          ]
         },
         "layout": {
          "annotationdefaults": {
           "arrowcolor": "#2a3f5f",
           "arrowhead": 0,
           "arrowwidth": 1
          },
          "autotypenumbers": "strict",
          "coloraxis": {
           "colorbar": {
            "outlinewidth": 0,
            "ticks": ""
           }
          },
          "colorscale": {
           "diverging": [
            [
             0,
             "#8e0152"
            ],
            [
             0.1,
             "#c51b7d"
            ],
            [
             0.2,
             "#de77ae"
            ],
            [
             0.3,
             "#f1b6da"
            ],
            [
             0.4,
             "#fde0ef"
            ],
            [
             0.5,
             "#f7f7f7"
            ],
            [
             0.6,
             "#e6f5d0"
            ],
            [
             0.7,
             "#b8e186"
            ],
            [
             0.8,
             "#7fbc41"
            ],
            [
             0.9,
             "#4d9221"
            ],
            [
             1,
             "#276419"
            ]
           ],
           "sequential": [
            [
             0,
             "#0d0887"
            ],
            [
             0.1111111111111111,
             "#46039f"
            ],
            [
             0.2222222222222222,
             "#7201a8"
            ],
            [
             0.3333333333333333,
             "#9c179e"
            ],
            [
             0.4444444444444444,
             "#bd3786"
            ],
            [
             0.5555555555555556,
             "#d8576b"
            ],
            [
             0.6666666666666666,
             "#ed7953"
            ],
            [
             0.7777777777777778,
             "#fb9f3a"
            ],
            [
             0.8888888888888888,
             "#fdca26"
            ],
            [
             1,
             "#f0f921"
            ]
           ],
           "sequentialminus": [
            [
             0,
             "#0d0887"
            ],
            [
             0.1111111111111111,
             "#46039f"
            ],
            [
             0.2222222222222222,
             "#7201a8"
            ],
            [
             0.3333333333333333,
             "#9c179e"
            ],
            [
             0.4444444444444444,
             "#bd3786"
            ],
            [
             0.5555555555555556,
             "#d8576b"
            ],
            [
             0.6666666666666666,
             "#ed7953"
            ],
            [
             0.7777777777777778,
             "#fb9f3a"
            ],
            [
             0.8888888888888888,
             "#fdca26"
            ],
            [
             1,
             "#f0f921"
            ]
           ]
          },
          "colorway": [
           "#636efa",
           "#EF553B",
           "#00cc96",
           "#ab63fa",
           "#FFA15A",
           "#19d3f3",
           "#FF6692",
           "#B6E880",
           "#FF97FF",
           "#FECB52"
          ],
          "font": {
           "color": "#2a3f5f"
          },
          "geo": {
           "bgcolor": "white",
           "lakecolor": "white",
           "landcolor": "#E5ECF6",
           "showlakes": true,
           "showland": true,
           "subunitcolor": "white"
          },
          "hoverlabel": {
           "align": "left"
          },
          "hovermode": "closest",
          "mapbox": {
           "style": "light"
          },
          "paper_bgcolor": "white",
          "plot_bgcolor": "#E5ECF6",
          "polar": {
           "angularaxis": {
            "gridcolor": "white",
            "linecolor": "white",
            "ticks": ""
           },
           "bgcolor": "#E5ECF6",
           "radialaxis": {
            "gridcolor": "white",
            "linecolor": "white",
            "ticks": ""
           }
          },
          "scene": {
           "xaxis": {
            "backgroundcolor": "#E5ECF6",
            "gridcolor": "white",
            "gridwidth": 2,
            "linecolor": "white",
            "showbackground": true,
            "ticks": "",
            "zerolinecolor": "white"
           },
           "yaxis": {
            "backgroundcolor": "#E5ECF6",
            "gridcolor": "white",
            "gridwidth": 2,
            "linecolor": "white",
            "showbackground": true,
            "ticks": "",
            "zerolinecolor": "white"
           },
           "zaxis": {
            "backgroundcolor": "#E5ECF6",
            "gridcolor": "white",
            "gridwidth": 2,
            "linecolor": "white",
            "showbackground": true,
            "ticks": "",
            "zerolinecolor": "white"
           }
          },
          "shapedefaults": {
           "line": {
            "color": "#2a3f5f"
           }
          },
          "ternary": {
           "aaxis": {
            "gridcolor": "white",
            "linecolor": "white",
            "ticks": ""
           },
           "baxis": {
            "gridcolor": "white",
            "linecolor": "white",
            "ticks": ""
           },
           "bgcolor": "#E5ECF6",
           "caxis": {
            "gridcolor": "white",
            "linecolor": "white",
            "ticks": ""
           }
          },
          "title": {
           "x": 0.05
          },
          "xaxis": {
           "automargin": true,
           "gridcolor": "white",
           "linecolor": "white",
           "ticks": "",
           "title": {
            "standoff": 15
           },
           "zerolinecolor": "white",
           "zerolinewidth": 2
          },
          "yaxis": {
           "automargin": true,
           "gridcolor": "white",
           "linecolor": "white",
           "ticks": "",
           "title": {
            "standoff": 15
           },
           "zerolinecolor": "white",
           "zerolinewidth": 2
          }
         }
        },
        "title": {
         "text": "Dispatch and Market Quantities"
        },
        "xaxis": {
         "title": {
          "text": "Time"
         }
        },
        "yaxis": {
         "title": {
          "text": "Quantity"
         }
        }
       }
      }
     },
     "metadata": {},
     "output_type": "display_data"
    }
   ],
   "source": [
    "plot_dict[\"dispatch_quantities\"].show()"
   ]
  },
  {
   "cell_type": "code",
   "execution_count": 323,
   "id": "57c0ac80",
   "metadata": {},
   "outputs": [
    {
     "data": {
      "application/vnd.plotly.v1+json": {
       "config": {
        "plotlyServerURL": "https://plotly.com"
       },
       "data": [
        {
         "line": {
          "color": "red"
         },
         "mode": "lines+markers",
         "name": "Battery Dispatch",
         "type": "scatter",
         "x": [
          0,
          1,
          2,
          3,
          4,
          5,
          6,
          7,
          8,
          9,
          10,
          11,
          12,
          13,
          14,
          15,
          16,
          17,
          18,
          19,
          20,
          21,
          22,
          23,
          24,
          25,
          26,
          27,
          28,
          29,
          30,
          31,
          32,
          33,
          34,
          35,
          36,
          37,
          38,
          39,
          40,
          41,
          42,
          43,
          44,
          45,
          46,
          47,
          48,
          49,
          50,
          51,
          52,
          53,
          54,
          55,
          56,
          57,
          58,
          59,
          60,
          61,
          62,
          63,
          64,
          65,
          66,
          67,
          68,
          69,
          70,
          71,
          72,
          73,
          74,
          75,
          76,
          77,
          78,
          79,
          80,
          81,
          82,
          83,
          84,
          85,
          86,
          87,
          88,
          89,
          90,
          91,
          92,
          93,
          94,
          95,
          96,
          97,
          98,
          99,
          100,
          101,
          102,
          103,
          104,
          105,
          106,
          107,
          108,
          109,
          110,
          111,
          112,
          113,
          114,
          115,
          116,
          117,
          118,
          119,
          120,
          121,
          122,
          123,
          124,
          125,
          126,
          127,
          128,
          129,
          130,
          131,
          132,
          133,
          134,
          135,
          136,
          137,
          138,
          139,
          140,
          141,
          142,
          143,
          144,
          145,
          146,
          147,
          148,
          149,
          150,
          151,
          152,
          153,
          154,
          155,
          156,
          157,
          158,
          159,
          160,
          161,
          162,
          163,
          164,
          165,
          166,
          167,
          168
         ],
         "y": [
          2,
          2,
          2,
          2,
          2,
          2,
          2,
          0,
          0,
          -2,
          -2,
          -2,
          -2,
          -2,
          -2,
          -2,
          -2,
          -2,
          0,
          0,
          0,
          0,
          2,
          2,
          2,
          2,
          2,
          2,
          2,
          2,
          2,
          0,
          0,
          -2,
          -2,
          -2,
          -2,
          -2,
          -2,
          -2,
          -2,
          -2,
          0,
          0,
          0,
          0,
          2,
          2,
          2,
          2,
          2,
          2,
          2,
          2,
          2,
          0,
          0,
          -2,
          -2,
          -2,
          -2,
          -2,
          -2,
          -2,
          -2,
          -2,
          0,
          0,
          0,
          0,
          2,
          2,
          2,
          2,
          2,
          2,
          2,
          2,
          2,
          0,
          0,
          -2,
          -2,
          -2,
          -2,
          -2,
          -2,
          -2,
          -2,
          -2,
          0,
          0,
          0,
          0,
          2,
          2,
          2,
          2,
          2,
          2,
          2,
          2,
          2,
          0,
          0,
          -2,
          -2,
          -2,
          -2,
          -2,
          -2,
          -2,
          -2,
          -2,
          0,
          0,
          0,
          0,
          2,
          2,
          2,
          2,
          2,
          2,
          2,
          2,
          2,
          0,
          0,
          -2,
          -2,
          -2,
          -2,
          -2,
          -2,
          -2,
          -2,
          -2,
          0,
          0,
          0,
          0,
          2,
          2,
          2,
          2,
          2,
          2,
          2,
          2,
          2,
          0,
          0,
          -2,
          -2,
          -2,
          -2,
          -2,
          -2,
          -2,
          -2,
          -2,
          0,
          0,
          0,
          0,
          2,
          2,
          2
         ]
        }
       ],
       "layout": {
        "shapes": [
         {
          "line": {
           "color": "gray",
           "dash": "dash"
          },
          "type": "line",
          "x0": 0,
          "x1": 1,
          "xref": "x domain",
          "y0": 0,
          "y1": 0,
          "yref": "y"
         }
        ],
        "template": {
         "data": {
          "bar": [
           {
            "error_x": {
             "color": "#2a3f5f"
            },
            "error_y": {
             "color": "#2a3f5f"
            },
            "marker": {
             "line": {
              "color": "#E5ECF6",
              "width": 0.5
             },
             "pattern": {
              "fillmode": "overlay",
              "size": 10,
              "solidity": 0.2
             }
            },
            "type": "bar"
           }
          ],
          "barpolar": [
           {
            "marker": {
             "line": {
              "color": "#E5ECF6",
              "width": 0.5
             },
             "pattern": {
              "fillmode": "overlay",
              "size": 10,
              "solidity": 0.2
             }
            },
            "type": "barpolar"
           }
          ],
          "carpet": [
           {
            "aaxis": {
             "endlinecolor": "#2a3f5f",
             "gridcolor": "white",
             "linecolor": "white",
             "minorgridcolor": "white",
             "startlinecolor": "#2a3f5f"
            },
            "baxis": {
             "endlinecolor": "#2a3f5f",
             "gridcolor": "white",
             "linecolor": "white",
             "minorgridcolor": "white",
             "startlinecolor": "#2a3f5f"
            },
            "type": "carpet"
           }
          ],
          "choropleth": [
           {
            "colorbar": {
             "outlinewidth": 0,
             "ticks": ""
            },
            "type": "choropleth"
           }
          ],
          "contour": [
           {
            "colorbar": {
             "outlinewidth": 0,
             "ticks": ""
            },
            "colorscale": [
             [
              0,
              "#0d0887"
             ],
             [
              0.1111111111111111,
              "#46039f"
             ],
             [
              0.2222222222222222,
              "#7201a8"
             ],
             [
              0.3333333333333333,
              "#9c179e"
             ],
             [
              0.4444444444444444,
              "#bd3786"
             ],
             [
              0.5555555555555556,
              "#d8576b"
             ],
             [
              0.6666666666666666,
              "#ed7953"
             ],
             [
              0.7777777777777778,
              "#fb9f3a"
             ],
             [
              0.8888888888888888,
              "#fdca26"
             ],
             [
              1,
              "#f0f921"
             ]
            ],
            "type": "contour"
           }
          ],
          "contourcarpet": [
           {
            "colorbar": {
             "outlinewidth": 0,
             "ticks": ""
            },
            "type": "contourcarpet"
           }
          ],
          "heatmap": [
           {
            "colorbar": {
             "outlinewidth": 0,
             "ticks": ""
            },
            "colorscale": [
             [
              0,
              "#0d0887"
             ],
             [
              0.1111111111111111,
              "#46039f"
             ],
             [
              0.2222222222222222,
              "#7201a8"
             ],
             [
              0.3333333333333333,
              "#9c179e"
             ],
             [
              0.4444444444444444,
              "#bd3786"
             ],
             [
              0.5555555555555556,
              "#d8576b"
             ],
             [
              0.6666666666666666,
              "#ed7953"
             ],
             [
              0.7777777777777778,
              "#fb9f3a"
             ],
             [
              0.8888888888888888,
              "#fdca26"
             ],
             [
              1,
              "#f0f921"
             ]
            ],
            "type": "heatmap"
           }
          ],
          "histogram": [
           {
            "marker": {
             "pattern": {
              "fillmode": "overlay",
              "size": 10,
              "solidity": 0.2
             }
            },
            "type": "histogram"
           }
          ],
          "histogram2d": [
           {
            "colorbar": {
             "outlinewidth": 0,
             "ticks": ""
            },
            "colorscale": [
             [
              0,
              "#0d0887"
             ],
             [
              0.1111111111111111,
              "#46039f"
             ],
             [
              0.2222222222222222,
              "#7201a8"
             ],
             [
              0.3333333333333333,
              "#9c179e"
             ],
             [
              0.4444444444444444,
              "#bd3786"
             ],
             [
              0.5555555555555556,
              "#d8576b"
             ],
             [
              0.6666666666666666,
              "#ed7953"
             ],
             [
              0.7777777777777778,
              "#fb9f3a"
             ],
             [
              0.8888888888888888,
              "#fdca26"
             ],
             [
              1,
              "#f0f921"
             ]
            ],
            "type": "histogram2d"
           }
          ],
          "histogram2dcontour": [
           {
            "colorbar": {
             "outlinewidth": 0,
             "ticks": ""
            },
            "colorscale": [
             [
              0,
              "#0d0887"
             ],
             [
              0.1111111111111111,
              "#46039f"
             ],
             [
              0.2222222222222222,
              "#7201a8"
             ],
             [
              0.3333333333333333,
              "#9c179e"
             ],
             [
              0.4444444444444444,
              "#bd3786"
             ],
             [
              0.5555555555555556,
              "#d8576b"
             ],
             [
              0.6666666666666666,
              "#ed7953"
             ],
             [
              0.7777777777777778,
              "#fb9f3a"
             ],
             [
              0.8888888888888888,
              "#fdca26"
             ],
             [
              1,
              "#f0f921"
             ]
            ],
            "type": "histogram2dcontour"
           }
          ],
          "mesh3d": [
           {
            "colorbar": {
             "outlinewidth": 0,
             "ticks": ""
            },
            "type": "mesh3d"
           }
          ],
          "parcoords": [
           {
            "line": {
             "colorbar": {
              "outlinewidth": 0,
              "ticks": ""
             }
            },
            "type": "parcoords"
           }
          ],
          "pie": [
           {
            "automargin": true,
            "type": "pie"
           }
          ],
          "scatter": [
           {
            "fillpattern": {
             "fillmode": "overlay",
             "size": 10,
             "solidity": 0.2
            },
            "type": "scatter"
           }
          ],
          "scatter3d": [
           {
            "line": {
             "colorbar": {
              "outlinewidth": 0,
              "ticks": ""
             }
            },
            "marker": {
             "colorbar": {
              "outlinewidth": 0,
              "ticks": ""
             }
            },
            "type": "scatter3d"
           }
          ],
          "scattercarpet": [
           {
            "marker": {
             "colorbar": {
              "outlinewidth": 0,
              "ticks": ""
             }
            },
            "type": "scattercarpet"
           }
          ],
          "scattergeo": [
           {
            "marker": {
             "colorbar": {
              "outlinewidth": 0,
              "ticks": ""
             }
            },
            "type": "scattergeo"
           }
          ],
          "scattergl": [
           {
            "marker": {
             "colorbar": {
              "outlinewidth": 0,
              "ticks": ""
             }
            },
            "type": "scattergl"
           }
          ],
          "scattermap": [
           {
            "marker": {
             "colorbar": {
              "outlinewidth": 0,
              "ticks": ""
             }
            },
            "type": "scattermap"
           }
          ],
          "scattermapbox": [
           {
            "marker": {
             "colorbar": {
              "outlinewidth": 0,
              "ticks": ""
             }
            },
            "type": "scattermapbox"
           }
          ],
          "scatterpolar": [
           {
            "marker": {
             "colorbar": {
              "outlinewidth": 0,
              "ticks": ""
             }
            },
            "type": "scatterpolar"
           }
          ],
          "scatterpolargl": [
           {
            "marker": {
             "colorbar": {
              "outlinewidth": 0,
              "ticks": ""
             }
            },
            "type": "scatterpolargl"
           }
          ],
          "scatterternary": [
           {
            "marker": {
             "colorbar": {
              "outlinewidth": 0,
              "ticks": ""
             }
            },
            "type": "scatterternary"
           }
          ],
          "surface": [
           {
            "colorbar": {
             "outlinewidth": 0,
             "ticks": ""
            },
            "colorscale": [
             [
              0,
              "#0d0887"
             ],
             [
              0.1111111111111111,
              "#46039f"
             ],
             [
              0.2222222222222222,
              "#7201a8"
             ],
             [
              0.3333333333333333,
              "#9c179e"
             ],
             [
              0.4444444444444444,
              "#bd3786"
             ],
             [
              0.5555555555555556,
              "#d8576b"
             ],
             [
              0.6666666666666666,
              "#ed7953"
             ],
             [
              0.7777777777777778,
              "#fb9f3a"
             ],
             [
              0.8888888888888888,
              "#fdca26"
             ],
             [
              1,
              "#f0f921"
             ]
            ],
            "type": "surface"
           }
          ],
          "table": [
           {
            "cells": {
             "fill": {
              "color": "#EBF0F8"
             },
             "line": {
              "color": "white"
             }
            },
            "header": {
             "fill": {
              "color": "#C8D4E3"
             },
             "line": {
              "color": "white"
             }
            },
            "type": "table"
           }
          ]
         },
         "layout": {
          "annotationdefaults": {
           "arrowcolor": "#2a3f5f",
           "arrowhead": 0,
           "arrowwidth": 1
          },
          "autotypenumbers": "strict",
          "coloraxis": {
           "colorbar": {
            "outlinewidth": 0,
            "ticks": ""
           }
          },
          "colorscale": {
           "diverging": [
            [
             0,
             "#8e0152"
            ],
            [
             0.1,
             "#c51b7d"
            ],
            [
             0.2,
             "#de77ae"
            ],
            [
             0.3,
             "#f1b6da"
            ],
            [
             0.4,
             "#fde0ef"
            ],
            [
             0.5,
             "#f7f7f7"
            ],
            [
             0.6,
             "#e6f5d0"
            ],
            [
             0.7,
             "#b8e186"
            ],
            [
             0.8,
             "#7fbc41"
            ],
            [
             0.9,
             "#4d9221"
            ],
            [
             1,
             "#276419"
            ]
           ],
           "sequential": [
            [
             0,
             "#0d0887"
            ],
            [
             0.1111111111111111,
             "#46039f"
            ],
            [
             0.2222222222222222,
             "#7201a8"
            ],
            [
             0.3333333333333333,
             "#9c179e"
            ],
            [
             0.4444444444444444,
             "#bd3786"
            ],
            [
             0.5555555555555556,
             "#d8576b"
            ],
            [
             0.6666666666666666,
             "#ed7953"
            ],
            [
             0.7777777777777778,
             "#fb9f3a"
            ],
            [
             0.8888888888888888,
             "#fdca26"
            ],
            [
             1,
             "#f0f921"
            ]
           ],
           "sequentialminus": [
            [
             0,
             "#0d0887"
            ],
            [
             0.1111111111111111,
             "#46039f"
            ],
            [
             0.2222222222222222,
             "#7201a8"
            ],
            [
             0.3333333333333333,
             "#9c179e"
            ],
            [
             0.4444444444444444,
             "#bd3786"
            ],
            [
             0.5555555555555556,
             "#d8576b"
            ],
            [
             0.6666666666666666,
             "#ed7953"
            ],
            [
             0.7777777777777778,
             "#fb9f3a"
            ],
            [
             0.8888888888888888,
             "#fdca26"
            ],
            [
             1,
             "#f0f921"
            ]
           ]
          },
          "colorway": [
           "#636efa",
           "#EF553B",
           "#00cc96",
           "#ab63fa",
           "#FFA15A",
           "#19d3f3",
           "#FF6692",
           "#B6E880",
           "#FF97FF",
           "#FECB52"
          ],
          "font": {
           "color": "#2a3f5f"
          },
          "geo": {
           "bgcolor": "white",
           "lakecolor": "white",
           "landcolor": "#E5ECF6",
           "showlakes": true,
           "showland": true,
           "subunitcolor": "white"
          },
          "hoverlabel": {
           "align": "left"
          },
          "hovermode": "closest",
          "mapbox": {
           "style": "light"
          },
          "paper_bgcolor": "white",
          "plot_bgcolor": "#E5ECF6",
          "polar": {
           "angularaxis": {
            "gridcolor": "white",
            "linecolor": "white",
            "ticks": ""
           },
           "bgcolor": "#E5ECF6",
           "radialaxis": {
            "gridcolor": "white",
            "linecolor": "white",
            "ticks": ""
           }
          },
          "scene": {
           "xaxis": {
            "backgroundcolor": "#E5ECF6",
            "gridcolor": "white",
            "gridwidth": 2,
            "linecolor": "white",
            "showbackground": true,
            "ticks": "",
            "zerolinecolor": "white"
           },
           "yaxis": {
            "backgroundcolor": "#E5ECF6",
            "gridcolor": "white",
            "gridwidth": 2,
            "linecolor": "white",
            "showbackground": true,
            "ticks": "",
            "zerolinecolor": "white"
           },
           "zaxis": {
            "backgroundcolor": "#E5ECF6",
            "gridcolor": "white",
            "gridwidth": 2,
            "linecolor": "white",
            "showbackground": true,
            "ticks": "",
            "zerolinecolor": "white"
           }
          },
          "shapedefaults": {
           "line": {
            "color": "#2a3f5f"
           }
          },
          "ternary": {
           "aaxis": {
            "gridcolor": "white",
            "linecolor": "white",
            "ticks": ""
           },
           "baxis": {
            "gridcolor": "white",
            "linecolor": "white",
            "ticks": ""
           },
           "bgcolor": "#E5ECF6",
           "caxis": {
            "gridcolor": "white",
            "linecolor": "white",
            "ticks": ""
           }
          },
          "title": {
           "x": 0.05
          },
          "xaxis": {
           "automargin": true,
           "gridcolor": "white",
           "linecolor": "white",
           "ticks": "",
           "title": {
            "standoff": 15
           },
           "zerolinecolor": "white",
           "zerolinewidth": 2
          },
          "yaxis": {
           "automargin": true,
           "gridcolor": "white",
           "linecolor": "white",
           "ticks": "",
           "title": {
            "standoff": 15
           },
           "zerolinecolor": "white",
           "zerolinewidth": 2
          }
         }
        },
        "title": {
         "text": "Optimal Battery Dispatch"
        },
        "xaxis": {
         "range": [
          0,
          169
         ],
         "title": {
          "text": "Time"
         }
        },
        "yaxis": {
         "title": {
          "text": "Battery Dispatch (q_b)"
         }
        }
       }
      }
     },
     "metadata": {},
     "output_type": "display_data"
    }
   ],
   "source": [
    "plot_dict[\"battery_dispatch\"].show()"
   ]
  },
  {
   "cell_type": "code",
   "execution_count": 316,
   "id": "a99e89d9",
   "metadata": {},
   "outputs": [],
   "source": [
    "row = sim_df[\n",
    "    (sim_df['C_max'] == 20) &\n",
    "    (sim_df['C_init'] == 16) &\n",
    "    (sim_df['q_b_max'] == 2) &\n",
    "    (sim_df['mean_pmax'] == 20) &\n",
    "    (sim_df['std_pmax'] == 0)\n",
    "]"
   ]
  },
  {
   "cell_type": "code",
   "execution_count": 317,
   "id": "20e9144f",
   "metadata": {},
   "outputs": [
    {
     "data": {
      "text/html": [
       "<div>\n",
       "<style scoped>\n",
       "    .dataframe tbody tr th:only-of-type {\n",
       "        vertical-align: middle;\n",
       "    }\n",
       "\n",
       "    .dataframe tbody tr th {\n",
       "        vertical-align: top;\n",
       "    }\n",
       "\n",
       "    .dataframe thead th {\n",
       "        text-align: right;\n",
       "    }\n",
       "</style>\n",
       "<table border=\"1\" class=\"dataframe\">\n",
       "  <thead>\n",
       "    <tr style=\"text-align: right;\">\n",
       "      <th></th>\n",
       "      <th>v_max</th>\n",
       "      <th>q_max</th>\n",
       "      <th>c_u</th>\n",
       "      <th>q_u_max</th>\n",
       "      <th>beta</th>\n",
       "      <th>C_max</th>\n",
       "      <th>C_init</th>\n",
       "      <th>q_b_max</th>\n",
       "      <th>mean_pmax</th>\n",
       "      <th>std_pmax</th>\n",
       "      <th>...</th>\n",
       "      <th>surplus_battery_ts</th>\n",
       "      <th>surplus_utility_ts</th>\n",
       "      <th>surplus_demand_ts</th>\n",
       "      <th>surplus_solar_ts</th>\n",
       "      <th>surplus_total_ts</th>\n",
       "      <th>total_surplus_battery</th>\n",
       "      <th>total_surplus_solar</th>\n",
       "      <th>total_surplus_utility</th>\n",
       "      <th>total_surplus_demand</th>\n",
       "      <th>total_surplus_all</th>\n",
       "    </tr>\n",
       "  </thead>\n",
       "  <tbody>\n",
       "    <tr>\n",
       "      <th>452</th>\n",
       "      <td>10</td>\n",
       "      <td>10</td>\n",
       "      <td>5</td>\n",
       "      <td>10</td>\n",
       "      <td>1</td>\n",
       "      <td>20</td>\n",
       "      <td>16</td>\n",
       "      <td>2</td>\n",
       "      <td>20</td>\n",
       "      <td>0.0</td>\n",
       "      <td>...</td>\n",
       "      <td>[10.0, 10.0, 10.0, 10.0, 10.0, 10.0, 10.0, 0.0...</td>\n",
       "      <td>[0.0, 0.0, 0.0, 0.0, 0.0, 0.0, 0.0, 0.0, -0.0,...</td>\n",
       "      <td>[12.5, 12.5, 12.5, 12.5, 12.5, 12.5, 12.5, 12....</td>\n",
       "      <td>[0.0, 0.0, 0.0, 0.0, 0.0, 0.0, 6.1232339957367...</td>\n",
       "      <td>[22.5, 22.5, 22.5, 22.5, 22.5, 22.5, 22.500000...</td>\n",
       "      <td>640.0</td>\n",
       "      <td>311.529308</td>\n",
       "      <td>0.0</td>\n",
       "      <td>5000.0</td>\n",
       "      <td>5951.529308</td>\n",
       "    </tr>\n",
       "  </tbody>\n",
       "</table>\n",
       "<p>1 rows × 27 columns</p>\n",
       "</div>"
      ],
      "text/plain": [
       "     v_max  q_max  c_u  q_u_max  beta  C_max  C_init  q_b_max  mean_pmax  \\\n",
       "452     10     10    5       10     1     20      16        2         20   \n",
       "\n",
       "     std_pmax  ...                                 surplus_battery_ts  \\\n",
       "452       0.0  ...  [10.0, 10.0, 10.0, 10.0, 10.0, 10.0, 10.0, 0.0...   \n",
       "\n",
       "                                    surplus_utility_ts  \\\n",
       "452  [0.0, 0.0, 0.0, 0.0, 0.0, 0.0, 0.0, 0.0, -0.0,...   \n",
       "\n",
       "                                     surplus_demand_ts  \\\n",
       "452  [12.5, 12.5, 12.5, 12.5, 12.5, 12.5, 12.5, 12....   \n",
       "\n",
       "                                      surplus_solar_ts  \\\n",
       "452  [0.0, 0.0, 0.0, 0.0, 0.0, 0.0, 6.1232339957367...   \n",
       "\n",
       "                                      surplus_total_ts total_surplus_battery  \\\n",
       "452  [22.5, 22.5, 22.5, 22.5, 22.5, 22.5, 22.500000...                 640.0   \n",
       "\n",
       "    total_surplus_solar total_surplus_utility total_surplus_demand  \\\n",
       "452          311.529308                   0.0               5000.0   \n",
       "\n",
       "    total_surplus_all  \n",
       "452       5951.529308  \n",
       "\n",
       "[1 rows x 27 columns]"
      ]
     },
     "execution_count": 317,
     "metadata": {},
     "output_type": "execute_result"
    }
   ],
   "source": [
    "row\n"
   ]
  },
  {
   "cell_type": "code",
   "execution_count": null,
   "id": "d2c29639",
   "metadata": {},
   "outputs": [],
   "source": []
  }
 ],
 "metadata": {
  "kernelspec": {
   "display_name": "base",
   "language": "python",
   "name": "python3"
  },
  "language_info": {
   "codemirror_mode": {
    "name": "ipython",
    "version": 3
   },
   "file_extension": ".py",
   "mimetype": "text/x-python",
   "name": "python",
   "nbconvert_exporter": "python",
   "pygments_lexer": "ipython3",
   "version": "3.11.5"
  }
 },
 "nbformat": 4,
 "nbformat_minor": 5
}
